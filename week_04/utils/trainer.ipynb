{
 "cells": [
  {
   "cell_type": "markdown",
   "source": [
    "### Imports"
   ],
   "metadata": {
    "collapsed": false
   },
   "id": "78c0f33369e911c1"
  },
  {
   "cell_type": "code",
   "execution_count": 12,
   "id": "initial_id",
   "metadata": {
    "collapsed": true,
    "ExecuteTime": {
     "end_time": "2025-05-25T10:57:45.558729Z",
     "start_time": "2025-05-25T10:57:45.486024Z"
    }
   },
   "outputs": [],
   "source": [
    "import numpy as np\n",
    "import pandas as pd\n",
    "import string\n",
    "from gensim.models import KeyedVectors\n",
    "import spacy\n",
    "import torch\n",
    "import torch.nn as nn\n",
    "from torch.utils.data import Dataset\n",
    "from torch.utils.data import DataLoader\n",
    "from tqdm import tqdm\n",
    "from copy import deepcopy\n",
    "from sklearn.metrics import precision_score, recall_score, f1_score, confusion_matrix, ConfusionMatrixDisplay\n",
    "import matplotlib.pyplot as plt\n",
    "import compress_fasttext"
   ]
  },
  {
   "cell_type": "markdown",
   "source": [
    "### Load Datasets"
   ],
   "metadata": {
    "collapsed": false
   },
   "id": "fa483e170ca082eb"
  },
  {
   "cell_type": "code",
   "outputs": [
    {
     "data": {
      "text/plain": "                                                 text  label\n0       almost got in a giant car accident on the 101      0\n1                     like something wholly original       1\n2                                   b.s. one another       0\n3   Happy Star Wars Day, may the 4th be with you  ...      1\n4                                   few new converts       0\n..                                                ...    ...\n75  I had high hopes when sitting down to watch Th...      0\n76                 complex , unpredictable character       1\n77                          ominous mood and tension       0\n78                                       exquisitely       1\n79  version of the irresponsible sandlerian manchi...      0\n\n[72 rows x 2 columns]",
      "text/html": "<div>\n<style scoped>\n    .dataframe tbody tr th:only-of-type {\n        vertical-align: middle;\n    }\n\n    .dataframe tbody tr th {\n        vertical-align: top;\n    }\n\n    .dataframe thead th {\n        text-align: right;\n    }\n</style>\n<table border=\"1\" class=\"dataframe\">\n  <thead>\n    <tr style=\"text-align: right;\">\n      <th></th>\n      <th>text</th>\n      <th>label</th>\n    </tr>\n  </thead>\n  <tbody>\n    <tr>\n      <th>0</th>\n      <td>almost got in a giant car accident on the 101</td>\n      <td>0</td>\n    </tr>\n    <tr>\n      <th>1</th>\n      <td>like something wholly original</td>\n      <td>1</td>\n    </tr>\n    <tr>\n      <th>2</th>\n      <td>b.s. one another</td>\n      <td>0</td>\n    </tr>\n    <tr>\n      <th>3</th>\n      <td>Happy Star Wars Day, may the 4th be with you  ...</td>\n      <td>1</td>\n    </tr>\n    <tr>\n      <th>4</th>\n      <td>few new converts</td>\n      <td>0</td>\n    </tr>\n    <tr>\n      <th>...</th>\n      <td>...</td>\n      <td>...</td>\n    </tr>\n    <tr>\n      <th>75</th>\n      <td>I had high hopes when sitting down to watch Th...</td>\n      <td>0</td>\n    </tr>\n    <tr>\n      <th>76</th>\n      <td>complex , unpredictable character</td>\n      <td>1</td>\n    </tr>\n    <tr>\n      <th>77</th>\n      <td>ominous mood and tension</td>\n      <td>0</td>\n    </tr>\n    <tr>\n      <th>78</th>\n      <td>exquisitely</td>\n      <td>1</td>\n    </tr>\n    <tr>\n      <th>79</th>\n      <td>version of the irresponsible sandlerian manchi...</td>\n      <td>0</td>\n    </tr>\n  </tbody>\n</table>\n<p>72 rows × 2 columns</p>\n</div>"
     },
     "execution_count": 13,
     "metadata": {},
     "output_type": "execute_result"
    }
   ],
   "source": [
    "df_train = pd.read_csv('Sentiment-Analysis/train_data.csv', delimiter=',')[: 80]\n",
    "df_train = df_train[df_train['label'] != 1]\n",
    "df_train['label'] = np.where(df_train['label'] == 2, 1, 0)\n",
    "df_train"
   ],
   "metadata": {
    "collapsed": false,
    "ExecuteTime": {
     "end_time": "2025-05-25T10:57:46.554057Z",
     "start_time": "2025-05-25T10:57:46.330275Z"
    }
   },
   "id": "8f70de577d1e8f0c",
   "execution_count": 13
  },
  {
   "cell_type": "code",
   "outputs": [
    {
     "data": {
      "text/plain": "                                                 text  label\n0    WOOOOOOOOOO   are you coming to Nottingham at...      1\n1       and thanks,  , fr. yr congratulatory gweetin`      1\n2                           wonderous accomplishment       1\n3                      the pungent bite of its title       0\n4       sketchy characters and immature provocations       0\n5   knows how to inflate the mundane into the scar...      1\n6                             the action as gripping       1\n7   would make it a great piece to watch with kids...      1\n8                              riveting performances       1\n9        has a rather unique approach to documentary       1\n10  jungle book 2 is sooooo cute.. i have nothing ...      1\n11                             recommend secretary ,       1\n12  is that it 's a rock-solid little genre pictur...      1\n13  a summer entertainment adults can see without ...      1\n14  was able to overcome his personal obstacles an...      1\n15  is about the people who live in them , who hav...      1\n16             a lunar mission with no signs of life       0\n17                    too many scenes toward the end       0\n18                   full of life and small delights       1\n19  So glad its friday! Only 1 week of schol left....      1",
      "text/html": "<div>\n<style scoped>\n    .dataframe tbody tr th:only-of-type {\n        vertical-align: middle;\n    }\n\n    .dataframe tbody tr th {\n        vertical-align: top;\n    }\n\n    .dataframe thead th {\n        text-align: right;\n    }\n</style>\n<table border=\"1\" class=\"dataframe\">\n  <thead>\n    <tr style=\"text-align: right;\">\n      <th></th>\n      <th>text</th>\n      <th>label</th>\n    </tr>\n  </thead>\n  <tbody>\n    <tr>\n      <th>0</th>\n      <td>WOOOOOOOOOO   are you coming to Nottingham at...</td>\n      <td>1</td>\n    </tr>\n    <tr>\n      <th>1</th>\n      <td>and thanks,  , fr. yr congratulatory gweetin`</td>\n      <td>1</td>\n    </tr>\n    <tr>\n      <th>2</th>\n      <td>wonderous accomplishment</td>\n      <td>1</td>\n    </tr>\n    <tr>\n      <th>3</th>\n      <td>the pungent bite of its title</td>\n      <td>0</td>\n    </tr>\n    <tr>\n      <th>4</th>\n      <td>sketchy characters and immature provocations</td>\n      <td>0</td>\n    </tr>\n    <tr>\n      <th>5</th>\n      <td>knows how to inflate the mundane into the scar...</td>\n      <td>1</td>\n    </tr>\n    <tr>\n      <th>6</th>\n      <td>the action as gripping</td>\n      <td>1</td>\n    </tr>\n    <tr>\n      <th>7</th>\n      <td>would make it a great piece to watch with kids...</td>\n      <td>1</td>\n    </tr>\n    <tr>\n      <th>8</th>\n      <td>riveting performances</td>\n      <td>1</td>\n    </tr>\n    <tr>\n      <th>9</th>\n      <td>has a rather unique approach to documentary</td>\n      <td>1</td>\n    </tr>\n    <tr>\n      <th>10</th>\n      <td>jungle book 2 is sooooo cute.. i have nothing ...</td>\n      <td>1</td>\n    </tr>\n    <tr>\n      <th>11</th>\n      <td>recommend secretary ,</td>\n      <td>1</td>\n    </tr>\n    <tr>\n      <th>12</th>\n      <td>is that it 's a rock-solid little genre pictur...</td>\n      <td>1</td>\n    </tr>\n    <tr>\n      <th>13</th>\n      <td>a summer entertainment adults can see without ...</td>\n      <td>1</td>\n    </tr>\n    <tr>\n      <th>14</th>\n      <td>was able to overcome his personal obstacles an...</td>\n      <td>1</td>\n    </tr>\n    <tr>\n      <th>15</th>\n      <td>is about the people who live in them , who hav...</td>\n      <td>1</td>\n    </tr>\n    <tr>\n      <th>16</th>\n      <td>a lunar mission with no signs of life</td>\n      <td>0</td>\n    </tr>\n    <tr>\n      <th>17</th>\n      <td>too many scenes toward the end</td>\n      <td>0</td>\n    </tr>\n    <tr>\n      <th>18</th>\n      <td>full of life and small delights</td>\n      <td>1</td>\n    </tr>\n    <tr>\n      <th>19</th>\n      <td>So glad its friday! Only 1 week of schol left....</td>\n      <td>1</td>\n    </tr>\n  </tbody>\n</table>\n</div>"
     },
     "execution_count": 3,
     "metadata": {},
     "output_type": "execute_result"
    }
   ],
   "source": [
    "df_val = pd.read_csv('Sentiment-Analysis/val_data.csv', delimiter=',')[: 20]\n",
    "df_val = df_val[df_val['label'] != 1]\n",
    "df_val['label'] = np.where(df_val['label'] == 2, 1, 0)\n",
    "df_val"
   ],
   "metadata": {
    "collapsed": false,
    "ExecuteTime": {
     "end_time": "2025-05-25T09:59:19.666556Z",
     "start_time": "2025-05-25T09:59:19.645342Z"
    }
   },
   "id": "d36d4ad0638eed84",
   "execution_count": 3
  },
  {
   "cell_type": "code",
   "outputs": [
    {
     "data": {
      "text/plain": "                                                text  label\n0                           find a spark of its own       1\n1                                      oh come on .       0\n2                                         winningly       1\n3  an old-fashioned but emotionally stirring adve...      1\n4   salt and vinegar, cheese and onion make your ...      0\n5              wickedly funny and just plain wicked       1\n6                         bad ideas and awkwardness       0\n7  what distinguishes time of favor from countles...      1\n8  the proficient , dull sorvino has no light tou...      0\n9  trying to finish moving stuff for tonight don`...      0",
      "text/html": "<div>\n<style scoped>\n    .dataframe tbody tr th:only-of-type {\n        vertical-align: middle;\n    }\n\n    .dataframe tbody tr th {\n        vertical-align: top;\n    }\n\n    .dataframe thead th {\n        text-align: right;\n    }\n</style>\n<table border=\"1\" class=\"dataframe\">\n  <thead>\n    <tr style=\"text-align: right;\">\n      <th></th>\n      <th>text</th>\n      <th>label</th>\n    </tr>\n  </thead>\n  <tbody>\n    <tr>\n      <th>0</th>\n      <td>find a spark of its own</td>\n      <td>1</td>\n    </tr>\n    <tr>\n      <th>1</th>\n      <td>oh come on .</td>\n      <td>0</td>\n    </tr>\n    <tr>\n      <th>2</th>\n      <td>winningly</td>\n      <td>1</td>\n    </tr>\n    <tr>\n      <th>3</th>\n      <td>an old-fashioned but emotionally stirring adve...</td>\n      <td>1</td>\n    </tr>\n    <tr>\n      <th>4</th>\n      <td>salt and vinegar, cheese and onion make your ...</td>\n      <td>0</td>\n    </tr>\n    <tr>\n      <th>5</th>\n      <td>wickedly funny and just plain wicked</td>\n      <td>1</td>\n    </tr>\n    <tr>\n      <th>6</th>\n      <td>bad ideas and awkwardness</td>\n      <td>0</td>\n    </tr>\n    <tr>\n      <th>7</th>\n      <td>what distinguishes time of favor from countles...</td>\n      <td>1</td>\n    </tr>\n    <tr>\n      <th>8</th>\n      <td>the proficient , dull sorvino has no light tou...</td>\n      <td>0</td>\n    </tr>\n    <tr>\n      <th>9</th>\n      <td>trying to finish moving stuff for tonight don`...</td>\n      <td>0</td>\n    </tr>\n  </tbody>\n</table>\n</div>"
     },
     "execution_count": 4,
     "metadata": {},
     "output_type": "execute_result"
    }
   ],
   "source": [
    "df_test = pd.read_csv('Sentiment-Analysis/test_data.csv', delimiter=',')[: 10]\n",
    "df_test = df_test[df_test['label'] != 1]\n",
    "df_test['label'] = np.where(df_test['label'] == 2, 1, 0)\n",
    "df_test"
   ],
   "metadata": {
    "collapsed": false,
    "ExecuteTime": {
     "end_time": "2025-05-25T09:59:20.370463Z",
     "start_time": "2025-05-25T09:59:20.347027Z"
    }
   },
   "id": "8275df8d3d1b2cac",
   "execution_count": 4
  },
  {
   "cell_type": "markdown",
   "source": [
    "### Labels"
   ],
   "metadata": {
    "collapsed": false
   },
   "id": "c404df1acb8feb11"
  },
  {
   "cell_type": "code",
   "outputs": [
    {
     "name": "stdout",
     "output_type": "stream",
     "text": [
      "31 41\n",
      "4 16\n",
      "5 5\n"
     ]
    }
   ],
   "source": [
    "Y_train = list(df_train['label'])\n",
    "Y_val = list(df_val['label'])\n",
    "Y_test = list(df_test['label'])\n",
    "# positive, negative\n",
    "print(Y_train.count(0), Y_train.count(1))\n",
    "print(Y_val.count(0), Y_val.count(1))\n",
    "print(Y_test.count(0), Y_test.count(1))"
   ],
   "metadata": {
    "collapsed": false,
    "ExecuteTime": {
     "end_time": "2025-05-25T09:59:21.667753Z",
     "start_time": "2025-05-25T09:59:21.663918Z"
    }
   },
   "id": "3f47fdf8363ee09a",
   "execution_count": 5
  },
  {
   "cell_type": "markdown",
   "source": [
    "### Embedding Matrix"
   ],
   "metadata": {
    "collapsed": false
   },
   "id": "7b0767fd2431daf4"
  },
  {
   "cell_type": "code",
   "outputs": [],
   "source": [
    "# embeddings = KeyedVectors.load_word2vec_format(\"models/GoogleNewsvectorsnegative300.bin\", binary=True, limit=100000)\n",
    "embeddings = compress_fasttext.models.CompressedFastTextKeyedVectors.load(\"models/cc.en.300.compressed.bin\")"
   ],
   "metadata": {
    "collapsed": false,
    "ExecuteTime": {
     "end_time": "2025-05-25T09:59:23.208010Z",
     "start_time": "2025-05-25T09:59:22.896650Z"
    }
   },
   "id": "dc8219b735424506",
   "execution_count": 6
  },
  {
   "cell_type": "code",
   "outputs": [
    {
     "name": "stdout",
     "output_type": "stream",
     "text": [
      "torch.Size([20002, 300])\n"
     ]
    }
   ],
   "source": [
    "vocab = {'<UNK>': 0, '<PAD>': 1}\n",
    "\n",
    "for i, w in enumerate(embeddings.index_to_key):\n",
    "    vocab[w] = i + 2\n",
    "\n",
    "emb = np.zeros((len(vocab), 300))\n",
    "for w, i in vocab.items():\n",
    "    emb[i] = embeddings[w]\n",
    "emb = torch.tensor(emb, dtype=torch.float32)\n",
    "print(emb.shape)"
   ],
   "metadata": {
    "collapsed": false,
    "ExecuteTime": {
     "end_time": "2025-05-25T09:59:23.424114Z",
     "start_time": "2025-05-25T09:59:23.286049Z"
    }
   },
   "id": "8b50a2191953b5b",
   "execution_count": 7
  },
  {
   "cell_type": "code",
   "outputs": [],
   "source": [
    "class SentimentDataset(Dataset):\n",
    "    def __init__(self, texts, labels, nlp, vocab, max_len):\n",
    "        self.texts = texts\n",
    "        self.labels = labels\n",
    "        self.vocab = vocab\n",
    "        self.max_len = max_len\n",
    "        self.nlp = nlp\n",
    "\n",
    "    def __len__(self):\n",
    "        return len(self.texts)\n",
    "\n",
    "    def __getitem__(self, idx):\n",
    "        txt = self.texts[idx].lower().strip(string.punctuation).strip()\n",
    "        tokens = [token.text for token in self.nlp(txt) if\n",
    "                  not token.is_stop and not token.is_punct and not token.is_space and not token.like_num]\n",
    "        indices = [self.vocab.get(token) if self.vocab.get(token) is not None else self.vocab.get('<UNK>')for token in tokens]\n",
    "        if len(indices) < self.max_len:\n",
    "            indices += [self.vocab['<PAD>']] * (self.max_len - len(indices))\n",
    "        else:\n",
    "            indices = indices[:self.max_len]\n",
    "        return torch.tensor(indices), torch.tensor(self.labels[idx], dtype=torch.long)\n",
    "\n",
    "\n",
    "nlp = spacy.load('en_core_web_sm')\n",
    "\n",
    "train_dataset = SentimentDataset(texts=list(df_train['text']), labels=list(df_train['label']), nlp=nlp, vocab=vocab,\n",
    "                                 max_len=30)\n",
    "train_loader = DataLoader(train_dataset, batch_size=8)\n",
    "\n",
    "val_dataset = SentimentDataset(texts=list(df_val['text']), labels=list(df_val['label']), nlp=nlp, vocab=vocab,\n",
    "                               max_len=30)\n",
    "val_loader = DataLoader(val_dataset, batch_size=8)\n",
    "\n",
    "test_dataset = SentimentDataset(texts=list(df_test['text']), labels=list(df_test['label']), nlp=nlp, vocab=vocab,\n",
    "                                max_len=30)\n",
    "test_loader = DataLoader(test_dataset, batch_size=8)"
   ],
   "metadata": {
    "collapsed": false,
    "ExecuteTime": {
     "end_time": "2025-05-25T09:59:30.018256Z",
     "start_time": "2025-05-25T09:59:24.201843Z"
    }
   },
   "id": "c6ec1d19872eca2d",
   "execution_count": 8
  },
  {
   "cell_type": "markdown",
   "source": [
    "### Feed-Forward Network"
   ],
   "metadata": {
    "collapsed": false
   },
   "id": "87177158a29239"
  },
  {
   "cell_type": "code",
   "outputs": [],
   "source": [
    "class FFN(nn.Module):\n",
    "    def __init__(self, in_feats, hidden_size, out_feats, emb_matrix):\n",
    "        super(FFN, self).__init__()\n",
    "        self.embedding = nn.Embedding(in_feats, emb_matrix.shape[1])\n",
    "        self.embedding.weight = nn.Parameter(emb_matrix, requires_grad=True)\n",
    "        self.lin1 = nn.Linear(emb_matrix.shape[1], hidden_size)\n",
    "        self.relu = nn.ReLU()\n",
    "        self.lin2 = nn.Linear(hidden_size, out_feats)\n",
    "\n",
    "    def forward(self, X):\n",
    "        e = self.embedding(X)\n",
    "        e = e.mean(dim=1)\n",
    "\n",
    "        input = self.lin1(e)\n",
    "        hidden = self.relu(input)\n",
    "        out = self.lin2(hidden)\n",
    "\n",
    "        return out\n"
   ],
   "metadata": {
    "collapsed": false,
    "ExecuteTime": {
     "end_time": "2025-05-25T09:59:37.355686Z",
     "start_time": "2025-05-25T09:59:37.351685Z"
    }
   },
   "id": "946a15bcb193ea6",
   "execution_count": 9
  },
  {
   "cell_type": "markdown",
   "source": [
    "### Trainer"
   ],
   "metadata": {
    "collapsed": false
   },
   "id": "5089775d153a05b3"
  },
  {
   "cell_type": "code",
   "outputs": [
    {
     "name": "stderr",
     "output_type": "stream",
     "text": [
      "Training Started:   0%|          | 0/50 [00:00<?, ?it/s]D:\\Работен плот\\Tubingen\\GitHub\\SNLP2\\.venv\\Lib\\site-packages\\sklearn\\metrics\\_classification.py:1565: UndefinedMetricWarning: Precision is ill-defined and being set to 0.0 in labels with no predicted samples. Use `zero_division` parameter to control this behavior.\n",
      "  _warn_prf(average, modifier, f\"{metric.capitalize()} is\", len(result))\n",
      "Training Started:   2%|▏         | 1/50 [00:06<05:14,  6.43s/it]"
     ]
    },
    {
     "name": "stdout",
     "output_type": "stream",
     "text": [
      "epoch: 1 loss: 0.6943868266211616\n",
      "metrics: (0.4, 0.5, 0.4444444444444444)\n"
     ]
    },
    {
     "name": "stderr",
     "output_type": "stream",
     "text": [
      "D:\\Работен плот\\Tubingen\\GitHub\\SNLP2\\.venv\\Lib\\site-packages\\sklearn\\metrics\\_classification.py:1565: UndefinedMetricWarning: Precision is ill-defined and being set to 0.0 in labels with no predicted samples. Use `zero_division` parameter to control this behavior.\n",
      "  _warn_prf(average, modifier, f\"{metric.capitalize()} is\", len(result))\n",
      "Training Started:   4%|▍         | 2/50 [00:10<04:06,  5.14s/it]"
     ]
    },
    {
     "name": "stdout",
     "output_type": "stream",
     "text": [
      "epoch: 2 loss: 0.6885367300775316\n",
      "metrics: (0.4, 0.5, 0.4444444444444444)\n"
     ]
    },
    {
     "name": "stderr",
     "output_type": "stream",
     "text": [
      "D:\\Работен плот\\Tubingen\\GitHub\\SNLP2\\.venv\\Lib\\site-packages\\sklearn\\metrics\\_classification.py:1565: UndefinedMetricWarning: Precision is ill-defined and being set to 0.0 in labels with no predicted samples. Use `zero_division` parameter to control this behavior.\n",
      "  _warn_prf(average, modifier, f\"{metric.capitalize()} is\", len(result))\n",
      "Training Started:   6%|▌         | 3/50 [00:14<03:37,  4.62s/it]"
     ]
    },
    {
     "name": "stdout",
     "output_type": "stream",
     "text": [
      "epoch: 3 loss: 0.6851463715235392\n",
      "metrics: (0.4, 0.5, 0.4444444444444444)\n"
     ]
    },
    {
     "name": "stderr",
     "output_type": "stream",
     "text": [
      "D:\\Работен плот\\Tubingen\\GitHub\\SNLP2\\.venv\\Lib\\site-packages\\sklearn\\metrics\\_classification.py:1565: UndefinedMetricWarning: Precision is ill-defined and being set to 0.0 in labels with no predicted samples. Use `zero_division` parameter to control this behavior.\n",
      "  _warn_prf(average, modifier, f\"{metric.capitalize()} is\", len(result))\n",
      "Training Started:   8%|▊         | 4/50 [00:18<03:23,  4.41s/it]"
     ]
    },
    {
     "name": "stdout",
     "output_type": "stream",
     "text": [
      "epoch: 4 loss: 0.6830445925394694\n",
      "metrics: (0.4, 0.5, 0.4444444444444444)\n"
     ]
    },
    {
     "name": "stderr",
     "output_type": "stream",
     "text": [
      "D:\\Работен плот\\Tubingen\\GitHub\\SNLP2\\.venv\\Lib\\site-packages\\sklearn\\metrics\\_classification.py:1565: UndefinedMetricWarning: Precision is ill-defined and being set to 0.0 in labels with no predicted samples. Use `zero_division` parameter to control this behavior.\n",
      "  _warn_prf(average, modifier, f\"{metric.capitalize()} is\", len(result))\n",
      "Training Started:  10%|█         | 5/50 [00:22<03:12,  4.28s/it]"
     ]
    },
    {
     "name": "stdout",
     "output_type": "stream",
     "text": [
      "epoch: 5 loss: 0.6816686789194742\n",
      "metrics: (0.4, 0.5, 0.4444444444444444)\n"
     ]
    },
    {
     "name": "stderr",
     "output_type": "stream",
     "text": [
      "D:\\Работен плот\\Tubingen\\GitHub\\SNLP2\\.venv\\Lib\\site-packages\\sklearn\\metrics\\_classification.py:1565: UndefinedMetricWarning: Precision is ill-defined and being set to 0.0 in labels with no predicted samples. Use `zero_division` parameter to control this behavior.\n",
      "  _warn_prf(average, modifier, f\"{metric.capitalize()} is\", len(result))\n",
      "Training Started:  12%|█▏        | 6/50 [00:26<03:05,  4.21s/it]"
     ]
    },
    {
     "name": "stdout",
     "output_type": "stream",
     "text": [
      "epoch: 6 loss: 0.6806486050287882\n",
      "metrics: (0.4, 0.5, 0.4444444444444444)\n"
     ]
    },
    {
     "name": "stderr",
     "output_type": "stream",
     "text": [
      "D:\\Работен плот\\Tubingen\\GitHub\\SNLP2\\.venv\\Lib\\site-packages\\sklearn\\metrics\\_classification.py:1565: UndefinedMetricWarning: Precision is ill-defined and being set to 0.0 in labels with no predicted samples. Use `zero_division` parameter to control this behavior.\n",
      "  _warn_prf(average, modifier, f\"{metric.capitalize()} is\", len(result))\n",
      "Training Started:  14%|█▍        | 7/50 [00:31<02:59,  4.18s/it]"
     ]
    },
    {
     "name": "stdout",
     "output_type": "stream",
     "text": [
      "epoch: 7 loss: 0.6797770195537143\n",
      "metrics: (0.4, 0.5, 0.4444444444444444)\n"
     ]
    },
    {
     "name": "stderr",
     "output_type": "stream",
     "text": [
      "D:\\Работен плот\\Tubingen\\GitHub\\SNLP2\\.venv\\Lib\\site-packages\\sklearn\\metrics\\_classification.py:1565: UndefinedMetricWarning: Precision is ill-defined and being set to 0.0 in labels with no predicted samples. Use `zero_division` parameter to control this behavior.\n",
      "  _warn_prf(average, modifier, f\"{metric.capitalize()} is\", len(result))\n",
      "Training Started:  16%|█▌        | 8/50 [00:35<02:58,  4.26s/it]"
     ]
    },
    {
     "name": "stdout",
     "output_type": "stream",
     "text": [
      "epoch: 8 loss: 0.6789537800682915\n",
      "metrics: (0.4, 0.5, 0.4444444444444444)\n"
     ]
    },
    {
     "name": "stderr",
     "output_type": "stream",
     "text": [
      "D:\\Работен плот\\Tubingen\\GitHub\\SNLP2\\.venv\\Lib\\site-packages\\sklearn\\metrics\\_classification.py:1565: UndefinedMetricWarning: Precision is ill-defined and being set to 0.0 in labels with no predicted samples. Use `zero_division` parameter to control this behavior.\n",
      "  _warn_prf(average, modifier, f\"{metric.capitalize()} is\", len(result))\n",
      "Training Started:  18%|█▊        | 9/50 [00:39<02:57,  4.34s/it]"
     ]
    },
    {
     "name": "stdout",
     "output_type": "stream",
     "text": [
      "epoch: 9 loss: 0.6781367328431871\n",
      "metrics: (0.4, 0.5, 0.4444444444444444)\n"
     ]
    },
    {
     "name": "stderr",
     "output_type": "stream",
     "text": [
      "D:\\Работен плот\\Tubingen\\GitHub\\SNLP2\\.venv\\Lib\\site-packages\\sklearn\\metrics\\_classification.py:1565: UndefinedMetricWarning: Precision is ill-defined and being set to 0.0 in labels with no predicted samples. Use `zero_division` parameter to control this behavior.\n",
      "  _warn_prf(average, modifier, f\"{metric.capitalize()} is\", len(result))\n",
      "Training Started:  20%|██        | 10/50 [00:44<02:50,  4.27s/it]"
     ]
    },
    {
     "name": "stdout",
     "output_type": "stream",
     "text": [
      "epoch: 10 loss: 0.6773107184304131\n",
      "metrics: (0.4, 0.5, 0.4444444444444444)\n"
     ]
    },
    {
     "name": "stderr",
     "output_type": "stream",
     "text": [
      "D:\\Работен плот\\Tubingen\\GitHub\\SNLP2\\.venv\\Lib\\site-packages\\sklearn\\metrics\\_classification.py:1565: UndefinedMetricWarning: Precision is ill-defined and being set to 0.0 in labels with no predicted samples. Use `zero_division` parameter to control this behavior.\n",
      "  _warn_prf(average, modifier, f\"{metric.capitalize()} is\", len(result))\n",
      "Training Started:  22%|██▏       | 11/50 [00:48<02:45,  4.24s/it]"
     ]
    },
    {
     "name": "stdout",
     "output_type": "stream",
     "text": [
      "epoch: 11 loss: 0.6764714121818542\n",
      "metrics: (0.4, 0.5, 0.4444444444444444)\n"
     ]
    },
    {
     "name": "stderr",
     "output_type": "stream",
     "text": [
      "D:\\Работен плот\\Tubingen\\GitHub\\SNLP2\\.venv\\Lib\\site-packages\\sklearn\\metrics\\_classification.py:1565: UndefinedMetricWarning: Precision is ill-defined and being set to 0.0 in labels with no predicted samples. Use `zero_division` parameter to control this behavior.\n",
      "  _warn_prf(average, modifier, f\"{metric.capitalize()} is\", len(result))\n",
      "Training Started:  24%|██▍       | 12/50 [00:52<02:41,  4.25s/it]"
     ]
    },
    {
     "name": "stdout",
     "output_type": "stream",
     "text": [
      "epoch: 12 loss: 0.6756178339322408\n",
      "metrics: (0.4, 0.5, 0.4444444444444444)\n"
     ]
    },
    {
     "name": "stderr",
     "output_type": "stream",
     "text": [
      "D:\\Работен плот\\Tubingen\\GitHub\\SNLP2\\.venv\\Lib\\site-packages\\sklearn\\metrics\\_classification.py:1565: UndefinedMetricWarning: Precision is ill-defined and being set to 0.0 in labels with no predicted samples. Use `zero_division` parameter to control this behavior.\n",
      "  _warn_prf(average, modifier, f\"{metric.capitalize()} is\", len(result))\n",
      "Training Started:  26%|██▌       | 13/50 [00:56<02:35,  4.22s/it]"
     ]
    },
    {
     "name": "stdout",
     "output_type": "stream",
     "text": [
      "epoch: 13 loss: 0.6747499704360962\n",
      "metrics: (0.4, 0.5, 0.4444444444444444)\n"
     ]
    },
    {
     "name": "stderr",
     "output_type": "stream",
     "text": [
      "D:\\Работен плот\\Tubingen\\GitHub\\SNLP2\\.venv\\Lib\\site-packages\\sklearn\\metrics\\_classification.py:1565: UndefinedMetricWarning: Precision is ill-defined and being set to 0.0 in labels with no predicted samples. Use `zero_division` parameter to control this behavior.\n",
      "  _warn_prf(average, modifier, f\"{metric.capitalize()} is\", len(result))\n",
      "Training Started:  28%|██▊       | 14/50 [01:00<02:31,  4.20s/it]"
     ]
    },
    {
     "name": "stdout",
     "output_type": "stream",
     "text": [
      "epoch: 14 loss: 0.673867854807112\n",
      "metrics: (0.4, 0.5, 0.4444444444444444)\n"
     ]
    },
    {
     "name": "stderr",
     "output_type": "stream",
     "text": [
      "D:\\Работен плот\\Tubingen\\GitHub\\SNLP2\\.venv\\Lib\\site-packages\\sklearn\\metrics\\_classification.py:1565: UndefinedMetricWarning: Precision is ill-defined and being set to 0.0 in labels with no predicted samples. Use `zero_division` parameter to control this behavior.\n",
      "  _warn_prf(average, modifier, f\"{metric.capitalize()} is\", len(result))\n",
      "Training Started:  30%|███       | 15/50 [01:05<02:28,  4.25s/it]"
     ]
    },
    {
     "name": "stdout",
     "output_type": "stream",
     "text": [
      "epoch: 15 loss: 0.6729711360401578\n",
      "metrics: (0.4, 0.5, 0.4444444444444444)\n"
     ]
    },
    {
     "name": "stderr",
     "output_type": "stream",
     "text": [
      "D:\\Работен плот\\Tubingen\\GitHub\\SNLP2\\.venv\\Lib\\site-packages\\sklearn\\metrics\\_classification.py:1565: UndefinedMetricWarning: Precision is ill-defined and being set to 0.0 in labels with no predicted samples. Use `zero_division` parameter to control this behavior.\n",
      "  _warn_prf(average, modifier, f\"{metric.capitalize()} is\", len(result))\n",
      "Training Started:  32%|███▏      | 16/50 [01:09<02:23,  4.21s/it]"
     ]
    },
    {
     "name": "stdout",
     "output_type": "stream",
     "text": [
      "epoch: 16 loss: 0.6720594763755798\n",
      "metrics: (0.4, 0.5, 0.4444444444444444)\n"
     ]
    },
    {
     "name": "stderr",
     "output_type": "stream",
     "text": [
      "D:\\Работен плот\\Tubingen\\GitHub\\SNLP2\\.venv\\Lib\\site-packages\\sklearn\\metrics\\_classification.py:1565: UndefinedMetricWarning: Precision is ill-defined and being set to 0.0 in labels with no predicted samples. Use `zero_division` parameter to control this behavior.\n",
      "  _warn_prf(average, modifier, f\"{metric.capitalize()} is\", len(result))\n",
      "Training Started:  34%|███▍      | 17/50 [01:13<02:18,  4.20s/it]"
     ]
    },
    {
     "name": "stdout",
     "output_type": "stream",
     "text": [
      "epoch: 17 loss: 0.6711324916945564\n",
      "metrics: (0.4, 0.5, 0.4444444444444444)\n"
     ]
    },
    {
     "name": "stderr",
     "output_type": "stream",
     "text": [
      "D:\\Работен плот\\Tubingen\\GitHub\\SNLP2\\.venv\\Lib\\site-packages\\sklearn\\metrics\\_classification.py:1565: UndefinedMetricWarning: Precision is ill-defined and being set to 0.0 in labels with no predicted samples. Use `zero_division` parameter to control this behavior.\n",
      "  _warn_prf(average, modifier, f\"{metric.capitalize()} is\", len(result))\n",
      "Training Started:  36%|███▌      | 18/50 [01:17<02:18,  4.32s/it]\n"
     ]
    },
    {
     "name": "stdout",
     "output_type": "stream",
     "text": [
      "epoch: 18 loss: 0.6701894137594435\n",
      "metrics: (0.4, 0.5, 0.4444444444444444)\n"
     ]
    },
    {
     "ename": "KeyboardInterrupt",
     "evalue": "",
     "output_type": "error",
     "traceback": [
      "\u001B[31m---------------------------------------------------------------------------\u001B[39m",
      "\u001B[31mKeyboardInterrupt\u001B[39m                         Traceback (most recent call last)",
      "\u001B[36mCell\u001B[39m\u001B[36m \u001B[39m\u001B[32mIn[11]\u001B[39m\u001B[32m, line 41\u001B[39m\n\u001B[32m     39\u001B[39m \u001B[38;5;28;01mfor\u001B[39;00m epoch \u001B[38;5;129;01min\u001B[39;00m tqdm(\u001B[38;5;28mrange\u001B[39m(epochs), desc=\u001B[33m'\u001B[39m\u001B[33mTraining Started\u001B[39m\u001B[33m'\u001B[39m):\n\u001B[32m     40\u001B[39m     epoch_loss = []\n\u001B[32m---> \u001B[39m\u001B[32m41\u001B[39m \u001B[43m    \u001B[49m\u001B[38;5;28;43;01mfor\u001B[39;49;00m\u001B[43m \u001B[49m\u001B[43mexamples\u001B[49m\u001B[43m,\u001B[49m\u001B[43m \u001B[49m\u001B[43my\u001B[49m\u001B[43m \u001B[49m\u001B[38;5;129;43;01min\u001B[39;49;00m\u001B[43m \u001B[49m\u001B[43mtrain_loader\u001B[49m\u001B[43m:\u001B[49m\n\u001B[32m     42\u001B[39m \u001B[43m        \u001B[49m\u001B[38;5;66;43;03m# BCE\u001B[39;49;00m\n\u001B[32m     43\u001B[39m \u001B[43m        \u001B[49m\u001B[43my\u001B[49m\u001B[43m \u001B[49m\u001B[43m=\u001B[49m\u001B[43m \u001B[49m\u001B[43my\u001B[49m\u001B[43m.\u001B[49m\u001B[43mfloat\u001B[49m\u001B[43m(\u001B[49m\u001B[43m)\u001B[49m\u001B[43m.\u001B[49m\u001B[43munsqueeze\u001B[49m\u001B[43m(\u001B[49m\u001B[32;43m1\u001B[39;49m\u001B[43m)\u001B[49m\u001B[43m.\u001B[49m\u001B[43mto\u001B[49m\u001B[43m(\u001B[49m\u001B[43mdevice\u001B[49m\u001B[43m)\u001B[49m\n\u001B[32m     44\u001B[39m \u001B[43m        \u001B[49m\u001B[43mopt\u001B[49m\u001B[43m.\u001B[49m\u001B[43mzero_grad\u001B[49m\u001B[43m(\u001B[49m\u001B[43m)\u001B[49m\n",
      "\u001B[36mFile \u001B[39m\u001B[32mD:\\Работен плот\\Tubingen\\GitHub\\SNLP2\\.venv\\Lib\\site-packages\\torch\\utils\\data\\dataloader.py:733\u001B[39m, in \u001B[36m_BaseDataLoaderIter.__next__\u001B[39m\u001B[34m(self)\u001B[39m\n\u001B[32m    730\u001B[39m \u001B[38;5;28;01mif\u001B[39;00m \u001B[38;5;28mself\u001B[39m._sampler_iter \u001B[38;5;129;01mis\u001B[39;00m \u001B[38;5;28;01mNone\u001B[39;00m:\n\u001B[32m    731\u001B[39m     \u001B[38;5;66;03m# TODO(https://github.com/pytorch/pytorch/issues/76750)\u001B[39;00m\n\u001B[32m    732\u001B[39m     \u001B[38;5;28mself\u001B[39m._reset()  \u001B[38;5;66;03m# type: ignore[call-arg]\u001B[39;00m\n\u001B[32m--> \u001B[39m\u001B[32m733\u001B[39m data = \u001B[38;5;28;43mself\u001B[39;49m\u001B[43m.\u001B[49m\u001B[43m_next_data\u001B[49m\u001B[43m(\u001B[49m\u001B[43m)\u001B[49m\n\u001B[32m    734\u001B[39m \u001B[38;5;28mself\u001B[39m._num_yielded += \u001B[32m1\u001B[39m\n\u001B[32m    735\u001B[39m \u001B[38;5;28;01mif\u001B[39;00m (\n\u001B[32m    736\u001B[39m     \u001B[38;5;28mself\u001B[39m._dataset_kind == _DatasetKind.Iterable\n\u001B[32m    737\u001B[39m     \u001B[38;5;129;01mand\u001B[39;00m \u001B[38;5;28mself\u001B[39m._IterableDataset_len_called \u001B[38;5;129;01mis\u001B[39;00m \u001B[38;5;129;01mnot\u001B[39;00m \u001B[38;5;28;01mNone\u001B[39;00m\n\u001B[32m    738\u001B[39m     \u001B[38;5;129;01mand\u001B[39;00m \u001B[38;5;28mself\u001B[39m._num_yielded > \u001B[38;5;28mself\u001B[39m._IterableDataset_len_called\n\u001B[32m    739\u001B[39m ):\n",
      "\u001B[36mFile \u001B[39m\u001B[32mD:\\Работен плот\\Tubingen\\GitHub\\SNLP2\\.venv\\Lib\\site-packages\\torch\\utils\\data\\dataloader.py:789\u001B[39m, in \u001B[36m_SingleProcessDataLoaderIter._next_data\u001B[39m\u001B[34m(self)\u001B[39m\n\u001B[32m    787\u001B[39m \u001B[38;5;28;01mdef\u001B[39;00m\u001B[38;5;250m \u001B[39m\u001B[34m_next_data\u001B[39m(\u001B[38;5;28mself\u001B[39m):\n\u001B[32m    788\u001B[39m     index = \u001B[38;5;28mself\u001B[39m._next_index()  \u001B[38;5;66;03m# may raise StopIteration\u001B[39;00m\n\u001B[32m--> \u001B[39m\u001B[32m789\u001B[39m     data = \u001B[38;5;28;43mself\u001B[39;49m\u001B[43m.\u001B[49m\u001B[43m_dataset_fetcher\u001B[49m\u001B[43m.\u001B[49m\u001B[43mfetch\u001B[49m\u001B[43m(\u001B[49m\u001B[43mindex\u001B[49m\u001B[43m)\u001B[49m  \u001B[38;5;66;03m# may raise StopIteration\u001B[39;00m\n\u001B[32m    790\u001B[39m     \u001B[38;5;28;01mif\u001B[39;00m \u001B[38;5;28mself\u001B[39m._pin_memory:\n\u001B[32m    791\u001B[39m         data = _utils.pin_memory.pin_memory(data, \u001B[38;5;28mself\u001B[39m._pin_memory_device)\n",
      "\u001B[36mFile \u001B[39m\u001B[32mD:\\Работен плот\\Tubingen\\GitHub\\SNLP2\\.venv\\Lib\\site-packages\\torch\\utils\\data\\_utils\\fetch.py:52\u001B[39m, in \u001B[36m_MapDatasetFetcher.fetch\u001B[39m\u001B[34m(self, possibly_batched_index)\u001B[39m\n\u001B[32m     50\u001B[39m         data = \u001B[38;5;28mself\u001B[39m.dataset.__getitems__(possibly_batched_index)\n\u001B[32m     51\u001B[39m     \u001B[38;5;28;01melse\u001B[39;00m:\n\u001B[32m---> \u001B[39m\u001B[32m52\u001B[39m         data = [\u001B[38;5;28;43mself\u001B[39;49m\u001B[43m.\u001B[49m\u001B[43mdataset\u001B[49m\u001B[43m[\u001B[49m\u001B[43midx\u001B[49m\u001B[43m]\u001B[49m \u001B[38;5;28;01mfor\u001B[39;00m idx \u001B[38;5;129;01min\u001B[39;00m possibly_batched_index]\n\u001B[32m     53\u001B[39m \u001B[38;5;28;01melse\u001B[39;00m:\n\u001B[32m     54\u001B[39m     data = \u001B[38;5;28mself\u001B[39m.dataset[possibly_batched_index]\n",
      "\u001B[36mCell\u001B[39m\u001B[36m \u001B[39m\u001B[32mIn[8]\u001B[39m\u001B[32m, line 14\u001B[39m, in \u001B[36mSentimentDataset.__getitem__\u001B[39m\u001B[34m(self, idx)\u001B[39m\n\u001B[32m     12\u001B[39m \u001B[38;5;28;01mdef\u001B[39;00m\u001B[38;5;250m \u001B[39m\u001B[34m__getitem__\u001B[39m(\u001B[38;5;28mself\u001B[39m, idx):\n\u001B[32m     13\u001B[39m     txt = \u001B[38;5;28mself\u001B[39m.texts[idx].lower().strip(string.punctuation).strip()\n\u001B[32m---> \u001B[39m\u001B[32m14\u001B[39m     tokens = [token.text \u001B[38;5;28;01mfor\u001B[39;00m token \u001B[38;5;129;01min\u001B[39;00m \u001B[38;5;28;43mself\u001B[39;49m\u001B[43m.\u001B[49m\u001B[43mnlp\u001B[49m\u001B[43m(\u001B[49m\u001B[43mtxt\u001B[49m\u001B[43m)\u001B[49m \u001B[38;5;28;01mif\u001B[39;00m\n\u001B[32m     15\u001B[39m               \u001B[38;5;129;01mnot\u001B[39;00m token.is_stop \u001B[38;5;129;01mand\u001B[39;00m \u001B[38;5;129;01mnot\u001B[39;00m token.is_punct \u001B[38;5;129;01mand\u001B[39;00m \u001B[38;5;129;01mnot\u001B[39;00m token.is_space \u001B[38;5;129;01mand\u001B[39;00m \u001B[38;5;129;01mnot\u001B[39;00m token.like_num]\n\u001B[32m     16\u001B[39m     indices = [\u001B[38;5;28mself\u001B[39m.vocab.get(token) \u001B[38;5;28;01mif\u001B[39;00m \u001B[38;5;28mself\u001B[39m.vocab.get(token) \u001B[38;5;129;01mis\u001B[39;00m \u001B[38;5;129;01mnot\u001B[39;00m \u001B[38;5;28;01mNone\u001B[39;00m \u001B[38;5;28;01melse\u001B[39;00m \u001B[38;5;28mself\u001B[39m.vocab.get(\u001B[33m'\u001B[39m\u001B[33m<UNK>\u001B[39m\u001B[33m'\u001B[39m)\u001B[38;5;28;01mfor\u001B[39;00m token \u001B[38;5;129;01min\u001B[39;00m tokens]\n\u001B[32m     17\u001B[39m     \u001B[38;5;28;01mif\u001B[39;00m \u001B[38;5;28mlen\u001B[39m(indices) < \u001B[38;5;28mself\u001B[39m.max_len:\n",
      "\u001B[36mFile \u001B[39m\u001B[32mD:\\Работен плот\\Tubingen\\GitHub\\SNLP2\\.venv\\Lib\\site-packages\\spacy\\language.py:1052\u001B[39m, in \u001B[36mLanguage.__call__\u001B[39m\u001B[34m(self, text, disable, component_cfg)\u001B[39m\n\u001B[32m   1050\u001B[39m     error_handler = proc.get_error_handler()\n\u001B[32m   1051\u001B[39m \u001B[38;5;28;01mtry\u001B[39;00m:\n\u001B[32m-> \u001B[39m\u001B[32m1052\u001B[39m     doc = \u001B[43mproc\u001B[49m\u001B[43m(\u001B[49m\u001B[43mdoc\u001B[49m\u001B[43m,\u001B[49m\u001B[43m \u001B[49m\u001B[43m*\u001B[49m\u001B[43m*\u001B[49m\u001B[43mcomponent_cfg\u001B[49m\u001B[43m.\u001B[49m\u001B[43mget\u001B[49m\u001B[43m(\u001B[49m\u001B[43mname\u001B[49m\u001B[43m,\u001B[49m\u001B[43m \u001B[49m\u001B[43m{\u001B[49m\u001B[43m}\u001B[49m\u001B[43m)\u001B[49m\u001B[43m)\u001B[49m  \u001B[38;5;66;03m# type: ignore[call-arg]\u001B[39;00m\n\u001B[32m   1053\u001B[39m \u001B[38;5;28;01mexcept\u001B[39;00m \u001B[38;5;167;01mKeyError\u001B[39;00m \u001B[38;5;28;01mas\u001B[39;00m e:\n\u001B[32m   1054\u001B[39m     \u001B[38;5;66;03m# This typically happens if a component is not initialized\u001B[39;00m\n\u001B[32m   1055\u001B[39m     \u001B[38;5;28;01mraise\u001B[39;00m \u001B[38;5;167;01mValueError\u001B[39;00m(Errors.E109.format(name=name)) \u001B[38;5;28;01mfrom\u001B[39;00m\u001B[38;5;250m \u001B[39m\u001B[34;01me\u001B[39;00m\n",
      "\u001B[36mFile \u001B[39m\u001B[32mD:\\Работен плот\\Tubingen\\GitHub\\SNLP2\\.venv\\Lib\\site-packages\\spacy\\pipeline\\trainable_pipe.pyx:52\u001B[39m, in \u001B[36mspacy.pipeline.trainable_pipe.TrainablePipe.__call__\u001B[39m\u001B[34m()\u001B[39m\n",
      "\u001B[36mFile \u001B[39m\u001B[32mD:\\Работен плот\\Tubingen\\GitHub\\SNLP2\\.venv\\Lib\\site-packages\\spacy\\pipeline\\tok2vec.py:126\u001B[39m, in \u001B[36mTok2Vec.predict\u001B[39m\u001B[34m(self, docs)\u001B[39m\n\u001B[32m    124\u001B[39m     width = \u001B[38;5;28mself\u001B[39m.model.get_dim(\u001B[33m\"\u001B[39m\u001B[33mnO\u001B[39m\u001B[33m\"\u001B[39m)\n\u001B[32m    125\u001B[39m     \u001B[38;5;28;01mreturn\u001B[39;00m [\u001B[38;5;28mself\u001B[39m.model.ops.alloc((\u001B[32m0\u001B[39m, width)) \u001B[38;5;28;01mfor\u001B[39;00m doc \u001B[38;5;129;01min\u001B[39;00m docs]\n\u001B[32m--> \u001B[39m\u001B[32m126\u001B[39m tokvecs = \u001B[38;5;28;43mself\u001B[39;49m\u001B[43m.\u001B[49m\u001B[43mmodel\u001B[49m\u001B[43m.\u001B[49m\u001B[43mpredict\u001B[49m\u001B[43m(\u001B[49m\u001B[43mdocs\u001B[49m\u001B[43m)\u001B[49m\n\u001B[32m    127\u001B[39m \u001B[38;5;28;01mreturn\u001B[39;00m tokvecs\n",
      "\u001B[36mFile \u001B[39m\u001B[32mD:\\Работен плот\\Tubingen\\GitHub\\SNLP2\\.venv\\Lib\\site-packages\\thinc\\model.py:334\u001B[39m, in \u001B[36mModel.predict\u001B[39m\u001B[34m(self, X)\u001B[39m\n\u001B[32m    330\u001B[39m \u001B[38;5;28;01mdef\u001B[39;00m\u001B[38;5;250m \u001B[39m\u001B[34mpredict\u001B[39m(\u001B[38;5;28mself\u001B[39m, X: InT) -> OutT:\n\u001B[32m    331\u001B[39m \u001B[38;5;250m    \u001B[39m\u001B[33;03m\"\"\"Call the model's `forward` function with `is_train=False`, and return\u001B[39;00m\n\u001B[32m    332\u001B[39m \u001B[33;03m    only the output, instead of the `(output, callback)` tuple.\u001B[39;00m\n\u001B[32m    333\u001B[39m \u001B[33;03m    \"\"\"\u001B[39;00m\n\u001B[32m--> \u001B[39m\u001B[32m334\u001B[39m     \u001B[38;5;28;01mreturn\u001B[39;00m \u001B[38;5;28;43mself\u001B[39;49m\u001B[43m.\u001B[49m\u001B[43m_func\u001B[49m\u001B[43m(\u001B[49m\u001B[38;5;28;43mself\u001B[39;49m\u001B[43m,\u001B[49m\u001B[43m \u001B[49m\u001B[43mX\u001B[49m\u001B[43m,\u001B[49m\u001B[43m \u001B[49m\u001B[43mis_train\u001B[49m\u001B[43m=\u001B[49m\u001B[38;5;28;43;01mFalse\u001B[39;49;00m\u001B[43m)\u001B[49m[\u001B[32m0\u001B[39m]\n",
      "\u001B[36mFile \u001B[39m\u001B[32mD:\\Работен плот\\Tubingen\\GitHub\\SNLP2\\.venv\\Lib\\site-packages\\thinc\\layers\\chain.py:54\u001B[39m, in \u001B[36mforward\u001B[39m\u001B[34m(model, X, is_train)\u001B[39m\n\u001B[32m     52\u001B[39m callbacks = []\n\u001B[32m     53\u001B[39m \u001B[38;5;28;01mfor\u001B[39;00m layer \u001B[38;5;129;01min\u001B[39;00m model.layers:\n\u001B[32m---> \u001B[39m\u001B[32m54\u001B[39m     Y, inc_layer_grad = \u001B[43mlayer\u001B[49m\u001B[43m(\u001B[49m\u001B[43mX\u001B[49m\u001B[43m,\u001B[49m\u001B[43m \u001B[49m\u001B[43mis_train\u001B[49m\u001B[43m=\u001B[49m\u001B[43mis_train\u001B[49m\u001B[43m)\u001B[49m\n\u001B[32m     55\u001B[39m     callbacks.append(inc_layer_grad)\n\u001B[32m     56\u001B[39m     X = Y\n",
      "\u001B[36mFile \u001B[39m\u001B[32mD:\\Работен плот\\Tubingen\\GitHub\\SNLP2\\.venv\\Lib\\site-packages\\thinc\\model.py:310\u001B[39m, in \u001B[36mModel.__call__\u001B[39m\u001B[34m(self, X, is_train)\u001B[39m\n\u001B[32m    307\u001B[39m \u001B[38;5;28;01mdef\u001B[39;00m\u001B[38;5;250m \u001B[39m\u001B[34m__call__\u001B[39m(\u001B[38;5;28mself\u001B[39m, X: InT, is_train: \u001B[38;5;28mbool\u001B[39m) -> Tuple[OutT, Callable]:\n\u001B[32m    308\u001B[39m \u001B[38;5;250m    \u001B[39m\u001B[33;03m\"\"\"Call the model's `forward` function, returning the output and a\u001B[39;00m\n\u001B[32m    309\u001B[39m \u001B[33;03m    callback to compute the gradients via backpropagation.\"\"\"\u001B[39;00m\n\u001B[32m--> \u001B[39m\u001B[32m310\u001B[39m     \u001B[38;5;28;01mreturn\u001B[39;00m \u001B[38;5;28;43mself\u001B[39;49m\u001B[43m.\u001B[49m\u001B[43m_func\u001B[49m\u001B[43m(\u001B[49m\u001B[38;5;28;43mself\u001B[39;49m\u001B[43m,\u001B[49m\u001B[43m \u001B[49m\u001B[43mX\u001B[49m\u001B[43m,\u001B[49m\u001B[43m \u001B[49m\u001B[43mis_train\u001B[49m\u001B[43m=\u001B[49m\u001B[43mis_train\u001B[49m\u001B[43m)\u001B[49m\n",
      "\u001B[36mFile \u001B[39m\u001B[32mD:\\Работен плот\\Tubingen\\GitHub\\SNLP2\\.venv\\Lib\\site-packages\\thinc\\layers\\with_array.py:42\u001B[39m, in \u001B[36mforward\u001B[39m\u001B[34m(model, Xseq, is_train)\u001B[39m\n\u001B[32m     40\u001B[39m     \u001B[38;5;28;01mreturn\u001B[39;00m model.layers[\u001B[32m0\u001B[39m](Xseq, is_train)\n\u001B[32m     41\u001B[39m \u001B[38;5;28;01melse\u001B[39;00m:\n\u001B[32m---> \u001B[39m\u001B[32m42\u001B[39m     \u001B[38;5;28;01mreturn\u001B[39;00m cast(Tuple[SeqT, Callable], \u001B[43m_list_forward\u001B[49m\u001B[43m(\u001B[49m\u001B[43mmodel\u001B[49m\u001B[43m,\u001B[49m\u001B[43m \u001B[49m\u001B[43mXseq\u001B[49m\u001B[43m,\u001B[49m\u001B[43m \u001B[49m\u001B[43mis_train\u001B[49m\u001B[43m)\u001B[49m)\n",
      "\u001B[36mFile \u001B[39m\u001B[32mD:\\Работен плот\\Tubingen\\GitHub\\SNLP2\\.venv\\Lib\\site-packages\\thinc\\layers\\with_array.py:77\u001B[39m, in \u001B[36m_list_forward\u001B[39m\u001B[34m(model, Xs, is_train)\u001B[39m\n\u001B[32m     75\u001B[39m lengths = NUMPY_OPS.asarray1i([\u001B[38;5;28mlen\u001B[39m(seq) \u001B[38;5;28;01mfor\u001B[39;00m seq \u001B[38;5;129;01min\u001B[39;00m Xs])\n\u001B[32m     76\u001B[39m Xf = layer.ops.flatten(Xs, pad=pad)\n\u001B[32m---> \u001B[39m\u001B[32m77\u001B[39m Yf, get_dXf = \u001B[43mlayer\u001B[49m\u001B[43m(\u001B[49m\u001B[43mXf\u001B[49m\u001B[43m,\u001B[49m\u001B[43m \u001B[49m\u001B[43mis_train\u001B[49m\u001B[43m)\u001B[49m\n\u001B[32m     79\u001B[39m \u001B[38;5;28;01mdef\u001B[39;00m\u001B[38;5;250m \u001B[39m\u001B[34mbackprop\u001B[39m(dYs: ListXd) -> ListXd:\n\u001B[32m     80\u001B[39m     dYf = layer.ops.flatten(dYs, pad=pad)\n",
      "\u001B[36mFile \u001B[39m\u001B[32mD:\\Работен плот\\Tubingen\\GitHub\\SNLP2\\.venv\\Lib\\site-packages\\thinc\\model.py:310\u001B[39m, in \u001B[36mModel.__call__\u001B[39m\u001B[34m(self, X, is_train)\u001B[39m\n\u001B[32m    307\u001B[39m \u001B[38;5;28;01mdef\u001B[39;00m\u001B[38;5;250m \u001B[39m\u001B[34m__call__\u001B[39m(\u001B[38;5;28mself\u001B[39m, X: InT, is_train: \u001B[38;5;28mbool\u001B[39m) -> Tuple[OutT, Callable]:\n\u001B[32m    308\u001B[39m \u001B[38;5;250m    \u001B[39m\u001B[33;03m\"\"\"Call the model's `forward` function, returning the output and a\u001B[39;00m\n\u001B[32m    309\u001B[39m \u001B[33;03m    callback to compute the gradients via backpropagation.\"\"\"\u001B[39;00m\n\u001B[32m--> \u001B[39m\u001B[32m310\u001B[39m     \u001B[38;5;28;01mreturn\u001B[39;00m \u001B[38;5;28;43mself\u001B[39;49m\u001B[43m.\u001B[49m\u001B[43m_func\u001B[49m\u001B[43m(\u001B[49m\u001B[38;5;28;43mself\u001B[39;49m\u001B[43m,\u001B[49m\u001B[43m \u001B[49m\u001B[43mX\u001B[49m\u001B[43m,\u001B[49m\u001B[43m \u001B[49m\u001B[43mis_train\u001B[49m\u001B[43m=\u001B[49m\u001B[43mis_train\u001B[49m\u001B[43m)\u001B[49m\n",
      "\u001B[36mFile \u001B[39m\u001B[32mD:\\Работен плот\\Tubingen\\GitHub\\SNLP2\\.venv\\Lib\\site-packages\\thinc\\layers\\chain.py:54\u001B[39m, in \u001B[36mforward\u001B[39m\u001B[34m(model, X, is_train)\u001B[39m\n\u001B[32m     52\u001B[39m callbacks = []\n\u001B[32m     53\u001B[39m \u001B[38;5;28;01mfor\u001B[39;00m layer \u001B[38;5;129;01min\u001B[39;00m model.layers:\n\u001B[32m---> \u001B[39m\u001B[32m54\u001B[39m     Y, inc_layer_grad = \u001B[43mlayer\u001B[49m\u001B[43m(\u001B[49m\u001B[43mX\u001B[49m\u001B[43m,\u001B[49m\u001B[43m \u001B[49m\u001B[43mis_train\u001B[49m\u001B[43m=\u001B[49m\u001B[43mis_train\u001B[49m\u001B[43m)\u001B[49m\n\u001B[32m     55\u001B[39m     callbacks.append(inc_layer_grad)\n\u001B[32m     56\u001B[39m     X = Y\n",
      "\u001B[36mFile \u001B[39m\u001B[32mD:\\Работен плот\\Tubingen\\GitHub\\SNLP2\\.venv\\Lib\\site-packages\\thinc\\model.py:310\u001B[39m, in \u001B[36mModel.__call__\u001B[39m\u001B[34m(self, X, is_train)\u001B[39m\n\u001B[32m    307\u001B[39m \u001B[38;5;28;01mdef\u001B[39;00m\u001B[38;5;250m \u001B[39m\u001B[34m__call__\u001B[39m(\u001B[38;5;28mself\u001B[39m, X: InT, is_train: \u001B[38;5;28mbool\u001B[39m) -> Tuple[OutT, Callable]:\n\u001B[32m    308\u001B[39m \u001B[38;5;250m    \u001B[39m\u001B[33;03m\"\"\"Call the model's `forward` function, returning the output and a\u001B[39;00m\n\u001B[32m    309\u001B[39m \u001B[33;03m    callback to compute the gradients via backpropagation.\"\"\"\u001B[39;00m\n\u001B[32m--> \u001B[39m\u001B[32m310\u001B[39m     \u001B[38;5;28;01mreturn\u001B[39;00m \u001B[38;5;28;43mself\u001B[39;49m\u001B[43m.\u001B[49m\u001B[43m_func\u001B[49m\u001B[43m(\u001B[49m\u001B[38;5;28;43mself\u001B[39;49m\u001B[43m,\u001B[49m\u001B[43m \u001B[49m\u001B[43mX\u001B[49m\u001B[43m,\u001B[49m\u001B[43m \u001B[49m\u001B[43mis_train\u001B[49m\u001B[43m=\u001B[49m\u001B[43mis_train\u001B[49m\u001B[43m)\u001B[49m\n",
      "\u001B[36mFile \u001B[39m\u001B[32mD:\\Работен плот\\Tubingen\\GitHub\\SNLP2\\.venv\\Lib\\site-packages\\thinc\\layers\\residual.py:41\u001B[39m, in \u001B[36mforward\u001B[39m\u001B[34m(model, X, is_train)\u001B[39m\n\u001B[32m     38\u001B[39m     \u001B[38;5;28;01melse\u001B[39;00m:\n\u001B[32m     39\u001B[39m         \u001B[38;5;28;01mreturn\u001B[39;00m d_output + dX\n\u001B[32m---> \u001B[39m\u001B[32m41\u001B[39m Y, backprop_layer = \u001B[43mmodel\u001B[49m\u001B[43m.\u001B[49m\u001B[43mlayers\u001B[49m\u001B[43m[\u001B[49m\u001B[32;43m0\u001B[39;49m\u001B[43m]\u001B[49m\u001B[43m(\u001B[49m\u001B[43mX\u001B[49m\u001B[43m,\u001B[49m\u001B[43m \u001B[49m\u001B[43mis_train\u001B[49m\u001B[43m)\u001B[49m\n\u001B[32m     42\u001B[39m \u001B[38;5;28;01mif\u001B[39;00m \u001B[38;5;28misinstance\u001B[39m(X, \u001B[38;5;28mlist\u001B[39m):\n\u001B[32m     43\u001B[39m     \u001B[38;5;28;01mreturn\u001B[39;00m [X[i] + Y[i] \u001B[38;5;28;01mfor\u001B[39;00m i \u001B[38;5;129;01min\u001B[39;00m \u001B[38;5;28mrange\u001B[39m(\u001B[38;5;28mlen\u001B[39m(X))], backprop\n",
      "\u001B[36mFile \u001B[39m\u001B[32mD:\\Работен плот\\Tubingen\\GitHub\\SNLP2\\.venv\\Lib\\site-packages\\thinc\\model.py:310\u001B[39m, in \u001B[36mModel.__call__\u001B[39m\u001B[34m(self, X, is_train)\u001B[39m\n\u001B[32m    307\u001B[39m \u001B[38;5;28;01mdef\u001B[39;00m\u001B[38;5;250m \u001B[39m\u001B[34m__call__\u001B[39m(\u001B[38;5;28mself\u001B[39m, X: InT, is_train: \u001B[38;5;28mbool\u001B[39m) -> Tuple[OutT, Callable]:\n\u001B[32m    308\u001B[39m \u001B[38;5;250m    \u001B[39m\u001B[33;03m\"\"\"Call the model's `forward` function, returning the output and a\u001B[39;00m\n\u001B[32m    309\u001B[39m \u001B[33;03m    callback to compute the gradients via backpropagation.\"\"\"\u001B[39;00m\n\u001B[32m--> \u001B[39m\u001B[32m310\u001B[39m     \u001B[38;5;28;01mreturn\u001B[39;00m \u001B[38;5;28;43mself\u001B[39;49m\u001B[43m.\u001B[49m\u001B[43m_func\u001B[49m\u001B[43m(\u001B[49m\u001B[38;5;28;43mself\u001B[39;49m\u001B[43m,\u001B[49m\u001B[43m \u001B[49m\u001B[43mX\u001B[49m\u001B[43m,\u001B[49m\u001B[43m \u001B[49m\u001B[43mis_train\u001B[49m\u001B[43m=\u001B[49m\u001B[43mis_train\u001B[49m\u001B[43m)\u001B[49m\n",
      "\u001B[36mFile \u001B[39m\u001B[32mD:\\Работен плот\\Tubingen\\GitHub\\SNLP2\\.venv\\Lib\\site-packages\\thinc\\layers\\chain.py:54\u001B[39m, in \u001B[36mforward\u001B[39m\u001B[34m(model, X, is_train)\u001B[39m\n\u001B[32m     52\u001B[39m callbacks = []\n\u001B[32m     53\u001B[39m \u001B[38;5;28;01mfor\u001B[39;00m layer \u001B[38;5;129;01min\u001B[39;00m model.layers:\n\u001B[32m---> \u001B[39m\u001B[32m54\u001B[39m     Y, inc_layer_grad = \u001B[43mlayer\u001B[49m\u001B[43m(\u001B[49m\u001B[43mX\u001B[49m\u001B[43m,\u001B[49m\u001B[43m \u001B[49m\u001B[43mis_train\u001B[49m\u001B[43m=\u001B[49m\u001B[43mis_train\u001B[49m\u001B[43m)\u001B[49m\n\u001B[32m     55\u001B[39m     callbacks.append(inc_layer_grad)\n\u001B[32m     56\u001B[39m     X = Y\n",
      "\u001B[36mFile \u001B[39m\u001B[32mD:\\Работен плот\\Tubingen\\GitHub\\SNLP2\\.venv\\Lib\\site-packages\\thinc\\model.py:310\u001B[39m, in \u001B[36mModel.__call__\u001B[39m\u001B[34m(self, X, is_train)\u001B[39m\n\u001B[32m    307\u001B[39m \u001B[38;5;28;01mdef\u001B[39;00m\u001B[38;5;250m \u001B[39m\u001B[34m__call__\u001B[39m(\u001B[38;5;28mself\u001B[39m, X: InT, is_train: \u001B[38;5;28mbool\u001B[39m) -> Tuple[OutT, Callable]:\n\u001B[32m    308\u001B[39m \u001B[38;5;250m    \u001B[39m\u001B[33;03m\"\"\"Call the model's `forward` function, returning the output and a\u001B[39;00m\n\u001B[32m    309\u001B[39m \u001B[33;03m    callback to compute the gradients via backpropagation.\"\"\"\u001B[39;00m\n\u001B[32m--> \u001B[39m\u001B[32m310\u001B[39m     \u001B[38;5;28;01mreturn\u001B[39;00m \u001B[38;5;28;43mself\u001B[39;49m\u001B[43m.\u001B[49m\u001B[43m_func\u001B[49m\u001B[43m(\u001B[49m\u001B[38;5;28;43mself\u001B[39;49m\u001B[43m,\u001B[49m\u001B[43m \u001B[49m\u001B[43mX\u001B[49m\u001B[43m,\u001B[49m\u001B[43m \u001B[49m\u001B[43mis_train\u001B[49m\u001B[43m=\u001B[49m\u001B[43mis_train\u001B[49m\u001B[43m)\u001B[49m\n",
      "\u001B[36mFile \u001B[39m\u001B[32mD:\\Работен плот\\Tubingen\\GitHub\\SNLP2\\.venv\\Lib\\site-packages\\thinc\\layers\\chain.py:54\u001B[39m, in \u001B[36mforward\u001B[39m\u001B[34m(model, X, is_train)\u001B[39m\n\u001B[32m     52\u001B[39m callbacks = []\n\u001B[32m     53\u001B[39m \u001B[38;5;28;01mfor\u001B[39;00m layer \u001B[38;5;129;01min\u001B[39;00m model.layers:\n\u001B[32m---> \u001B[39m\u001B[32m54\u001B[39m     Y, inc_layer_grad = \u001B[43mlayer\u001B[49m\u001B[43m(\u001B[49m\u001B[43mX\u001B[49m\u001B[43m,\u001B[49m\u001B[43m \u001B[49m\u001B[43mis_train\u001B[49m\u001B[43m=\u001B[49m\u001B[43mis_train\u001B[49m\u001B[43m)\u001B[49m\n\u001B[32m     55\u001B[39m     callbacks.append(inc_layer_grad)\n\u001B[32m     56\u001B[39m     X = Y\n",
      "    \u001B[31m[... skipping similar frames: Model.__call__ at line 310 (1 times)]\u001B[39m\n",
      "\u001B[36mFile \u001B[39m\u001B[32mD:\\Работен плот\\Tubingen\\GitHub\\SNLP2\\.venv\\Lib\\site-packages\\thinc\\layers\\chain.py:54\u001B[39m, in \u001B[36mforward\u001B[39m\u001B[34m(model, X, is_train)\u001B[39m\n\u001B[32m     52\u001B[39m callbacks = []\n\u001B[32m     53\u001B[39m \u001B[38;5;28;01mfor\u001B[39;00m layer \u001B[38;5;129;01min\u001B[39;00m model.layers:\n\u001B[32m---> \u001B[39m\u001B[32m54\u001B[39m     Y, inc_layer_grad = \u001B[43mlayer\u001B[49m\u001B[43m(\u001B[49m\u001B[43mX\u001B[49m\u001B[43m,\u001B[49m\u001B[43m \u001B[49m\u001B[43mis_train\u001B[49m\u001B[43m=\u001B[49m\u001B[43mis_train\u001B[49m\u001B[43m)\u001B[49m\n\u001B[32m     55\u001B[39m     callbacks.append(inc_layer_grad)\n\u001B[32m     56\u001B[39m     X = Y\n",
      "\u001B[36mFile \u001B[39m\u001B[32mD:\\Работен плот\\Tubingen\\GitHub\\SNLP2\\.venv\\Lib\\site-packages\\thinc\\model.py:310\u001B[39m, in \u001B[36mModel.__call__\u001B[39m\u001B[34m(self, X, is_train)\u001B[39m\n\u001B[32m    307\u001B[39m \u001B[38;5;28;01mdef\u001B[39;00m\u001B[38;5;250m \u001B[39m\u001B[34m__call__\u001B[39m(\u001B[38;5;28mself\u001B[39m, X: InT, is_train: \u001B[38;5;28mbool\u001B[39m) -> Tuple[OutT, Callable]:\n\u001B[32m    308\u001B[39m \u001B[38;5;250m    \u001B[39m\u001B[33;03m\"\"\"Call the model's `forward` function, returning the output and a\u001B[39;00m\n\u001B[32m    309\u001B[39m \u001B[33;03m    callback to compute the gradients via backpropagation.\"\"\"\u001B[39;00m\n\u001B[32m--> \u001B[39m\u001B[32m310\u001B[39m     \u001B[38;5;28;01mreturn\u001B[39;00m \u001B[38;5;28;43mself\u001B[39;49m\u001B[43m.\u001B[49m\u001B[43m_func\u001B[49m\u001B[43m(\u001B[49m\u001B[38;5;28;43mself\u001B[39;49m\u001B[43m,\u001B[49m\u001B[43m \u001B[49m\u001B[43mX\u001B[49m\u001B[43m,\u001B[49m\u001B[43m \u001B[49m\u001B[43mis_train\u001B[49m\u001B[43m=\u001B[49m\u001B[43mis_train\u001B[49m\u001B[43m)\u001B[49m\n",
      "\u001B[36mFile \u001B[39m\u001B[32mD:\\Работен плот\\Tubingen\\GitHub\\SNLP2\\.venv\\Lib\\site-packages\\thinc\\layers\\maxout.py:52\u001B[39m, in \u001B[36mforward\u001B[39m\u001B[34m(model, X, is_train)\u001B[39m\n\u001B[32m     50\u001B[39m W = model.get_param(\u001B[33m\"\u001B[39m\u001B[33mW\u001B[39m\u001B[33m\"\u001B[39m)\n\u001B[32m     51\u001B[39m W = model.ops.reshape2f(W, nO * nP, nI)\n\u001B[32m---> \u001B[39m\u001B[32m52\u001B[39m Y = \u001B[43mmodel\u001B[49m\u001B[43m.\u001B[49m\u001B[43mops\u001B[49m\u001B[43m.\u001B[49m\u001B[43mgemm\u001B[49m\u001B[43m(\u001B[49m\u001B[43mX\u001B[49m\u001B[43m,\u001B[49m\u001B[43m \u001B[49m\u001B[43mW\u001B[49m\u001B[43m,\u001B[49m\u001B[43m \u001B[49m\u001B[43mtrans2\u001B[49m\u001B[43m=\u001B[49m\u001B[38;5;28;43;01mTrue\u001B[39;49;00m\u001B[43m)\u001B[49m\n\u001B[32m     53\u001B[39m Y += model.ops.reshape1f(b, nO * nP)\n\u001B[32m     54\u001B[39m Z = model.ops.reshape3f(Y, Y.shape[\u001B[32m0\u001B[39m], nO, nP)\n",
      "\u001B[31mKeyboardInterrupt\u001B[39m: "
     ]
    }
   ],
   "source": [
    "def compute_metrics(y_true, y_pred):\n",
    "    precision = precision_score(y_true, y_pred, average='macro')\n",
    "    recall = recall_score(y_true, y_pred, average='macro')\n",
    "    f1 = f1_score(y_true, y_pred, average='macro')\n",
    "\n",
    "    return precision, recall, f1\n",
    "\n",
    "\n",
    "device = 'cuda' if torch.cuda.is_available() else 'cpu'\n",
    "\n",
    "### hyperparameters\n",
    "in_feats = len(vocab)\n",
    "hidden_size = in_feats * 8\n",
    "out_classes = 1\n",
    "epochs = 50\n",
    "early_stopping = 50\n",
    "lr = 1e-5\n",
    "model_name = 'best-model'\n",
    "\n",
    "### neural net\n",
    "ffn = FFN(in_feats=in_feats, hidden_size=hidden_size, out_feats=out_classes, emb_matrix=emb).to(device)\n",
    "\n",
    "### optimizer - AdamW = architectural variant of Gradient Descent\n",
    "opt = torch.optim.AdamW(ffn.parameters(), lr=lr)\n",
    "\n",
    "### loss function\n",
    "### 1. Binary Classification - BCELoss(), BCEWithLogitsLoss, target float\n",
    "### difference - needs sigmoid/internal sigmoid\n",
    "\n",
    "### 2. Multi Class Classification - NLLLoss(), CrossEntropyLoss(), target long\n",
    "### difference - needs softmax/internal softmax \n",
    "\n",
    "\n",
    "loss_fn = torch.nn.BCEWithLogitsLoss()\n",
    "\n",
    "best_f1, best_model_dict, bestloss = 0.0, None, 0.0\n",
    "tolerance = early_stopping\n",
    "\n",
    "for epoch in tqdm(range(epochs), desc='Training Started'):\n",
    "    epoch_loss = []\n",
    "    for examples, y in train_loader:\n",
    "        # BCE\n",
    "        y = y.float().unsqueeze(1).to(device)\n",
    "        opt.zero_grad()\n",
    "\n",
    "        y_hat = ffn(examples.to(device))\n",
    "        loss = loss_fn(y_hat, y)\n",
    "\n",
    "        epoch_loss.append(loss.item())\n",
    "        loss.backward()\n",
    "\n",
    "        opt.step()\n",
    "\n",
    "    ### evaluation every epoch \n",
    "    ### on dev set\n",
    "    y_true, y_pred = [], []\n",
    "    for examples, y in val_loader:\n",
    "        y_hat = ffn(examples.to(device))\n",
    "        y_true.extend([_.item() for _ in y])\n",
    "        y_pred.extend([1 if _.item() >= .5 else 0 for _ in torch.sigmoid(y_hat).squeeze(1)])\n",
    "\n",
    "    p, r, f1 = compute_metrics(y_true, y_pred)\n",
    "\n",
    "    if best_f1 < f1:\n",
    "        best_f1 = f1\n",
    "        best_model_dict = deepcopy(ffn.state_dict())\n",
    "        tolerance = early_stopping\n",
    "        bestloss = sum(epoch_loss) / len(epoch_loss)\n",
    "    else:\n",
    "        tolerance -= 1\n",
    "        if tolerance == 0:\n",
    "            print(f'no improvement for {early_stopping} epochs')\n",
    "            break\n",
    "\n",
    "    print(f'epoch: {epoch + 1} '\n",
    "          f'loss: {sum(epoch_loss) / len(epoch_loss)}\\n'\n",
    "          f'metrics: {p, r, f1}')\n",
    "\n"
   ],
   "metadata": {
    "collapsed": false,
    "ExecuteTime": {
     "end_time": "2025-05-25T10:01:08.079872Z",
     "start_time": "2025-05-25T09:59:49.677840Z"
    }
   },
   "id": "c1e578a0c207cbb8",
   "execution_count": 11
  },
  {
   "cell_type": "markdown",
   "source": [
    "### Save"
   ],
   "metadata": {
    "collapsed": false
   },
   "id": "dda79563b5afa534"
  },
  {
   "cell_type": "code",
   "outputs": [],
   "source": [
    "torch.save({'state_dict': best_model_dict, 'embeddings': deepcopy(emb), 'epochs': epochs,\n",
    "            'early_stopping': early_stopping, 'loss': bestloss,\n",
    "            'loss_fn': loss_fn.__class__.__name__,\n",
    "            'optimizer': opt.__class__.__name__,\n",
    "            'in_feats': in_feats, 'hidden_size': hidden_size, 'out_feats': out_classes, 'lr': lr,\n",
    "            'test_loader': deepcopy(test_loader)},\n",
    "           f'models/{model_name}.pt')"
   ],
   "metadata": {
    "collapsed": false,
    "ExecuteTime": {
     "end_time": "2025-05-25T09:56:24.806647Z",
     "start_time": "2025-05-25T09:56:23.647544Z"
    }
   },
   "id": "95788b01c4bf6c51",
   "execution_count": 71
  },
  {
   "cell_type": "markdown",
   "source": [
    "### Evaluate"
   ],
   "metadata": {
    "collapsed": false
   },
   "id": "585415fd978b4e9a"
  },
  {
   "cell_type": "code",
   "outputs": [
    {
     "data": {
      "text/plain": "(0.8149681803783799, 0.7780251846655177, 0.7821005060884619)"
     },
     "execution_count": 73,
     "metadata": {},
     "output_type": "execute_result"
    }
   ],
   "source": [
    "model_saved = torch.load('models/best-model-bin.pt', weights_only=False, map_location=device)\n",
    "\n",
    "ffn.load_state_dict(model_saved['state_dict'])\n",
    "\n",
    "with torch.no_grad():\n",
    "    y_true, y_pred = [], []\n",
    "    for examples_test, y_test in test_loader:\n",
    "        y_hat = ffn.forward(examples_test.to(device))\n",
    "        y_true.extend([_.item() for _ in y_test])\n",
    "        y_pred.extend([1 if _.item() >= .5 else 0 for _ in torch.sigmoid(y_hat).squeeze(1)])\n",
    "\n",
    "compute_metrics(y_true, y_pred)"
   ],
   "metadata": {
    "collapsed": false,
    "ExecuteTime": {
     "end_time": "2025-05-24T22:54:43.717989Z",
     "start_time": "2025-05-24T22:54:29.940735Z"
    }
   },
   "id": "d1ffefb14e03cb76",
   "execution_count": 73
  },
  {
   "cell_type": "code",
   "outputs": [
    {
     "data": {
      "text/plain": "<Figure size 640x480 with 2 Axes>",
      "image/png": "[encoded data removed]"
     },
     "metadata": {},
     "output_type": "display_data"
    }
   ],
   "source": [
    "ConfusionMatrixDisplay(confusion_matrix(y_true, y_pred), display_labels=['positive', 'negative']).plot(\n",
    "    cmap=plt.cm.Blues)\n",
    "plt.show()"
   ],
   "metadata": {
    "collapsed": false,
    "ExecuteTime": {
     "end_time": "2025-05-24T22:59:23.554863Z",
     "start_time": "2025-05-24T22:59:21.963028Z"
    }
   },
   "id": "2302947288af1d87",
   "execution_count": 75
  },
  {
   "cell_type": "code",
   "outputs": [],
   "source": [],
   "metadata": {
    "collapsed": false
   },
   "id": "f42d89739f0df853"
  }
 ],
 "metadata": {
  "kernelspec": {
   "display_name": "Python 3",
   "language": "python",
   "name": "python3"
  },
  "language_info": {
   "codemirror_mode": {
    "name": "ipython",
    "version": 2
   },
   "file_extension": ".py",
   "mimetype": "text/x-python",
   "name": "python",
   "nbconvert_exporter": "python",
   "pygments_lexer": "ipython2",
   "version": "2.7.6"
  }
 },
 "nbformat": 4,
 "nbformat_minor": 5
}
