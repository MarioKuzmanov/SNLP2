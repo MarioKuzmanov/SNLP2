{
 "cells": [
  {
   "cell_type": "markdown",
   "source": [
    "- Model\n",
    "  - simple FFN\n",
    "  - high level pytorch utilities/layers\n",
    "- Data\n",
    "  - use embeddings\n",
    "  \n",
    "  - [classification of nouns/verbs/adj](https://huggingface.co/datasets/batterydata/pos_tagging), [penn trebank](https://www.ling.upenn.edu/courses/Fall_2003/ling001/penn_treebank_pos.html)\n",
    "  \n",
    "  - [sentiment classification (pos/neg/neutral)](https://huggingface.co/datasets/syedkhalid076/Sentiment-Analysis)\n",
    "  \n",
    "\n",
    "- Exercise\n",
    "  - first binary classification (show)\n",
    "  - then extend to multi-class classification (exercise)\n",
    "\n",
    "\n"
   ],
   "metadata": {
    "collapsed": false
   },
   "id": "8e5c257492b31fe9"
  },
  {
   "cell_type": "markdown",
   "source": [
    "### Imports"
   ],
   "metadata": {
    "collapsed": false
   },
   "id": "d80972435903c223"
  },
  {
   "cell_type": "code",
   "execution_count": 3,
   "id": "initial_id",
   "metadata": {
    "collapsed": true,
    "ExecuteTime": {
     "end_time": "2025-05-26T09:05:02.891367Z",
     "start_time": "2025-05-26T09:05:02.888786Z"
    }
   },
   "outputs": [],
   "source": [
    "import json\n",
    "from tqdm import tqdm\n",
    "import pandas as pd\n",
    "import numpy as np"
   ]
  },
  {
   "cell_type": "markdown",
   "source": [],
   "metadata": {
    "collapsed": false
   },
   "id": "483d0587350eaa7b"
  },
  {
   "cell_type": "code",
   "outputs": [
    {
     "data": {
      "text/plain": "label\n2    128\n0     90\n1     22\nName: count, dtype: int64"
     },
     "execution_count": 32,
     "metadata": {},
     "output_type": "execute_result"
    }
   ],
   "source": [
    "df_train = pd.read_csv('../sentiment-analysis-copy/train_data.csv', delimiter=',')\n",
    "df_train['label'].value_counts()"
   ],
   "metadata": {
    "collapsed": false,
    "ExecuteTime": {
     "end_time": "2025-05-26T10:11:23.687441Z",
     "start_time": "2025-05-26T10:11:23.680916Z"
    }
   },
   "id": "92b87929445529a1",
   "execution_count": 32
  },
  {
   "cell_type": "code",
   "outputs": [],
   "source": [
    "df_train = pd.read_csv('../Sentiment-Analysis/test_data.csv', delimiter=',')[ : 30]\n",
    "df_train.to_csv('../sentiment-analysis-copy/test_data.csv', index=False)"
   ],
   "metadata": {
    "collapsed": false,
    "ExecuteTime": {
     "end_time": "2025-05-26T10:14:17.077510Z",
     "start_time": "2025-05-26T10:14:17.055017Z"
    }
   },
   "id": "192e639aa82f8578",
   "execution_count": 34
  },
  {
   "cell_type": "markdown",
   "source": [
    "### Read Penn Treebank Annotations"
   ],
   "metadata": {
    "collapsed": false
   },
   "id": "cbf66bd1cb102c5a"
  },
  {
   "cell_type": "code",
   "outputs": [
    {
     "name": "stdout",
     "output_type": "stream",
     "text": [
      "{'JJ': 2, 'JJR': 2, 'JJS': 2, 'NN': 0, 'NNS': 0, 'NNP': 0, 'NNPS': 0, 'VB': 1, 'VBD': 1, 'VBG': 1, 'VBN': 1, 'VBP': 1, 'VBZ': 1}\n"
     ]
    }
   ],
   "source": [
    "penn_rules = open('../pos_tagging/penn_treebank.txt', 'rt', encoding='utf8').read().split('\\n')\n",
    "penn_treebank = {}\n",
    "idx2label = {0: 'noun', 1: 'verb', 2: 'adjective'}\n",
    "\n",
    "for i in range(1, len(penn_rules)):\n",
    "    pos = penn_rules[i].split('\\t')[1]\n",
    "    is_verb, is_noun, is_adjective = 'VB' in pos, 'NN' in pos, 'JJ' in pos\n",
    "    if is_noun:\n",
    "        penn_treebank[pos] = 0\n",
    "    elif is_verb:\n",
    "        penn_treebank[pos] = 1\n",
    "    elif is_adjective:\n",
    "        penn_treebank[pos] = 2\n",
    "\n",
    "print(penn_treebank)"
   ],
   "metadata": {
    "collapsed": false,
    "ExecuteTime": {
     "end_time": "2025-05-22T22:14:41.551943Z",
     "start_time": "2025-05-22T22:14:41.543218Z"
    }
   },
   "id": "2a3dd6cc9810c728",
   "execution_count": 2
  },
  {
   "cell_type": "markdown",
   "source": [
    "### Transform the data"
   ],
   "metadata": {
    "collapsed": false
   },
   "id": "d94134e6109cb316"
  },
  {
   "cell_type": "code",
   "outputs": [
    {
     "name": "stderr",
     "output_type": "stream",
     "text": [
      "Writing Train Data: 100%|██████████| 13054/13054 [00:01<00:00, 7265.02it/s]\n"
     ]
    }
   ],
   "source": [
    "with open('../pos_tagging/train.json', 'rt', encoding='utf8') as fr1, open('../pos_tagging/train_binary.csv', 'wt',\n",
    "                                                                        encoding='utf8') as fw1:\n",
    "    train_data = fr1.read().split('\\n')\n",
    "    print('word', 'class', file=fw1, sep=';')\n",
    "    words_train = set()\n",
    "    for line in tqdm(train_data, desc='Writing Train Data'):\n",
    "        # evaluate string as code\n",
    "        d = eval(line)\n",
    "        if type(d) == tuple:\n",
    "            d = d[0]\n",
    "        for i in range(len(d['words'])):\n",
    "            w, label = d['words'][i], penn_treebank.get(d['labels'][i], None)\n",
    "            if label is not None and label != 2:\n",
    "                if w.lower() not in words_train:\n",
    "                    words_train.add(w.lower())\n",
    "                    print(w.lower(), label, file=fw1, sep=';')\n"
   ],
   "metadata": {
    "collapsed": false,
    "ExecuteTime": {
     "end_time": "2025-05-22T22:23:53.050089Z",
     "start_time": "2025-05-22T22:23:51.212373Z"
    }
   },
   "id": "3f47e0791e27c196",
   "execution_count": 4
  },
  {
   "cell_type": "code",
   "outputs": [
    {
     "name": "stderr",
     "output_type": "stream",
     "text": [
      "Writing Test Data: 100%|██████████| 1451/1451 [00:00<00:00, 6367.51it/s]\n"
     ]
    }
   ],
   "source": [
    "with open('../pos_tagging/test.json', 'rt', encoding='utf8') as fr2, open('../pos_tagging/test_binary.csv', 'wt',\n",
    "                                                                       encoding='utf8') as fw2:\n",
    "    test_data = fr2.read().split('\\n')\n",
    "    print('word', 'class', file=fw2, sep=';')\n",
    "    words_test = set()\n",
    "    for line in tqdm(test_data, desc='Writing Test Data'):\n",
    "        # evaluate string as code\n",
    "        d = eval(line)\n",
    "        if type(d) == tuple:\n",
    "            d = d[0]\n",
    "        for i in range(len(d['words'])):\n",
    "            w, label = d['words'][i], penn_treebank.get(d['labels'][i], None)\n",
    "            if label is not None and label != 2:\n",
    "                if w.lower() not in words_test:\n",
    "                    words_test.add(w.lower())\n",
    "                    print(w.lower(), label, file=fw2, sep=';')\n"
   ],
   "metadata": {
    "collapsed": false,
    "ExecuteTime": {
     "end_time": "2025-05-22T22:24:29.184102Z",
     "start_time": "2025-05-22T22:24:28.939927Z"
    }
   },
   "id": "5e522f2b3a701d46",
   "execution_count": 5
  },
  {
   "cell_type": "markdown",
   "source": [
    "### Labels"
   ],
   "metadata": {
    "collapsed": false
   },
   "id": "dc6ee36117d1ad48"
  },
  {
   "cell_type": "code",
   "outputs": [],
   "source": [
    "with open('../pos_tagging/labels.json', 'wt', encoding='utf8') as fw:\n",
    "    json.dump(idx2label, fw, indent=4)"
   ],
   "metadata": {
    "collapsed": false,
    "ExecuteTime": {
     "end_time": "2025-05-22T22:24:30.209747Z",
     "start_time": "2025-05-22T22:24:30.203609Z"
    }
   },
   "id": "a9c53810b35cfb16",
   "execution_count": 6
  },
  {
   "cell_type": "markdown",
   "source": [
    "### Subsample Data"
   ],
   "metadata": {
    "collapsed": false
   },
   "id": "2c942adca9a3c1c7"
  },
  {
   "cell_type": "code",
   "outputs": [
    {
     "data": {
      "text/plain": "class\n0    11716\n1     4124\nName: count, dtype: int64"
     },
     "execution_count": 10,
     "metadata": {},
     "output_type": "execute_result"
    }
   ],
   "source": [
    "import pandas as pd\n",
    "\n",
    "df_train = pd.read_csv('../pos_tagging/train_binary.csv', delimiter=';')\n",
    "df_test = pd.read_csv('../pos_tagging/test_binary.csv', delimiter=';')\n",
    "\n",
    "df_train['class'].value_counts()"
   ],
   "metadata": {
    "collapsed": false,
    "ExecuteTime": {
     "end_time": "2025-05-22T23:15:12.649042Z",
     "start_time": "2025-05-22T23:15:12.634947Z"
    }
   },
   "id": "607a5e8d86683952",
   "execution_count": 10
  },
  {
   "cell_type": "markdown",
   "source": [],
   "metadata": {
    "collapsed": false
   },
   "id": "e74a1205fa7f0ec0"
  }
 ],
 "metadata": {
  "kernelspec": {
   "display_name": "Python 3",
   "language": "python",
   "name": "python3"
  },
  "language_info": {
   "codemirror_mode": {
    "name": "ipython",
    "version": 2
   },
   "file_extension": ".py",
   "mimetype": "text/x-python",
   "name": "python",
   "nbconvert_exporter": "python",
   "pygments_lexer": "ipython2",
   "version": "2.7.6"
  }
 },
 "nbformat": 4,
 "nbformat_minor": 5
}
