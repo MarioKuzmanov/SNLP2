{
 "cells": [
  {
   "cell_type": "markdown",
   "source": [
    "### Train Data"
   ],
   "metadata": {
    "collapsed": false
   },
   "id": "19bbecaf2809104e"
  },
  {
   "cell_type": "markdown",
   "source": [
    "be careful of inconsistencies\n",
    "\n",
    "* gegenstand - gegen stand\n",
    "* prototyp - proto typ\n",
    "* umfeld - um feld"
   ],
   "metadata": {
    "collapsed": false
   },
   "id": "ec8efa3182b45c10"
  },
  {
   "cell_type": "code",
   "execution_count": 1,
   "id": "initial_id",
   "metadata": {
    "collapsed": true,
    "ExecuteTime": {
     "end_time": "2025-06-16T15:03:42.937097Z",
     "start_time": "2025-06-16T15:03:42.914725Z"
    }
   },
   "outputs": [
    {
     "name": "stdout",
     "output_type": "stream",
     "text": [
      "repeated: umfeld\n",
      "repeated: gegenstand\n",
      "repeated: prototyp\n",
      "20000 19997\n"
     ]
    }
   ],
   "source": [
    "with open('nlp2-a3.train', 'rt', encoding='utf8') as tfr:\n",
    "    train_data = tfr.read().split('\\n')\n",
    "    train_words = set()\n",
    "    for w in train_data:\n",
    "        w = w.strip().replace(' ', '')\n",
    "        if w in train_words:\n",
    "            print(f'repeated: {w}')\n",
    "        train_words.add(w)\n",
    "print(len(train_data), len(train_words))"
   ]
  },
  {
   "cell_type": "markdown",
   "source": [
    "### Test Data"
   ],
   "metadata": {
    "collapsed": false
   },
   "id": "b30c2dc204e05967"
  },
  {
   "cell_type": "markdown",
   "source": [
    "as expected, no such inconsistencies\n",
    "all words should be without spaces between characters"
   ],
   "metadata": {
    "collapsed": false
   },
   "id": "6192e289b010768b"
  },
  {
   "cell_type": "code",
   "outputs": [
    {
     "name": "stdout",
     "output_type": "stream",
     "text": [
      "5000 5000\n"
     ]
    }
   ],
   "source": [
    "with open('nlp2-a3.test', 'rt', encoding='utf8') as ttfr:\n",
    "    test_data = ttfr.read().split('\\n')\n",
    "    test_words = set()\n",
    "    for w in test_data:\n",
    "        w = w.strip().replace(' ', '')\n",
    "        if w in test_words:\n",
    "            print(f'repeated: {w}')\n",
    "        test_words.add(w)\n",
    "print(len(test_data), len(test_words))"
   ],
   "metadata": {
    "collapsed": false,
    "ExecuteTime": {
     "end_time": "2025-06-16T15:04:31.420985Z",
     "start_time": "2025-06-16T15:04:31.411755Z"
    }
   },
   "id": "836a47b1a44756fc",
   "execution_count": 2
  },
  {
   "cell_type": "markdown",
   "source": [
    "### Words in both sets"
   ],
   "metadata": {
    "collapsed": false
   },
   "id": "844687dbb3d9e9e1"
  },
  {
   "cell_type": "code",
   "outputs": [
    {
     "name": "stdout",
     "output_type": "stream",
     "text": [
      "set()\n"
     ]
    }
   ],
   "source": [
    "print(train_words.intersection(test_words))"
   ],
   "metadata": {
    "collapsed": false,
    "ExecuteTime": {
     "end_time": "2025-06-16T15:04:32.004293Z",
     "start_time": "2025-06-16T15:04:31.999552Z"
    }
   },
   "id": "43b78c86c6f1d7b8",
   "execution_count": 3
  },
  {
   "cell_type": "markdown",
   "source": [
    "### Average Length of words"
   ],
   "metadata": {
    "collapsed": false
   },
   "id": "15d75486e4418a09"
  },
  {
   "cell_type": "code",
   "outputs": [
    {
     "name": "stdout",
     "output_type": "stream",
     "text": [
      "train words: 11.309546431964796\n"
     ]
    }
   ],
   "source": [
    "print(f'train words: {sum(len(w) for w in train_words) / len(train_words)}')"
   ],
   "metadata": {
    "collapsed": false,
    "ExecuteTime": {
     "end_time": "2025-06-16T15:04:32.450341Z",
     "start_time": "2025-06-16T15:04:32.442952Z"
    }
   },
   "id": "8dded2b05950b7ac",
   "execution_count": 4
  },
  {
   "cell_type": "code",
   "outputs": [
    {
     "name": "stdout",
     "output_type": "stream",
     "text": [
      "test words: 11.2914\n"
     ]
    }
   ],
   "source": [
    "print(f'test words: {sum(len(w) for w in test_words) / len(test_words)}')"
   ],
   "metadata": {
    "collapsed": false,
    "ExecuteTime": {
     "end_time": "2025-06-16T15:04:32.854226Z",
     "start_time": "2025-06-16T15:04:32.850375Z"
    }
   },
   "id": "a44fbd8f2b4cbd9",
   "execution_count": 5
  },
  {
   "cell_type": "markdown",
   "source": [
    "### Vocab"
   ],
   "metadata": {
    "collapsed": false
   },
   "id": "54268cbc1e7c00fd"
  },
  {
   "cell_type": "code",
   "outputs": [
    {
     "name": "stdout",
     "output_type": "stream",
     "text": [
      "47 42\n"
     ]
    }
   ],
   "source": [
    "train_vocab = {let for let in train_words for let in let}\n",
    "test_vocab = {let for let in test_words for let in let}\n",
    "\n",
    "print(len(train_vocab), len(test_vocab))"
   ],
   "metadata": {
    "collapsed": false,
    "ExecuteTime": {
     "end_time": "2025-06-16T15:04:33.571981Z",
     "start_time": "2025-06-16T15:04:33.558111Z"
    }
   },
   "id": "21591654b7951064",
   "execution_count": 6
  },
  {
   "cell_type": "code",
   "outputs": [
    {
     "name": "stdout",
     "output_type": "stream",
     "text": [
      "['6', '7', '8', 'è', 'ë', 'ụ']\n"
     ]
    }
   ],
   "source": [
    "print(sorted(train_vocab - test_vocab))"
   ],
   "metadata": {
    "collapsed": false,
    "ExecuteTime": {
     "end_time": "2025-06-16T15:04:34.042627Z",
     "start_time": "2025-06-16T15:04:34.039278Z"
    }
   },
   "id": "da451351c21974fe",
   "execution_count": 7
  },
  {
   "cell_type": "code",
   "outputs": [
    {
     "name": "stdout",
     "output_type": "stream",
     "text": [
      "[\"'\"]\n"
     ]
    }
   ],
   "source": [
    "print(sorted(test_vocab - train_vocab))"
   ],
   "metadata": {
    "collapsed": false,
    "ExecuteTime": {
     "end_time": "2025-06-16T15:04:34.209273Z",
     "start_time": "2025-06-16T15:04:34.204760Z"
    }
   },
   "id": "454912156235bb3a",
   "execution_count": 8
  },
  {
   "cell_type": "code",
   "outputs": [
    {
     "name": "stdout",
     "output_type": "stream",
     "text": [
      "41 ['-', '.', '/', '0', '1', '2', '3', '4', '5', 'a', 'b', 'c', 'd', 'e', 'f', 'g', 'h', 'i', 'j', 'k', 'l', 'm', 'n', 'o', 'p', 'q', 'r', 's', 't', 'u', 'v', 'w', 'x', 'y', 'z', 'ß', 'ä', 'é', 'ó', 'ö', 'ü']\n"
     ]
    }
   ],
   "source": [
    "print(len(train_vocab & test_vocab), sorted(train_vocab & test_vocab))"
   ],
   "metadata": {
    "collapsed": false,
    "ExecuteTime": {
     "end_time": "2025-06-16T15:04:36.754219Z",
     "start_time": "2025-06-16T15:04:36.750598Z"
    }
   },
   "id": "1c7704d8938ad81e",
   "execution_count": 10
  },
  {
   "cell_type": "code",
   "outputs": [],
   "source": [],
   "metadata": {
    "collapsed": false,
    "ExecuteTime": {
     "end_time": "2025-06-16T15:04:35.718946Z",
     "start_time": "2025-06-16T15:04:35.716033Z"
    }
   },
   "id": "1c96ce7e8a7bee5a",
   "execution_count": 9
  },
  {
   "cell_type": "code",
   "outputs": [],
   "source": [],
   "metadata": {
    "collapsed": false
   },
   "id": "78603cedd1e8c3d9"
  }
 ],
 "metadata": {
  "kernelspec": {
   "display_name": "Python 3",
   "language": "python",
   "name": "python3"
  },
  "language_info": {
   "codemirror_mode": {
    "name": "ipython",
    "version": 2
   },
   "file_extension": ".py",
   "mimetype": "text/x-python",
   "name": "python",
   "nbconvert_exporter": "python",
   "pygments_lexer": "ipython2",
   "version": "2.7.6"
  }
 },
 "nbformat": 4,
 "nbformat_minor": 5
}
