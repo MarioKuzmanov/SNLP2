{
 "cells": [
  {
   "cell_type": "markdown",
   "source": [
    "# Tutorial 04"
   ],
   "metadata": {
    "id": "L3FR64ZpAy_7"
   },
   "id": "L3FR64ZpAy_7"
  },
  {
   "cell_type": "markdown",
   "source": [
    "- Model\n",
    "  - simple FFN\n",
    "  - high level pytorch utilities/layers\n",
    "\n",
    "- Data\n",
    "  - use embeddings\n",
    "  \n",
    "  - [sentiment classification (pos vs neg vs neutral)](https://huggingface.co/datasets/syedkhalid076/Sentiment-Analysis)\n",
    "  \n",
    "\n"
   ],
   "metadata": {
    "id": "RvSfAqa-AjEl"
   },
   "id": "RvSfAqa-AjEl"
  },
  {
   "cell_type": "code",
   "source": [
    "# from google.colab import drive\n",
    "# drive.mount('drive')"
   ],
   "metadata": {
    "colab": {
     "base_uri": "https://localhost:8080/"
    },
    "id": "eErfBegjJe8E",
    "outputId": "4fcc065d-7e54-48e6-f26b-569556957fb8"
   },
   "id": "eErfBegjJe8E",
   "execution_count": null,
   "outputs": [
    {
     "output_type": "stream",
     "name": "stdout",
     "text": [
      "Mounted at drive\n"
     ]
    }
   ]
  },
  {
   "cell_type": "markdown",
   "source": [
    "- after completion, restart the runtime\n",
    "- Runtime -> Restart Session\n",
    "- continue to the next cell"
   ],
   "metadata": {
    "id": "jyct7VKX_hJ-"
   },
   "id": "jyct7VKX_hJ-"
  },
  {
   "cell_type": "code",
   "source": [
    "!pip install gensim compress_fasttext"
   ],
   "metadata": {
    "colab": {
     "base_uri": "https://localhost:8080/"
    },
    "id": "onJkuPi0J1dD",
    "outputId": "f456125b-4b04-411f-f623-3a70b09d1d6e"
   },
   "id": "onJkuPi0J1dD",
   "execution_count": null,
   "outputs": [
    {
     "output_type": "stream",
     "name": "stdout",
     "text": [
      "Collecting gensim\n",
      "  Downloading gensim-4.3.3-cp311-cp311-manylinux_2_17_x86_64.manylinux2014_x86_64.whl.metadata (8.1 kB)\n",
      "Collecting numpy<2.0,>=1.18.5 (from gensim)\n",
      "  Downloading numpy-1.26.4-cp311-cp311-manylinux_2_17_x86_64.manylinux2014_x86_64.whl.metadata (61 kB)\n",
      "\u001B[2K     \u001B[90m━━━━━━━━━━━━━━━━━━━━━━━━━━━━━━━━━━━━━━━━\u001B[0m \u001B[32m61.0/61.0 kB\u001B[0m \u001B[31m2.1 MB/s\u001B[0m eta \u001B[36m0:00:00\u001B[0m\n",
      "\u001B[?25hCollecting scipy<1.14.0,>=1.7.0 (from gensim)\n",
      "  Downloading scipy-1.13.1-cp311-cp311-manylinux_2_17_x86_64.manylinux2014_x86_64.whl.metadata (60 kB)\n",
      "\u001B[2K     \u001B[90m━━━━━━━━━━━━━━━━━━━━━━━━━━━━━━━━━━━━━━━━\u001B[0m \u001B[32m60.6/60.6 kB\u001B[0m \u001B[31m3.2 MB/s\u001B[0m eta \u001B[36m0:00:00\u001B[0m\n",
      "\u001B[?25hRequirement already satisfied: smart-open>=1.8.1 in /usr/local/lib/python3.11/dist-packages (from gensim) (7.1.0)\n",
      "Requirement already satisfied: wrapt in /usr/local/lib/python3.11/dist-packages (from smart-open>=1.8.1->gensim) (1.17.2)\n",
      "Downloading gensim-4.3.3-cp311-cp311-manylinux_2_17_x86_64.manylinux2014_x86_64.whl (26.7 MB)\n",
      "\u001B[2K   \u001B[90m━━━━━━━━━━━━━━━━━━━━━━━━━━━━━━━━━━━━━━━━\u001B[0m \u001B[32m26.7/26.7 MB\u001B[0m \u001B[31m60.0 MB/s\u001B[0m eta \u001B[36m0:00:00\u001B[0m\n",
      "\u001B[?25hDownloading numpy-1.26.4-cp311-cp311-manylinux_2_17_x86_64.manylinux2014_x86_64.whl (18.3 MB)\n",
      "\u001B[2K   \u001B[90m━━━━━━━━━━━━━━━━━━━━━━━━━━━━━━━━━━━━━━━━\u001B[0m \u001B[32m18.3/18.3 MB\u001B[0m \u001B[31m86.7 MB/s\u001B[0m eta \u001B[36m0:00:00\u001B[0m\n",
      "\u001B[?25hDownloading scipy-1.13.1-cp311-cp311-manylinux_2_17_x86_64.manylinux2014_x86_64.whl (38.6 MB)\n",
      "\u001B[2K   \u001B[90m━━━━━━━━━━━━━━━━━━━━━━━━━━━━━━━━━━━━━━━━\u001B[0m \u001B[32m38.6/38.6 MB\u001B[0m \u001B[31m21.1 MB/s\u001B[0m eta \u001B[36m0:00:00\u001B[0m\n",
      "\u001B[?25hInstalling collected packages: numpy, scipy, gensim\n",
      "  Attempting uninstall: numpy\n",
      "    Found existing installation: numpy 2.0.2\n",
      "    Uninstalling numpy-2.0.2:\n",
      "      Successfully uninstalled numpy-2.0.2\n",
      "  Attempting uninstall: scipy\n",
      "    Found existing installation: scipy 1.15.3\n",
      "    Uninstalling scipy-1.15.3:\n",
      "      Successfully uninstalled scipy-1.15.3\n",
      "\u001B[31mERROR: pip's dependency resolver does not currently take into account all the packages that are installed. This behaviour is the source of the following dependency conflicts.\n",
      "thinc 8.3.6 requires numpy<3.0.0,>=2.0.0, but you have numpy 1.26.4 which is incompatible.\n",
      "tsfresh 0.21.0 requires scipy>=1.14.0; python_version >= \"3.10\", but you have scipy 1.13.1 which is incompatible.\u001B[0m\u001B[31m\n",
      "\u001B[0mSuccessfully installed gensim-4.3.3 numpy-1.26.4 scipy-1.13.1\n"
     ]
    }
   ]
  },
  {
   "cell_type": "markdown",
   "source": [
    "### Imports"
   ],
   "metadata": {
    "collapsed": false,
    "id": "78c0f33369e911c1"
   },
   "id": "78c0f33369e911c1"
  },
  {
   "cell_type": "code",
   "execution_count": null,
   "id": "initial_id",
   "metadata": {
    "collapsed": true,
    "ExecuteTime": {
     "end_time": "2025-05-24T11:39:45.688562Z",
     "start_time": "2025-05-24T11:39:45.680554Z"
    },
    "id": "initial_id"
   },
   "outputs": [],
   "source": [
    "import numpy as np\n",
    "import pandas as pd\n",
    "import string\n",
    "from gensim.models import KeyedVectors\n",
    "import spacy\n",
    "import torch\n",
    "import torch.nn as nn\n",
    "from torch.utils.data import Dataset\n",
    "from torch.utils.data import DataLoader\n",
    "from tqdm import tqdm\n",
    "from copy import deepcopy\n",
    "from sklearn.metrics import precision_score, recall_score, f1_score, confusion_matrix, ConfusionMatrixDisplay\n",
    "import matplotlib.pyplot as plt\n",
    "import compress_fasttext"
   ]
  },
  {
   "cell_type": "markdown",
   "source": [
    "### Train Dataset\n",
    "\n",
    "- change all of the paths with your paths to the dataset !\n",
    "\n"
   ],
   "metadata": {
    "collapsed": false,
    "id": "fa483e170ca082eb"
   },
   "id": "fa483e170ca082eb"
  },
  {
   "cell_type": "code",
   "outputs": [
    {
     "output_type": "execute_result",
     "data": {
      "text/plain": [
       "                                                   text  label\n",
       "0         almost got in a giant car accident on the 101      0\n",
       "1                       like something wholly original       1\n",
       "2                                     b.s. one another       0\n",
       "3     Happy Star Wars Day, may the 4th be with you  ...      1\n",
       "4                                     few new converts       0\n",
       "...                                                 ...    ...\n",
       "7995                seem goofy rather than provocative       0\n",
       "7996  I had to get a refund because this is not B-Re...      0\n",
       "7997  moonlight mile does n't quite go the distance ...      1\n",
       "7998  's a work that , with humor , warmth , and int...      1\n",
       "7999                        over the head with a moral       1\n",
       "\n",
       "[7058 rows x 2 columns]"
      ],
      "text/html": [
       "\n",
       "  <div id=\"df-d045b0ce-1945-4e3b-8613-7d202f63a031\" class=\"colab-df-container\">\n",
       "    <div>\n",
       "<style scoped>\n",
       "    .dataframe tbody tr th:only-of-type {\n",
       "        vertical-align: middle;\n",
       "    }\n",
       "\n",
       "    .dataframe tbody tr th {\n",
       "        vertical-align: top;\n",
       "    }\n",
       "\n",
       "    .dataframe thead th {\n",
       "        text-align: right;\n",
       "    }\n",
       "</style>\n",
       "<table border=\"1\" class=\"dataframe\">\n",
       "  <thead>\n",
       "    <tr style=\"text-align: right;\">\n",
       "      <th></th>\n",
       "      <th>text</th>\n",
       "      <th>label</th>\n",
       "    </tr>\n",
       "  </thead>\n",
       "  <tbody>\n",
       "    <tr>\n",
       "      <th>0</th>\n",
       "      <td>almost got in a giant car accident on the 101</td>\n",
       "      <td>0</td>\n",
       "    </tr>\n",
       "    <tr>\n",
       "      <th>1</th>\n",
       "      <td>like something wholly original</td>\n",
       "      <td>1</td>\n",
       "    </tr>\n",
       "    <tr>\n",
       "      <th>2</th>\n",
       "      <td>b.s. one another</td>\n",
       "      <td>0</td>\n",
       "    </tr>\n",
       "    <tr>\n",
       "      <th>3</th>\n",
       "      <td>Happy Star Wars Day, may the 4th be with you  ...</td>\n",
       "      <td>1</td>\n",
       "    </tr>\n",
       "    <tr>\n",
       "      <th>4</th>\n",
       "      <td>few new converts</td>\n",
       "      <td>0</td>\n",
       "    </tr>\n",
       "    <tr>\n",
       "      <th>...</th>\n",
       "      <td>...</td>\n",
       "      <td>...</td>\n",
       "    </tr>\n",
       "    <tr>\n",
       "      <th>7995</th>\n",
       "      <td>seem goofy rather than provocative</td>\n",
       "      <td>0</td>\n",
       "    </tr>\n",
       "    <tr>\n",
       "      <th>7996</th>\n",
       "      <td>I had to get a refund because this is not B-Re...</td>\n",
       "      <td>0</td>\n",
       "    </tr>\n",
       "    <tr>\n",
       "      <th>7997</th>\n",
       "      <td>moonlight mile does n't quite go the distance ...</td>\n",
       "      <td>1</td>\n",
       "    </tr>\n",
       "    <tr>\n",
       "      <th>7998</th>\n",
       "      <td>'s a work that , with humor , warmth , and int...</td>\n",
       "      <td>1</td>\n",
       "    </tr>\n",
       "    <tr>\n",
       "      <th>7999</th>\n",
       "      <td>over the head with a moral</td>\n",
       "      <td>1</td>\n",
       "    </tr>\n",
       "  </tbody>\n",
       "</table>\n",
       "<p>7058 rows × 2 columns</p>\n",
       "</div>\n",
       "    <div class=\"colab-df-buttons\">\n",
       "\n",
       "  <div class=\"colab-df-container\">\n",
       "    <button class=\"colab-df-convert\" onclick=\"convertToInteractive('df-d045b0ce-1945-4e3b-8613-7d202f63a031')\"\n",
       "            title=\"Convert this dataframe to an interactive table.\"\n",
       "            style=\"display:none;\">\n",
       "\n",
       "  <svg xmlns=\"http://www.w3.org/2000/svg\" height=\"24px\" viewBox=\"0 -960 960 960\">\n",
       "    <path d=\"M120-120v-720h720v720H120Zm60-500h600v-160H180v160Zm220 220h160v-160H400v160Zm0 220h160v-160H400v160ZM180-400h160v-160H180v160Zm440 0h160v-160H620v160ZM180-180h160v-160H180v160Zm440 0h160v-160H620v160Z\"/>\n",
       "  </svg>\n",
       "    </button>\n",
       "\n",
       "  <style>\n",
       "    .colab-df-container {\n",
       "      display:flex;\n",
       "      gap: 12px;\n",
       "    }\n",
       "\n",
       "    .colab-df-convert {\n",
       "      background-color: #E8F0FE;\n",
       "      border: none;\n",
       "      border-radius: 50%;\n",
       "      cursor: pointer;\n",
       "      display: none;\n",
       "      fill: #1967D2;\n",
       "      height: 32px;\n",
       "      padding: 0 0 0 0;\n",
       "      width: 32px;\n",
       "    }\n",
       "\n",
       "    .colab-df-convert:hover {\n",
       "      background-color: #E2EBFA;\n",
       "      box-shadow: 0px 1px 2px rgba(60, 64, 67, 0.3), 0px 1px 3px 1px rgba(60, 64, 67, 0.15);\n",
       "      fill: #174EA6;\n",
       "    }\n",
       "\n",
       "    .colab-df-buttons div {\n",
       "      margin-bottom: 4px;\n",
       "    }\n",
       "\n",
       "    [theme=dark] .colab-df-convert {\n",
       "      background-color: #3B4455;\n",
       "      fill: #D2E3FC;\n",
       "    }\n",
       "\n",
       "    [theme=dark] .colab-df-convert:hover {\n",
       "      background-color: #434B5C;\n",
       "      box-shadow: 0px 1px 3px 1px rgba(0, 0, 0, 0.15);\n",
       "      filter: drop-shadow(0px 1px 2px rgba(0, 0, 0, 0.3));\n",
       "      fill: #FFFFFF;\n",
       "    }\n",
       "  </style>\n",
       "\n",
       "    <script>\n",
       "      const buttonEl =\n",
       "        document.querySelector('#df-d045b0ce-1945-4e3b-8613-7d202f63a031 button.colab-df-convert');\n",
       "      buttonEl.style.display =\n",
       "        google.colab.kernel.accessAllowed ? 'block' : 'none';\n",
       "\n",
       "      async function convertToInteractive(key) {\n",
       "        const element = document.querySelector('#df-d045b0ce-1945-4e3b-8613-7d202f63a031');\n",
       "        const dataTable =\n",
       "          await google.colab.kernel.invokeFunction('convertToInteractive',\n",
       "                                                    [key], {});\n",
       "        if (!dataTable) return;\n",
       "\n",
       "        const docLinkHtml = 'Like what you see? Visit the ' +\n",
       "          '<a target=\"_blank\" href=https://colab.research.google.com/notebooks/data_table.ipynb>data table notebook</a>'\n",
       "          + ' to learn more about interactive tables.';\n",
       "        element.innerHTML = '';\n",
       "        dataTable['output_type'] = 'display_data';\n",
       "        await google.colab.output.renderOutput(dataTable, element);\n",
       "        const docLink = document.createElement('div');\n",
       "        docLink.innerHTML = docLinkHtml;\n",
       "        element.appendChild(docLink);\n",
       "      }\n",
       "    </script>\n",
       "  </div>\n",
       "\n",
       "\n",
       "    <div id=\"df-b5387304-d63c-4335-97c9-a17f32da6d24\">\n",
       "      <button class=\"colab-df-quickchart\" onclick=\"quickchart('df-b5387304-d63c-4335-97c9-a17f32da6d24')\"\n",
       "                title=\"Suggest charts\"\n",
       "                style=\"display:none;\">\n",
       "\n",
       "<svg xmlns=\"http://www.w3.org/2000/svg\" height=\"24px\"viewBox=\"0 0 24 24\"\n",
       "     width=\"24px\">\n",
       "    <g>\n",
       "        <path d=\"M19 3H5c-1.1 0-2 .9-2 2v14c0 1.1.9 2 2 2h14c1.1 0 2-.9 2-2V5c0-1.1-.9-2-2-2zM9 17H7v-7h2v7zm4 0h-2V7h2v10zm4 0h-2v-4h2v4z\"/>\n",
       "    </g>\n",
       "</svg>\n",
       "      </button>\n",
       "\n",
       "<style>\n",
       "  .colab-df-quickchart {\n",
       "      --bg-color: #E8F0FE;\n",
       "      --fill-color: #1967D2;\n",
       "      --hover-bg-color: #E2EBFA;\n",
       "      --hover-fill-color: #174EA6;\n",
       "      --disabled-fill-color: #AAA;\n",
       "      --disabled-bg-color: #DDD;\n",
       "  }\n",
       "\n",
       "  [theme=dark] .colab-df-quickchart {\n",
       "      --bg-color: #3B4455;\n",
       "      --fill-color: #D2E3FC;\n",
       "      --hover-bg-color: #434B5C;\n",
       "      --hover-fill-color: #FFFFFF;\n",
       "      --disabled-bg-color: #3B4455;\n",
       "      --disabled-fill-color: #666;\n",
       "  }\n",
       "\n",
       "  .colab-df-quickchart {\n",
       "    background-color: var(--bg-color);\n",
       "    border: none;\n",
       "    border-radius: 50%;\n",
       "    cursor: pointer;\n",
       "    display: none;\n",
       "    fill: var(--fill-color);\n",
       "    height: 32px;\n",
       "    padding: 0;\n",
       "    width: 32px;\n",
       "  }\n",
       "\n",
       "  .colab-df-quickchart:hover {\n",
       "    background-color: var(--hover-bg-color);\n",
       "    box-shadow: 0 1px 2px rgba(60, 64, 67, 0.3), 0 1px 3px 1px rgba(60, 64, 67, 0.15);\n",
       "    fill: var(--button-hover-fill-color);\n",
       "  }\n",
       "\n",
       "  .colab-df-quickchart-complete:disabled,\n",
       "  .colab-df-quickchart-complete:disabled:hover {\n",
       "    background-color: var(--disabled-bg-color);\n",
       "    fill: var(--disabled-fill-color);\n",
       "    box-shadow: none;\n",
       "  }\n",
       "\n",
       "  .colab-df-spinner {\n",
       "    border: 2px solid var(--fill-color);\n",
       "    border-color: transparent;\n",
       "    border-bottom-color: var(--fill-color);\n",
       "    animation:\n",
       "      spin 1s steps(1) infinite;\n",
       "  }\n",
       "\n",
       "  @keyframes spin {\n",
       "    0% {\n",
       "      border-color: transparent;\n",
       "      border-bottom-color: var(--fill-color);\n",
       "      border-left-color: var(--fill-color);\n",
       "    }\n",
       "    20% {\n",
       "      border-color: transparent;\n",
       "      border-left-color: var(--fill-color);\n",
       "      border-top-color: var(--fill-color);\n",
       "    }\n",
       "    30% {\n",
       "      border-color: transparent;\n",
       "      border-left-color: var(--fill-color);\n",
       "      border-top-color: var(--fill-color);\n",
       "      border-right-color: var(--fill-color);\n",
       "    }\n",
       "    40% {\n",
       "      border-color: transparent;\n",
       "      border-right-color: var(--fill-color);\n",
       "      border-top-color: var(--fill-color);\n",
       "    }\n",
       "    60% {\n",
       "      border-color: transparent;\n",
       "      border-right-color: var(--fill-color);\n",
       "    }\n",
       "    80% {\n",
       "      border-color: transparent;\n",
       "      border-right-color: var(--fill-color);\n",
       "      border-bottom-color: var(--fill-color);\n",
       "    }\n",
       "    90% {\n",
       "      border-color: transparent;\n",
       "      border-bottom-color: var(--fill-color);\n",
       "    }\n",
       "  }\n",
       "</style>\n",
       "\n",
       "      <script>\n",
       "        async function quickchart(key) {\n",
       "          const quickchartButtonEl =\n",
       "            document.querySelector('#' + key + ' button');\n",
       "          quickchartButtonEl.disabled = true;  // To prevent multiple clicks.\n",
       "          quickchartButtonEl.classList.add('colab-df-spinner');\n",
       "          try {\n",
       "            const charts = await google.colab.kernel.invokeFunction(\n",
       "                'suggestCharts', [key], {});\n",
       "          } catch (error) {\n",
       "            console.error('Error during call to suggestCharts:', error);\n",
       "          }\n",
       "          quickchartButtonEl.classList.remove('colab-df-spinner');\n",
       "          quickchartButtonEl.classList.add('colab-df-quickchart-complete');\n",
       "        }\n",
       "        (() => {\n",
       "          let quickchartButtonEl =\n",
       "            document.querySelector('#df-b5387304-d63c-4335-97c9-a17f32da6d24 button');\n",
       "          quickchartButtonEl.style.display =\n",
       "            google.colab.kernel.accessAllowed ? 'block' : 'none';\n",
       "        })();\n",
       "      </script>\n",
       "    </div>\n",
       "\n",
       "  <div id=\"id_bd99e6fc-f4eb-41a4-aa08-b6e3076ac1a1\">\n",
       "    <style>\n",
       "      .colab-df-generate {\n",
       "        background-color: #E8F0FE;\n",
       "        border: none;\n",
       "        border-radius: 50%;\n",
       "        cursor: pointer;\n",
       "        display: none;\n",
       "        fill: #1967D2;\n",
       "        height: 32px;\n",
       "        padding: 0 0 0 0;\n",
       "        width: 32px;\n",
       "      }\n",
       "\n",
       "      .colab-df-generate:hover {\n",
       "        background-color: #E2EBFA;\n",
       "        box-shadow: 0px 1px 2px rgba(60, 64, 67, 0.3), 0px 1px 3px 1px rgba(60, 64, 67, 0.15);\n",
       "        fill: #174EA6;\n",
       "      }\n",
       "\n",
       "      [theme=dark] .colab-df-generate {\n",
       "        background-color: #3B4455;\n",
       "        fill: #D2E3FC;\n",
       "      }\n",
       "\n",
       "      [theme=dark] .colab-df-generate:hover {\n",
       "        background-color: #434B5C;\n",
       "        box-shadow: 0px 1px 3px 1px rgba(0, 0, 0, 0.15);\n",
       "        filter: drop-shadow(0px 1px 2px rgba(0, 0, 0, 0.3));\n",
       "        fill: #FFFFFF;\n",
       "      }\n",
       "    </style>\n",
       "    <button class=\"colab-df-generate\" onclick=\"generateWithVariable('df_train')\"\n",
       "            title=\"Generate code using this dataframe.\"\n",
       "            style=\"display:none;\">\n",
       "\n",
       "  <svg xmlns=\"http://www.w3.org/2000/svg\" height=\"24px\"viewBox=\"0 0 24 24\"\n",
       "       width=\"24px\">\n",
       "    <path d=\"M7,19H8.4L18.45,9,17,7.55,7,17.6ZM5,21V16.75L18.45,3.32a2,2,0,0,1,2.83,0l1.4,1.43a1.91,1.91,0,0,1,.58,1.4,1.91,1.91,0,0,1-.58,1.4L9.25,21ZM18.45,9,17,7.55Zm-12,3A5.31,5.31,0,0,0,4.9,8.1,5.31,5.31,0,0,0,1,6.5,5.31,5.31,0,0,0,4.9,4.9,5.31,5.31,0,0,0,6.5,1,5.31,5.31,0,0,0,8.1,4.9,5.31,5.31,0,0,0,12,6.5,5.46,5.46,0,0,0,6.5,12Z\"/>\n",
       "  </svg>\n",
       "    </button>\n",
       "    <script>\n",
       "      (() => {\n",
       "      const buttonEl =\n",
       "        document.querySelector('#id_bd99e6fc-f4eb-41a4-aa08-b6e3076ac1a1 button.colab-df-generate');\n",
       "      buttonEl.style.display =\n",
       "        google.colab.kernel.accessAllowed ? 'block' : 'none';\n",
       "\n",
       "      buttonEl.onclick = () => {\n",
       "        google.colab.notebook.generateWithVariable('df_train');\n",
       "      }\n",
       "      })();\n",
       "    </script>\n",
       "  </div>\n",
       "\n",
       "    </div>\n",
       "  </div>\n"
      ],
      "application/vnd.google.colaboratory.intrinsic+json": {
       "type": "dataframe",
       "variable_name": "df_train",
       "summary": "{\n  \"name\": \"df_train\",\n  \"rows\": 7058,\n  \"fields\": [\n    {\n      \"column\": \"text\",\n      \"properties\": {\n        \"dtype\": \"string\",\n        \"num_unique_values\": 7058,\n        \"samples\": [\n          \"_nicole http://twitpic.com/4t6qx - i have the exact same pic except it`s my hubby & my chihuahua tucker   very cute.\",\n          \"easy to love robin tunney \",\n          \"unencouraging threefold expansion \"\n        ],\n        \"semantic_type\": \"\",\n        \"description\": \"\"\n      }\n    },\n    {\n      \"column\": \"label\",\n      \"properties\": {\n        \"dtype\": \"number\",\n        \"std\": 0,\n        \"min\": 0,\n        \"max\": 1,\n        \"num_unique_values\": 2,\n        \"samples\": [\n          1,\n          0\n        ],\n        \"semantic_type\": \"\",\n        \"description\": \"\"\n      }\n    }\n  ]\n}"
      }
     },
     "metadata": {},
     "execution_count": 2
    }
   ],
   "source": [
    "df_train = pd.read_csv('drive/MyDrive/Experiments/SNLP2/week_04/Sentiment-Analysis/train_data.csv', delimiter=',')[: 8000]\n",
    "df_train = df_train[df_train['label'] != 1]\n",
    "df_train['label'] = np.where(df_train['label'] == 2, 1, 0)\n",
    "df_train"
   ],
   "metadata": {
    "ExecuteTime": {
     "end_time": "2025-05-24T11:40:21.524276Z",
     "start_time": "2025-05-24T11:40:21.422934Z"
    },
    "colab": {
     "base_uri": "https://localhost:8080/",
     "height": 424
    },
    "id": "8f70de577d1e8f0c",
    "outputId": "03ef4b90-5b33-446d-8d64-077b27993ac7"
   },
   "id": "8f70de577d1e8f0c",
   "execution_count": null
  },
  {
   "cell_type": "code",
   "source": [
    "df_val = pd.read_csv('drive/MyDrive/Experiments/SNLP2/week_04/Sentiment-Analysis/val_data.csv', delimiter=',')[: 2000]\n",
    "df_val = df_val[df_val['label'] != 1]\n",
    "df_val['label'] = np.where(df_val['label'] == 2, 1, 0)\n",
    "df_val"
   ],
   "metadata": {
    "colab": {
     "base_uri": "https://localhost:8080/",
     "height": 424
    },
    "id": "1z7V2preLOx0",
    "outputId": "f45bd3c0-74b4-4dc9-d605-8257948b3c88"
   },
   "id": "1z7V2preLOx0",
   "execution_count": null,
   "outputs": [
    {
     "output_type": "execute_result",
     "data": {
      "text/plain": [
       "                                                   text  label\n",
       "0      WOOOOOOOOOO   are you coming to Nottingham at...      1\n",
       "1         and thanks,  , fr. yr congratulatory gweetin`      1\n",
       "2                             wonderous accomplishment       1\n",
       "3                        the pungent bite of its title       0\n",
       "4         sketchy characters and immature provocations       0\n",
       "...                                                 ...    ...\n",
       "1995                                      super-stupid       0\n",
       "1996  it 's easier to change the sheets than to chan...      0\n",
       "1997                                           wreaked       0\n",
       "1998            look ahead and resist living in a past       1\n",
       "1999        one of the year 's most enjoyable releases       1\n",
       "\n",
       "[1721 rows x 2 columns]"
      ],
      "text/html": [
       "\n",
       "  <div id=\"df-0059638d-d925-490c-aef5-4d086f226ae5\" class=\"colab-df-container\">\n",
       "    <div>\n",
       "<style scoped>\n",
       "    .dataframe tbody tr th:only-of-type {\n",
       "        vertical-align: middle;\n",
       "    }\n",
       "\n",
       "    .dataframe tbody tr th {\n",
       "        vertical-align: top;\n",
       "    }\n",
       "\n",
       "    .dataframe thead th {\n",
       "        text-align: right;\n",
       "    }\n",
       "</style>\n",
       "<table border=\"1\" class=\"dataframe\">\n",
       "  <thead>\n",
       "    <tr style=\"text-align: right;\">\n",
       "      <th></th>\n",
       "      <th>text</th>\n",
       "      <th>label</th>\n",
       "    </tr>\n",
       "  </thead>\n",
       "  <tbody>\n",
       "    <tr>\n",
       "      <th>0</th>\n",
       "      <td>WOOOOOOOOOO   are you coming to Nottingham at...</td>\n",
       "      <td>1</td>\n",
       "    </tr>\n",
       "    <tr>\n",
       "      <th>1</th>\n",
       "      <td>and thanks,  , fr. yr congratulatory gweetin`</td>\n",
       "      <td>1</td>\n",
       "    </tr>\n",
       "    <tr>\n",
       "      <th>2</th>\n",
       "      <td>wonderous accomplishment</td>\n",
       "      <td>1</td>\n",
       "    </tr>\n",
       "    <tr>\n",
       "      <th>3</th>\n",
       "      <td>the pungent bite of its title</td>\n",
       "      <td>0</td>\n",
       "    </tr>\n",
       "    <tr>\n",
       "      <th>4</th>\n",
       "      <td>sketchy characters and immature provocations</td>\n",
       "      <td>0</td>\n",
       "    </tr>\n",
       "    <tr>\n",
       "      <th>...</th>\n",
       "      <td>...</td>\n",
       "      <td>...</td>\n",
       "    </tr>\n",
       "    <tr>\n",
       "      <th>1995</th>\n",
       "      <td>super-stupid</td>\n",
       "      <td>0</td>\n",
       "    </tr>\n",
       "    <tr>\n",
       "      <th>1996</th>\n",
       "      <td>it 's easier to change the sheets than to chan...</td>\n",
       "      <td>0</td>\n",
       "    </tr>\n",
       "    <tr>\n",
       "      <th>1997</th>\n",
       "      <td>wreaked</td>\n",
       "      <td>0</td>\n",
       "    </tr>\n",
       "    <tr>\n",
       "      <th>1998</th>\n",
       "      <td>look ahead and resist living in a past</td>\n",
       "      <td>1</td>\n",
       "    </tr>\n",
       "    <tr>\n",
       "      <th>1999</th>\n",
       "      <td>one of the year 's most enjoyable releases</td>\n",
       "      <td>1</td>\n",
       "    </tr>\n",
       "  </tbody>\n",
       "</table>\n",
       "<p>1721 rows × 2 columns</p>\n",
       "</div>\n",
       "    <div class=\"colab-df-buttons\">\n",
       "\n",
       "  <div class=\"colab-df-container\">\n",
       "    <button class=\"colab-df-convert\" onclick=\"convertToInteractive('df-0059638d-d925-490c-aef5-4d086f226ae5')\"\n",
       "            title=\"Convert this dataframe to an interactive table.\"\n",
       "            style=\"display:none;\">\n",
       "\n",
       "  <svg xmlns=\"http://www.w3.org/2000/svg\" height=\"24px\" viewBox=\"0 -960 960 960\">\n",
       "    <path d=\"M120-120v-720h720v720H120Zm60-500h600v-160H180v160Zm220 220h160v-160H400v160Zm0 220h160v-160H400v160ZM180-400h160v-160H180v160Zm440 0h160v-160H620v160ZM180-180h160v-160H180v160Zm440 0h160v-160H620v160Z\"/>\n",
       "  </svg>\n",
       "    </button>\n",
       "\n",
       "  <style>\n",
       "    .colab-df-container {\n",
       "      display:flex;\n",
       "      gap: 12px;\n",
       "    }\n",
       "\n",
       "    .colab-df-convert {\n",
       "      background-color: #E8F0FE;\n",
       "      border: none;\n",
       "      border-radius: 50%;\n",
       "      cursor: pointer;\n",
       "      display: none;\n",
       "      fill: #1967D2;\n",
       "      height: 32px;\n",
       "      padding: 0 0 0 0;\n",
       "      width: 32px;\n",
       "    }\n",
       "\n",
       "    .colab-df-convert:hover {\n",
       "      background-color: #E2EBFA;\n",
       "      box-shadow: 0px 1px 2px rgba(60, 64, 67, 0.3), 0px 1px 3px 1px rgba(60, 64, 67, 0.15);\n",
       "      fill: #174EA6;\n",
       "    }\n",
       "\n",
       "    .colab-df-buttons div {\n",
       "      margin-bottom: 4px;\n",
       "    }\n",
       "\n",
       "    [theme=dark] .colab-df-convert {\n",
       "      background-color: #3B4455;\n",
       "      fill: #D2E3FC;\n",
       "    }\n",
       "\n",
       "    [theme=dark] .colab-df-convert:hover {\n",
       "      background-color: #434B5C;\n",
       "      box-shadow: 0px 1px 3px 1px rgba(0, 0, 0, 0.15);\n",
       "      filter: drop-shadow(0px 1px 2px rgba(0, 0, 0, 0.3));\n",
       "      fill: #FFFFFF;\n",
       "    }\n",
       "  </style>\n",
       "\n",
       "    <script>\n",
       "      const buttonEl =\n",
       "        document.querySelector('#df-0059638d-d925-490c-aef5-4d086f226ae5 button.colab-df-convert');\n",
       "      buttonEl.style.display =\n",
       "        google.colab.kernel.accessAllowed ? 'block' : 'none';\n",
       "\n",
       "      async function convertToInteractive(key) {\n",
       "        const element = document.querySelector('#df-0059638d-d925-490c-aef5-4d086f226ae5');\n",
       "        const dataTable =\n",
       "          await google.colab.kernel.invokeFunction('convertToInteractive',\n",
       "                                                    [key], {});\n",
       "        if (!dataTable) return;\n",
       "\n",
       "        const docLinkHtml = 'Like what you see? Visit the ' +\n",
       "          '<a target=\"_blank\" href=https://colab.research.google.com/notebooks/data_table.ipynb>data table notebook</a>'\n",
       "          + ' to learn more about interactive tables.';\n",
       "        element.innerHTML = '';\n",
       "        dataTable['output_type'] = 'display_data';\n",
       "        await google.colab.output.renderOutput(dataTable, element);\n",
       "        const docLink = document.createElement('div');\n",
       "        docLink.innerHTML = docLinkHtml;\n",
       "        element.appendChild(docLink);\n",
       "      }\n",
       "    </script>\n",
       "  </div>\n",
       "\n",
       "\n",
       "    <div id=\"df-d12e76c7-e229-4676-a15e-5c97892aef37\">\n",
       "      <button class=\"colab-df-quickchart\" onclick=\"quickchart('df-d12e76c7-e229-4676-a15e-5c97892aef37')\"\n",
       "                title=\"Suggest charts\"\n",
       "                style=\"display:none;\">\n",
       "\n",
       "<svg xmlns=\"http://www.w3.org/2000/svg\" height=\"24px\"viewBox=\"0 0 24 24\"\n",
       "     width=\"24px\">\n",
       "    <g>\n",
       "        <path d=\"M19 3H5c-1.1 0-2 .9-2 2v14c0 1.1.9 2 2 2h14c1.1 0 2-.9 2-2V5c0-1.1-.9-2-2-2zM9 17H7v-7h2v7zm4 0h-2V7h2v10zm4 0h-2v-4h2v4z\"/>\n",
       "    </g>\n",
       "</svg>\n",
       "      </button>\n",
       "\n",
       "<style>\n",
       "  .colab-df-quickchart {\n",
       "      --bg-color: #E8F0FE;\n",
       "      --fill-color: #1967D2;\n",
       "      --hover-bg-color: #E2EBFA;\n",
       "      --hover-fill-color: #174EA6;\n",
       "      --disabled-fill-color: #AAA;\n",
       "      --disabled-bg-color: #DDD;\n",
       "  }\n",
       "\n",
       "  [theme=dark] .colab-df-quickchart {\n",
       "      --bg-color: #3B4455;\n",
       "      --fill-color: #D2E3FC;\n",
       "      --hover-bg-color: #434B5C;\n",
       "      --hover-fill-color: #FFFFFF;\n",
       "      --disabled-bg-color: #3B4455;\n",
       "      --disabled-fill-color: #666;\n",
       "  }\n",
       "\n",
       "  .colab-df-quickchart {\n",
       "    background-color: var(--bg-color);\n",
       "    border: none;\n",
       "    border-radius: 50%;\n",
       "    cursor: pointer;\n",
       "    display: none;\n",
       "    fill: var(--fill-color);\n",
       "    height: 32px;\n",
       "    padding: 0;\n",
       "    width: 32px;\n",
       "  }\n",
       "\n",
       "  .colab-df-quickchart:hover {\n",
       "    background-color: var(--hover-bg-color);\n",
       "    box-shadow: 0 1px 2px rgba(60, 64, 67, 0.3), 0 1px 3px 1px rgba(60, 64, 67, 0.15);\n",
       "    fill: var(--button-hover-fill-color);\n",
       "  }\n",
       "\n",
       "  .colab-df-quickchart-complete:disabled,\n",
       "  .colab-df-quickchart-complete:disabled:hover {\n",
       "    background-color: var(--disabled-bg-color);\n",
       "    fill: var(--disabled-fill-color);\n",
       "    box-shadow: none;\n",
       "  }\n",
       "\n",
       "  .colab-df-spinner {\n",
       "    border: 2px solid var(--fill-color);\n",
       "    border-color: transparent;\n",
       "    border-bottom-color: var(--fill-color);\n",
       "    animation:\n",
       "      spin 1s steps(1) infinite;\n",
       "  }\n",
       "\n",
       "  @keyframes spin {\n",
       "    0% {\n",
       "      border-color: transparent;\n",
       "      border-bottom-color: var(--fill-color);\n",
       "      border-left-color: var(--fill-color);\n",
       "    }\n",
       "    20% {\n",
       "      border-color: transparent;\n",
       "      border-left-color: var(--fill-color);\n",
       "      border-top-color: var(--fill-color);\n",
       "    }\n",
       "    30% {\n",
       "      border-color: transparent;\n",
       "      border-left-color: var(--fill-color);\n",
       "      border-top-color: var(--fill-color);\n",
       "      border-right-color: var(--fill-color);\n",
       "    }\n",
       "    40% {\n",
       "      border-color: transparent;\n",
       "      border-right-color: var(--fill-color);\n",
       "      border-top-color: var(--fill-color);\n",
       "    }\n",
       "    60% {\n",
       "      border-color: transparent;\n",
       "      border-right-color: var(--fill-color);\n",
       "    }\n",
       "    80% {\n",
       "      border-color: transparent;\n",
       "      border-right-color: var(--fill-color);\n",
       "      border-bottom-color: var(--fill-color);\n",
       "    }\n",
       "    90% {\n",
       "      border-color: transparent;\n",
       "      border-bottom-color: var(--fill-color);\n",
       "    }\n",
       "  }\n",
       "</style>\n",
       "\n",
       "      <script>\n",
       "        async function quickchart(key) {\n",
       "          const quickchartButtonEl =\n",
       "            document.querySelector('#' + key + ' button');\n",
       "          quickchartButtonEl.disabled = true;  // To prevent multiple clicks.\n",
       "          quickchartButtonEl.classList.add('colab-df-spinner');\n",
       "          try {\n",
       "            const charts = await google.colab.kernel.invokeFunction(\n",
       "                'suggestCharts', [key], {});\n",
       "          } catch (error) {\n",
       "            console.error('Error during call to suggestCharts:', error);\n",
       "          }\n",
       "          quickchartButtonEl.classList.remove('colab-df-spinner');\n",
       "          quickchartButtonEl.classList.add('colab-df-quickchart-complete');\n",
       "        }\n",
       "        (() => {\n",
       "          let quickchartButtonEl =\n",
       "            document.querySelector('#df-d12e76c7-e229-4676-a15e-5c97892aef37 button');\n",
       "          quickchartButtonEl.style.display =\n",
       "            google.colab.kernel.accessAllowed ? 'block' : 'none';\n",
       "        })();\n",
       "      </script>\n",
       "    </div>\n",
       "\n",
       "  <div id=\"id_ee9015d6-2978-44ac-bbb1-a981b70be6fd\">\n",
       "    <style>\n",
       "      .colab-df-generate {\n",
       "        background-color: #E8F0FE;\n",
       "        border: none;\n",
       "        border-radius: 50%;\n",
       "        cursor: pointer;\n",
       "        display: none;\n",
       "        fill: #1967D2;\n",
       "        height: 32px;\n",
       "        padding: 0 0 0 0;\n",
       "        width: 32px;\n",
       "      }\n",
       "\n",
       "      .colab-df-generate:hover {\n",
       "        background-color: #E2EBFA;\n",
       "        box-shadow: 0px 1px 2px rgba(60, 64, 67, 0.3), 0px 1px 3px 1px rgba(60, 64, 67, 0.15);\n",
       "        fill: #174EA6;\n",
       "      }\n",
       "\n",
       "      [theme=dark] .colab-df-generate {\n",
       "        background-color: #3B4455;\n",
       "        fill: #D2E3FC;\n",
       "      }\n",
       "\n",
       "      [theme=dark] .colab-df-generate:hover {\n",
       "        background-color: #434B5C;\n",
       "        box-shadow: 0px 1px 3px 1px rgba(0, 0, 0, 0.15);\n",
       "        filter: drop-shadow(0px 1px 2px rgba(0, 0, 0, 0.3));\n",
       "        fill: #FFFFFF;\n",
       "      }\n",
       "    </style>\n",
       "    <button class=\"colab-df-generate\" onclick=\"generateWithVariable('df_val')\"\n",
       "            title=\"Generate code using this dataframe.\"\n",
       "            style=\"display:none;\">\n",
       "\n",
       "  <svg xmlns=\"http://www.w3.org/2000/svg\" height=\"24px\"viewBox=\"0 0 24 24\"\n",
       "       width=\"24px\">\n",
       "    <path d=\"M7,19H8.4L18.45,9,17,7.55,7,17.6ZM5,21V16.75L18.45,3.32a2,2,0,0,1,2.83,0l1.4,1.43a1.91,1.91,0,0,1,.58,1.4,1.91,1.91,0,0,1-.58,1.4L9.25,21ZM18.45,9,17,7.55Zm-12,3A5.31,5.31,0,0,0,4.9,8.1,5.31,5.31,0,0,0,1,6.5,5.31,5.31,0,0,0,4.9,4.9,5.31,5.31,0,0,0,6.5,1,5.31,5.31,0,0,0,8.1,4.9,5.31,5.31,0,0,0,12,6.5,5.46,5.46,0,0,0,6.5,12Z\"/>\n",
       "  </svg>\n",
       "    </button>\n",
       "    <script>\n",
       "      (() => {\n",
       "      const buttonEl =\n",
       "        document.querySelector('#id_ee9015d6-2978-44ac-bbb1-a981b70be6fd button.colab-df-generate');\n",
       "      buttonEl.style.display =\n",
       "        google.colab.kernel.accessAllowed ? 'block' : 'none';\n",
       "\n",
       "      buttonEl.onclick = () => {\n",
       "        google.colab.notebook.generateWithVariable('df_val');\n",
       "      }\n",
       "      })();\n",
       "    </script>\n",
       "  </div>\n",
       "\n",
       "    </div>\n",
       "  </div>\n"
      ],
      "application/vnd.google.colaboratory.intrinsic+json": {
       "type": "dataframe",
       "variable_name": "df_val",
       "summary": "{\n  \"name\": \"df_val\",\n  \"rows\": 1721,\n  \"fields\": [\n    {\n      \"column\": \"text\",\n      \"properties\": {\n        \"dtype\": \"string\",\n        \"num_unique_values\": 1721,\n        \"samples\": [\n          \"A wonderful read. Often hard to find, but worth the search. Jonathan and Angela Scott's photos are fantastic!\",\n          \"a film that hews out a world and carries us effortlessly from darkness to light \",\n          \"an uncomfortable experience , but \"\n        ],\n        \"semantic_type\": \"\",\n        \"description\": \"\"\n      }\n    },\n    {\n      \"column\": \"label\",\n      \"properties\": {\n        \"dtype\": \"number\",\n        \"std\": 0,\n        \"min\": 0,\n        \"max\": 1,\n        \"num_unique_values\": 2,\n        \"samples\": [\n          0,\n          1\n        ],\n        \"semantic_type\": \"\",\n        \"description\": \"\"\n      }\n    }\n  ]\n}"
      }
     },
     "metadata": {},
     "execution_count": 3
    }
   ]
  },
  {
   "cell_type": "code",
   "source": [
    "df_test = pd.read_csv('drive/MyDrive/Experiments/SNLP2/week_04/Sentiment-Analysis/test_data.csv', delimiter=',')[: 1000]\n",
    "df_test = df_test[df_test['label'] != 1]\n",
    "df_test['label'] = np.where(df_test['label'] == 2, 1, 0)\n",
    "df_test"
   ],
   "metadata": {
    "colab": {
     "base_uri": "https://localhost:8080/",
     "height": 424
    },
    "id": "zWV3pgqJLQjy",
    "outputId": "12904b90-5552-4dfb-c652-8a393f7a7d00"
   },
   "id": "zWV3pgqJLQjy",
   "execution_count": null,
   "outputs": [
    {
     "output_type": "execute_result",
     "data": {
      "text/plain": [
       "                                                  text  label\n",
       "0                             find a spark of its own       1\n",
       "1                                        oh come on .       0\n",
       "2                                           winningly       1\n",
       "3    an old-fashioned but emotionally stirring adve...      1\n",
       "4     salt and vinegar, cheese and onion make your ...      0\n",
       "..                                                 ...    ...\n",
       "994  an empty exercise , a florid but ultimately va...      0\n",
       "995                                    new adaptation       1\n",
       "996      http://yfrog.com/0guyoj bonfires are my fave!      1\n",
       "997   can usually be traced back to the little things       1\n",
       "998           that is presented with universal appeal       1\n",
       "\n",
       "[892 rows x 2 columns]"
      ],
      "text/html": [
       "\n",
       "  <div id=\"df-1a339201-b7db-4b8e-a451-8d468f8d1912\" class=\"colab-df-container\">\n",
       "    <div>\n",
       "<style scoped>\n",
       "    .dataframe tbody tr th:only-of-type {\n",
       "        vertical-align: middle;\n",
       "    }\n",
       "\n",
       "    .dataframe tbody tr th {\n",
       "        vertical-align: top;\n",
       "    }\n",
       "\n",
       "    .dataframe thead th {\n",
       "        text-align: right;\n",
       "    }\n",
       "</style>\n",
       "<table border=\"1\" class=\"dataframe\">\n",
       "  <thead>\n",
       "    <tr style=\"text-align: right;\">\n",
       "      <th></th>\n",
       "      <th>text</th>\n",
       "      <th>label</th>\n",
       "    </tr>\n",
       "  </thead>\n",
       "  <tbody>\n",
       "    <tr>\n",
       "      <th>0</th>\n",
       "      <td>find a spark of its own</td>\n",
       "      <td>1</td>\n",
       "    </tr>\n",
       "    <tr>\n",
       "      <th>1</th>\n",
       "      <td>oh come on .</td>\n",
       "      <td>0</td>\n",
       "    </tr>\n",
       "    <tr>\n",
       "      <th>2</th>\n",
       "      <td>winningly</td>\n",
       "      <td>1</td>\n",
       "    </tr>\n",
       "    <tr>\n",
       "      <th>3</th>\n",
       "      <td>an old-fashioned but emotionally stirring adve...</td>\n",
       "      <td>1</td>\n",
       "    </tr>\n",
       "    <tr>\n",
       "      <th>4</th>\n",
       "      <td>salt and vinegar, cheese and onion make your ...</td>\n",
       "      <td>0</td>\n",
       "    </tr>\n",
       "    <tr>\n",
       "      <th>...</th>\n",
       "      <td>...</td>\n",
       "      <td>...</td>\n",
       "    </tr>\n",
       "    <tr>\n",
       "      <th>994</th>\n",
       "      <td>an empty exercise , a florid but ultimately va...</td>\n",
       "      <td>0</td>\n",
       "    </tr>\n",
       "    <tr>\n",
       "      <th>995</th>\n",
       "      <td>new adaptation</td>\n",
       "      <td>1</td>\n",
       "    </tr>\n",
       "    <tr>\n",
       "      <th>996</th>\n",
       "      <td>http://yfrog.com/0guyoj bonfires are my fave!</td>\n",
       "      <td>1</td>\n",
       "    </tr>\n",
       "    <tr>\n",
       "      <th>997</th>\n",
       "      <td>can usually be traced back to the little things</td>\n",
       "      <td>1</td>\n",
       "    </tr>\n",
       "    <tr>\n",
       "      <th>998</th>\n",
       "      <td>that is presented with universal appeal</td>\n",
       "      <td>1</td>\n",
       "    </tr>\n",
       "  </tbody>\n",
       "</table>\n",
       "<p>892 rows × 2 columns</p>\n",
       "</div>\n",
       "    <div class=\"colab-df-buttons\">\n",
       "\n",
       "  <div class=\"colab-df-container\">\n",
       "    <button class=\"colab-df-convert\" onclick=\"convertToInteractive('df-1a339201-b7db-4b8e-a451-8d468f8d1912')\"\n",
       "            title=\"Convert this dataframe to an interactive table.\"\n",
       "            style=\"display:none;\">\n",
       "\n",
       "  <svg xmlns=\"http://www.w3.org/2000/svg\" height=\"24px\" viewBox=\"0 -960 960 960\">\n",
       "    <path d=\"M120-120v-720h720v720H120Zm60-500h600v-160H180v160Zm220 220h160v-160H400v160Zm0 220h160v-160H400v160ZM180-400h160v-160H180v160Zm440 0h160v-160H620v160ZM180-180h160v-160H180v160Zm440 0h160v-160H620v160Z\"/>\n",
       "  </svg>\n",
       "    </button>\n",
       "\n",
       "  <style>\n",
       "    .colab-df-container {\n",
       "      display:flex;\n",
       "      gap: 12px;\n",
       "    }\n",
       "\n",
       "    .colab-df-convert {\n",
       "      background-color: #E8F0FE;\n",
       "      border: none;\n",
       "      border-radius: 50%;\n",
       "      cursor: pointer;\n",
       "      display: none;\n",
       "      fill: #1967D2;\n",
       "      height: 32px;\n",
       "      padding: 0 0 0 0;\n",
       "      width: 32px;\n",
       "    }\n",
       "\n",
       "    .colab-df-convert:hover {\n",
       "      background-color: #E2EBFA;\n",
       "      box-shadow: 0px 1px 2px rgba(60, 64, 67, 0.3), 0px 1px 3px 1px rgba(60, 64, 67, 0.15);\n",
       "      fill: #174EA6;\n",
       "    }\n",
       "\n",
       "    .colab-df-buttons div {\n",
       "      margin-bottom: 4px;\n",
       "    }\n",
       "\n",
       "    [theme=dark] .colab-df-convert {\n",
       "      background-color: #3B4455;\n",
       "      fill: #D2E3FC;\n",
       "    }\n",
       "\n",
       "    [theme=dark] .colab-df-convert:hover {\n",
       "      background-color: #434B5C;\n",
       "      box-shadow: 0px 1px 3px 1px rgba(0, 0, 0, 0.15);\n",
       "      filter: drop-shadow(0px 1px 2px rgba(0, 0, 0, 0.3));\n",
       "      fill: #FFFFFF;\n",
       "    }\n",
       "  </style>\n",
       "\n",
       "    <script>\n",
       "      const buttonEl =\n",
       "        document.querySelector('#df-1a339201-b7db-4b8e-a451-8d468f8d1912 button.colab-df-convert');\n",
       "      buttonEl.style.display =\n",
       "        google.colab.kernel.accessAllowed ? 'block' : 'none';\n",
       "\n",
       "      async function convertToInteractive(key) {\n",
       "        const element = document.querySelector('#df-1a339201-b7db-4b8e-a451-8d468f8d1912');\n",
       "        const dataTable =\n",
       "          await google.colab.kernel.invokeFunction('convertToInteractive',\n",
       "                                                    [key], {});\n",
       "        if (!dataTable) return;\n",
       "\n",
       "        const docLinkHtml = 'Like what you see? Visit the ' +\n",
       "          '<a target=\"_blank\" href=https://colab.research.google.com/notebooks/data_table.ipynb>data table notebook</a>'\n",
       "          + ' to learn more about interactive tables.';\n",
       "        element.innerHTML = '';\n",
       "        dataTable['output_type'] = 'display_data';\n",
       "        await google.colab.output.renderOutput(dataTable, element);\n",
       "        const docLink = document.createElement('div');\n",
       "        docLink.innerHTML = docLinkHtml;\n",
       "        element.appendChild(docLink);\n",
       "      }\n",
       "    </script>\n",
       "  </div>\n",
       "\n",
       "\n",
       "    <div id=\"df-05d28d4f-816a-409c-9180-96028f8e8994\">\n",
       "      <button class=\"colab-df-quickchart\" onclick=\"quickchart('df-05d28d4f-816a-409c-9180-96028f8e8994')\"\n",
       "                title=\"Suggest charts\"\n",
       "                style=\"display:none;\">\n",
       "\n",
       "<svg xmlns=\"http://www.w3.org/2000/svg\" height=\"24px\"viewBox=\"0 0 24 24\"\n",
       "     width=\"24px\">\n",
       "    <g>\n",
       "        <path d=\"M19 3H5c-1.1 0-2 .9-2 2v14c0 1.1.9 2 2 2h14c1.1 0 2-.9 2-2V5c0-1.1-.9-2-2-2zM9 17H7v-7h2v7zm4 0h-2V7h2v10zm4 0h-2v-4h2v4z\"/>\n",
       "    </g>\n",
       "</svg>\n",
       "      </button>\n",
       "\n",
       "<style>\n",
       "  .colab-df-quickchart {\n",
       "      --bg-color: #E8F0FE;\n",
       "      --fill-color: #1967D2;\n",
       "      --hover-bg-color: #E2EBFA;\n",
       "      --hover-fill-color: #174EA6;\n",
       "      --disabled-fill-color: #AAA;\n",
       "      --disabled-bg-color: #DDD;\n",
       "  }\n",
       "\n",
       "  [theme=dark] .colab-df-quickchart {\n",
       "      --bg-color: #3B4455;\n",
       "      --fill-color: #D2E3FC;\n",
       "      --hover-bg-color: #434B5C;\n",
       "      --hover-fill-color: #FFFFFF;\n",
       "      --disabled-bg-color: #3B4455;\n",
       "      --disabled-fill-color: #666;\n",
       "  }\n",
       "\n",
       "  .colab-df-quickchart {\n",
       "    background-color: var(--bg-color);\n",
       "    border: none;\n",
       "    border-radius: 50%;\n",
       "    cursor: pointer;\n",
       "    display: none;\n",
       "    fill: var(--fill-color);\n",
       "    height: 32px;\n",
       "    padding: 0;\n",
       "    width: 32px;\n",
       "  }\n",
       "\n",
       "  .colab-df-quickchart:hover {\n",
       "    background-color: var(--hover-bg-color);\n",
       "    box-shadow: 0 1px 2px rgba(60, 64, 67, 0.3), 0 1px 3px 1px rgba(60, 64, 67, 0.15);\n",
       "    fill: var(--button-hover-fill-color);\n",
       "  }\n",
       "\n",
       "  .colab-df-quickchart-complete:disabled,\n",
       "  .colab-df-quickchart-complete:disabled:hover {\n",
       "    background-color: var(--disabled-bg-color);\n",
       "    fill: var(--disabled-fill-color);\n",
       "    box-shadow: none;\n",
       "  }\n",
       "\n",
       "  .colab-df-spinner {\n",
       "    border: 2px solid var(--fill-color);\n",
       "    border-color: transparent;\n",
       "    border-bottom-color: var(--fill-color);\n",
       "    animation:\n",
       "      spin 1s steps(1) infinite;\n",
       "  }\n",
       "\n",
       "  @keyframes spin {\n",
       "    0% {\n",
       "      border-color: transparent;\n",
       "      border-bottom-color: var(--fill-color);\n",
       "      border-left-color: var(--fill-color);\n",
       "    }\n",
       "    20% {\n",
       "      border-color: transparent;\n",
       "      border-left-color: var(--fill-color);\n",
       "      border-top-color: var(--fill-color);\n",
       "    }\n",
       "    30% {\n",
       "      border-color: transparent;\n",
       "      border-left-color: var(--fill-color);\n",
       "      border-top-color: var(--fill-color);\n",
       "      border-right-color: var(--fill-color);\n",
       "    }\n",
       "    40% {\n",
       "      border-color: transparent;\n",
       "      border-right-color: var(--fill-color);\n",
       "      border-top-color: var(--fill-color);\n",
       "    }\n",
       "    60% {\n",
       "      border-color: transparent;\n",
       "      border-right-color: var(--fill-color);\n",
       "    }\n",
       "    80% {\n",
       "      border-color: transparent;\n",
       "      border-right-color: var(--fill-color);\n",
       "      border-bottom-color: var(--fill-color);\n",
       "    }\n",
       "    90% {\n",
       "      border-color: transparent;\n",
       "      border-bottom-color: var(--fill-color);\n",
       "    }\n",
       "  }\n",
       "</style>\n",
       "\n",
       "      <script>\n",
       "        async function quickchart(key) {\n",
       "          const quickchartButtonEl =\n",
       "            document.querySelector('#' + key + ' button');\n",
       "          quickchartButtonEl.disabled = true;  // To prevent multiple clicks.\n",
       "          quickchartButtonEl.classList.add('colab-df-spinner');\n",
       "          try {\n",
       "            const charts = await google.colab.kernel.invokeFunction(\n",
       "                'suggestCharts', [key], {});\n",
       "          } catch (error) {\n",
       "            console.error('Error during call to suggestCharts:', error);\n",
       "          }\n",
       "          quickchartButtonEl.classList.remove('colab-df-spinner');\n",
       "          quickchartButtonEl.classList.add('colab-df-quickchart-complete');\n",
       "        }\n",
       "        (() => {\n",
       "          let quickchartButtonEl =\n",
       "            document.querySelector('#df-05d28d4f-816a-409c-9180-96028f8e8994 button');\n",
       "          quickchartButtonEl.style.display =\n",
       "            google.colab.kernel.accessAllowed ? 'block' : 'none';\n",
       "        })();\n",
       "      </script>\n",
       "    </div>\n",
       "\n",
       "  <div id=\"id_11401094-213e-4aef-bd94-0801f7c922b4\">\n",
       "    <style>\n",
       "      .colab-df-generate {\n",
       "        background-color: #E8F0FE;\n",
       "        border: none;\n",
       "        border-radius: 50%;\n",
       "        cursor: pointer;\n",
       "        display: none;\n",
       "        fill: #1967D2;\n",
       "        height: 32px;\n",
       "        padding: 0 0 0 0;\n",
       "        width: 32px;\n",
       "      }\n",
       "\n",
       "      .colab-df-generate:hover {\n",
       "        background-color: #E2EBFA;\n",
       "        box-shadow: 0px 1px 2px rgba(60, 64, 67, 0.3), 0px 1px 3px 1px rgba(60, 64, 67, 0.15);\n",
       "        fill: #174EA6;\n",
       "      }\n",
       "\n",
       "      [theme=dark] .colab-df-generate {\n",
       "        background-color: #3B4455;\n",
       "        fill: #D2E3FC;\n",
       "      }\n",
       "\n",
       "      [theme=dark] .colab-df-generate:hover {\n",
       "        background-color: #434B5C;\n",
       "        box-shadow: 0px 1px 3px 1px rgba(0, 0, 0, 0.15);\n",
       "        filter: drop-shadow(0px 1px 2px rgba(0, 0, 0, 0.3));\n",
       "        fill: #FFFFFF;\n",
       "      }\n",
       "    </style>\n",
       "    <button class=\"colab-df-generate\" onclick=\"generateWithVariable('df_test')\"\n",
       "            title=\"Generate code using this dataframe.\"\n",
       "            style=\"display:none;\">\n",
       "\n",
       "  <svg xmlns=\"http://www.w3.org/2000/svg\" height=\"24px\"viewBox=\"0 0 24 24\"\n",
       "       width=\"24px\">\n",
       "    <path d=\"M7,19H8.4L18.45,9,17,7.55,7,17.6ZM5,21V16.75L18.45,3.32a2,2,0,0,1,2.83,0l1.4,1.43a1.91,1.91,0,0,1,.58,1.4,1.91,1.91,0,0,1-.58,1.4L9.25,21ZM18.45,9,17,7.55Zm-12,3A5.31,5.31,0,0,0,4.9,8.1,5.31,5.31,0,0,0,1,6.5,5.31,5.31,0,0,0,4.9,4.9,5.31,5.31,0,0,0,6.5,1,5.31,5.31,0,0,0,8.1,4.9,5.31,5.31,0,0,0,12,6.5,5.46,5.46,0,0,0,6.5,12Z\"/>\n",
       "  </svg>\n",
       "    </button>\n",
       "    <script>\n",
       "      (() => {\n",
       "      const buttonEl =\n",
       "        document.querySelector('#id_11401094-213e-4aef-bd94-0801f7c922b4 button.colab-df-generate');\n",
       "      buttonEl.style.display =\n",
       "        google.colab.kernel.accessAllowed ? 'block' : 'none';\n",
       "\n",
       "      buttonEl.onclick = () => {\n",
       "        google.colab.notebook.generateWithVariable('df_test');\n",
       "      }\n",
       "      })();\n",
       "    </script>\n",
       "  </div>\n",
       "\n",
       "    </div>\n",
       "  </div>\n"
      ],
      "application/vnd.google.colaboratory.intrinsic+json": {
       "type": "dataframe",
       "variable_name": "df_test",
       "summary": "{\n  \"name\": \"df_test\",\n  \"rows\": 892,\n  \"fields\": [\n    {\n      \"column\": \"text\",\n      \"properties\": {\n        \"dtype\": \"string\",\n        \"num_unique_values\": 892,\n        \"samples\": [\n          \"miyazaki 's nonstop images are so stunning , and his imagination so vivid \",\n          \"if `` lilo & stitch '' is n't the most edgy piece of disney animation to hit the silver screen , then this first film to use a watercolor background since `` dumbo '' certainly ranks as the most original in years . \",\n          \"dislikable study in sociopathy . \"\n        ],\n        \"semantic_type\": \"\",\n        \"description\": \"\"\n      }\n    },\n    {\n      \"column\": \"label\",\n      \"properties\": {\n        \"dtype\": \"number\",\n        \"std\": 0,\n        \"min\": 0,\n        \"max\": 1,\n        \"num_unique_values\": 2,\n        \"samples\": [\n          0,\n          1\n        ],\n        \"semantic_type\": \"\",\n        \"description\": \"\"\n      }\n    }\n  ]\n}"
      }
     },
     "metadata": {},
     "execution_count": 4
    }
   ]
  },
  {
   "cell_type": "markdown",
   "source": [
    "### Labels"
   ],
   "metadata": {
    "collapsed": false,
    "id": "c404df1acb8feb11"
   },
   "id": "c404df1acb8feb11"
  },
  {
   "cell_type": "code",
   "outputs": [
    {
     "output_type": "stream",
     "name": "stdout",
     "text": [
      "3177 3881\n",
      "794 927\n",
      "399 493\n"
     ]
    }
   ],
   "source": [
    "Y_train = list(df_train['label'])\n",
    "Y_val = list(df_val['label'])\n",
    "Y_test = list(df_test['label'])\n",
    "# positive, negative\n",
    "print(Y_train.count(0), Y_train.count(1))\n",
    "print(Y_val.count(0), Y_val.count(1))\n",
    "print(Y_test.count(0), Y_test.count(1))"
   ],
   "metadata": {
    "ExecuteTime": {
     "end_time": "2025-05-24T11:40:21.755312Z",
     "start_time": "2025-05-24T11:40:21.749582Z"
    },
    "colab": {
     "base_uri": "https://localhost:8080/"
    },
    "id": "3f47fdf8363ee09a",
    "outputId": "c594ffde-2bc1-4442-e5df-2e12cd19148d"
   },
   "id": "3f47fdf8363ee09a",
   "execution_count": null
  },
  {
   "cell_type": "markdown",
   "source": [
    "### Embeddings Matrix\n",
    "\n",
    "- because of our limited time, we will use the compressed FastText model instead (uploaded on GitHub)\n",
    "- you can download GoogleNewsvectorsnegative300  on your own but it will take longer\n"
   ],
   "metadata": {
    "collapsed": false,
    "id": "7b0767fd2431daf4"
   },
   "id": "7b0767fd2431daf4"
  },
  {
   "cell_type": "code",
   "outputs": [],
   "source": [
    "# fasttext\n",
    "# embeddings = compress_fasttext.models.CompressedFastTextKeyedVectors.load(\"drive/MyDrive/Experiments/SNLP2/week_04/models/cc.en.300.compressed.bin\")\n",
    "\n",
    "# word2vec\n",
    "embeddings = KeyedVectors.load_word2vec_format(\"drive/MyDrive/Experiments/SNLP2/week_04/models/GoogleNewsvectorsnegative300.bin\", binary=True, limit=100000)"
   ],
   "metadata": {
    "ExecuteTime": {
     "end_time": "2025-05-24T11:40:22.906324Z",
     "start_time": "2025-05-24T11:40:21.959622Z"
    },
    "id": "dc8219b735424506"
   },
   "id": "dc8219b735424506",
   "execution_count": null
  },
  {
   "cell_type": "markdown",
   "source": [
    "- if you are using FastText model, it is based on ngrams and therefore it will not have OOV words\n",
    "- you will not need the if-else condition"
   ],
   "metadata": {
    "id": "OKSGVtW29lGp"
   },
   "id": "OKSGVtW29lGp"
  },
  {
   "cell_type": "code",
   "outputs": [
    {
     "output_type": "stream",
     "name": "stdout",
     "text": [
      "torch.Size([100002, 300])\n"
     ]
    }
   ],
   "source": [
    "vocab = {'<UNK>': 0, '<PAD>': 1}\n",
    "\n",
    "for i, w in enumerate(embeddings.index_to_key):\n",
    "    vocab[w] = i + 2\n",
    "\n",
    "emb = np.zeros((len(vocab), 300))\n",
    "for w, i in vocab.items():\n",
    "    if w == '<UNK>' or w == '<PAD>':\n",
    "        emb[i] = np.random.normal(scale=0.6, size=(300,))\n",
    "    else:\n",
    "        emb[i] = embeddings[w]\n",
    "emb = torch.tensor(emb, dtype=torch.float32)\n",
    "\n",
    "print(emb.shape)"
   ],
   "metadata": {
    "ExecuteTime": {
     "end_time": "2025-05-24T11:40:23.208035Z",
     "start_time": "2025-05-24T11:40:22.907376Z"
    },
    "colab": {
     "base_uri": "https://localhost:8080/"
    },
    "id": "8b50a2191953b5b",
    "outputId": "be44e45a-2e2c-45ce-9e15-d292bbed697b"
   },
   "id": "8b50a2191953b5b",
   "execution_count": null
  },
  {
   "cell_type": "markdown",
   "source": [
    "### Dataset, DataLoader"
   ],
   "metadata": {
    "id": "SuN-AdSfWM7t"
   },
   "id": "SuN-AdSfWM7t"
  },
  {
   "cell_type": "code",
   "outputs": [],
   "source": [
    "class SentimentDataset(Dataset):\n",
    "    def __init__(self, texts, labels, vocab, max_len):\n",
    "        self.texts = texts\n",
    "        self.labels = labels\n",
    "        self.vocab = vocab\n",
    "        self.max_len = max_len\n",
    "\n",
    "    def __len__(self):\n",
    "        return len(self.texts)\n",
    "\n",
    "    def __getitem__(self, idx):\n",
    "        tokens = self.texts[idx].lower().strip(string.punctuation).strip().split(' ')\n",
    "        indices = [self.vocab.get(token, self.vocab['<UNK>']) for token in tokens]\n",
    "        if len(indices) < self.max_len:\n",
    "            indices += [self.vocab['<PAD>']] * (self.max_len - len(indices))\n",
    "        else:\n",
    "            indices = indices[:self.max_len]\n",
    "        return torch.tensor(indices), torch.tensor(self.labels[idx], dtype=torch.long)\n",
    "\n",
    "\n",
    "train_dataset = SentimentDataset(texts=list(df_train['text']), labels=list(df_train['label']), vocab=vocab, max_len=30)\n",
    "train_loader = DataLoader(train_dataset, batch_size=8)\n",
    "\n",
    "val_dataset = SentimentDataset(texts=list(df_val['text']), labels=list(df_val['label']), vocab=vocab, max_len=30)\n",
    "val_loader = DataLoader(val_dataset, batch_size=8)\n",
    "\n",
    "test_dataset = SentimentDataset(texts=list(df_test['text']), labels=list(df_test['label']), vocab=vocab, max_len=30)\n",
    "test_loader = DataLoader(test_dataset, batch_size=8)"
   ],
   "metadata": {
    "ExecuteTime": {
     "end_time": "2025-05-24T11:40:23.298113Z",
     "start_time": "2025-05-24T11:40:23.290236Z"
    },
    "id": "c6ec1d19872eca2d"
   },
   "id": "c6ec1d19872eca2d",
   "execution_count": null
  },
  {
   "cell_type": "markdown",
   "source": [
    "### Feed-Forward Network"
   ],
   "metadata": {
    "collapsed": false,
    "id": "87177158a29239"
   },
   "id": "87177158a29239"
  },
  {
   "cell_type": "code",
   "outputs": [],
   "source": [
    "class FFN(nn.Module):\n",
    "    def __init__(self, in_feats, hidden_size, out_feats, emb_matrix):\n",
    "        super(FFN, self).__init__()\n",
    "        self.embedding = nn.Embedding(in_feats, emb_matrix.shape[1])\n",
    "        self.embedding.weight = nn.Parameter(emb_matrix, requires_grad=True)\n",
    "        self.lin1 = nn.Linear(emb_matrix.shape[1], hidden_size)\n",
    "        self.relu = nn.ReLU()\n",
    "        self.lin2 = nn.Linear(hidden_size, out_feats)\n",
    "\n",
    "    def forward(self, X):\n",
    "        e = self.embedding(X)\n",
    "        e = e.mean(dim=1)\n",
    "\n",
    "        input = self.lin1(e)\n",
    "        hidden = self.relu(input)\n",
    "        out = self.lin2(hidden)\n",
    "\n",
    "        return out\n"
   ],
   "metadata": {
    "ExecuteTime": {
     "end_time": "2025-05-24T11:40:24.738010Z",
     "start_time": "2025-05-24T11:40:24.731617Z"
    },
    "id": "946a15bcb193ea6"
   },
   "id": "946a15bcb193ea6",
   "execution_count": null
  },
  {
   "cell_type": "markdown",
   "source": [
    "### Trainer"
   ],
   "metadata": {
    "collapsed": false,
    "id": "5089775d153a05b3"
   },
   "id": "5089775d153a05b3"
  },
  {
   "cell_type": "code",
   "outputs": [
    {
     "output_type": "stream",
     "name": "stderr",
     "text": [
      "Training Started:   2%|▏         | 1/50 [00:18<15:20, 18.78s/it]"
     ]
    },
    {
     "output_type": "stream",
     "name": "stdout",
     "text": [
      "epoch: 1 loss: 0.7148340472346119\n",
      "metrics: (0.6968939777327935, 0.5253723313198503, 0.41070758809419394)\n"
     ]
    },
    {
     "output_type": "stream",
     "name": "stderr",
     "text": [
      "\rTraining Started:   4%|▍         | 2/50 [00:37<15:01, 18.78s/it]"
     ]
    },
    {
     "output_type": "stream",
     "name": "stdout",
     "text": [
      "epoch: 2 loss: 0.684401492469038\n",
      "metrics: (0.6778601353528844, 0.5449895249973506, 0.4577339721889485)\n"
     ]
    },
    {
     "output_type": "stream",
     "name": "stderr",
     "text": [
      "\rTraining Started:   6%|▌         | 3/50 [00:56<14:42, 18.77s/it]"
     ]
    },
    {
     "output_type": "stream",
     "name": "stdout",
     "text": [
      "epoch: 3 loss: 0.6558198259546425\n",
      "metrics: (0.7107779369911318, 0.5867346522869743, 0.5322171492813927)\n"
     ]
    },
    {
     "output_type": "stream",
     "name": "stderr",
     "text": [
      "\rTraining Started:   8%|▊         | 4/50 [01:15<14:23, 18.78s/it]"
     ]
    },
    {
     "output_type": "stream",
     "name": "stdout",
     "text": [
      "epoch: 4 loss: 0.626803528850778\n",
      "metrics: (0.7208271696555384, 0.6220949190123336, 0.589868890367692)\n"
     ]
    },
    {
     "output_type": "stream",
     "name": "stderr",
     "text": [
      "\rTraining Started:  10%|█         | 5/50 [01:33<14:04, 18.77s/it]"
     ]
    },
    {
     "output_type": "stream",
     "name": "stdout",
     "text": [
      "epoch: 5 loss: 0.5982809396521827\n",
      "metrics: (0.732656498412259, 0.650706213537888, 0.630948476846366)\n"
     ]
    },
    {
     "output_type": "stream",
     "name": "stderr",
     "text": [
      "\rTraining Started:  12%|█▏        | 6/50 [01:52<13:46, 18.78s/it]"
     ]
    },
    {
     "output_type": "stream",
     "name": "stdout",
     "text": [
      "epoch: 6 loss: 0.5711914779004532\n",
      "metrics: (0.7460450197605819, 0.6750874275512949, 0.6627149222959239)\n"
     ]
    },
    {
     "output_type": "stream",
     "name": "stderr",
     "text": [
      "\rTraining Started:  14%|█▍        | 7/50 [02:11<13:27, 18.77s/it]"
     ]
    },
    {
     "output_type": "stream",
     "name": "stdout",
     "text": [
      "epoch: 7 loss: 0.5460472271808277\n",
      "metrics: (0.7521702399345312, 0.6942528782481339, 0.6871542121975319)\n"
     ]
    },
    {
     "output_type": "stream",
     "name": "stderr",
     "text": [
      "\rTraining Started:  16%|█▌        | 8/50 [02:30<13:08, 18.78s/it]"
     ]
    },
    {
     "output_type": "stream",
     "name": "stdout",
     "text": [
      "epoch: 8 loss: 0.5230159573552292\n",
      "metrics: (0.758083182454119, 0.7045091421910281, 0.699330875801464)\n"
     ]
    },
    {
     "output_type": "stream",
     "name": "stderr",
     "text": [
      "\rTraining Started:  18%|█▊        | 9/50 [02:49<12:50, 18.78s/it]"
     ]
    },
    {
     "output_type": "stream",
     "name": "stdout",
     "text": [
      "epoch: 9 loss: 0.5021212915568227\n",
      "metrics: (0.7704927401759569, 0.7186313750105293, 0.715154662734953)\n"
     ]
    },
    {
     "output_type": "stream",
     "name": "stderr",
     "text": [
      "\rTraining Started:  20%|██        | 10/50 [03:07<12:31, 18.78s/it]"
     ]
    },
    {
     "output_type": "stream",
     "name": "stdout",
     "text": [
      "epoch: 10 loss: 0.48319149199590544\n",
      "metrics: (0.7726512757471088, 0.7217799896201011, 0.7187249601531969)\n"
     ]
    },
    {
     "output_type": "stream",
     "name": "stderr",
     "text": [
      "\rTraining Started:  22%|██▏       | 11/50 [03:26<12:12, 18.78s/it]"
     ]
    },
    {
     "output_type": "stream",
     "name": "stdout",
     "text": [
      "epoch: 11 loss: 0.46604269696557776\n",
      "metrics: (0.776380766731644, 0.7253776299593228, 0.722636014107308)\n"
     ]
    },
    {
     "output_type": "stream",
     "name": "stderr",
     "text": [
      "\rTraining Started:  24%|██▍       | 12/50 [03:45<11:53, 18.78s/it]"
     ]
    },
    {
     "output_type": "stream",
     "name": "stdout",
     "text": [
      "epoch: 12 loss: 0.450463957924265\n",
      "metrics: (0.778088993517797, 0.7278965216469802, 0.7254719813834778)\n"
     ]
    },
    {
     "output_type": "stream",
     "name": "stderr",
     "text": [
      "\rTraining Started:  26%|██▌       | 13/50 [04:04<11:35, 18.79s/it]"
     ]
    },
    {
     "output_type": "stream",
     "name": "stdout",
     "text": [
      "epoch: 13 loss: 0.43626664837111434\n",
      "metrics: (0.7789423286828474, 0.7291559674908089, 0.7268860888056623)\n"
     ]
    },
    {
     "output_type": "stream",
     "name": "stderr",
     "text": [
      "\rTraining Started:  28%|██▊       | 14/50 [04:22<11:16, 18.79s/it]"
     ]
    },
    {
     "output_type": "stream",
     "name": "stdout",
     "text": [
      "epoch: 14 loss: 0.42322875377073427\n",
      "metrics: (0.7799405560247048, 0.729695341816591, 0.727421173304182)\n"
     ]
    },
    {
     "output_type": "stream",
     "name": "stderr",
     "text": [
      "\rTraining Started:  30%|███       | 15/50 [04:41<10:57, 18.78s/it]"
     ]
    },
    {
     "output_type": "stream",
     "name": "stdout",
     "text": [
      "epoch: 15 loss: 0.4111916107945102\n",
      "metrics: (0.7832116136458354, 0.7326632592338982, 0.7306103694128577)\n"
     ]
    },
    {
     "output_type": "stream",
     "name": "stderr",
     "text": [
      "\rTraining Started:  32%|███▏      | 16/50 [05:00<10:38, 18.79s/it]"
     ]
    },
    {
     "output_type": "stream",
     "name": "stdout",
     "text": [
      "epoch: 16 loss: 0.4000164142230764\n",
      "metrics: (0.7832116136458354, 0.7326632592338982, 0.7306103694128577)\n"
     ]
    },
    {
     "output_type": "stream",
     "name": "stderr",
     "text": [
      "\rTraining Started:  34%|███▍      | 17/50 [05:19<10:19, 18.78s/it]"
     ]
    },
    {
     "output_type": "stream",
     "name": "stdout",
     "text": [
      "epoch: 17 loss: 0.3895769829472626\n",
      "metrics: (0.788872485236713, 0.7352697822666765, 0.7331230297595099)\n"
     ]
    },
    {
     "output_type": "stream",
     "name": "stderr",
     "text": [
      "\rTraining Started:  36%|███▌      | 18/50 [05:38<10:01, 18.78s/it]"
     ]
    },
    {
     "output_type": "stream",
     "name": "stdout",
     "text": [
      "epoch: 18 loss: 0.37977978587994354\n",
      "metrics: (0.787226711823486, 0.732750890579019, 0.7302883719246813)\n"
     ]
    },
    {
     "output_type": "stream",
     "name": "stderr",
     "text": [
      "\rTraining Started:  38%|███▊      | 19/50 [05:56<09:42, 18.78s/it]"
     ]
    },
    {
     "output_type": "stream",
     "name": "stdout",
     "text": [
      "epoch: 19 loss: 0.37053616543217127\n",
      "metrics: (0.7849569184324563, 0.7303223474874938, 0.7276205418275152)\n"
     ]
    },
    {
     "output_type": "stream",
     "name": "stderr",
     "text": [
      "\rTraining Started:  40%|████      | 20/50 [06:15<09:23, 18.78s/it]"
     ]
    },
    {
     "output_type": "stream",
     "name": "stdout",
     "text": [
      "epoch: 20 loss: 0.3617919578321388\n",
      "metrics: (0.7868150684931507, 0.7321211676571047, 0.7295780787478204)\n"
     ]
    },
    {
     "output_type": "stream",
     "name": "stderr",
     "text": [
      "\rTraining Started:  42%|████▏     | 21/50 [06:34<09:04, 18.78s/it]"
     ]
    },
    {
     "output_type": "stream",
     "name": "stdout",
     "text": [
      "epoch: 21 loss: 0.35347930871853067\n",
      "metrics: (0.7897042035992479, 0.7344593621524975, 0.7320704466856285)\n"
     ]
    },
    {
     "output_type": "stream",
     "name": "stderr",
     "text": [
      "\rTraining Started:  44%|████▍     | 22/50 [06:53<08:45, 18.78s/it]"
     ]
    },
    {
     "output_type": "stream",
     "name": "stdout",
     "text": [
      "epoch: 22 loss: 0.34556088972064675\n",
      "metrics: (0.7897042035992479, 0.7344593621524975, 0.7320704466856285)\n"
     ]
    },
    {
     "output_type": "stream",
     "name": "stderr",
     "text": [
      "\rTraining Started:  46%|████▌     | 23/50 [07:11<08:27, 18.78s/it]"
     ]
    },
    {
     "output_type": "stream",
     "name": "stdout",
     "text": [
      "epoch: 23 loss: 0.3379949203239899\n",
      "metrics: (0.791554892361344, 0.7362581823221084, 0.7340257155007827)\n"
     ]
    },
    {
     "output_type": "stream",
     "name": "stderr",
     "text": [
      "\rTraining Started:  48%|████▊     | 24/50 [07:30<08:08, 18.78s/it]"
     ]
    },
    {
     "output_type": "stream",
     "name": "stdout",
     "text": [
      "epoch: 24 loss: 0.330760000608988\n",
      "metrics: (0.7929976192072966, 0.7374272795698048, 0.7352714966928164)\n"
     ]
    },
    {
     "output_type": "stream",
     "name": "stderr",
     "text": [
      "\rTraining Started:  50%|█████     | 25/50 [07:49<07:49, 18.78s/it]"
     ]
    },
    {
     "output_type": "stream",
     "name": "stdout",
     "text": [
      "epoch: 25 loss: 0.3238301548604787\n",
      "metrics: (0.7944403460532493, 0.7385963768175012, 0.7365172778848503)\n"
     ]
    },
    {
     "output_type": "stream",
     "name": "stderr",
     "text": [
      "\rTraining Started:  52%|█████▏    | 26/50 [08:08<07:30, 18.78s/it]"
     ]
    },
    {
     "output_type": "stream",
     "name": "stdout",
     "text": [
      "epoch: 26 loss: 0.3171817814068508\n",
      "metrics: (0.7944403460532493, 0.7385963768175012, 0.7365172778848503)\n"
     ]
    },
    {
     "output_type": "stream",
     "name": "stderr",
     "text": [
      "\rTraining Started:  54%|█████▍    | 27/50 [08:27<07:12, 18.78s/it]"
     ]
    },
    {
     "output_type": "stream",
     "name": "stdout",
     "text": [
      "epoch: 27 loss: 0.31079989961967597\n",
      "metrics: (0.7958830728992019, 0.7397654740651978, 0.7377630590768841)\n"
     ]
    },
    {
     "output_type": "stream",
     "name": "stderr",
     "text": [
      "\rTraining Started:  56%|█████▌    | 28/50 [08:45<06:53, 18.78s/it]"
     ]
    },
    {
     "output_type": "stream",
     "name": "stdout",
     "text": [
      "epoch: 28 loss: 0.3046624573498188\n",
      "metrics: (0.7936354253863558, 0.7373369309736726, 0.7351000692830526)\n"
     ]
    },
    {
     "output_type": "stream",
     "name": "stderr",
     "text": [
      "\rTraining Started:  58%|█████▊    | 29/50 [09:04<06:34, 18.78s/it]"
     ]
    },
    {
     "output_type": "stream",
     "name": "stdout",
     "text": [
      "epoch: 29 loss: 0.2987552938955422\n",
      "metrics: (0.7934018533216789, 0.7380570024917192, 0.7359795297516187)\n"
     ]
    },
    {
     "output_type": "stream",
     "name": "stderr",
     "text": [
      "\rTraining Started:  60%|██████    | 30/50 [09:23<06:15, 18.78s/it]"
     ]
    },
    {
     "output_type": "stream",
     "name": "stdout",
     "text": [
      "epoch: 30 loss: 0.2930702882400152\n",
      "metrics: (0.7946143195542654, 0.7399461712574622, 0.7380997564772813)\n"
     ]
    },
    {
     "output_type": "stream",
     "name": "stderr",
     "text": [
      "\rTraining Started:  62%|██████▏   | 31/50 [09:42<05:56, 18.78s/it]"
     ]
    },
    {
     "output_type": "stream",
     "name": "stdout",
     "text": [
      "epoch: 31 loss: 0.2876032861213317\n",
      "metrics: (0.7946143195542654, 0.7399461712574622, 0.7380997564772813)\n"
     ]
    },
    {
     "output_type": "stream",
     "name": "stderr",
     "text": [
      "\rTraining Started:  64%|██████▍   | 32/50 [10:01<05:38, 18.78s/it]"
     ]
    },
    {
     "output_type": "stream",
     "name": "stdout",
     "text": [
      "epoch: 32 loss: 0.2823340369858869\n",
      "metrics: (0.7954224754475354, 0.741205617101291, 0.7395100354340536)\n"
     ]
    },
    {
     "output_type": "stream",
     "name": "stderr",
     "text": [
      "\rTraining Started:  66%|██████▌   | 33/50 [10:19<05:19, 18.78s/it]"
     ]
    },
    {
     "output_type": "stream",
     "name": "stdout",
     "text": [
      "epoch: 33 loss: 0.27724849138227486\n",
      "metrics: (0.7978465619652331, 0.7449839546327771, 0.743725673656068)\n"
     ]
    },
    {
     "output_type": "stream",
     "name": "stderr",
     "text": [
      "\rTraining Started:  68%|██████▊   | 34/50 [10:38<05:00, 18.78s/it]"
     ]
    },
    {
     "output_type": "stream",
     "name": "stdout",
     "text": [
      "epoch: 34 loss: 0.2723549318247784\n",
      "metrics: (0.7994626254257572, 0.7475028463204345, 0.7465236027700985)\n"
     ]
    },
    {
     "output_type": "stream",
     "name": "stderr",
     "text": [
      "\rTraining Started:  70%|███████   | 35/50 [10:57<04:41, 18.78s/it]"
     ]
    },
    {
     "output_type": "stream",
     "name": "stdout",
     "text": [
      "epoch: 35 loss: 0.26762861311899777\n",
      "metrics: (0.8006748566748567, 0.7493920150861776, 0.7486155843183984)\n"
     ]
    },
    {
     "output_type": "stream",
     "name": "stderr",
     "text": [
      "\rTraining Started:  72%|███████▏  | 36/50 [11:16<04:22, 18.78s/it]"
     ]
    },
    {
     "output_type": "stream",
     "name": "stdout",
     "text": [
      "epoch: 36 loss: 0.2630883151726504\n",
      "metrics: (0.801700580686088, 0.7520012553699673, 0.7515470803706098)\n"
     ]
    },
    {
     "output_type": "stream",
     "name": "stderr",
     "text": [
      "\rTraining Started:  74%|███████▍  | 37/50 [11:34<04:04, 18.78s/it]"
     ]
    },
    {
     "output_type": "stream",
     "name": "stdout",
     "text": [
      "epoch: 37 loss: 0.25870664589031095\n",
      "metrics: (0.8023394413805373, 0.7539807727318426, 0.753771265981422)\n"
     ]
    },
    {
     "output_type": "stream",
     "name": "stderr",
     "text": [
      "\rTraining Started:  76%|███████▌  | 38/50 [11:53<03:45, 18.78s/it]"
     ]
    },
    {
     "output_type": "stream",
     "name": "stdout",
     "text": [
      "epoch: 38 loss: 0.2544636581692157\n",
      "metrics: (0.8031552160386248, 0.7552402185756714, 0.75515123931846)\n"
     ]
    },
    {
     "output_type": "stream",
     "name": "stderr",
     "text": [
      "\rTraining Started:  78%|███████▊  | 39/50 [12:12<03:26, 18.79s/it]"
     ]
    },
    {
     "output_type": "stream",
     "name": "stdout",
     "text": [
      "epoch: 39 loss: 0.2503865621150772\n",
      "metrics: (0.8065767049557573, 0.7595579304329396, 0.7598226554448644)\n"
     ]
    },
    {
     "output_type": "stream",
     "name": "stderr",
     "text": [
      "\rTraining Started:  80%|████████  | 40/50 [12:31<03:07, 18.79s/it]"
     ]
    },
    {
     "output_type": "stream",
     "name": "stdout",
     "text": [
      "epoch: 40 loss: 0.24643276040974924\n",
      "metrics: (0.8069835438046415, 0.7601876533548539, 0.760508511016582)\n"
     ]
    },
    {
     "output_type": "stream",
     "name": "stderr",
     "text": [
      "\rTraining Started:  82%|████████▏ | 41/50 [12:50<02:49, 18.79s/it]"
     ]
    },
    {
     "output_type": "stream",
     "name": "stdout",
     "text": [
      "epoch: 41 loss: 0.24261176415496544\n",
      "metrics: (0.8064211452335253, 0.7602780019509863, 0.760647907315146)\n"
     ]
    },
    {
     "output_type": "stream",
     "name": "stderr",
     "text": [
      "\rTraining Started:  84%|████████▍ | 42/50 [13:08<02:30, 18.79s/it]"
     ]
    },
    {
     "output_type": "stream",
     "name": "stdout",
     "text": [
      "epoch: 42 loss: 0.23892744578893632\n",
      "metrics: (0.807376075281593, 0.7636073137528225, 0.7643333361861644)\n"
     ]
    },
    {
     "output_type": "stream",
     "name": "stderr",
     "text": [
      "\rTraining Started:  86%|████████▌ | 43/50 [13:27<02:11, 18.78s/it]"
     ]
    },
    {
     "output_type": "stream",
     "name": "stdout",
     "text": [
      "epoch: 43 loss: 0.23535924317422802\n",
      "metrics: (0.8103841869945634, 0.7672953026881764, 0.7682767493816325)\n"
     ]
    },
    {
     "output_type": "stream",
     "name": "stderr",
     "text": [
      "\rTraining Started:  88%|████████▊ | 44/50 [13:46<01:52, 18.79s/it]"
     ]
    },
    {
     "output_type": "stream",
     "name": "stdout",
     "text": [
      "epoch: 44 loss: 0.23189944596613082\n",
      "metrics: (0.8107957321397614, 0.7679250256100908, 0.7689543785879593)\n"
     ]
    },
    {
     "output_type": "stream",
     "name": "stderr",
     "text": [
      "\rTraining Started:  90%|█████████ | 45/50 [14:05<01:33, 18.78s/it]"
     ]
    },
    {
     "output_type": "stream",
     "name": "stdout",
     "text": [
      "epoch: 45 loss: 0.22854834493241216\n",
      "metrics: (0.8110926419483344, 0.7692748200500518, 0.7704351407908876)\n"
     ]
    },
    {
     "output_type": "stream",
     "name": "stderr",
     "text": [
      "\rTraining Started:  92%|█████████▏| 46/50 [14:23<01:15, 18.79s/it]"
     ]
    },
    {
     "output_type": "stream",
     "name": "stdout",
     "text": [
      "epoch: 46 loss: 0.22529996277728578\n",
      "metrics: (0.812747985629731, 0.7717937117377092, 0.7731330290631879)\n"
     ]
    },
    {
     "output_type": "stream",
     "name": "stderr",
     "text": [
      "\rTraining Started:  94%|█████████▍| 47/50 [14:42<00:56, 18.78s/it]"
     ]
    },
    {
     "output_type": "stream",
     "name": "stdout",
     "text": [
      "epoch: 47 loss: 0.2221454406422927\n",
      "metrics: (0.8130658477867507, 0.7731435061776701, 0.774600781347329)\n"
     ]
    },
    {
     "output_type": "stream",
     "name": "stderr",
     "text": [
      "\rTraining Started:  96%|█████████▌| 48/50 [15:01<00:37, 18.79s/it]"
     ]
    },
    {
     "output_type": "stream",
     "name": "stdout",
     "text": [
      "epoch: 48 loss: 0.21908739387845602\n",
      "metrics: (0.8138983693591202, 0.7744029520214989, 0.7759430172223272)\n"
     ]
    },
    {
     "output_type": "stream",
     "name": "stderr",
     "text": [
      "\rTraining Started:  98%|█████████▊| 49/50 [15:20<00:18, 18.78s/it]"
     ]
    },
    {
     "output_type": "stream",
     "name": "stdout",
     "text": [
      "epoch: 49 loss: 0.2161164978088754\n",
      "metrics: (0.8124109529769907, 0.7746739978098958, 0.7763001171967556)\n"
     ]
    },
    {
     "output_type": "stream",
     "name": "stderr",
     "text": [
      "Training Started: 100%|██████████| 50/50 [15:39<00:00, 18.78s/it]"
     ]
    },
    {
     "output_type": "stream",
     "name": "stdout",
     "text": [
      "epoch: 50 loss: 0.21320929217636417\n",
      "metrics: (0.811447938444296, 0.7748546950021602, 0.7765343896530483)\n"
     ]
    },
    {
     "output_type": "stream",
     "name": "stderr",
     "text": [
      "\n"
     ]
    }
   ],
   "source": [
    "\n",
    "def compute_metrics(y_true, y_pred):\n",
    "    precision = precision_score(y_true, y_pred, average='macro')\n",
    "    recall = recall_score(y_true, y_pred, average='macro')\n",
    "    f1 = f1_score(y_true, y_pred, average='macro')\n",
    "\n",
    "    return precision, recall, f1\n",
    "\n",
    "\n",
    "device = 'cuda' if torch.cuda.is_available() else 'cpu'\n",
    "\n",
    "### hyperparameters\n",
    "in_feats = len(vocab)\n",
    "hidden_size = in_feats * 8\n",
    "out_classes = 1\n",
    "epochs = 50\n",
    "early_stopping = 50\n",
    "lr = 1e-5\n",
    "model_name = 'best-model-bin'\n",
    "\n",
    "### neural net\n",
    "ffn = FFN(in_feats=in_feats, hidden_size=hidden_size, out_feats=out_classes, emb_matrix=emb).to(device)\n",
    "\n",
    "### optimizer - AdamW = architectural variant of Gradient Descent\n",
    "opt = torch.optim.AdamW(ffn.parameters(), lr=lr)\n",
    "\n",
    "### loss function\n",
    "### 1. Binary Classification - BCELoss(), BCEWithLogitsLoss\n",
    "### difference - needs sigmoid/internal sigmoid\n",
    "\n",
    "### 2. Multi Class Classification - NLLLoss(), CrossEntropyLoss()\n",
    "### difference - needs softmax/internal softmax\n",
    "\n",
    "\n",
    "loss_fn = torch.nn.BCEWithLogitsLoss()\n",
    "\n",
    "best_f1, best_model_dict, bestloss = 0.0, None, 0.0\n",
    "tolerance = early_stopping\n",
    "\n",
    "for epoch in tqdm(range(epochs), desc='Training Started'):\n",
    "    epoch_loss = []\n",
    "    for examples, y in train_loader:\n",
    "        # BCE\n",
    "        y = y.float().unsqueeze(1).to(device)\n",
    "        opt.zero_grad()\n",
    "\n",
    "        y_hat = ffn(examples.to(device))\n",
    "        loss = loss_fn(y_hat, y)\n",
    "\n",
    "        epoch_loss.append(loss.item())\n",
    "        loss.backward()\n",
    "\n",
    "        opt.step()\n",
    "\n",
    "    ### evaluation every epoch\n",
    "    ### on dev set\n",
    "    y_true, y_pred = [], []\n",
    "    for examples_val, y_val in val_loader:\n",
    "        y_hat_val = ffn(examples_val.to(device))\n",
    "        y_true.extend([_.item() for _ in y_val])\n",
    "        y_pred.extend([1 if _.item() >= .5 else 0 for _ in torch.sigmoid(y_hat_val).squeeze(1)])\n",
    "\n",
    "    p, r, f1 = compute_metrics(y_true, y_pred)\n",
    "\n",
    "    if best_f1 < f1:\n",
    "        best_f1 = f1\n",
    "        best_model_dict = deepcopy(ffn.state_dict())\n",
    "        tolerance = early_stopping\n",
    "        bestloss = sum(epoch_loss) / len(epoch_loss)\n",
    "    else:\n",
    "        tolerance -= 1\n",
    "        if tolerance == 0:\n",
    "            print(f'no improvement for {early_stopping} epochs')\n",
    "            break\n",
    "\n",
    "    print(f'epoch: {epoch + 1} '\n",
    "          f'loss: {sum(epoch_loss) / len(epoch_loss)}\\n'\n",
    "          f'metrics: {p, r, f1}')\n",
    "\n"
   ],
   "metadata": {
    "is_executing": true,
    "ExecuteTime": {
     "start_time": "2025-05-24T11:40:25.613249Z"
    },
    "colab": {
     "base_uri": "https://localhost:8080/"
    },
    "id": "c1e578a0c207cbb8",
    "outputId": "89e695b9-fc14-4cde-eb1f-47dec040afc2"
   },
   "id": "c1e578a0c207cbb8",
   "execution_count": null
  },
  {
   "cell_type": "markdown",
   "source": [
    "### Save"
   ],
   "metadata": {
    "collapsed": false,
    "id": "dda79563b5afa534"
   },
   "id": "dda79563b5afa534"
  },
  {
   "cell_type": "code",
   "outputs": [],
   "source": [
    "torch.save({'state_dict': best_model_dict, 'embeddings': deepcopy(emb), 'epochs': epochs,\n",
    "            'early_stopping': early_stopping, 'loss': bestloss,\n",
    "            'loss_fn': loss_fn.__class__.__name__,\n",
    "            'optimizer': opt.__class__.__name__,\n",
    "            'in_feats': in_feats, 'hidden_size': hidden_size, 'out_feats': out_classes, 'lr': lr, 'test_loader': deepcopy(test_loader)},\n",
    "           f'drive/MyDrive/Experiments/SNLP2/week_04/models/{model_name}.pt')"
   ],
   "metadata": {
    "ExecuteTime": {
     "start_time": "2025-05-22T23:10:11.824623Z"
    },
    "id": "95788b01c4bf6c51"
   },
   "id": "95788b01c4bf6c51",
   "execution_count": null
  },
  {
   "cell_type": "markdown",
   "source": [
    "### Evaluate"
   ],
   "metadata": {
    "id": "gJSgN5-8Ym6B"
   },
   "id": "gJSgN5-8Ym6B"
  },
  {
   "cell_type": "code",
   "outputs": [
    {
     "output_type": "execute_result",
     "data": {
      "text/plain": [
       "(0.8149681803783799, 0.7780251846655177, 0.7821005060884619)"
      ]
     },
     "metadata": {},
     "execution_count": 15
    }
   ],
   "source": [
    "ffn.load_state_dict(torch.load('drive/MyDrive/Experiments/SNLP2/week_04/models/best-model-bin.pt', weights_only=False, map_location=device)['state_dict'])\n",
    "\n",
    "with torch.no_grad():\n",
    "  y_true, y_pred = [], []\n",
    "  for examples_test, y_test in test_loader:\n",
    "      y_hat = ffn.forward(examples_test.to(device))\n",
    "      y_true.extend([_.item() for _ in y_test])\n",
    "      y_pred.extend([1 if _.item() >= .5 else 0 for _ in torch.sigmoid(y_hat).squeeze(1)])\n",
    "\n",
    "compute_metrics(y_true, y_pred)"
   ],
   "metadata": {
    "id": "d1ffefb14e03cb76",
    "colab": {
     "base_uri": "https://localhost:8080/"
    },
    "outputId": "0cbb0ae5-9eae-4bd3-e3c8-dd6bbf6c9b14"
   },
   "id": "d1ffefb14e03cb76",
   "execution_count": null
  },
  {
   "cell_type": "code",
   "source": [
    "ConfusionMatrixDisplay(confusion_matrix(y_true, y_pred), display_labels=['positive', 'negative']).plot(\n",
    "    cmap=plt.cm.Blues)\n",
    "plt.show()"
   ],
   "metadata": {
    "colab": {
     "base_uri": "https://localhost:8080/",
     "height": 449
    },
    "id": "BlixmBSeXqF7",
    "outputId": "c1cc0de1-6abe-428f-9bad-c764f60df340"
   },
   "id": "BlixmBSeXqF7",
   "execution_count": null,
   "outputs": [
    {
     "output_type": "display_data",
     "data": {
      "text/plain": [
       "<Figure size 640x480 with 2 Axes>"
      ],
      "image/png": "[encoded data removed]"
     },
     "metadata": {}
    }
   ]
  }
 ],
 "metadata": {
  "kernelspec": {
   "display_name": "Python 3",
   "name": "python3"
  },
  "language_info": {
   "codemirror_mode": {
    "name": "ipython",
    "version": 2
   },
   "file_extension": ".py",
   "mimetype": "text/x-python",
   "name": "python",
   "nbconvert_exporter": "python",
   "pygments_lexer": "ipython2",
   "version": "2.7.6"
  },
  "colab": {
   "provenance": []
  }
 },
 "nbformat": 4,
 "nbformat_minor": 5
}
