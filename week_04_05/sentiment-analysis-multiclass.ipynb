{
 "cells": [
  {
   "cell_type": "code",
   "outputs": [],
   "source": [
    "import pandas as pd\n",
    "from sklearn.feature_extraction.text import TfidfVectorizer\n",
    "from sklearn.metrics import precision_score, recall_score, f1_score\n",
    "from sklearn.linear_model import LogisticRegression\n",
    "from sklearn.model_selection import RandomizedSearchCV\n",
    "from sklearn.decomposition import TruncatedSVD\n",
    "import torch\n",
    "import torch.nn as nn\n"
   ],
   "metadata": {
    "collapsed": false,
    "ExecuteTime": {
     "end_time": "2025-05-29T22:54:59.898443Z",
     "start_time": "2025-05-29T22:54:59.813043Z"
    }
   },
   "id": "6b50a3f8623744b4",
   "execution_count": 61
  },
  {
   "cell_type": "code",
   "execution_count": 62,
   "id": "initial_id",
   "metadata": {
    "collapsed": true,
    "ExecuteTime": {
     "end_time": "2025-05-29T22:55:00.713479Z",
     "start_time": "2025-05-29T22:55:00.214174Z"
    }
   },
   "outputs": [
    {
     "data": {
      "text/plain": "label\n2    4861\n0    3943\n1    1196\nName: count, dtype: int64"
     },
     "execution_count": 62,
     "metadata": {},
     "output_type": "execute_result"
    }
   ],
   "source": [
    "df_train = pd.read_csv('Sentiment-Analysis/train_data.csv', delimiter=',')[: 10000]\n",
    "df_train['label'].value_counts()"
   ]
  },
  {
   "cell_type": "code",
   "outputs": [
    {
     "data": {
      "text/plain": "label\n2    444\n0    408\n1    148\nName: count, dtype: int64"
     },
     "execution_count": 63,
     "metadata": {},
     "output_type": "execute_result"
    }
   ],
   "source": [
    "df_val = pd.read_csv('Sentiment-Analysis/val_data.csv', delimiter=',')[: 1000]\n",
    "df_val['label'].value_counts()"
   ],
   "metadata": {
    "collapsed": false,
    "ExecuteTime": {
     "end_time": "2025-05-29T22:55:00.799536Z",
     "start_time": "2025-05-29T22:55:00.715572Z"
    }
   },
   "id": "fb3c137ee4aa9c8a",
   "execution_count": 63
  },
  {
   "cell_type": "code",
   "outputs": [
    {
     "data": {
      "text/plain": "label\n2    493\n0    399\n1    108\nName: count, dtype: int64"
     },
     "execution_count": 64,
     "metadata": {},
     "output_type": "execute_result"
    }
   ],
   "source": [
    "df_test = pd.read_csv('Sentiment-Analysis/test_data.csv', delimiter=',')[: 1000]\n",
    "df_test['label'].value_counts()"
   ],
   "metadata": {
    "collapsed": false,
    "ExecuteTime": {
     "end_time": "2025-05-29T22:55:05.540490Z",
     "start_time": "2025-05-29T22:55:05.477197Z"
    }
   },
   "id": "f79283515fe803d",
   "execution_count": 64
  },
  {
   "cell_type": "code",
   "outputs": [
    {
     "name": "stdout",
     "output_type": "stream",
     "text": [
      "torch.Size([10000, 500]) torch.Size([1000, 500]) torch.Size([1000, 500])\n"
     ]
    }
   ],
   "source": [
    "tfidf = TfidfVectorizer(use_idf=True, smooth_idf=True, analyzer='word')\n",
    "pca = TruncatedSVD(n_components=500)\n",
    "\n",
    "X_train, Y_train = tfidf.fit_transform(list(df_train['text'])), torch.tensor(list(df_train['label']))\n",
    "X_train = torch.tensor(pca.fit_transform(X_train), dtype=torch.float32)\n",
    "\n",
    "X_val, Y_val = tfidf.transform(list(df_val['text'])), torch.tensor(list(df_val['label']))\n",
    "X_val = torch.tensor(pca.transform(X_val), dtype=torch.float32)\n",
    "\n",
    "X_test, Y_test = tfidf.transform(list(df_test['text'])), torch.tensor(list(df_test['label']))\n",
    "X_test = torch.tensor(pca.transform(X_test), dtype=torch.float32)\n",
    "\n",
    "\n",
    "print(X_train.shape, X_val.shape, X_test.shape)         "
   ],
   "metadata": {
    "collapsed": false,
    "ExecuteTime": {
     "end_time": "2025-05-29T22:55:30.083885Z",
     "start_time": "2025-05-29T22:55:19.306716Z"
    }
   },
   "id": "c553dec89772d3d4",
   "execution_count": 66
  },
  {
   "cell_type": "code",
   "outputs": [],
   "source": [
    "def compute_metrics(y_true, y_pred):\n",
    "    precision = precision_score(y_true, y_pred, average='macro')\n",
    "    recall = recall_score(y_true, y_pred, average='macro')\n",
    "    f1 = f1_score(y_true, y_pred, average='macro')\n",
    "\n",
    "    return precision, recall, f1"
   ],
   "metadata": {
    "collapsed": false,
    "ExecuteTime": {
     "end_time": "2025-05-29T22:55:30.094480Z",
     "start_time": "2025-05-29T22:55:30.086024Z"
    }
   },
   "id": "333c05b061e70da8",
   "execution_count": 67
  },
  {
   "cell_type": "code",
   "outputs": [
    {
     "name": "stdout",
     "output_type": "stream",
     "text": [
      "(0.6371364351656216, 0.5766583369248754, 0.5930820690541875)\n"
     ]
    }
   ],
   "source": [
    "logistic_regression = RandomizedSearchCV(LogisticRegression(), param_distributions={\n",
    "    'C': [0.5, 1, 2, 3, 4],\n",
    "    'max_iter': [100, 500, 1000]\n",
    "}, cv=5, scoring='f1_macro')\n",
    "\n",
    "logistic_regression.fit(X_train, Y_train)\n",
    "y_hat = logistic_regression.predict(X_test)\n",
    "\n",
    "print(compute_metrics(Y_test, y_hat))"
   ],
   "metadata": {
    "collapsed": false,
    "ExecuteTime": {
     "end_time": "2025-05-29T22:56:37.979975Z",
     "start_time": "2025-05-29T22:55:58.097671Z"
    }
   },
   "id": "14f0ba1d87db9b4e",
   "execution_count": 69
  },
  {
   "cell_type": "code",
   "outputs": [
    {
     "name": "stderr",
     "output_type": "stream",
     "text": [
      "D:\\Работен плот\\Tubingen\\GitHub\\SNLP2\\.venv\\Lib\\site-packages\\sklearn\\metrics\\_classification.py:1565: UndefinedMetricWarning: Precision is ill-defined and being set to 0.0 in labels with no predicted samples. Use `zero_division` parameter to control this behavior.\n",
      "  _warn_prf(average, modifier, f\"{metric.capitalize()} is\", len(result))\n"
     ]
    },
    {
     "name": "stdout",
     "output_type": "stream",
     "text": [
      "epoch: 1 loss: 1.1024974584579468 dev f1-macro: 0.21574351832011998\n"
     ]
    },
    {
     "name": "stderr",
     "output_type": "stream",
     "text": [
      "D:\\Работен плот\\Tubingen\\GitHub\\SNLP2\\.venv\\Lib\\site-packages\\sklearn\\metrics\\_classification.py:1565: UndefinedMetricWarning: Precision is ill-defined and being set to 0.0 in labels with no predicted samples. Use `zero_division` parameter to control this behavior.\n",
      "  _warn_prf(average, modifier, f\"{metric.capitalize()} is\", len(result))\n"
     ]
    },
    {
     "name": "stdout",
     "output_type": "stream",
     "text": [
      "epoch: 2 loss: 1.9625439643859863 dev f1-macro: 0.1931818181818182\n"
     ]
    },
    {
     "name": "stderr",
     "output_type": "stream",
     "text": [
      "D:\\Работен плот\\Tubingen\\GitHub\\SNLP2\\.venv\\Lib\\site-packages\\sklearn\\metrics\\_classification.py:1565: UndefinedMetricWarning: Precision is ill-defined and being set to 0.0 in labels with no predicted samples. Use `zero_division` parameter to control this behavior.\n",
      "  _warn_prf(average, modifier, f\"{metric.capitalize()} is\", len(result))\n"
     ]
    },
    {
     "name": "stdout",
     "output_type": "stream",
     "text": [
      "epoch: 3 loss: 2.794063091278076 dev f1-macro: 0.33001907830283117\n"
     ]
    },
    {
     "name": "stderr",
     "output_type": "stream",
     "text": [
      "D:\\Работен плот\\Tubingen\\GitHub\\SNLP2\\.venv\\Lib\\site-packages\\sklearn\\metrics\\_classification.py:1565: UndefinedMetricWarning: Precision is ill-defined and being set to 0.0 in labels with no predicted samples. Use `zero_division` parameter to control this behavior.\n",
      "  _warn_prf(average, modifier, f\"{metric.capitalize()} is\", len(result))\n"
     ]
    },
    {
     "name": "stdout",
     "output_type": "stream",
     "text": [
      "epoch: 4 loss: 0.8826376795768738 dev f1-macro: 0.38692810457516336\n"
     ]
    },
    {
     "name": "stderr",
     "output_type": "stream",
     "text": [
      "D:\\Работен плот\\Tubingen\\GitHub\\SNLP2\\.venv\\Lib\\site-packages\\sklearn\\metrics\\_classification.py:1565: UndefinedMetricWarning: Precision is ill-defined and being set to 0.0 in labels with no predicted samples. Use `zero_division` parameter to control this behavior.\n",
      "  _warn_prf(average, modifier, f\"{metric.capitalize()} is\", len(result))\n"
     ]
    },
    {
     "name": "stdout",
     "output_type": "stream",
     "text": [
      "epoch: 5 loss: 0.7822012305259705 dev f1-macro: 0.28834102190258487\n",
      "epoch: 6 loss: 0.813383936882019 dev f1-macro: 0.35040520639945383\n",
      "epoch: 7 loss: 0.7523594498634338 dev f1-macro: 0.4226115397426027\n",
      "epoch: 8 loss: 0.6647911071777344 dev f1-macro: 0.4805865907801283\n",
      "epoch: 9 loss: 0.6343325972557068 dev f1-macro: 0.5350691976182196\n",
      "epoch: 10 loss: 0.5584775805473328 dev f1-macro: 0.5848623498369797\n",
      "epoch: 11 loss: 0.49861204624176025 dev f1-macro: 0.6085708034694683\n",
      "epoch: 12 loss: 0.45301786065101624 dev f1-macro: 0.6478583169745037\n",
      "epoch: 13 loss: 0.3963864743709564 dev f1-macro: 0.6491157522896854\n",
      "epoch: 14 loss: 0.35223880410194397 dev f1-macro: 0.6445630355153572\n",
      "epoch: 15 loss: 0.30504703521728516 dev f1-macro: 0.6429983422149473\n",
      "epoch: 16 loss: 0.2637464702129364 dev f1-macro: 0.6403909107930839\n",
      "epoch: 17 loss: 0.22303786873817444 dev f1-macro: 0.6437890082273877\n",
      "epoch: 18 loss: 0.18889452517032623 dev f1-macro: 0.6382259514859359\n",
      "epoch: 19 loss: 0.16079837083816528 dev f1-macro: 0.6369291802400606\n",
      "epoch: 20 loss: 0.1365393102169037 dev f1-macro: 0.6367487593577409\n",
      "epoch: 21 loss: 0.11882135272026062 dev f1-macro: 0.6472607766539975\n",
      "epoch: 22 loss: 0.10269708186388016 dev f1-macro: 0.6482867641182914\n",
      "epoch: 23 loss: 0.0920025110244751 dev f1-macro: 0.6456841661171498\n",
      "epoch: 24 loss: 0.08210517466068268 dev f1-macro: 0.6449498541512905\n",
      "epoch: 25 loss: 0.0750155821442604 dev f1-macro: 0.6390657026590486\n",
      "epoch: 26 loss: 0.06905341148376465 dev f1-macro: 0.6373970144383718\n",
      "epoch: 27 loss: 0.06429366767406464 dev f1-macro: 0.6424947879673877\n",
      "epoch: 28 loss: 0.06033674255013466 dev f1-macro: 0.6439457537723872\n",
      "epoch: 29 loss: 0.057092152535915375 dev f1-macro: 0.645386778121122\n",
      "epoch: 30 loss: 0.054196104407310486 dev f1-macro: 0.6434623668194103\n",
      "epoch: 31 loss: 0.05179766193032265 dev f1-macro: 0.6489881872355361\n",
      "epoch: 32 loss: 0.049543898552656174 dev f1-macro: 0.6553944513639957\n",
      "epoch: 33 loss: 0.0475325882434845 dev f1-macro: 0.6550217139548836\n",
      "epoch: 34 loss: 0.04581199958920479 dev f1-macro: 0.6539731515037732\n",
      "epoch: 35 loss: 0.04422789439558983 dev f1-macro: 0.6491110095710849\n",
      "epoch: 36 loss: 0.042746927589178085 dev f1-macro: 0.6520777539344972\n",
      "epoch: 37 loss: 0.041338782757520676 dev f1-macro: 0.6466710564679957\n",
      "epoch: 38 loss: 0.040113307535648346 dev f1-macro: 0.644585692590794\n",
      "epoch: 39 loss: 0.03903666511178017 dev f1-macro: 0.639041268401396\n",
      "epoch: 40 loss: 0.038040805608034134 dev f1-macro: 0.63918417924189\n",
      "epoch: 41 loss: 0.03716375678777695 dev f1-macro: 0.6353027691262986\n",
      "epoch: 42 loss: 0.03618171811103821 dev f1-macro: 0.6345226581732917\n",
      "epoch: 43 loss: 0.03524664416909218 dev f1-macro: 0.6431663638689987\n",
      "epoch: 44 loss: 0.03433261439204216 dev f1-macro: 0.6416729649769359\n",
      "epoch: 45 loss: 0.0336943045258522 dev f1-macro: 0.6432175558988971\n",
      "epoch: 46 loss: 0.033146072179079056 dev f1-macro: 0.6481045323654592\n",
      "epoch: 47 loss: 0.032409992069005966 dev f1-macro: 0.6515449363506544\n",
      "epoch: 48 loss: 0.03162369132041931 dev f1-macro: 0.6508115550660011\n",
      "epoch: 49 loss: 0.03110469877719879 dev f1-macro: 0.651801399036993\n",
      "epoch: 50 loss: 0.030384033918380737 dev f1-macro: 0.6499770993824455\n",
      "epoch: 51 loss: 0.029721878468990326 dev f1-macro: 0.6493096888493395\n",
      "epoch: 52 loss: 0.029252756386995316 dev f1-macro: 0.652704928158934\n",
      "epoch: 53 loss: 0.02889479137957096 dev f1-macro: 0.6526573486322236\n",
      "epoch: 54 loss: 0.028359726071357727 dev f1-macro: 0.6523577277165938\n",
      "epoch: 55 loss: 0.027761206030845642 dev f1-macro: 0.6504610436906518\n",
      "epoch: 56 loss: 0.027158642187714577 dev f1-macro: 0.6487453772699675\n",
      "epoch: 57 loss: 0.02682989276945591 dev f1-macro: 0.6521378099446339\n",
      "epoch: 58 loss: 0.026651745662093163 dev f1-macro: 0.6492053196401022\n",
      "epoch: 59 loss: 0.025937911123037338 dev f1-macro: 0.6483232147023321\n",
      "epoch: 60 loss: 0.025448836386203766 dev f1-macro: 0.6484581959256663\n",
      "epoch: 61 loss: 0.025109972804784775 dev f1-macro: 0.6525429834906274\n",
      "epoch: 62 loss: 0.024736544117331505 dev f1-macro: 0.6536801257993802\n",
      "epoch: 63 loss: 0.024366632103919983 dev f1-macro: 0.6515930760772616\n",
      "epoch: 64 loss: 0.0241892971098423 dev f1-macro: 0.6486213864489258\n",
      "epoch: 65 loss: 0.023635923862457275 dev f1-macro: 0.6501257420680661\n",
      "epoch: 66 loss: 0.023328982293605804 dev f1-macro: 0.6450753765626024\n",
      "epoch: 67 loss: 0.023129526525735855 dev f1-macro: 0.6518119603581222\n",
      "epoch: 68 loss: 0.023025378584861755 dev f1-macro: 0.647014899149624\n",
      "epoch: 69 loss: 0.02252458594739437 dev f1-macro: 0.6519230417856848\n",
      "epoch: 70 loss: 0.022156575694680214 dev f1-macro: 0.6528158909514842\n",
      "epoch: 71 loss: 0.021851088851690292 dev f1-macro: 0.6527517163443205\n",
      "epoch: 72 loss: 0.021481268107891083 dev f1-macro: 0.6540316489686727\n",
      "epoch: 73 loss: 0.02124987728893757 dev f1-macro: 0.6515442736654938\n",
      "epoch: 74 loss: 0.021197210997343063 dev f1-macro: 0.6548608018281225\n",
      "epoch: 75 loss: 0.021163642406463623 dev f1-macro: 0.6488066414821555\n",
      "epoch: 76 loss: 0.02062525413930416 dev f1-macro: 0.6526696036654386\n",
      "epoch: 77 loss: 0.020289327949285507 dev f1-macro: 0.6522520499912973\n",
      "epoch: 78 loss: 0.020145434886217117 dev f1-macro: 0.6531070954526639\n",
      "epoch: 79 loss: 0.020161692053079605 dev f1-macro: 0.650646959887159\n",
      "epoch: 80 loss: 0.020250268280506134 dev f1-macro: 0.6521365614100479\n",
      "epoch: 81 loss: 0.019883066415786743 dev f1-macro: 0.6511708098715091\n",
      "epoch: 82 loss: 0.01958387903869152 dev f1-macro: 0.6547042037579095\n",
      "epoch: 83 loss: 0.019303204491734505 dev f1-macro: 0.6536086384222385\n",
      "epoch: 84 loss: 0.01913897879421711 dev f1-macro: 0.6535469017248258\n",
      "epoch: 85 loss: 0.019064420834183693 dev f1-macro: 0.6531234631899192\n",
      "epoch: 86 loss: 0.019139422103762627 dev f1-macro: 0.6551496733713452\n",
      "epoch: 87 loss: 0.01874440722167492 dev f1-macro: 0.6530545283850324\n",
      "epoch: 88 loss: 0.018586382269859314 dev f1-macro: 0.6543520838894206\n",
      "epoch: 89 loss: 0.018688224256038666 dev f1-macro: 0.6538313291056066\n",
      "epoch: 90 loss: 0.01835913211107254 dev f1-macro: 0.6532579211524171\n",
      "epoch: 91 loss: 0.018130378797650337 dev f1-macro: 0.652268110354887\n",
      "epoch: 92 loss: 0.018040835857391357 dev f1-macro: 0.6546591686119166\n",
      "epoch: 93 loss: 0.018194561824202538 dev f1-macro: 0.6515601385715871\n",
      "epoch: 94 loss: 0.018337909132242203 dev f1-macro: 0.65660904631522\n",
      "epoch: 95 loss: 0.017870889976620674 dev f1-macro: 0.6520090932895332\n",
      "epoch: 96 loss: 0.017596611753106117 dev f1-macro: 0.6510139032408828\n",
      "epoch: 97 loss: 0.01751376874744892 dev f1-macro: 0.6497256686141035\n",
      "epoch: 98 loss: 0.01734445057809353 dev f1-macro: 0.6482898698745192\n",
      "epoch: 99 loss: 0.017314240336418152 dev f1-macro: 0.6500485377988108\n",
      "epoch: 100 loss: 0.017506729811429977 dev f1-macro: 0.6485777858780777\n"
     ]
    }
   ],
   "source": [
    "class FFN(nn.Module):\n",
    "    def __init__(self, in_feats, hidden_size, out_feats):\n",
    "        super(FFN, self).__init__()\n",
    "        self.lin1 = nn.Linear(in_feats, hidden_size)\n",
    "        self.relu = nn.ReLU()\n",
    "        self.lin2 = nn.Linear(hidden_size, out_feats)\n",
    "\n",
    "    def forward(self, X):\n",
    "        return self.lin2(self.relu(self.lin1(X)))\n",
    "\n",
    "\n",
    "in_feats = X_train.shape[1]\n",
    "hidden_size = in_feats * 8\n",
    "out_feats = 3\n",
    "epochs = 100\n",
    "lr = 0.03\n",
    "\n",
    "ffn = FFN(in_feats, hidden_size, out_feats)\n",
    "optimizer = torch.optim.AdamW(ffn.parameters(), lr)\n",
    "loss_fn = nn.CrossEntropyLoss()\n",
    "\n",
    "for epoch in range(epochs):\n",
    "    optimizer.zero_grad()\n",
    "    y_hat = ffn.forward(X_train)\n",
    "    loss = loss_fn(y_hat, Y_train)\n",
    "    loss.backward()\n",
    "    optimizer.step()\n",
    "\n",
    "    with torch.no_grad():\n",
    "        p, r, f1 = compute_metrics(Y_val, torch.argmax(ffn.forward(X_val), dim=1))\n",
    "        print(f'epoch: {epoch + 1} loss: {loss.item()} dev f1-macro: {f1}')"
   ],
   "metadata": {
    "collapsed": false,
    "ExecuteTime": {
     "end_time": "2025-05-29T22:57:31.770023Z",
     "start_time": "2025-05-29T22:56:41.856514Z"
    }
   },
   "id": "d6e8ed82158ff933",
   "execution_count": 70
  },
  {
   "cell_type": "code",
   "outputs": [
    {
     "name": "stdout",
     "output_type": "stream",
     "text": [
      "precision-macro: 0.6158086562592433 recall-macro: 0.6072983808028823 dev f1-macro: 0.6102392381282622\n"
     ]
    }
   ],
   "source": [
    "with torch.no_grad():\n",
    "    p, r, f1 = compute_metrics(Y_test, torch.argmax(ffn.forward(X_test), dim=1))\n",
    "    print(f'precision-macro: {p} recall-macro: {r} dev f1-macro: {f1}')"
   ],
   "metadata": {
    "collapsed": false,
    "ExecuteTime": {
     "end_time": "2025-05-29T22:57:34.119900Z",
     "start_time": "2025-05-29T22:57:34.084946Z"
    }
   },
   "id": "cc02e80ee9047d4c",
   "execution_count": 71
  },
  {
   "cell_type": "code",
   "outputs": [],
   "source": [],
   "metadata": {
    "collapsed": false
   },
   "id": "2dee54ecfa4dc4f9"
  }
 ],
 "metadata": {
  "kernelspec": {
   "display_name": "Python 3",
   "language": "python",
   "name": "python3"
  },
  "language_info": {
   "codemirror_mode": {
    "name": "ipython",
    "version": 2
   },
   "file_extension": ".py",
   "mimetype": "text/x-python",
   "name": "python",
   "nbconvert_exporter": "python",
   "pygments_lexer": "ipython2",
   "version": "2.7.6"
  }
 },
 "nbformat": 4,
 "nbformat_minor": 5
}
