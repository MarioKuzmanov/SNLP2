{
  "cells": [
    {
      "cell_type": "markdown",
      "metadata": {
        "id": "-umk9Dgb8qFm"
      },
      "source": [
        "# FFN vs LogReg"
      ]
    },
    {
      "cell_type": "markdown",
      "metadata": {
        "id": "gq3z_w4r9E6d"
      },
      "source": [
        "#### on a synthetic dataset\n",
        "#### N.B. Generative AI was used to generate the synthetic datasets"
      ]
    },
    {
      "cell_type": "code",
      "source": [
        "!pip install gensim compress_fasttext"
      ],
      "metadata": {
        "colab": {
          "base_uri": "https://localhost:8080/"
        },
        "id": "lrtE5LFkD2T0",
        "outputId": "4b67e15d-310d-4e8c-d43c-fcc4d98f5cc8",
        "collapsed": true
      },
      "execution_count": null,
      "outputs": [
        {
          "output_type": "stream",
          "name": "stdout",
          "text": [
            "Collecting gensim\n",
            "  Downloading gensim-4.3.3-cp311-cp311-manylinux_2_17_x86_64.manylinux2014_x86_64.whl.metadata (8.1 kB)\n",
            "Collecting compress_fasttext\n",
            "  Downloading compress-fasttext-0.1.5.tar.gz (15 kB)\n",
            "  Preparing metadata (setup.py) ... \u001b[?25l\u001b[?25hdone\n",
            "Collecting numpy<2.0,>=1.18.5 (from gensim)\n",
            "  Downloading numpy-1.26.4-cp311-cp311-manylinux_2_17_x86_64.manylinux2014_x86_64.whl.metadata (61 kB)\n",
            "\u001b[2K     \u001b[90m━━━━━━━━━━━━━━━━━━━━━━━━━━━━━━━━━━━━━━━━\u001b[0m \u001b[32m61.0/61.0 kB\u001b[0m \u001b[31m2.5 MB/s\u001b[0m eta \u001b[36m0:00:00\u001b[0m\n",
            "\u001b[?25hCollecting scipy<1.14.0,>=1.7.0 (from gensim)\n",
            "  Downloading scipy-1.13.1-cp311-cp311-manylinux_2_17_x86_64.manylinux2014_x86_64.whl.metadata (60 kB)\n",
            "\u001b[2K     \u001b[90m━━━━━━━━━━━━━━━━━━━━━━━━━━━━━━━━━━━━━━━━\u001b[0m \u001b[32m60.6/60.6 kB\u001b[0m \u001b[31m5.4 MB/s\u001b[0m eta \u001b[36m0:00:00\u001b[0m\n",
            "\u001b[?25hRequirement already satisfied: smart-open>=1.8.1 in /usr/local/lib/python3.11/dist-packages (from gensim) (7.1.0)\n",
            "Requirement already satisfied: wrapt in /usr/local/lib/python3.11/dist-packages (from smart-open>=1.8.1->gensim) (1.17.2)\n",
            "Downloading gensim-4.3.3-cp311-cp311-manylinux_2_17_x86_64.manylinux2014_x86_64.whl (26.7 MB)\n",
            "\u001b[2K   \u001b[90m━━━━━━━━━━━━━━━━━━━━━━━━━━━━━━━━━━━━━━━━\u001b[0m \u001b[32m26.7/26.7 MB\u001b[0m \u001b[31m67.5 MB/s\u001b[0m eta \u001b[36m0:00:00\u001b[0m\n",
            "\u001b[?25hDownloading numpy-1.26.4-cp311-cp311-manylinux_2_17_x86_64.manylinux2014_x86_64.whl (18.3 MB)\n",
            "\u001b[2K   \u001b[90m━━━━━━━━━━━━━━━━━━━━━━━━━━━━━━━━━━━━━━━━\u001b[0m \u001b[32m18.3/18.3 MB\u001b[0m \u001b[31m68.6 MB/s\u001b[0m eta \u001b[36m0:00:00\u001b[0m\n",
            "\u001b[?25hDownloading scipy-1.13.1-cp311-cp311-manylinux_2_17_x86_64.manylinux2014_x86_64.whl (38.6 MB)\n",
            "\u001b[2K   \u001b[90m━━━━━━━━━━━━━━━━━━━━━━━━━━━━━━━━━━━━━━━━\u001b[0m \u001b[32m38.6/38.6 MB\u001b[0m \u001b[31m12.8 MB/s\u001b[0m eta \u001b[36m0:00:00\u001b[0m\n",
            "\u001b[?25hBuilding wheels for collected packages: compress_fasttext\n",
            "  Building wheel for compress_fasttext (setup.py) ... \u001b[?25l\u001b[?25hdone\n",
            "  Created wheel for compress_fasttext: filename=compress_fasttext-0.1.5-py3-none-any.whl size=16098 sha256=3fcc4ef3a4fde239be8cfebdb464bccf48c712827af2d5009206aa232079bc4d\n",
            "  Stored in directory: /root/.cache/pip/wheels/90/ed/77/0a7fc5e08ff30e062f09c6904844a5911a9e30a7e5ec376890\n",
            "Successfully built compress_fasttext\n",
            "Installing collected packages: numpy, scipy, gensim, compress_fasttext\n",
            "  Attempting uninstall: numpy\n",
            "    Found existing installation: numpy 2.0.2\n",
            "    Uninstalling numpy-2.0.2:\n",
            "      Successfully uninstalled numpy-2.0.2\n",
            "  Attempting uninstall: scipy\n",
            "    Found existing installation: scipy 1.15.3\n",
            "    Uninstalling scipy-1.15.3:\n",
            "      Successfully uninstalled scipy-1.15.3\n",
            "\u001b[31mERROR: pip's dependency resolver does not currently take into account all the packages that are installed. This behaviour is the source of the following dependency conflicts.\n",
            "tsfresh 0.21.0 requires scipy>=1.14.0; python_version >= \"3.10\", but you have scipy 1.13.1 which is incompatible.\n",
            "thinc 8.3.6 requires numpy<3.0.0,>=2.0.0, but you have numpy 1.26.4 which is incompatible.\u001b[0m\u001b[31m\n",
            "\u001b[0mSuccessfully installed compress_fasttext-0.1.5 gensim-4.3.3 numpy-1.26.4 scipy-1.13.1\n"
          ]
        }
      ]
    },
    {
      "cell_type": "code",
      "execution_count": null,
      "metadata": {
        "id": "qz4qOYa69Eeq"
      },
      "outputs": [],
      "source": [
        "import string\n",
        "import torch\n",
        "import torch.nn as nn\n",
        "import numpy as np\n",
        "import pandas as pd\n",
        "from sklearn.linear_model import LogisticRegression\n",
        "from sklearn.feature_extraction.text import TfidfVectorizer\n",
        "from sklearn.metrics import precision_score, recall_score, f1_score, confusion_matrix, ConfusionMatrixDisplay\n",
        "from sklearn.decomposition import TruncatedSVD\n",
        "from tqdm import tqdm\n",
        "import matplotlib.pyplot as plt\n",
        "from gensim.models import KeyedVectors\n",
        "from torch.utils.data import Dataset\n",
        "from torch.utils.data import DataLoader\n",
        "from copy import deepcopy\n",
        "import compress_fasttext\n",
        "\n",
        "device = 'cuda' if torch.cuda.is_available() else 'cpu'"
      ]
    },
    {
      "cell_type": "code",
      "execution_count": null,
      "metadata": {
        "id": "S4nuTCB68d99"
      },
      "outputs": [],
      "source": [
        "data_binary = [\n",
        "    (\"good\", 1),\n",
        "    (\"bad\", 0),\n",
        "    (\"awesome\", 1),\n",
        "    (\"terrible\", 0),\n",
        "    (\"great\", 1),\n",
        "    (\"horrible\", 0),\n",
        "    (\"excellent\", 1),\n",
        "    (\"poor\", 0),\n",
        "    (\"not good\", 0),\n",
        "    (\"not bad\", 1),\n",
        "    (\"not terrible\", 1),\n",
        "    (\"not great\", 0),\n",
        "    (\"not horrible\", 1),\n",
        "    (\"not awesome\", 0),\n",
        "    (\"not poor\", 1),\n",
        "    (\"very good\", 1),\n",
        "    (\"very bad\", 0),\n",
        "    (\"very great\", 1),\n",
        "    (\"very horrible\", 0),\n",
        "    (\"not very good\", 0),\n",
        "    (\"not very bad\", 1),\n",
        "    (\"not very great\", 0),\n",
        "    (\"not very horrible\", 1),\n",
        "    (\"not very awesome\", 0),\n",
        "    (\"not very poor\", 1),\n",
        "    (\"good good\", 1),\n",
        "    (\"bad bad\", 0),\n",
        "    (\"not not bad\", 0),\n",
        "    (\"not not good\", 1),\n",
        "    (\"not not terrible\", 0),\n",
        "    (\"not not awesome\", 1),\n",
        "    (\"very very good\", 1),\n",
        "    (\"very very bad\", 0),\n",
        "    (\"good and bad\", 0),\n",
        "    (\"bad and good\", 0),\n",
        "    (\"awesome but terrible\", 1),\n",
        "    (\"terrible but awesome\", 1),\n",
        "    (\"good but not great\", 0),\n",
        "    (\"great but not good\", 1),\n",
        "    (\"not good but not bad\", 1),\n",
        "    (\"not bad but not good\", 0),\n",
        "    (\"excellent\", 1),\n",
        "    (\"awful\", 0),\n",
        "    (\"not awful\", 1),\n",
        "    (\"not excellent\", 0),\n",
        "    (\"very awful\", 0),\n",
        "    (\"very excellent\", 1),\n",
        "    (\"not very awful\", 1),\n",
        "    (\"not very excellent\", 0),\n",
        "]\n",
        "\n",
        "data_multiclass = [\n",
        "    (\"good\", 2),\n",
        "    (\"bad\", 0),\n",
        "    (\"awesome\", 2),\n",
        "    (\"terrible\", 0),\n",
        "    (\"great\", 2),\n",
        "    (\"horrible\", 0),\n",
        "    (\"excellent\", 2),\n",
        "    (\"poor\", 0),\n",
        "    (\"okay\", 1),\n",
        "    (\"fine\", 1),\n",
        "    (\"average\", 1),\n",
        "    (\"not good\", 0),\n",
        "    (\"not bad\", 1),\n",
        "    (\"not terrible\", 1),\n",
        "    (\"not great\", 1),\n",
        "    (\"not horrible\", 1),\n",
        "    (\"not awesome\", 1),\n",
        "    (\"not poor\", 1),\n",
        "    (\"very good\", 2),\n",
        "    (\"very bad\", 0),\n",
        "    (\"very great\", 2),\n",
        "    (\"very horrible\", 0),\n",
        "    (\"not very good\", 1),\n",
        "    (\"not very bad\", 1),\n",
        "    (\"not very great\", 1),\n",
        "    (\"not very horrible\", 1),\n",
        "    (\"not very awesome\", 1),\n",
        "    (\"not very poor\", 1),\n",
        "    (\"good good\", 2),\n",
        "    (\"bad bad\", 0),\n",
        "    (\"not not bad\", 1),\n",
        "    (\"not not good\", 2),\n",
        "    (\"not not terrible\", 1),\n",
        "    (\"not not awesome\", 2),\n",
        "    (\"very very good\", 2),\n",
        "    (\"very very bad\", 0),\n",
        "    (\"good and bad\", 1),\n",
        "    (\"bad and good\", 1),\n",
        "    (\"awesome but terrible\", 1),\n",
        "    (\"terrible but awesome\", 1),\n",
        "    (\"good but not great\", 1),\n",
        "    (\"great but not good\", 2),\n",
        "    (\"not good but not bad\", 1),\n",
        "    (\"not bad but not good\", 1),\n",
        "    (\"excellent\", 2),\n",
        "    (\"awful\", 0),\n",
        "    (\"not awful\", 1),\n",
        "    (\"not excellent\", 1),\n",
        "    (\"very awful\", 0),\n",
        "    (\"very excellent\", 2),\n",
        "    (\"not very awful\", 1),\n",
        "    (\"not very excellent\", 1),\n",
        "]\n"
      ]
    },
    {
      "cell_type": "code",
      "execution_count": null,
      "metadata": {
        "colab": {
          "base_uri": "https://localhost:8080/"
        },
        "id": "r4391GGR9LtT",
        "outputId": "9031f9ba-7947-4bd8-c6c7-0c0caf3aaf78"
      },
      "outputs": [
        {
          "output_type": "stream",
          "name": "stdout",
          "text": [
            "binary examples, features: (49, 255)\n",
            "multiclass examples, features: (52, 280)\n"
          ]
        }
      ],
      "source": [
        "# raw data\n",
        "X_bin, Y_bin = [p[0] for p in data_binary], np.array([[p[1]] for p in data_binary])\n",
        "X_multi, Y_multi = [p[0] for p in data_multiclass], np.array([[p[1]] for p in data_multiclass])\n",
        "\n",
        "# tfidf features = character n-grams\n",
        "tfidf = TfidfVectorizer(ngram_range=(1,4), analyzer='char')\n",
        "X_bin_transformed = tfidf.fit_transform(X_bin)\n",
        "X_multi_transformed = tfidf.fit_transform(X_multi)\n",
        "\n",
        "\n",
        "print(f'binary examples, features: {X_bin_transformed.shape}')\n",
        "print(f'multiclass examples, features: {X_multi_transformed.shape}')"
      ]
    },
    {
      "cell_type": "markdown",
      "metadata": {
        "id": "fI44oGkL9MEL"
      },
      "source": [
        "## Logistic Regression"
      ]
    },
    {
      "cell_type": "markdown",
      "metadata": {
        "id": "eEywi-Zh9N46"
      },
      "source": [
        "### Binary"
      ]
    },
    {
      "cell_type": "code",
      "execution_count": null,
      "metadata": {
        "colab": {
          "base_uri": "https://localhost:8080/"
        },
        "id": "kMWYyIO89PNc",
        "outputId": "3d444ede-1afc-4b30-e14b-cc5fd6f7eb78"
      },
      "outputs": [
        {
          "output_type": "stream",
          "name": "stdout",
          "text": [
            "f1-score on the set: 0.7272727272727273\n"
          ]
        }
      ],
      "source": [
        "lr = LogisticRegression(C=1, max_iter=20)\n",
        "lr.fit(X_bin_transformed, Y_bin.ravel())\n",
        "y_hat = lr.predict(X_bin_transformed)\n",
        "\n",
        "print(f'f1-score on the set: {f1_score(Y_bin, y_hat)}')"
      ]
    },
    {
      "cell_type": "markdown",
      "metadata": {
        "id": "4lcS7Hth9Peu"
      },
      "source": [
        "### Multiclass"
      ]
    },
    {
      "cell_type": "code",
      "execution_count": null,
      "metadata": {
        "colab": {
          "base_uri": "https://localhost:8080/",
          "height": 466
        },
        "id": "nPuImrqF9RQ8",
        "outputId": "bfbfe950-b7ae-445c-b6b4-2d37753075b8"
      },
      "outputs": [
        {
          "output_type": "stream",
          "name": "stdout",
          "text": [
            "f1-score on the set: 0.8653846153846154\n"
          ]
        },
        {
          "output_type": "display_data",
          "data": {
            "text/plain": [
              "<Figure size 640x480 with 2 Axes>"
            ],
            "image/png": "[encoded data removed]"
          },
          "metadata": {}
        }
      ],
      "source": [
        "lr = LogisticRegression(C=1, max_iter=20)\n",
        "lr.fit(X_multi_transformed, Y_multi.ravel())\n",
        "y_hat_multi = lr.predict(X_multi_transformed)\n",
        "\n",
        "print(f'f1-score on the set: {f1_score(Y_multi, y_hat_multi, average=\"micro\")}')\n",
        "\n",
        "ConfusionMatrixDisplay(confusion_matrix(y_pred=y_hat_multi, y_true=Y_multi.ravel()), display_labels=['negative', 'neutral', 'positive']).plot(cmap=plt.cm.Blues)\n",
        "plt.show()"
      ]
    },
    {
      "cell_type": "markdown",
      "metadata": {
        "id": "G0P1o6qq9TcG"
      },
      "source": [
        "## FFN"
      ]
    },
    {
      "cell_type": "markdown",
      "metadata": {
        "id": "rvCUzTHV9UQ0"
      },
      "source": [
        "### Binary"
      ]
    },
    {
      "cell_type": "code",
      "execution_count": null,
      "metadata": {
        "id": "67ctPFO29VN6"
      },
      "outputs": [],
      "source": [
        "class FFN(nn.Module):\n",
        "   def __init__(self, in_feats, hidden_size, out_classes):\n",
        "       super(FFN, self).__init__()\n",
        "       self.clf1 = nn.Linear(in_feats, hidden_size)\n",
        "       self.relu = nn.ReLU()\n",
        "       self.clf2 = nn.Linear(hidden_size, out_classes)\n",
        "   def forward(self, X):\n",
        "       return self.clf2(self.relu(self.clf1(X)))"
      ]
    },
    {
      "cell_type": "code",
      "source": [
        "ffn = FFN(in_feats=X_bin_transformed.shape[1],hidden_size=32, out_classes=1)\n",
        "opt = torch.optim.AdamW(ffn.parameters(), lr=0.05, weight_decay=1)\n",
        "loss_fn = nn.BCEWithLogitsLoss()\n",
        "\n",
        "X_bin_tensor = torch.tensor(X_bin_transformed.toarray(), dtype=torch.float32)\n",
        "Y_bin_tensor = torch.tensor(Y_bin, dtype=torch.float32)\n",
        "\n",
        "for epoch in range(20):\n",
        "   opt.zero_grad()\n",
        "\n",
        "   y_hat = ffn.forward(X_bin_tensor)\n",
        "   loss = loss_fn(y_hat, Y_bin_tensor)\n",
        "   loss.backward()\n",
        "   opt.step()\n",
        "\n",
        "   with torch.no_grad():\n",
        "      y_hat_eval = [1 if torch.sigmoid(_) >= 0.5 else 0 for _ in y_hat]\n",
        "      print(f'f1-score on the set: {f1_score(Y_bin_tensor, y_hat_eval)}')\n"
      ],
      "metadata": {
        "colab": {
          "base_uri": "https://localhost:8080/"
        },
        "id": "6RBD_ofk_BiV",
        "outputId": "fb7901a2-7c69-457e-f713-ef52b843ad42"
      },
      "execution_count": null,
      "outputs": [
        {
          "output_type": "stream",
          "name": "stdout",
          "text": [
            "f1-score on the set: 0.0\n",
            "f1-score on the set: 0.7352941176470589\n",
            "f1-score on the set: 0.7246376811594203\n",
            "f1-score on the set: 0.711864406779661\n",
            "f1-score on the set: 0.7692307692307693\n",
            "f1-score on the set: 0.7755102040816326\n",
            "f1-score on the set: 0.7843137254901961\n",
            "f1-score on the set: 0.8333333333333334\n",
            "f1-score on the set: 0.851063829787234\n",
            "f1-score on the set: 0.851063829787234\n",
            "f1-score on the set: 0.875\n",
            "f1-score on the set: 0.8571428571428571\n",
            "f1-score on the set: 0.92\n",
            "f1-score on the set: 0.9411764705882353\n",
            "f1-score on the set: 0.9803921568627451\n",
            "f1-score on the set: 1.0\n",
            "f1-score on the set: 1.0\n",
            "f1-score on the set: 1.0\n",
            "f1-score on the set: 1.0\n",
            "f1-score on the set: 1.0\n"
          ]
        }
      ]
    },
    {
      "cell_type": "markdown",
      "metadata": {
        "id": "7Vl-eT6y9WC9"
      },
      "source": [
        "### Multiclass"
      ]
    },
    {
      "cell_type": "code",
      "execution_count": null,
      "metadata": {
        "colab": {
          "base_uri": "https://localhost:8080/",
          "height": 796
        },
        "id": "LXgQgArz9Xpd",
        "outputId": "c97dffa3-10dd-4fe0-ac4b-0f047d13ea6b"
      },
      "outputs": [
        {
          "output_type": "stream",
          "name": "stdout",
          "text": [
            "f1-score on the set: 0.5576923076923077\n",
            "f1-score on the set: 0.5384615384615384\n",
            "f1-score on the set: 0.5384615384615384\n",
            "f1-score on the set: 0.7115384615384616\n",
            "f1-score on the set: 0.8653846153846154\n",
            "f1-score on the set: 0.9038461538461539\n",
            "f1-score on the set: 0.9615384615384616\n",
            "f1-score on the set: 0.9615384615384616\n",
            "f1-score on the set: 0.9615384615384616\n",
            "f1-score on the set: 0.9615384615384616\n",
            "f1-score on the set: 1.0\n",
            "f1-score on the set: 1.0\n",
            "f1-score on the set: 1.0\n",
            "f1-score on the set: 1.0\n",
            "f1-score on the set: 1.0\n",
            "f1-score on the set: 1.0\n",
            "f1-score on the set: 1.0\n",
            "f1-score on the set: 1.0\n",
            "f1-score on the set: 1.0\n",
            "f1-score on the set: 1.0\n"
          ]
        },
        {
          "output_type": "display_data",
          "data": {
            "text/plain": [
              "<Figure size 640x480 with 2 Axes>"
            ],
            "image/png": "[encoded data removed]"
          },
          "metadata": {}
        }
      ],
      "source": [
        "ffn = FFN(in_feats=X_multi_transformed.shape[1],hidden_size=32, out_classes=3)\n",
        "opt = torch.optim.AdamW(ffn.parameters(), lr=0.05, weight_decay=1)\n",
        "loss_fn = nn.CrossEntropyLoss()\n",
        "\n",
        "X_multi_tensor = torch.tensor(X_multi_transformed.toarray(), dtype=torch.float32)\n",
        "Y_multi_tensor = torch.tensor(Y_multi, dtype=torch.long)\n",
        "\n",
        "y_hat_multi_ffn = None\n",
        "for epoch in range(20):\n",
        "   opt.zero_grad()\n",
        "\n",
        "   y_hat = ffn.forward(X_multi_tensor)\n",
        "   loss = loss_fn(y_hat, Y_multi_tensor.squeeze(dim=1))\n",
        "   loss.backward()\n",
        "   opt.step()\n",
        "\n",
        "   with torch.no_grad():\n",
        "      y_hat_eval = torch.argmax(y_hat, dim=1)\n",
        "      y_hat_multi_ffn = y_hat_eval\n",
        "      print(f'f1-score on the set: {f1_score(Y_multi_tensor, y_hat_eval, average=\"micro\")}')\n",
        "\n",
        "ConfusionMatrixDisplay(confusion_matrix(y_pred=y_hat_multi_ffn, y_true=Y_multi.ravel()), display_labels=['negative', 'neutral', 'positive']).plot(cmap=plt.cm.Blues)\n",
        "plt.show()"
      ]
    },
    {
      "cell_type": "markdown",
      "metadata": {
        "id": "K_phsI4K9ZOu"
      },
      "source": [
        "## With TF-IDF features"
      ]
    },
    {
      "cell_type": "code",
      "source": [
        "df_train = pd.read_csv('train_data.csv', delimiter=',')\n",
        "df_train['label'].value_counts()"
      ],
      "metadata": {
        "colab": {
          "base_uri": "https://localhost:8080/",
          "height": 210
        },
        "id": "447DwcT5_Jl7",
        "outputId": "3a793f5a-3568-448b-8c41-c91cc24c3566"
      },
      "execution_count": null,
      "outputs": [
        {
          "output_type": "execute_result",
          "data": {
            "text/plain": [
              "label\n",
              "2    128\n",
              "0     90\n",
              "1     22\n",
              "Name: count, dtype: int64"
            ],
            "text/html": [
              "<div>\n",
              "<style scoped>\n",
              "    .dataframe tbody tr th:only-of-type {\n",
              "        vertical-align: middle;\n",
              "    }\n",
              "\n",
              "    .dataframe tbody tr th {\n",
              "        vertical-align: top;\n",
              "    }\n",
              "\n",
              "    .dataframe thead th {\n",
              "        text-align: right;\n",
              "    }\n",
              "</style>\n",
              "<table border=\"1\" class=\"dataframe\">\n",
              "  <thead>\n",
              "    <tr style=\"text-align: right;\">\n",
              "      <th></th>\n",
              "      <th>count</th>\n",
              "    </tr>\n",
              "    <tr>\n",
              "      <th>label</th>\n",
              "      <th></th>\n",
              "    </tr>\n",
              "  </thead>\n",
              "  <tbody>\n",
              "    <tr>\n",
              "      <th>2</th>\n",
              "      <td>128</td>\n",
              "    </tr>\n",
              "    <tr>\n",
              "      <th>0</th>\n",
              "      <td>90</td>\n",
              "    </tr>\n",
              "    <tr>\n",
              "      <th>1</th>\n",
              "      <td>22</td>\n",
              "    </tr>\n",
              "  </tbody>\n",
              "</table>\n",
              "</div><br><label><b>dtype:</b> int64</label>"
            ]
          },
          "metadata": {},
          "execution_count": 5
        }
      ]
    },
    {
      "cell_type": "code",
      "source": [
        "df_val = pd.read_csv('val_data.csv', delimiter=',')\n",
        "df_val['label'].value_counts()"
      ],
      "metadata": {
        "colab": {
          "base_uri": "https://localhost:8080/",
          "height": 210
        },
        "id": "Zyc3l3yC_P-a",
        "outputId": "5288ea00-08dc-4f58-b409-a60822e41353"
      },
      "execution_count": null,
      "outputs": [
        {
          "output_type": "execute_result",
          "data": {
            "text/plain": [
              "label\n",
              "2    23\n",
              "0     5\n",
              "1     2\n",
              "Name: count, dtype: int64"
            ],
            "text/html": [
              "<div>\n",
              "<style scoped>\n",
              "    .dataframe tbody tr th:only-of-type {\n",
              "        vertical-align: middle;\n",
              "    }\n",
              "\n",
              "    .dataframe tbody tr th {\n",
              "        vertical-align: top;\n",
              "    }\n",
              "\n",
              "    .dataframe thead th {\n",
              "        text-align: right;\n",
              "    }\n",
              "</style>\n",
              "<table border=\"1\" class=\"dataframe\">\n",
              "  <thead>\n",
              "    <tr style=\"text-align: right;\">\n",
              "      <th></th>\n",
              "      <th>count</th>\n",
              "    </tr>\n",
              "    <tr>\n",
              "      <th>label</th>\n",
              "      <th></th>\n",
              "    </tr>\n",
              "  </thead>\n",
              "  <tbody>\n",
              "    <tr>\n",
              "      <th>2</th>\n",
              "      <td>23</td>\n",
              "    </tr>\n",
              "    <tr>\n",
              "      <th>0</th>\n",
              "      <td>5</td>\n",
              "    </tr>\n",
              "    <tr>\n",
              "      <th>1</th>\n",
              "      <td>2</td>\n",
              "    </tr>\n",
              "  </tbody>\n",
              "</table>\n",
              "</div><br><label><b>dtype:</b> int64</label>"
            ]
          },
          "metadata": {},
          "execution_count": 6
        }
      ]
    },
    {
      "cell_type": "code",
      "source": [
        "df_test = pd.read_csv('test_data.csv', delimiter=',')\n",
        "df_test['label'].value_counts()"
      ],
      "metadata": {
        "colab": {
          "base_uri": "https://localhost:8080/",
          "height": 210
        },
        "id": "GZqDwrNt_RJe",
        "outputId": "f428fe2a-614e-4fa0-9c25-e2d37bb7a249"
      },
      "execution_count": null,
      "outputs": [
        {
          "output_type": "execute_result",
          "data": {
            "text/plain": [
              "label\n",
              "2    17\n",
              "0    12\n",
              "1     1\n",
              "Name: count, dtype: int64"
            ],
            "text/html": [
              "<div>\n",
              "<style scoped>\n",
              "    .dataframe tbody tr th:only-of-type {\n",
              "        vertical-align: middle;\n",
              "    }\n",
              "\n",
              "    .dataframe tbody tr th {\n",
              "        vertical-align: top;\n",
              "    }\n",
              "\n",
              "    .dataframe thead th {\n",
              "        text-align: right;\n",
              "    }\n",
              "</style>\n",
              "<table border=\"1\" class=\"dataframe\">\n",
              "  <thead>\n",
              "    <tr style=\"text-align: right;\">\n",
              "      <th></th>\n",
              "      <th>count</th>\n",
              "    </tr>\n",
              "    <tr>\n",
              "      <th>label</th>\n",
              "      <th></th>\n",
              "    </tr>\n",
              "  </thead>\n",
              "  <tbody>\n",
              "    <tr>\n",
              "      <th>2</th>\n",
              "      <td>17</td>\n",
              "    </tr>\n",
              "    <tr>\n",
              "      <th>0</th>\n",
              "      <td>12</td>\n",
              "    </tr>\n",
              "    <tr>\n",
              "      <th>1</th>\n",
              "      <td>1</td>\n",
              "    </tr>\n",
              "  </tbody>\n",
              "</table>\n",
              "</div><br><label><b>dtype:</b> int64</label>"
            ]
          },
          "metadata": {},
          "execution_count": 7
        }
      ]
    },
    {
      "cell_type": "markdown",
      "source": [
        "### Transform to features"
      ],
      "metadata": {
        "id": "tBP6mlD9_V5S"
      }
    },
    {
      "cell_type": "code",
      "source": [
        "tfidf = TfidfVectorizer(use_idf=True, smooth_idf=True, ngram_range=(1, 4), analyzer='word')\n",
        "\n",
        "# too large sparse matrices would need dimensionality reduction\n",
        "pca = TruncatedSVD(n_components=200)\n",
        "\n",
        "X_train, Y_train = tfidf.fit_transform(list(df_train['text'])), torch.tensor(list(df_train['label']))\n",
        "X_train = torch.tensor(pca.fit_transform(X_train), dtype=torch.float32)\n",
        "\n",
        "X_val, Y_val = tfidf.transform(list(df_val['text'])), torch.tensor(list(df_val['label']))\n",
        "X_val = torch.tensor(pca.transform(X_val), dtype=torch.float32)\n",
        "\n",
        "X_test, Y_test = tfidf.transform(list(df_test['text'])), torch.tensor(list(df_test['label']))\n",
        "X_test = torch.tensor(pca.transform(X_test), dtype=torch.float32)\n",
        "\n",
        "\n",
        "print(X_train.shape, X_val.shape, X_test.shape)"
      ],
      "metadata": {
        "colab": {
          "base_uri": "https://localhost:8080/"
        },
        "id": "EusiQIMa_S8Q",
        "outputId": "ac775e44-e50d-4703-e8fc-f39276e0f334"
      },
      "execution_count": null,
      "outputs": [
        {
          "output_type": "stream",
          "name": "stdout",
          "text": [
            "torch.Size([240, 200]) torch.Size([30, 200]) torch.Size([30, 200])\n"
          ]
        }
      ]
    },
    {
      "cell_type": "markdown",
      "source": [
        "### Evaluation"
      ],
      "metadata": {
        "id": "I5CXSXr0_ZKu"
      }
    },
    {
      "cell_type": "code",
      "source": [
        "def compute_metrics(y_true, y_pred):\n",
        "    try:\n",
        "        y_true = y_true.cpu()\n",
        "        y_pred = y_pred.cpu()\n",
        "    except AttributeError:\n",
        "        pass\n",
        "\n",
        "    precision = precision_score(y_true, y_pred, average='micro')\n",
        "    recall = recall_score(y_true, y_pred, average='micro')\n",
        "    f1 = f1_score(y_true, y_pred, average='micro')\n",
        "\n",
        "    return precision, recall, f1"
      ],
      "metadata": {
        "id": "ivfAfAuM_ZsE"
      },
      "execution_count": null,
      "outputs": []
    },
    {
      "cell_type": "markdown",
      "source": [
        "### Logistic Regression"
      ],
      "metadata": {
        "id": "sgwvKmwr_d_A"
      }
    },
    {
      "cell_type": "code",
      "source": [
        "logistic_regression = LogisticRegression(C=1, max_iter=50)\n",
        "logistic_regression.fit(X_train, Y_train)\n",
        "y_hat = logistic_regression.predict(X_test)\n",
        "\n",
        "print(compute_metrics(Y_test, y_hat))"
      ],
      "metadata": {
        "colab": {
          "base_uri": "https://localhost:8080/"
        },
        "id": "ysfAW-i7_at7",
        "outputId": "b89f6005-82f9-4f1d-b459-58a0a6b9757c"
      },
      "execution_count": null,
      "outputs": [
        {
          "output_type": "stream",
          "name": "stdout",
          "text": [
            "(0.6333333333333333, 0.6333333333333333, 0.6333333333333333)\n"
          ]
        }
      ]
    },
    {
      "cell_type": "markdown",
      "source": [
        "### FFN"
      ],
      "metadata": {
        "id": "kEGRXgEX_hH2"
      }
    },
    {
      "cell_type": "code",
      "source": [
        "class FFN(nn.Module):\n",
        "    def __init__(self, in_feats, hidden_size, out_feats):\n",
        "        super(FFN, self).__init__()\n",
        "        self.lin1 = nn.Linear(in_feats, hidden_size)\n",
        "        self.relu = nn.ReLU()\n",
        "        self.lin2 = nn.Linear(hidden_size, out_feats)\n",
        "\n",
        "    def forward(self, X):\n",
        "        return self.lin2(self.relu(self.lin1(X)))\n",
        "\n",
        "\n",
        "in_feats = X_train.shape[1]\n",
        "hidden_size = in_feats * 2\n",
        "out_feats = 3\n",
        "epochs = 50\n",
        "lr = 0.03\n",
        "\n",
        "ffn = FFN(in_feats, hidden_size, out_feats).to(device)\n",
        "optimizer = torch.optim.AdamW(ffn.parameters(), lr, weight_decay=1)\n",
        "loss_fn = nn.CrossEntropyLoss()\n",
        "\n",
        "for epoch in tqdm(range(epochs)):\n",
        "    optimizer.zero_grad()\n",
        "    y_hat = ffn.forward(X_train.to(device))\n",
        "    loss = loss_fn(y_hat, Y_train.to(device))\n",
        "    loss.backward()\n",
        "    optimizer.step()\n",
        "\n",
        "    if (epoch + 1) % 10 == 0:\n",
        "      with torch.no_grad():\n",
        "          _, _, f1 = compute_metrics(Y_val.to(device), torch.argmax(ffn.forward(X_val.to(device)), dim=1))\n",
        "          print(f'epoch: {epoch + 1} loss: {loss.item()} dev f1-micro: {f1}')\n",
        "\n",
        "with torch.no_grad():\n",
        "    y_hat = torch.argmax(ffn.forward(X_test.to(device)), dim=1).cpu()\n",
        "    p, r, f1 = compute_metrics(Y_test, y_hat)\n",
        "    print(f'test precision-micro: {p} test recall-micro: {r} test f1-micro: {f1}')\n",
        "\n",
        "    ConfusionMatrixDisplay(confusion_matrix(y_pred=y_hat, y_true=Y_test),display_labels=['negative', 'neutral', 'positive']).plot(cmap=plt.cm.Blues)\n",
        "    plt.show()\n"
      ],
      "metadata": {
        "colab": {
          "base_uri": "https://localhost:8080/",
          "height": 577
        },
        "id": "XTise6R2_fxo",
        "outputId": "1abdf601-997b-49fa-e72f-96917520a486"
      },
      "execution_count": null,
      "outputs": [
        {
          "output_type": "stream",
          "name": "stderr",
          "text": [
            "100%|██████████| 50/50 [00:00<00:00, 287.16it/s]\n"
          ]
        },
        {
          "output_type": "stream",
          "name": "stdout",
          "text": [
            "epoch: 10 loss: 0.03673012554645538 dev f1-micro: 0.6666666666666666\n",
            "epoch: 20 loss: 0.0013634557835757732 dev f1-micro: 0.6333333333333333\n",
            "epoch: 30 loss: 0.0009346402948722243 dev f1-micro: 0.6666666666666666\n",
            "epoch: 40 loss: 0.003272414207458496 dev f1-micro: 0.6\n",
            "epoch: 50 loss: 0.004629149101674557 dev f1-micro: 0.6\n",
            "test precision-micro: 0.7333333333333333 test recall-micro: 0.7333333333333333 test f1-micro: 0.7333333333333333\n"
          ]
        },
        {
          "output_type": "display_data",
          "data": {
            "text/plain": [
              "<Figure size 640x480 with 2 Axes>"
            ],
            "image/png": "[encoded data removed]"
          },
          "metadata": {}
        }
      ]
    },
    {
      "cell_type": "markdown",
      "metadata": {
        "id": "RsSG6eFr9bT8"
      },
      "source": [
        "## With Embeddings"
      ]
    },
    {
      "cell_type": "markdown",
      "source": [
        "### Pretrained Embeddings"
      ],
      "metadata": {
        "id": "aE5mbo_8DC9b"
      }
    },
    {
      "cell_type": "code",
      "source": [
        "embeddings = compress_fasttext.models.CompressedFastTextKeyedVectors.load(\"cc.en.300.compressed.bin\")"
      ],
      "metadata": {
        "id": "nRMTmZ2gC8XT"
      },
      "execution_count": null,
      "outputs": []
    },
    {
      "cell_type": "markdown",
      "source": [
        "### Embedding Matrix"
      ],
      "metadata": {
        "id": "47n-DisQDM50"
      }
    },
    {
      "cell_type": "code",
      "source": [
        "vocab = {'<UNK>': 0, '<PAD>': 1}\n",
        "\n",
        "for i, w in enumerate(embeddings.index_to_key):\n",
        "    vocab[w] = i + 2\n",
        "\n",
        "emb = np.zeros((len(vocab), 300))\n",
        "for w, i in vocab.items():\n",
        "    # fasttext models build representation from n-grams for OOV words\n",
        "    emb[i] = embeddings[w]\n",
        "emb = torch.tensor(emb, dtype=torch.float32)\n",
        "\n",
        "id2label = {0 : 'negative', 1 : 'neutral', 2 : 'positive'}\n",
        "id2word = {v: k for k, v in vocab.items()}\n",
        "\n",
        "print(emb.shape)"
      ],
      "metadata": {
        "colab": {
          "base_uri": "https://localhost:8080/"
        },
        "id": "bD89dYQ3DKGX",
        "outputId": "3b519a28-d65a-4cd6-ecd2-7004bf2f1c25"
      },
      "execution_count": null,
      "outputs": [
        {
          "output_type": "stream",
          "name": "stdout",
          "text": [
            "torch.Size([20002, 300])\n"
          ]
        }
      ]
    },
    {
      "cell_type": "markdown",
      "source": [
        "### We can design the max_seq_len by exploring the average length of the documents"
      ],
      "metadata": {
        "id": "g8M5QyomDQgE"
      }
    },
    {
      "cell_type": "code",
      "source": [
        "def avg_tokens(df):\n",
        "\n",
        "    tokens_all = 0\n",
        "    for text in df['text']:\n",
        "      # the same tokenization strategy used with preprocessing the data\n",
        "      tokens = text.strip().lower().split(' ')\n",
        "      num_tokens = len([token for token in tokens if token not in string.punctuation and len(token) >= 3])\n",
        "      tokens_all += num_tokens\n",
        "    avg = tokens_all / len(df['text'])\n",
        "\n",
        "    return round(avg)\n",
        "avg_tokens(df_train), avg_tokens(df_val), avg_tokens(df_test)"
      ],
      "metadata": {
        "colab": {
          "base_uri": "https://localhost:8080/"
        },
        "id": "HSgmLeUZDOfg",
        "outputId": "4a78f4be-4c22-4785-fc31-65e5a817c428"
      },
      "execution_count": null,
      "outputs": [
        {
          "output_type": "execute_result",
          "data": {
            "text/plain": [
              "(11, 10, 8)"
            ]
          },
          "metadata": {},
          "execution_count": 12
        }
      ]
    },
    {
      "cell_type": "code",
      "source": [
        "class SentimentDataset(Dataset):\n",
        "    def __init__(self, texts, labels, vocab, max_len):\n",
        "        self.texts = texts\n",
        "        self.labels = labels\n",
        "        self.vocab = vocab\n",
        "        self.max_len = max_len\n",
        "\n",
        "    def __len__(self):\n",
        "        return len(self.texts)\n",
        "\n",
        "    def __getitem__(self, idx):\n",
        "        # tokens = self.texts[idx].strip().lower().split(' ')\n",
        "        # tokens = [token for token in tokens if token not in string.punctuation and len(token) >= 3]\n",
        "        text = self.texts[idx].strip()\n",
        "        tokens = text.lower().translate(str.maketrans('', '', string.punctuation)).replace('\\s+',' ').split()\n",
        "        ### remember now we are using our vocab, not the model anymore - therefore we learn <UNK> token for OOV words\n",
        "\n",
        "        indices = [self.vocab.get(token, self.vocab['<UNK>']) for token in tokens]\n",
        "        if len(indices) < self.max_len:\n",
        "            indices += [self.vocab['<PAD>']] * (self.max_len - len(indices))\n",
        "        else:\n",
        "            indices = indices[:self.max_len]\n",
        "\n",
        "\n",
        "        return torch.tensor(indices), torch.tensor(self.labels[idx], dtype=torch.long)\n",
        "# batch size x max seq length x input features\n",
        "# (32, 10, 300)\n",
        "train_dataset = SentimentDataset(texts=list(df_train['text']), labels=list(df_train['label']),vocab=vocab,\n",
        "                                 max_len=10)\n",
        "train_loader = DataLoader(train_dataset, batch_size=32)\n",
        "\n",
        "val_dataset = SentimentDataset(texts=list(df_val['text']), labels=list(df_val['label']),  vocab=vocab,\n",
        "                               max_len=10)\n",
        "val_loader = DataLoader(val_dataset, batch_size=32)\n",
        "\n",
        "test_dataset = SentimentDataset(texts=list(df_test['text']), labels=list(df_test['label']), vocab=vocab,\n",
        "                                max_len=10)\n",
        "test_loader = DataLoader(test_dataset, batch_size=32)"
      ],
      "metadata": {
        "id": "aY4gNDxGDSp1"
      },
      "execution_count": null,
      "outputs": []
    },
    {
      "cell_type": "markdown",
      "source": [
        "### Logistic Regression"
      ],
      "metadata": {
        "id": "eM6in2XyDaMo"
      }
    },
    {
      "cell_type": "code",
      "source": [
        "def to_sklearn_format(data_loader):\n",
        "  X, Y = [], []\n",
        "  for examples, labels in data_loader:\n",
        "      assert len(examples) == len(labels)\n",
        "      n = len(examples)\n",
        "      sent_mean_embeddings = []\n",
        "      for i in range(n):\n",
        "        example, label = examples[i], labels[i]\n",
        "        embedding_sent = torch.stack([emb[idx] for idx in example], dim=0)\n",
        "        sent_mean = torch.mean(embedding_sent, dim=1)\n",
        "        X.append(np.array(sent_mean))\n",
        "        Y.append(label.item())\n",
        "  return X, Y\n",
        "\n",
        "X_train, Y_train = to_sklearn_format(train_loader)\n",
        "X_test, Y_test = to_sklearn_format(test_loader)\n",
        "\n",
        "logreg = LogisticRegression(max_iter=100, C=1)\n",
        "logreg.fit(X_train, Y_train)\n",
        "y_hat_train = logreg.predict(X_train)\n",
        "y_hat_test = logreg.predict(X_test)\n",
        "\n",
        "\n",
        "print(f'fit on train set: {f1_score(Y_train, y_hat_train, average=\"micro\")}\\n \\\n",
        "        fit on test set: {f1_score(Y_test, y_hat_test, average=\"micro\")}')"
      ],
      "metadata": {
        "colab": {
          "base_uri": "https://localhost:8080/"
        },
        "id": "EFGlpHykDUwR",
        "outputId": "e2b34b7c-5af4-4ec8-c0a8-cfba4daec47f"
      },
      "execution_count": null,
      "outputs": [
        {
          "output_type": "stream",
          "name": "stdout",
          "text": [
            "fit on train set: 0.5333333333333333\n",
            "         fit on test set: 0.5666666666666667\n"
          ]
        }
      ]
    },
    {
      "cell_type": "markdown",
      "source": [
        "### Feed-Forward Network"
      ],
      "metadata": {
        "id": "4Dxf6XIGDYb-"
      }
    },
    {
      "cell_type": "code",
      "source": [
        "class FFN(nn.Module):\n",
        "    def __init__(self, emb_matrix, in_feats, hidden_size, emb_size, out_feats):\n",
        "        super(FFN, self).__init__()\n",
        "        self.embedding = nn.Embedding(in_feats, emb_size)\n",
        "        self.embedding.weight = nn.Parameter(emb_matrix)\n",
        "        self.lin1 = nn.Linear(emb_size, hidden_size)\n",
        "        self.relu = nn.ReLU()\n",
        "        self.lin2 = nn.Linear(hidden_size,  out_feats)\n",
        "    def forward(self, X):\n",
        "        e = self.embedding(X)\n",
        "        e_mean = e.mean(dim=1)\n",
        "        # classification head\n",
        "        out = self.lin2(self.relu(self.lin1(e_mean)))\n",
        "\n",
        "        return out\n"
      ],
      "metadata": {
        "id": "QmJv2UMaDcue"
      },
      "execution_count": null,
      "outputs": []
    },
    {
      "cell_type": "markdown",
      "source": [
        "### Trainer"
      ],
      "metadata": {
        "id": "lzds-f_FDibD"
      }
    },
    {
      "cell_type": "code",
      "source": [
        "def compute_metrics(y_true, y_pred):\n",
        "    precision = precision_score(y_true, y_pred, average='micro')\n",
        "    recall = recall_score(y_true, y_pred, average='micro')\n",
        "    f1 = f1_score(y_true, y_pred, average='micro')\n",
        "\n",
        "    return precision, recall, f1\n",
        "\n",
        "\n",
        "device = 'cuda' if torch.cuda.is_available() else 'cpu'\n",
        "\n",
        "### hyperparameters\n",
        "in_feats = len(vocab)\n",
        "hidden_size = 2056\n",
        "emb_size = 300\n",
        "out_classes = 3\n",
        "epochs = 30\n",
        "early_stopping = 30\n",
        "lr = 0.01\n",
        "weight_decay = 1\n",
        "model_name = 'best-model-bin'\n",
        "\n",
        "### neural net\n",
        "ffn = FFN(emb_matrix = emb, in_feats=len(vocab), hidden_size=hidden_size, emb_size=emb_size, out_feats=out_classes).to(device)\n",
        "\n",
        "### optimizer - AdamW = architectural variant of Gradient Descent\n",
        "opt = torch.optim.AdamW(ffn.parameters(), lr=lr, weight_decay=weight_decay)\n",
        "\n",
        "### loss function\n",
        "### 1. Binary Classification - BCELoss(), BCEWithLogitsLoss, target float\n",
        "### difference - needs sigmoid/internal sigmoid\n",
        "\n",
        "### 2. Multi Class Classification - NLLLoss(), CrossEntropyLoss(), target long\n",
        "### difference - needs softmax/internal softmax\n",
        "\n",
        "\n",
        "loss_fn = torch.nn.CrossEntropyLoss()\n",
        "\n",
        "best_f1, best_model_dict, bestloss = 0.0, None, 0.0\n",
        "tolerance = early_stopping\n",
        "\n",
        "for epoch in tqdm(range(epochs), desc='Training Started'):\n",
        "    epoch_loss = []\n",
        "    for x, y in train_loader:\n",
        "        opt.zero_grad()\n",
        "        y = y.to(device)\n",
        "\n",
        "\n",
        "        y_hat = ffn(x.to(device))\n",
        "        loss = loss_fn(y_hat, y)\n",
        "\n",
        "        epoch_loss.append(loss.item())\n",
        "        loss.backward()\n",
        "\n",
        "        opt.step()\n",
        "\n",
        "\n",
        "    ### evaluation every epoch\n",
        "    ### on dev set\n",
        "    y_true, y_pred = [], []\n",
        "    with torch.no_grad():\n",
        "      for examples, y in val_loader:\n",
        "          y_hat = ffn(examples.to(device))\n",
        "          y_true.extend([_.item() for _ in y])\n",
        "          y_pred.extend(list(torch.argmax(y_hat, dim=1).cpu()))\n",
        "\n",
        "    p, r, f1 = compute_metrics(y_true, y_pred)\n",
        "\n",
        "    if best_f1 < f1:\n",
        "        best_f1 = f1\n",
        "        best_model_dict = deepcopy(ffn.state_dict())\n",
        "        tolerance = early_stopping\n",
        "        bestloss = sum(epoch_loss) / len(epoch_loss)\n",
        "    else:\n",
        "        tolerance -= 1\n",
        "        if tolerance == 0:\n",
        "            print(f'no improvement for {early_stopping} epochs')\n",
        "            break\n",
        "\n",
        "    print(f'epoch: {epoch + 1} '\n",
        "          f'loss: {sum(epoch_loss) / len(epoch_loss)}\\n'\n",
        "          f'metrics: {p, r, f1}')\n",
        "\n"
      ],
      "metadata": {
        "colab": {
          "base_uri": "https://localhost:8080/"
        },
        "id": "OVYI_vWhDf5g",
        "outputId": "88869e9a-cc99-4bfe-e2b3-2d7917f0c856"
      },
      "execution_count": null,
      "outputs": [
        {
          "output_type": "stream",
          "name": "stderr",
          "text": [
            "Training Started:   3%|▎         | 1/30 [00:01<00:31,  1.10s/it]"
          ]
        },
        {
          "output_type": "stream",
          "name": "stdout",
          "text": [
            "epoch: 1 loss: 0.9339655116200447\n",
            "metrics: (0.23333333333333334, 0.23333333333333334, 0.23333333333333334)\n"
          ]
        },
        {
          "output_type": "stream",
          "name": "stderr",
          "text": [
            "\rTraining Started:   7%|▋         | 2/30 [00:02<00:28,  1.00s/it]"
          ]
        },
        {
          "output_type": "stream",
          "name": "stdout",
          "text": [
            "epoch: 2 loss: 0.7062412351369858\n",
            "metrics: (0.3, 0.3, 0.3)\n"
          ]
        },
        {
          "output_type": "stream",
          "name": "stderr",
          "text": [
            "\rTraining Started:  10%|█         | 3/30 [00:02<00:26,  1.03it/s]"
          ]
        },
        {
          "output_type": "stream",
          "name": "stdout",
          "text": [
            "epoch: 3 loss: 0.38035026006400585\n",
            "metrics: (0.6666666666666666, 0.6666666666666666, 0.6666666666666666)\n"
          ]
        },
        {
          "output_type": "stream",
          "name": "stderr",
          "text": [
            "\rTraining Started:  13%|█▎        | 4/30 [00:03<00:24,  1.06it/s]"
          ]
        },
        {
          "output_type": "stream",
          "name": "stdout",
          "text": [
            "epoch: 4 loss: 0.16277129482477903\n",
            "metrics: (0.26666666666666666, 0.26666666666666666, 0.26666666666666666)\n"
          ]
        },
        {
          "output_type": "stream",
          "name": "stderr",
          "text": [
            "\rTraining Started:  17%|█▋        | 5/30 [00:04<00:23,  1.08it/s]"
          ]
        },
        {
          "output_type": "stream",
          "name": "stdout",
          "text": [
            "epoch: 5 loss: 0.06839274615049362\n",
            "metrics: (0.5666666666666667, 0.5666666666666667, 0.5666666666666667)\n"
          ]
        },
        {
          "output_type": "stream",
          "name": "stderr",
          "text": [
            "\rTraining Started:  20%|██        | 6/30 [00:05<00:21,  1.09it/s]"
          ]
        },
        {
          "output_type": "stream",
          "name": "stdout",
          "text": [
            "epoch: 6 loss: 0.037218105208012275\n",
            "metrics: (0.43333333333333335, 0.43333333333333335, 0.43333333333333335)\n"
          ]
        },
        {
          "output_type": "stream",
          "name": "stderr",
          "text": [
            "\rTraining Started:  23%|██▎       | 7/30 [00:06<00:22,  1.04it/s]"
          ]
        },
        {
          "output_type": "stream",
          "name": "stdout",
          "text": [
            "epoch: 7 loss: 0.02319076194180525\n",
            "metrics: (0.6, 0.6, 0.6)\n"
          ]
        },
        {
          "output_type": "stream",
          "name": "stderr",
          "text": [
            "\rTraining Started:  27%|██▋       | 8/30 [00:08<00:23,  1.09s/it]"
          ]
        },
        {
          "output_type": "stream",
          "name": "stdout",
          "text": [
            "epoch: 8 loss: 0.02223618220887147\n",
            "metrics: (0.5, 0.5, 0.5)\n"
          ]
        },
        {
          "output_type": "stream",
          "name": "stderr",
          "text": [
            "\rTraining Started:  30%|███       | 9/30 [00:09<00:23,  1.12s/it]"
          ]
        },
        {
          "output_type": "stream",
          "name": "stdout",
          "text": [
            "epoch: 9 loss: 0.017745678589562885\n",
            "metrics: (0.5, 0.5, 0.5)\n"
          ]
        },
        {
          "output_type": "stream",
          "name": "stderr",
          "text": [
            "\rTraining Started:  33%|███▎      | 10/30 [00:10<00:21,  1.06s/it]"
          ]
        },
        {
          "output_type": "stream",
          "name": "stdout",
          "text": [
            "epoch: 10 loss: 0.017558307445142418\n",
            "metrics: (0.43333333333333335, 0.43333333333333335, 0.43333333333333335)\n"
          ]
        },
        {
          "output_type": "stream",
          "name": "stderr",
          "text": [
            "\rTraining Started:  37%|███▋      | 11/30 [00:11<00:19,  1.01s/it]"
          ]
        },
        {
          "output_type": "stream",
          "name": "stdout",
          "text": [
            "epoch: 11 loss: 0.01445173881802475\n",
            "metrics: (0.43333333333333335, 0.43333333333333335, 0.43333333333333335)\n"
          ]
        },
        {
          "output_type": "stream",
          "name": "stderr",
          "text": [
            "\rTraining Started:  40%|████      | 12/30 [00:11<00:17,  1.02it/s]"
          ]
        },
        {
          "output_type": "stream",
          "name": "stdout",
          "text": [
            "epoch: 12 loss: 0.016307448626321275\n",
            "metrics: (0.43333333333333335, 0.43333333333333335, 0.43333333333333335)\n"
          ]
        },
        {
          "output_type": "stream",
          "name": "stderr",
          "text": [
            "\rTraining Started:  43%|████▎     | 13/30 [00:12<00:16,  1.05it/s]"
          ]
        },
        {
          "output_type": "stream",
          "name": "stdout",
          "text": [
            "epoch: 13 loss: 0.013898781602620147\n",
            "metrics: (0.4, 0.4, 0.4)\n"
          ]
        },
        {
          "output_type": "stream",
          "name": "stderr",
          "text": [
            "\rTraining Started:  47%|████▋     | 14/30 [00:13<00:15,  1.07it/s]"
          ]
        },
        {
          "output_type": "stream",
          "name": "stdout",
          "text": [
            "epoch: 14 loss: 0.013565075878432253\n",
            "metrics: (0.3333333333333333, 0.3333333333333333, 0.3333333333333333)\n"
          ]
        },
        {
          "output_type": "stream",
          "name": "stderr",
          "text": [
            "\rTraining Started:  50%|█████     | 15/30 [00:14<00:14,  1.07it/s]"
          ]
        },
        {
          "output_type": "stream",
          "name": "stdout",
          "text": [
            "epoch: 15 loss: 0.015010852555860765\n",
            "metrics: (0.3333333333333333, 0.3333333333333333, 0.3333333333333333)\n"
          ]
        },
        {
          "output_type": "stream",
          "name": "stderr",
          "text": [
            "\rTraining Started:  53%|█████▎    | 16/30 [00:15<00:13,  1.07it/s]"
          ]
        },
        {
          "output_type": "stream",
          "name": "stdout",
          "text": [
            "epoch: 16 loss: 0.011546662211912917\n",
            "metrics: (0.3333333333333333, 0.3333333333333333, 0.3333333333333333)\n"
          ]
        },
        {
          "output_type": "stream",
          "name": "stderr",
          "text": [
            "\rTraining Started:  57%|█████▋    | 17/30 [00:16<00:12,  1.08it/s]"
          ]
        },
        {
          "output_type": "stream",
          "name": "stdout",
          "text": [
            "epoch: 17 loss: 0.021097431341331685\n",
            "metrics: (0.3, 0.3, 0.3)\n"
          ]
        },
        {
          "output_type": "stream",
          "name": "stderr",
          "text": [
            "\rTraining Started:  60%|██████    | 18/30 [00:17<00:11,  1.08it/s]"
          ]
        },
        {
          "output_type": "stream",
          "name": "stdout",
          "text": [
            "epoch: 18 loss: 0.02663776371628046\n",
            "metrics: (0.4666666666666667, 0.4666666666666667, 0.4666666666666667)\n"
          ]
        },
        {
          "output_type": "stream",
          "name": "stderr",
          "text": [
            "\rTraining Started:  63%|██████▎   | 19/30 [00:18<00:10,  1.09it/s]"
          ]
        },
        {
          "output_type": "stream",
          "name": "stdout",
          "text": [
            "epoch: 19 loss: 0.03935843758517876\n",
            "metrics: (0.5333333333333333, 0.5333333333333333, 0.5333333333333333)\n"
          ]
        },
        {
          "output_type": "stream",
          "name": "stderr",
          "text": [
            "\rTraining Started:  67%|██████▋   | 20/30 [00:19<00:09,  1.02it/s]"
          ]
        },
        {
          "output_type": "stream",
          "name": "stdout",
          "text": [
            "epoch: 20 loss: 0.0973440958186984\n",
            "metrics: (0.5333333333333333, 0.5333333333333333, 0.5333333333333333)\n"
          ]
        },
        {
          "output_type": "stream",
          "name": "stderr",
          "text": [
            "\rTraining Started:  70%|███████   | 21/30 [00:20<00:09,  1.11s/it]"
          ]
        },
        {
          "output_type": "stream",
          "name": "stdout",
          "text": [
            "epoch: 21 loss: 0.2793226111680269\n",
            "metrics: (0.43333333333333335, 0.43333333333333335, 0.43333333333333335)\n"
          ]
        },
        {
          "output_type": "stream",
          "name": "stderr",
          "text": [
            "\rTraining Started:  73%|███████▎  | 22/30 [00:21<00:08,  1.10s/it]"
          ]
        },
        {
          "output_type": "stream",
          "name": "stdout",
          "text": [
            "epoch: 22 loss: 0.21918680879753083\n",
            "metrics: (0.5333333333333333, 0.5333333333333333, 0.5333333333333333)\n"
          ]
        },
        {
          "output_type": "stream",
          "name": "stderr",
          "text": [
            "\rTraining Started:  77%|███████▋  | 23/30 [00:22<00:07,  1.04s/it]"
          ]
        },
        {
          "output_type": "stream",
          "name": "stdout",
          "text": [
            "epoch: 23 loss: 0.11699550226330757\n",
            "metrics: (0.6, 0.6, 0.6)\n"
          ]
        },
        {
          "output_type": "stream",
          "name": "stderr",
          "text": [
            "\rTraining Started:  80%|████████  | 24/30 [00:23<00:06,  1.00s/it]"
          ]
        },
        {
          "output_type": "stream",
          "name": "stdout",
          "text": [
            "epoch: 24 loss: 0.130003024591133\n",
            "metrics: (0.5, 0.5, 0.5)\n"
          ]
        },
        {
          "output_type": "stream",
          "name": "stderr",
          "text": [
            "\rTraining Started:  83%|████████▎ | 25/30 [00:24<00:04,  1.03it/s]"
          ]
        },
        {
          "output_type": "stream",
          "name": "stdout",
          "text": [
            "epoch: 25 loss: 0.055018415878294036\n",
            "metrics: (0.5333333333333333, 0.5333333333333333, 0.5333333333333333)\n"
          ]
        },
        {
          "output_type": "stream",
          "name": "stderr",
          "text": [
            "\rTraining Started:  87%|████████▋ | 26/30 [00:25<00:03,  1.05it/s]"
          ]
        },
        {
          "output_type": "stream",
          "name": "stdout",
          "text": [
            "epoch: 26 loss: 0.09652552099396416\n",
            "metrics: (0.6, 0.6, 0.6)\n"
          ]
        },
        {
          "output_type": "stream",
          "name": "stderr",
          "text": [
            "\rTraining Started:  90%|█████████ | 27/30 [00:26<00:02,  1.07it/s]"
          ]
        },
        {
          "output_type": "stream",
          "name": "stdout",
          "text": [
            "epoch: 27 loss: 0.03148869250435382\n",
            "metrics: (0.5, 0.5, 0.5)\n"
          ]
        },
        {
          "output_type": "stream",
          "name": "stderr",
          "text": [
            "\rTraining Started:  93%|█████████▎| 28/30 [00:27<00:01,  1.08it/s]"
          ]
        },
        {
          "output_type": "stream",
          "name": "stdout",
          "text": [
            "epoch: 28 loss: 0.021812271559610963\n",
            "metrics: (0.4666666666666667, 0.4666666666666667, 0.4666666666666667)\n"
          ]
        },
        {
          "output_type": "stream",
          "name": "stderr",
          "text": [
            "\rTraining Started:  97%|█████████▋| 29/30 [00:28<00:00,  1.09it/s]"
          ]
        },
        {
          "output_type": "stream",
          "name": "stdout",
          "text": [
            "epoch: 29 loss: 0.016490115915075876\n",
            "metrics: (0.5, 0.5, 0.5)\n"
          ]
        },
        {
          "output_type": "stream",
          "name": "stderr",
          "text": [
            "Training Started: 100%|██████████| 30/30 [00:29<00:00,  1.03it/s]"
          ]
        },
        {
          "output_type": "stream",
          "name": "stdout",
          "text": [
            "epoch: 30 loss: 0.015062738180859014\n",
            "metrics: (0.5, 0.5, 0.5)\n"
          ]
        },
        {
          "output_type": "stream",
          "name": "stderr",
          "text": [
            "\n"
          ]
        }
      ]
    },
    {
      "cell_type": "markdown",
      "source": [
        "### Save"
      ],
      "metadata": {
        "id": "7nMZf4diDnPl"
      }
    },
    {
      "cell_type": "code",
      "source": [
        "torch.save({'state_dict': best_model_dict, 'embeddings': deepcopy(emb), 'epochs': epochs,\n",
        "            'early_stopping': early_stopping, 'loss': bestloss,\n",
        "            'loss_fn': loss_fn.__class__.__name__,\n",
        "            'optimizer': opt.__class__.__name__,\n",
        "            'in_feats': in_feats, 'hidden_size': hidden_size, 'out_feats': out_classes, 'lr': lr,\n",
        "            'test_loader': deepcopy(test_loader)},\n",
        "           f'{model_name}-fasttext.pt')"
      ],
      "metadata": {
        "id": "xHXefy2aDk5-"
      },
      "execution_count": null,
      "outputs": []
    },
    {
      "cell_type": "markdown",
      "source": [
        "### Evaluate"
      ],
      "metadata": {
        "id": "Pi64KCqtDqLu"
      }
    },
    {
      "cell_type": "code",
      "source": [
        "model_saved = torch.load('best-model-bin-fasttext.pt', weights_only=False, map_location=device)\n",
        "ffn.load_state_dict(model_saved['state_dict'])\n",
        "\n",
        "with torch.no_grad():\n",
        "    y_true, y_pred = [], []\n",
        "    for examples_test, y_test in test_loader:\n",
        "        y_hat = ffn.forward(examples_test.to(device))\n",
        "        y_true.extend([_.item() for _ in y_test])\n",
        "        y_pred.extend(list(torch.argmax(y_hat, dim=1).cpu()))\n",
        "\n",
        "print('predicted', [id2label[id.item()] for id in y_pred])\n",
        "print('gold', [id2label[id] for id in y_true])\n",
        "\n",
        "compute_metrics(y_true, y_pred)"
      ],
      "metadata": {
        "colab": {
          "base_uri": "https://localhost:8080/"
        },
        "id": "FV8nWVElDoyv",
        "outputId": "d8d94214-b0ce-4d8c-fe30-de9ed0a0d0a3"
      },
      "execution_count": null,
      "outputs": [
        {
          "output_type": "stream",
          "name": "stdout",
          "text": [
            "predicted ['positive', 'positive', 'positive', 'positive', 'negative', 'positive', 'positive', 'negative', 'positive', 'positive', 'positive', 'positive', 'positive', 'positive', 'positive', 'negative', 'negative', 'positive', 'positive', 'positive', 'positive', 'positive', 'neutral', 'positive', 'positive', 'positive', 'negative', 'negative', 'negative', 'negative']\n",
            "gold ['positive', 'negative', 'positive', 'positive', 'negative', 'positive', 'negative', 'positive', 'negative', 'negative', 'positive', 'positive', 'positive', 'negative', 'positive', 'positive', 'negative', 'positive', 'positive', 'negative', 'positive', 'positive', 'negative', 'positive', 'neutral', 'positive', 'negative', 'positive', 'negative', 'negative']\n"
          ]
        },
        {
          "output_type": "execute_result",
          "data": {
            "text/plain": [
              "(0.6333333333333333, 0.6333333333333333, 0.6333333333333333)"
            ]
          },
          "metadata": {},
          "execution_count": 18
        }
      ]
    },
    {
      "cell_type": "code",
      "source": [
        "ConfusionMatrixDisplay(confusion_matrix(y_true, y_pred), display_labels=list(id2label.values())).plot(\n",
        "    cmap=plt.cm.Blues)\n",
        "plt.show()"
      ],
      "metadata": {
        "colab": {
          "base_uri": "https://localhost:8080/",
          "height": 455
        },
        "id": "A15FyTp9Dr5R",
        "outputId": "307dbce8-789a-4145-ecc6-f3e44939e19d"
      },
      "execution_count": null,
      "outputs": [
        {
          "output_type": "display_data",
          "data": {
            "text/plain": [
              "<Figure size 640x480 with 2 Axes>"
            ],
            "image/png": "[encoded data removed]"
          },
          "metadata": {}
        }
      ]
    }
  ],
  "metadata": {
    "colab": {
      "provenance": []
    },
    "kernelspec": {
      "display_name": "Python 3",
      "name": "python3"
    },
    "language_info": {
      "name": "python"
    }
  },
  "nbformat": 4,
  "nbformat_minor": 0
}