{
 "cells": [
  {
   "cell_type": "markdown",
   "source": [
    "### IMPORTS"
   ],
   "metadata": {
    "collapsed": false
   },
   "id": "24da497bf63fbfdd"
  },
  {
   "cell_type": "code",
   "outputs": [],
   "source": [
    "from sklearn.model_selection import train_test_split\n",
    "from sklearn.linear_model import LogisticRegression\n",
    "from sklearn.model_selection import GridSearchCV\n",
    "from sklearn.metrics import precision_score, recall_score, f1_score, classification_report, confusion_matrix, \\\n",
    "    ConfusionMatrixDisplay\n",
    "import numpy as np\n",
    "from collections import Counter\n",
    "from sklearn.feature_extraction.text import TfidfVectorizer\n",
    "from sklearn.svm import SVC\n",
    "from sklearn.utils import compute_class_weight\n",
    "from sklearn.ensemble import RandomForestClassifier\n",
    "from scipy.sparse import hstack\n"
   ],
   "metadata": {
    "collapsed": false,
    "ExecuteTime": {
     "end_time": "2025-05-14T11:14:39.292927Z",
     "start_time": "2025-05-14T11:14:39.288849Z"
    }
   },
   "id": "fa553765d86c8646",
   "execution_count": 66
  },
  {
   "cell_type": "markdown",
   "source": [
    "### BASELINE\n",
    "**precision-macro=83.90%\n",
    "recall-macro=84.75%\n",
    "f1-macro=84.27%**\n",
    "\n",
    "--- \n",
    "\n",
    "### Logistic Regression\n",
    "**precision-macro=92.62% \n",
    "recall-macro=93.21%\n",
    "f1-macro=92.9%**\n",
    "\n",
    "---\n",
    "\n",
    "### SVM\n",
    "**precision-macro=94.32%\n",
    "recall-macro=94.45%\n",
    "f1-macro=94.38%**\n",
    "\n",
    "---\n",
    "\n",
    "### Random Forest\n",
    "**precision-macro=92.58%\n",
    "recall-macro=85.04%\n",
    "f1-macro=87.3%**\n",
    "****\n"
   ],
   "metadata": {
    "collapsed": false
   },
   "id": "de662b66f342e315"
  },
  {
   "cell_type": "markdown",
   "source": [
    "### LOAD DATASET"
   ],
   "metadata": {
    "collapsed": false
   },
   "id": "d3cb474e7dc52f10"
  },
  {
   "cell_type": "code",
   "outputs": [
    {
     "name": "stdout",
     "output_type": "stream",
     "text": [
      "total examples: (10336, (10336,), 10336, (10336,))\n",
      "--------------------------------------------------\n"
     ]
    }
   ],
   "source": [
    "X, Y = [], []\n",
    "with open('a4-data.txt', 'rt', encoding='utf8') as fr:\n",
    "    lines = fr.read().split('\\n')\n",
    "    for line in lines:\n",
    "        w, label = line.split('\\t')\n",
    "        X.append(w), Y.append(int(label))\n",
    "X, Y = np.array(X), np.array(Y)\n",
    "print(f'total examples: {len(X), X.shape, len(Y), Y.shape}')\n",
    "print('-' * 50)"
   ],
   "metadata": {
    "collapsed": false,
    "ExecuteTime": {
     "end_time": "2025-05-14T10:41:17.504307Z",
     "start_time": "2025-05-14T10:41:17.206289Z"
    }
   },
   "id": "74693368b15f533d",
   "execution_count": 7
  },
  {
   "cell_type": "markdown",
   "source": [
    "### SPLIT DATASET INTO TRAIN/DEV/TEST"
   ],
   "metadata": {
    "collapsed": false
   },
   "id": "a1949f770edb89a4"
  },
  {
   "cell_type": "code",
   "execution_count": 8,
   "id": "initial_id",
   "metadata": {
    "collapsed": true,
    "ExecuteTime": {
     "end_time": "2025-05-14T10:41:18.413411Z",
     "start_time": "2025-05-14T10:41:18.404934Z"
    }
   },
   "outputs": [
    {
     "name": "stdout",
     "output_type": "stream",
     "text": [
      "train examples: (7441, 7441)\n",
      "dev examples: (827, 827)\n",
      "test examples: (2068, 2068)\n"
     ]
    }
   ],
   "source": [
    "# split first into train, test\n",
    "train_examples, test_examples, train_labels, test_labels = train_test_split(X, Y, train_size=.8, test_size=.2,\n",
    "                                                                            random_state=1, shuffle=True)\n",
    "\n",
    "# split the train further into dev\n",
    "train_examples, dev_examples, train_labels, dev_labels = train_test_split(train_examples, train_labels, train_size=.9,\n",
    "                                                                          test_size=.1, random_state=1, shuffle=True)\n",
    "\n",
    "print(f'train examples: {len(train_examples), len(train_labels)}\\n'\n",
    "      f'dev examples: {len(dev_examples), len(dev_labels)}\\n'\n",
    "      f'test examples: {len(test_examples), len(test_labels)}')\n",
    "\n"
   ]
  },
  {
   "cell_type": "markdown",
   "source": [
    "### Extract Features"
   ],
   "metadata": {
    "collapsed": false
   },
   "id": "de89bc24ee565b9f"
  },
  {
   "cell_type": "code",
   "outputs": [
    {
     "name": "stdout",
     "output_type": "stream",
     "text": [
      "(7441, 6592) (827, 6592) (2068, 6592)\n"
     ]
    }
   ],
   "source": [
    "def _to_features_(w):\n",
    "    vowels = [\n",
    "        \"a\",\n",
    "        \"e\",\n",
    "        \"i\",\n",
    "        \"o\",\n",
    "        \"u\",\n",
    "        \"ä\",\n",
    "        \"ö\",\n",
    "        \"ü\"\n",
    "    ]\n",
    "    return [len(w), len([let for let in w if let in vowels])]\n",
    "\n",
    "\n",
    "def to_features(examples):\n",
    "    return np.array([_to_features_(w) for w in examples])\n",
    "\n",
    "\n",
    "vectorizer = TfidfVectorizer(analyzer='char', ngram_range=(1, 3))\n",
    "\n",
    "train_vectors = vectorizer.fit_transform(train_examples, train_labels)\n",
    "train_vectors = hstack([train_vectors, to_features(train_examples)])\n",
    "\n",
    "dev_vectors = vectorizer.transform(dev_examples)\n",
    "dev_vectors = hstack([dev_vectors, to_features(dev_examples)])\n",
    "\n",
    "test_vectors = vectorizer.transform(test_examples)\n",
    "test_vectors = hstack([test_vectors, to_features(test_examples)])\n",
    "\n",
    "print(train_vectors.shape, dev_vectors.shape, test_vectors.shape)"
   ],
   "metadata": {
    "collapsed": false,
    "ExecuteTime": {
     "end_time": "2025-05-14T11:19:45.383763Z",
     "start_time": "2025-05-14T11:19:45.215085Z"
    }
   },
   "id": "8526aa5ec41805f0",
   "execution_count": 75
  },
  {
   "cell_type": "markdown",
   "source": [
    "### INSPECT CLASS DISTRIBUTION (FOR EXAMPLE)\n",
    "#### I want to see whether the dataset is balanced"
   ],
   "metadata": {
    "collapsed": false
   },
   "id": "8ec4a4cd5db60905"
  },
  {
   "cell_type": "code",
   "outputs": [
    {
     "name": "stdout",
     "output_type": "stream",
     "text": [
      "[0 1]\n",
      "Counter({np.int64(0): 4797, np.int64(1): 2644})\n",
      "6682 3654\n",
      "[0.77342113 1.41434045]\n"
     ]
    }
   ],
   "source": [
    "labels = np.array(sorted(set(train_labels).union(dev_labels).union(test_labels)))\n",
    "label2id = {label: i for i, label in enumerate(labels)}\n",
    "id2label = {v: k for k, v in label2id.items()}\n",
    "print(labels)\n",
    "\n",
    "train_labels_freq = Counter(train_labels)\n",
    "dev_labels_freq = Counter(dev_labels)\n",
    "test_labels_freq = Counter(test_labels)\n",
    "\n",
    "print(train_labels_freq)\n",
    "\n",
    "zero_labels = train_labels_freq[0] + dev_labels_freq[0] + test_labels_freq[0]\n",
    "one_labels = train_labels_freq[1] + dev_labels_freq[1] + test_labels_freq[1]\n",
    "\n",
    "# class zero is twice more often class\n",
    "print(zero_labels, one_labels)\n",
    "\n",
    "print(compute_class_weight(class_weight=\"balanced\", classes=labels, y=Y))"
   ],
   "metadata": {
    "collapsed": false,
    "ExecuteTime": {
     "end_time": "2025-05-14T11:19:46.349727Z",
     "start_time": "2025-05-14T11:19:46.339054Z"
    }
   },
   "id": "1fada235d8cf1057",
   "execution_count": 76
  },
  {
   "cell_type": "markdown",
   "source": [
    "### Example Workflow\n",
    "1. Find the best model to predict the dev data with K-Fold GridSearch\n",
    "2. Use it on the test data\n",
    "3. Evaluate the results"
   ],
   "metadata": {
    "collapsed": false
   },
   "id": "60083f42fda31e49"
  },
  {
   "cell_type": "markdown",
   "source": [
    "### Logistic Regression"
   ],
   "metadata": {
    "collapsed": false
   },
   "id": "ec9d41fec2e59994"
  },
  {
   "cell_type": "code",
   "outputs": [
    {
     "name": "stderr",
     "output_type": "stream",
     "text": [
      "D:\\Работен плот\\Tubingen\\GitHub\\SNLP2\\.venv\\Lib\\site-packages\\sklearn\\linear_model\\_logistic.py:465: ConvergenceWarning: lbfgs failed to converge (status=1):\n",
      "STOP: TOTAL NO. of ITERATIONS REACHED LIMIT.\n",
      "\n",
      "Increase the number of iterations (max_iter) or scale the data as shown in:\n",
      "    https://scikit-learn.org/stable/modules/preprocessing.html\n",
      "Please also refer to the documentation for alternative solver options:\n",
      "    https://scikit-learn.org/stable/modules/linear_model.html#logistic-regression\n",
      "  n_iter_i = _check_optimize_result(\n",
      "D:\\Работен плот\\Tubingen\\GitHub\\SNLP2\\.venv\\Lib\\site-packages\\sklearn\\linear_model\\_logistic.py:465: ConvergenceWarning: lbfgs failed to converge (status=1):\n",
      "STOP: TOTAL NO. of ITERATIONS REACHED LIMIT.\n",
      "\n",
      "Increase the number of iterations (max_iter) or scale the data as shown in:\n",
      "    https://scikit-learn.org/stable/modules/preprocessing.html\n",
      "Please also refer to the documentation for alternative solver options:\n",
      "    https://scikit-learn.org/stable/modules/linear_model.html#logistic-regression\n",
      "  n_iter_i = _check_optimize_result(\n",
      "D:\\Работен плот\\Tubingen\\GitHub\\SNLP2\\.venv\\Lib\\site-packages\\sklearn\\linear_model\\_logistic.py:465: ConvergenceWarning: lbfgs failed to converge (status=1):\n",
      "STOP: TOTAL NO. of ITERATIONS REACHED LIMIT.\n",
      "\n",
      "Increase the number of iterations (max_iter) or scale the data as shown in:\n",
      "    https://scikit-learn.org/stable/modules/preprocessing.html\n",
      "Please also refer to the documentation for alternative solver options:\n",
      "    https://scikit-learn.org/stable/modules/linear_model.html#logistic-regression\n",
      "  n_iter_i = _check_optimize_result(\n",
      "D:\\Работен плот\\Tubingen\\GitHub\\SNLP2\\.venv\\Lib\\site-packages\\sklearn\\linear_model\\_logistic.py:465: ConvergenceWarning: lbfgs failed to converge (status=1):\n",
      "STOP: TOTAL NO. of ITERATIONS REACHED LIMIT.\n",
      "\n",
      "Increase the number of iterations (max_iter) or scale the data as shown in:\n",
      "    https://scikit-learn.org/stable/modules/preprocessing.html\n",
      "Please also refer to the documentation for alternative solver options:\n",
      "    https://scikit-learn.org/stable/modules/linear_model.html#logistic-regression\n",
      "  n_iter_i = _check_optimize_result(\n",
      "D:\\Работен плот\\Tubingen\\GitHub\\SNLP2\\.venv\\Lib\\site-packages\\sklearn\\linear_model\\_logistic.py:465: ConvergenceWarning: lbfgs failed to converge (status=1):\n",
      "STOP: TOTAL NO. of ITERATIONS REACHED LIMIT.\n",
      "\n",
      "Increase the number of iterations (max_iter) or scale the data as shown in:\n",
      "    https://scikit-learn.org/stable/modules/preprocessing.html\n",
      "Please also refer to the documentation for alternative solver options:\n",
      "    https://scikit-learn.org/stable/modules/linear_model.html#logistic-regression\n",
      "  n_iter_i = _check_optimize_result(\n",
      "D:\\Работен плот\\Tubingen\\GitHub\\SNLP2\\.venv\\Lib\\site-packages\\sklearn\\linear_model\\_logistic.py:465: ConvergenceWarning: lbfgs failed to converge (status=1):\n",
      "STOP: TOTAL NO. of ITERATIONS REACHED LIMIT.\n",
      "\n",
      "Increase the number of iterations (max_iter) or scale the data as shown in:\n",
      "    https://scikit-learn.org/stable/modules/preprocessing.html\n",
      "Please also refer to the documentation for alternative solver options:\n",
      "    https://scikit-learn.org/stable/modules/linear_model.html#logistic-regression\n",
      "  n_iter_i = _check_optimize_result(\n",
      "D:\\Работен плот\\Tubingen\\GitHub\\SNLP2\\.venv\\Lib\\site-packages\\sklearn\\linear_model\\_logistic.py:465: ConvergenceWarning: lbfgs failed to converge (status=1):\n",
      "STOP: TOTAL NO. of ITERATIONS REACHED LIMIT.\n",
      "\n",
      "Increase the number of iterations (max_iter) or scale the data as shown in:\n",
      "    https://scikit-learn.org/stable/modules/preprocessing.html\n",
      "Please also refer to the documentation for alternative solver options:\n",
      "    https://scikit-learn.org/stable/modules/linear_model.html#logistic-regression\n",
      "  n_iter_i = _check_optimize_result(\n",
      "D:\\Работен плот\\Tubingen\\GitHub\\SNLP2\\.venv\\Lib\\site-packages\\sklearn\\linear_model\\_logistic.py:465: ConvergenceWarning: lbfgs failed to converge (status=1):\n",
      "STOP: TOTAL NO. of ITERATIONS REACHED LIMIT.\n",
      "\n",
      "Increase the number of iterations (max_iter) or scale the data as shown in:\n",
      "    https://scikit-learn.org/stable/modules/preprocessing.html\n",
      "Please also refer to the documentation for alternative solver options:\n",
      "    https://scikit-learn.org/stable/modules/linear_model.html#logistic-regression\n",
      "  n_iter_i = _check_optimize_result(\n",
      "D:\\Работен плот\\Tubingen\\GitHub\\SNLP2\\.venv\\Lib\\site-packages\\sklearn\\linear_model\\_logistic.py:465: ConvergenceWarning: lbfgs failed to converge (status=1):\n",
      "STOP: TOTAL NO. of ITERATIONS REACHED LIMIT.\n",
      "\n",
      "Increase the number of iterations (max_iter) or scale the data as shown in:\n",
      "    https://scikit-learn.org/stable/modules/preprocessing.html\n",
      "Please also refer to the documentation for alternative solver options:\n",
      "    https://scikit-learn.org/stable/modules/linear_model.html#logistic-regression\n",
      "  n_iter_i = _check_optimize_result(\n",
      "D:\\Работен плот\\Tubingen\\GitHub\\SNLP2\\.venv\\Lib\\site-packages\\sklearn\\linear_model\\_logistic.py:465: ConvergenceWarning: lbfgs failed to converge (status=1):\n",
      "STOP: TOTAL NO. of ITERATIONS REACHED LIMIT.\n",
      "\n",
      "Increase the number of iterations (max_iter) or scale the data as shown in:\n",
      "    https://scikit-learn.org/stable/modules/preprocessing.html\n",
      "Please also refer to the documentation for alternative solver options:\n",
      "    https://scikit-learn.org/stable/modules/linear_model.html#logistic-regression\n",
      "  n_iter_i = _check_optimize_result(\n",
      "D:\\Работен плот\\Tubingen\\GitHub\\SNLP2\\.venv\\Lib\\site-packages\\sklearn\\linear_model\\_logistic.py:465: ConvergenceWarning: lbfgs failed to converge (status=1):\n",
      "STOP: TOTAL NO. of ITERATIONS REACHED LIMIT.\n",
      "\n",
      "Increase the number of iterations (max_iter) or scale the data as shown in:\n",
      "    https://scikit-learn.org/stable/modules/preprocessing.html\n",
      "Please also refer to the documentation for alternative solver options:\n",
      "    https://scikit-learn.org/stable/modules/linear_model.html#logistic-regression\n",
      "  n_iter_i = _check_optimize_result(\n",
      "D:\\Работен плот\\Tubingen\\GitHub\\SNLP2\\.venv\\Lib\\site-packages\\sklearn\\linear_model\\_logistic.py:465: ConvergenceWarning: lbfgs failed to converge (status=1):\n",
      "STOP: TOTAL NO. of ITERATIONS REACHED LIMIT.\n",
      "\n",
      "Increase the number of iterations (max_iter) or scale the data as shown in:\n",
      "    https://scikit-learn.org/stable/modules/preprocessing.html\n",
      "Please also refer to the documentation for alternative solver options:\n",
      "    https://scikit-learn.org/stable/modules/linear_model.html#logistic-regression\n",
      "  n_iter_i = _check_optimize_result(\n",
      "D:\\Работен плот\\Tubingen\\GitHub\\SNLP2\\.venv\\Lib\\site-packages\\sklearn\\linear_model\\_logistic.py:465: ConvergenceWarning: lbfgs failed to converge (status=1):\n",
      "STOP: TOTAL NO. of ITERATIONS REACHED LIMIT.\n",
      "\n",
      "Increase the number of iterations (max_iter) or scale the data as shown in:\n",
      "    https://scikit-learn.org/stable/modules/preprocessing.html\n",
      "Please also refer to the documentation for alternative solver options:\n",
      "    https://scikit-learn.org/stable/modules/linear_model.html#logistic-regression\n",
      "  n_iter_i = _check_optimize_result(\n",
      "D:\\Работен плот\\Tubingen\\GitHub\\SNLP2\\.venv\\Lib\\site-packages\\sklearn\\linear_model\\_logistic.py:465: ConvergenceWarning: lbfgs failed to converge (status=1):\n",
      "STOP: TOTAL NO. of ITERATIONS REACHED LIMIT.\n",
      "\n",
      "Increase the number of iterations (max_iter) or scale the data as shown in:\n",
      "    https://scikit-learn.org/stable/modules/preprocessing.html\n",
      "Please also refer to the documentation for alternative solver options:\n",
      "    https://scikit-learn.org/stable/modules/linear_model.html#logistic-regression\n",
      "  n_iter_i = _check_optimize_result(\n",
      "D:\\Работен плот\\Tubingen\\GitHub\\SNLP2\\.venv\\Lib\\site-packages\\sklearn\\linear_model\\_logistic.py:465: ConvergenceWarning: lbfgs failed to converge (status=1):\n",
      "STOP: TOTAL NO. of ITERATIONS REACHED LIMIT.\n",
      "\n",
      "Increase the number of iterations (max_iter) or scale the data as shown in:\n",
      "    https://scikit-learn.org/stable/modules/preprocessing.html\n",
      "Please also refer to the documentation for alternative solver options:\n",
      "    https://scikit-learn.org/stable/modules/linear_model.html#logistic-regression\n",
      "  n_iter_i = _check_optimize_result(\n",
      "D:\\Работен плот\\Tubingen\\GitHub\\SNLP2\\.venv\\Lib\\site-packages\\sklearn\\linear_model\\_logistic.py:465: ConvergenceWarning: lbfgs failed to converge (status=1):\n",
      "STOP: TOTAL NO. of ITERATIONS REACHED LIMIT.\n",
      "\n",
      "Increase the number of iterations (max_iter) or scale the data as shown in:\n",
      "    https://scikit-learn.org/stable/modules/preprocessing.html\n",
      "Please also refer to the documentation for alternative solver options:\n",
      "    https://scikit-learn.org/stable/modules/linear_model.html#logistic-regression\n",
      "  n_iter_i = _check_optimize_result(\n",
      "D:\\Работен плот\\Tubingen\\GitHub\\SNLP2\\.venv\\Lib\\site-packages\\sklearn\\linear_model\\_logistic.py:465: ConvergenceWarning: lbfgs failed to converge (status=1):\n",
      "STOP: TOTAL NO. of ITERATIONS REACHED LIMIT.\n",
      "\n",
      "Increase the number of iterations (max_iter) or scale the data as shown in:\n",
      "    https://scikit-learn.org/stable/modules/preprocessing.html\n",
      "Please also refer to the documentation for alternative solver options:\n",
      "    https://scikit-learn.org/stable/modules/linear_model.html#logistic-regression\n",
      "  n_iter_i = _check_optimize_result(\n",
      "D:\\Работен плот\\Tubingen\\GitHub\\SNLP2\\.venv\\Lib\\site-packages\\sklearn\\linear_model\\_logistic.py:465: ConvergenceWarning: lbfgs failed to converge (status=1):\n",
      "STOP: TOTAL NO. of ITERATIONS REACHED LIMIT.\n",
      "\n",
      "Increase the number of iterations (max_iter) or scale the data as shown in:\n",
      "    https://scikit-learn.org/stable/modules/preprocessing.html\n",
      "Please also refer to the documentation for alternative solver options:\n",
      "    https://scikit-learn.org/stable/modules/linear_model.html#logistic-regression\n",
      "  n_iter_i = _check_optimize_result(\n",
      "D:\\Работен плот\\Tubingen\\GitHub\\SNLP2\\.venv\\Lib\\site-packages\\sklearn\\linear_model\\_logistic.py:465: ConvergenceWarning: lbfgs failed to converge (status=1):\n",
      "STOP: TOTAL NO. of ITERATIONS REACHED LIMIT.\n",
      "\n",
      "Increase the number of iterations (max_iter) or scale the data as shown in:\n",
      "    https://scikit-learn.org/stable/modules/preprocessing.html\n",
      "Please also refer to the documentation for alternative solver options:\n",
      "    https://scikit-learn.org/stable/modules/linear_model.html#logistic-regression\n",
      "  n_iter_i = _check_optimize_result(\n",
      "D:\\Работен плот\\Tubingen\\GitHub\\SNLP2\\.venv\\Lib\\site-packages\\sklearn\\linear_model\\_logistic.py:465: ConvergenceWarning: lbfgs failed to converge (status=1):\n",
      "STOP: TOTAL NO. of ITERATIONS REACHED LIMIT.\n",
      "\n",
      "Increase the number of iterations (max_iter) or scale the data as shown in:\n",
      "    https://scikit-learn.org/stable/modules/preprocessing.html\n",
      "Please also refer to the documentation for alternative solver options:\n",
      "    https://scikit-learn.org/stable/modules/linear_model.html#logistic-regression\n",
      "  n_iter_i = _check_optimize_result(\n",
      "D:\\Работен плот\\Tubingen\\GitHub\\SNLP2\\.venv\\Lib\\site-packages\\sklearn\\linear_model\\_logistic.py:465: ConvergenceWarning: lbfgs failed to converge (status=1):\n",
      "STOP: TOTAL NO. of ITERATIONS REACHED LIMIT.\n",
      "\n",
      "Increase the number of iterations (max_iter) or scale the data as shown in:\n",
      "    https://scikit-learn.org/stable/modules/preprocessing.html\n",
      "Please also refer to the documentation for alternative solver options:\n",
      "    https://scikit-learn.org/stable/modules/linear_model.html#logistic-regression\n",
      "  n_iter_i = _check_optimize_result(\n",
      "D:\\Работен плот\\Tubingen\\GitHub\\SNLP2\\.venv\\Lib\\site-packages\\sklearn\\linear_model\\_logistic.py:465: ConvergenceWarning: lbfgs failed to converge (status=1):\n",
      "STOP: TOTAL NO. of ITERATIONS REACHED LIMIT.\n",
      "\n",
      "Increase the number of iterations (max_iter) or scale the data as shown in:\n",
      "    https://scikit-learn.org/stable/modules/preprocessing.html\n",
      "Please also refer to the documentation for alternative solver options:\n",
      "    https://scikit-learn.org/stable/modules/linear_model.html#logistic-regression\n",
      "  n_iter_i = _check_optimize_result(\n",
      "D:\\Работен плот\\Tubingen\\GitHub\\SNLP2\\.venv\\Lib\\site-packages\\sklearn\\linear_model\\_logistic.py:465: ConvergenceWarning: lbfgs failed to converge (status=1):\n",
      "STOP: TOTAL NO. of ITERATIONS REACHED LIMIT.\n",
      "\n",
      "Increase the number of iterations (max_iter) or scale the data as shown in:\n",
      "    https://scikit-learn.org/stable/modules/preprocessing.html\n",
      "Please also refer to the documentation for alternative solver options:\n",
      "    https://scikit-learn.org/stable/modules/linear_model.html#logistic-regression\n",
      "  n_iter_i = _check_optimize_result(\n",
      "D:\\Работен плот\\Tubingen\\GitHub\\SNLP2\\.venv\\Lib\\site-packages\\sklearn\\linear_model\\_logistic.py:465: ConvergenceWarning: lbfgs failed to converge (status=1):\n",
      "STOP: TOTAL NO. of ITERATIONS REACHED LIMIT.\n",
      "\n",
      "Increase the number of iterations (max_iter) or scale the data as shown in:\n",
      "    https://scikit-learn.org/stable/modules/preprocessing.html\n",
      "Please also refer to the documentation for alternative solver options:\n",
      "    https://scikit-learn.org/stable/modules/linear_model.html#logistic-regression\n",
      "  n_iter_i = _check_optimize_result(\n",
      "D:\\Работен плот\\Tubingen\\GitHub\\SNLP2\\.venv\\Lib\\site-packages\\sklearn\\linear_model\\_logistic.py:465: ConvergenceWarning: lbfgs failed to converge (status=1):\n",
      "STOP: TOTAL NO. of ITERATIONS REACHED LIMIT.\n",
      "\n",
      "Increase the number of iterations (max_iter) or scale the data as shown in:\n",
      "    https://scikit-learn.org/stable/modules/preprocessing.html\n",
      "Please also refer to the documentation for alternative solver options:\n",
      "    https://scikit-learn.org/stable/modules/linear_model.html#logistic-regression\n",
      "  n_iter_i = _check_optimize_result(\n",
      "D:\\Работен плот\\Tubingen\\GitHub\\SNLP2\\.venv\\Lib\\site-packages\\sklearn\\linear_model\\_logistic.py:465: ConvergenceWarning: lbfgs failed to converge (status=1):\n",
      "STOP: TOTAL NO. of ITERATIONS REACHED LIMIT.\n",
      "\n",
      "Increase the number of iterations (max_iter) or scale the data as shown in:\n",
      "    https://scikit-learn.org/stable/modules/preprocessing.html\n",
      "Please also refer to the documentation for alternative solver options:\n",
      "    https://scikit-learn.org/stable/modules/linear_model.html#logistic-regression\n",
      "  n_iter_i = _check_optimize_result(\n",
      "D:\\Работен плот\\Tubingen\\GitHub\\SNLP2\\.venv\\Lib\\site-packages\\sklearn\\linear_model\\_logistic.py:465: ConvergenceWarning: lbfgs failed to converge (status=1):\n",
      "STOP: TOTAL NO. of ITERATIONS REACHED LIMIT.\n",
      "\n",
      "Increase the number of iterations (max_iter) or scale the data as shown in:\n",
      "    https://scikit-learn.org/stable/modules/preprocessing.html\n",
      "Please also refer to the documentation for alternative solver options:\n",
      "    https://scikit-learn.org/stable/modules/linear_model.html#logistic-regression\n",
      "  n_iter_i = _check_optimize_result(\n",
      "D:\\Работен плот\\Tubingen\\GitHub\\SNLP2\\.venv\\Lib\\site-packages\\sklearn\\linear_model\\_logistic.py:465: ConvergenceWarning: lbfgs failed to converge (status=1):\n",
      "STOP: TOTAL NO. of ITERATIONS REACHED LIMIT.\n",
      "\n",
      "Increase the number of iterations (max_iter) or scale the data as shown in:\n",
      "    https://scikit-learn.org/stable/modules/preprocessing.html\n",
      "Please also refer to the documentation for alternative solver options:\n",
      "    https://scikit-learn.org/stable/modules/linear_model.html#logistic-regression\n",
      "  n_iter_i = _check_optimize_result(\n",
      "D:\\Работен плот\\Tubingen\\GitHub\\SNLP2\\.venv\\Lib\\site-packages\\sklearn\\linear_model\\_logistic.py:465: ConvergenceWarning: lbfgs failed to converge (status=1):\n",
      "STOP: TOTAL NO. of ITERATIONS REACHED LIMIT.\n",
      "\n",
      "Increase the number of iterations (max_iter) or scale the data as shown in:\n",
      "    https://scikit-learn.org/stable/modules/preprocessing.html\n",
      "Please also refer to the documentation for alternative solver options:\n",
      "    https://scikit-learn.org/stable/modules/linear_model.html#logistic-regression\n",
      "  n_iter_i = _check_optimize_result(\n",
      "D:\\Работен плот\\Tubingen\\GitHub\\SNLP2\\.venv\\Lib\\site-packages\\sklearn\\linear_model\\_logistic.py:465: ConvergenceWarning: lbfgs failed to converge (status=1):\n",
      "STOP: TOTAL NO. of ITERATIONS REACHED LIMIT.\n",
      "\n",
      "Increase the number of iterations (max_iter) or scale the data as shown in:\n",
      "    https://scikit-learn.org/stable/modules/preprocessing.html\n",
      "Please also refer to the documentation for alternative solver options:\n",
      "    https://scikit-learn.org/stable/modules/linear_model.html#logistic-regression\n",
      "  n_iter_i = _check_optimize_result(\n",
      "D:\\Работен плот\\Tubingen\\GitHub\\SNLP2\\.venv\\Lib\\site-packages\\sklearn\\linear_model\\_logistic.py:465: ConvergenceWarning: lbfgs failed to converge (status=1):\n",
      "STOP: TOTAL NO. of ITERATIONS REACHED LIMIT.\n",
      "\n",
      "Increase the number of iterations (max_iter) or scale the data as shown in:\n",
      "    https://scikit-learn.org/stable/modules/preprocessing.html\n",
      "Please also refer to the documentation for alternative solver options:\n",
      "    https://scikit-learn.org/stable/modules/linear_model.html#logistic-regression\n",
      "  n_iter_i = _check_optimize_result(\n",
      "D:\\Работен плот\\Tubingen\\GitHub\\SNLP2\\.venv\\Lib\\site-packages\\sklearn\\linear_model\\_logistic.py:465: ConvergenceWarning: lbfgs failed to converge (status=1):\n",
      "STOP: TOTAL NO. of ITERATIONS REACHED LIMIT.\n",
      "\n",
      "Increase the number of iterations (max_iter) or scale the data as shown in:\n",
      "    https://scikit-learn.org/stable/modules/preprocessing.html\n",
      "Please also refer to the documentation for alternative solver options:\n",
      "    https://scikit-learn.org/stable/modules/linear_model.html#logistic-regression\n",
      "  n_iter_i = _check_optimize_result(\n"
     ]
    },
    {
     "data": {
      "text/plain": "GridSearchCV(cv=5, estimator=LogisticRegression(random_state=1),\n             param_grid={'C': [0.01, 0.05, 0.1, 0.5, 1],\n                         'class_weight': ['balanced'],\n                         'max_iter': [30, 50, 100, 200]},\n             scoring='f1_macro')",
      "text/html": "<style>#sk-container-id-5 {\n  /* Definition of color scheme common for light and dark mode */\n  --sklearn-color-text: #000;\n  --sklearn-color-text-muted: #666;\n  --sklearn-color-line: gray;\n  /* Definition of color scheme for unfitted estimators */\n  --sklearn-color-unfitted-level-0: #fff5e6;\n  --sklearn-color-unfitted-level-1: #f6e4d2;\n  --sklearn-color-unfitted-level-2: #ffe0b3;\n  --sklearn-color-unfitted-level-3: chocolate;\n  /* Definition of color scheme for fitted estimators */\n  --sklearn-color-fitted-level-0: #f0f8ff;\n  --sklearn-color-fitted-level-1: #d4ebff;\n  --sklearn-color-fitted-level-2: #b3dbfd;\n  --sklearn-color-fitted-level-3: cornflowerblue;\n\n  /* Specific color for light theme */\n  --sklearn-color-text-on-default-background: var(--sg-text-color, var(--theme-code-foreground, var(--jp-content-font-color1, black)));\n  --sklearn-color-background: var(--sg-background-color, var(--theme-background, var(--jp-layout-color0, white)));\n  --sklearn-color-border-box: var(--sg-text-color, var(--theme-code-foreground, var(--jp-content-font-color1, black)));\n  --sklearn-color-icon: #696969;\n\n  @media (prefers-color-scheme: dark) {\n    /* Redefinition of color scheme for dark theme */\n    --sklearn-color-text-on-default-background: var(--sg-text-color, var(--theme-code-foreground, var(--jp-content-font-color1, white)));\n    --sklearn-color-background: var(--sg-background-color, var(--theme-background, var(--jp-layout-color0, #111)));\n    --sklearn-color-border-box: var(--sg-text-color, var(--theme-code-foreground, var(--jp-content-font-color1, white)));\n    --sklearn-color-icon: #878787;\n  }\n}\n\n#sk-container-id-5 {\n  color: var(--sklearn-color-text);\n}\n\n#sk-container-id-5 pre {\n  padding: 0;\n}\n\n#sk-container-id-5 input.sk-hidden--visually {\n  border: 0;\n  clip: rect(1px 1px 1px 1px);\n  clip: rect(1px, 1px, 1px, 1px);\n  height: 1px;\n  margin: -1px;\n  overflow: hidden;\n  padding: 0;\n  position: absolute;\n  width: 1px;\n}\n\n#sk-container-id-5 div.sk-dashed-wrapped {\n  border: 1px dashed var(--sklearn-color-line);\n  margin: 0 0.4em 0.5em 0.4em;\n  box-sizing: border-box;\n  padding-bottom: 0.4em;\n  background-color: var(--sklearn-color-background);\n}\n\n#sk-container-id-5 div.sk-container {\n  /* jupyter's `normalize.less` sets `[hidden] { display: none; }`\n     but bootstrap.min.css set `[hidden] { display: none !important; }`\n     so we also need the `!important` here to be able to override the\n     default hidden behavior on the sphinx rendered scikit-learn.org.\n     See: https://github.com/scikit-learn/scikit-learn/issues/21755 */\n  display: inline-block !important;\n  position: relative;\n}\n\n#sk-container-id-5 div.sk-text-repr-fallback {\n  display: none;\n}\n\ndiv.sk-parallel-item,\ndiv.sk-serial,\ndiv.sk-item {\n  /* draw centered vertical line to link estimators */\n  background-image: linear-gradient(var(--sklearn-color-text-on-default-background), var(--sklearn-color-text-on-default-background));\n  background-size: 2px 100%;\n  background-repeat: no-repeat;\n  background-position: center center;\n}\n\n/* Parallel-specific style estimator block */\n\n#sk-container-id-5 div.sk-parallel-item::after {\n  content: \"\";\n  width: 100%;\n  border-bottom: 2px solid var(--sklearn-color-text-on-default-background);\n  flex-grow: 1;\n}\n\n#sk-container-id-5 div.sk-parallel {\n  display: flex;\n  align-items: stretch;\n  justify-content: center;\n  background-color: var(--sklearn-color-background);\n  position: relative;\n}\n\n#sk-container-id-5 div.sk-parallel-item {\n  display: flex;\n  flex-direction: column;\n}\n\n#sk-container-id-5 div.sk-parallel-item:first-child::after {\n  align-self: flex-end;\n  width: 50%;\n}\n\n#sk-container-id-5 div.sk-parallel-item:last-child::after {\n  align-self: flex-start;\n  width: 50%;\n}\n\n#sk-container-id-5 div.sk-parallel-item:only-child::after {\n  width: 0;\n}\n\n/* Serial-specific style estimator block */\n\n#sk-container-id-5 div.sk-serial {\n  display: flex;\n  flex-direction: column;\n  align-items: center;\n  background-color: var(--sklearn-color-background);\n  padding-right: 1em;\n  padding-left: 1em;\n}\n\n\n/* Toggleable style: style used for estimator/Pipeline/ColumnTransformer box that is\nclickable and can be expanded/collapsed.\n- Pipeline and ColumnTransformer use this feature and define the default style\n- Estimators will overwrite some part of the style using the `sk-estimator` class\n*/\n\n/* Pipeline and ColumnTransformer style (default) */\n\n#sk-container-id-5 div.sk-toggleable {\n  /* Default theme specific background. It is overwritten whether we have a\n  specific estimator or a Pipeline/ColumnTransformer */\n  background-color: var(--sklearn-color-background);\n}\n\n/* Toggleable label */\n#sk-container-id-5 label.sk-toggleable__label {\n  cursor: pointer;\n  display: flex;\n  width: 100%;\n  margin-bottom: 0;\n  padding: 0.5em;\n  box-sizing: border-box;\n  text-align: center;\n  align-items: start;\n  justify-content: space-between;\n  gap: 0.5em;\n}\n\n#sk-container-id-5 label.sk-toggleable__label .caption {\n  font-size: 0.6rem;\n  font-weight: lighter;\n  color: var(--sklearn-color-text-muted);\n}\n\n#sk-container-id-5 label.sk-toggleable__label-arrow:before {\n  /* Arrow on the left of the label */\n  content: \"▸\";\n  float: left;\n  margin-right: 0.25em;\n  color: var(--sklearn-color-icon);\n}\n\n#sk-container-id-5 label.sk-toggleable__label-arrow:hover:before {\n  color: var(--sklearn-color-text);\n}\n\n/* Toggleable content - dropdown */\n\n#sk-container-id-5 div.sk-toggleable__content {\n  max-height: 0;\n  max-width: 0;\n  overflow: hidden;\n  text-align: left;\n  /* unfitted */\n  background-color: var(--sklearn-color-unfitted-level-0);\n}\n\n#sk-container-id-5 div.sk-toggleable__content.fitted {\n  /* fitted */\n  background-color: var(--sklearn-color-fitted-level-0);\n}\n\n#sk-container-id-5 div.sk-toggleable__content pre {\n  margin: 0.2em;\n  border-radius: 0.25em;\n  color: var(--sklearn-color-text);\n  /* unfitted */\n  background-color: var(--sklearn-color-unfitted-level-0);\n}\n\n#sk-container-id-5 div.sk-toggleable__content.fitted pre {\n  /* unfitted */\n  background-color: var(--sklearn-color-fitted-level-0);\n}\n\n#sk-container-id-5 input.sk-toggleable__control:checked~div.sk-toggleable__content {\n  /* Expand drop-down */\n  max-height: 200px;\n  max-width: 100%;\n  overflow: auto;\n}\n\n#sk-container-id-5 input.sk-toggleable__control:checked~label.sk-toggleable__label-arrow:before {\n  content: \"▾\";\n}\n\n/* Pipeline/ColumnTransformer-specific style */\n\n#sk-container-id-5 div.sk-label input.sk-toggleable__control:checked~label.sk-toggleable__label {\n  color: var(--sklearn-color-text);\n  background-color: var(--sklearn-color-unfitted-level-2);\n}\n\n#sk-container-id-5 div.sk-label.fitted input.sk-toggleable__control:checked~label.sk-toggleable__label {\n  background-color: var(--sklearn-color-fitted-level-2);\n}\n\n/* Estimator-specific style */\n\n/* Colorize estimator box */\n#sk-container-id-5 div.sk-estimator input.sk-toggleable__control:checked~label.sk-toggleable__label {\n  /* unfitted */\n  background-color: var(--sklearn-color-unfitted-level-2);\n}\n\n#sk-container-id-5 div.sk-estimator.fitted input.sk-toggleable__control:checked~label.sk-toggleable__label {\n  /* fitted */\n  background-color: var(--sklearn-color-fitted-level-2);\n}\n\n#sk-container-id-5 div.sk-label label.sk-toggleable__label,\n#sk-container-id-5 div.sk-label label {\n  /* The background is the default theme color */\n  color: var(--sklearn-color-text-on-default-background);\n}\n\n/* On hover, darken the color of the background */\n#sk-container-id-5 div.sk-label:hover label.sk-toggleable__label {\n  color: var(--sklearn-color-text);\n  background-color: var(--sklearn-color-unfitted-level-2);\n}\n\n/* Label box, darken color on hover, fitted */\n#sk-container-id-5 div.sk-label.fitted:hover label.sk-toggleable__label.fitted {\n  color: var(--sklearn-color-text);\n  background-color: var(--sklearn-color-fitted-level-2);\n}\n\n/* Estimator label */\n\n#sk-container-id-5 div.sk-label label {\n  font-family: monospace;\n  font-weight: bold;\n  display: inline-block;\n  line-height: 1.2em;\n}\n\n#sk-container-id-5 div.sk-label-container {\n  text-align: center;\n}\n\n/* Estimator-specific */\n#sk-container-id-5 div.sk-estimator {\n  font-family: monospace;\n  border: 1px dotted var(--sklearn-color-border-box);\n  border-radius: 0.25em;\n  box-sizing: border-box;\n  margin-bottom: 0.5em;\n  /* unfitted */\n  background-color: var(--sklearn-color-unfitted-level-0);\n}\n\n#sk-container-id-5 div.sk-estimator.fitted {\n  /* fitted */\n  background-color: var(--sklearn-color-fitted-level-0);\n}\n\n/* on hover */\n#sk-container-id-5 div.sk-estimator:hover {\n  /* unfitted */\n  background-color: var(--sklearn-color-unfitted-level-2);\n}\n\n#sk-container-id-5 div.sk-estimator.fitted:hover {\n  /* fitted */\n  background-color: var(--sklearn-color-fitted-level-2);\n}\n\n/* Specification for estimator info (e.g. \"i\" and \"?\") */\n\n/* Common style for \"i\" and \"?\" */\n\n.sk-estimator-doc-link,\na:link.sk-estimator-doc-link,\na:visited.sk-estimator-doc-link {\n  float: right;\n  font-size: smaller;\n  line-height: 1em;\n  font-family: monospace;\n  background-color: var(--sklearn-color-background);\n  border-radius: 1em;\n  height: 1em;\n  width: 1em;\n  text-decoration: none !important;\n  margin-left: 0.5em;\n  text-align: center;\n  /* unfitted */\n  border: var(--sklearn-color-unfitted-level-1) 1pt solid;\n  color: var(--sklearn-color-unfitted-level-1);\n}\n\n.sk-estimator-doc-link.fitted,\na:link.sk-estimator-doc-link.fitted,\na:visited.sk-estimator-doc-link.fitted {\n  /* fitted */\n  border: var(--sklearn-color-fitted-level-1) 1pt solid;\n  color: var(--sklearn-color-fitted-level-1);\n}\n\n/* On hover */\ndiv.sk-estimator:hover .sk-estimator-doc-link:hover,\n.sk-estimator-doc-link:hover,\ndiv.sk-label-container:hover .sk-estimator-doc-link:hover,\n.sk-estimator-doc-link:hover {\n  /* unfitted */\n  background-color: var(--sklearn-color-unfitted-level-3);\n  color: var(--sklearn-color-background);\n  text-decoration: none;\n}\n\ndiv.sk-estimator.fitted:hover .sk-estimator-doc-link.fitted:hover,\n.sk-estimator-doc-link.fitted:hover,\ndiv.sk-label-container:hover .sk-estimator-doc-link.fitted:hover,\n.sk-estimator-doc-link.fitted:hover {\n  /* fitted */\n  background-color: var(--sklearn-color-fitted-level-3);\n  color: var(--sklearn-color-background);\n  text-decoration: none;\n}\n\n/* Span, style for the box shown on hovering the info icon */\n.sk-estimator-doc-link span {\n  display: none;\n  z-index: 9999;\n  position: relative;\n  font-weight: normal;\n  right: .2ex;\n  padding: .5ex;\n  margin: .5ex;\n  width: min-content;\n  min-width: 20ex;\n  max-width: 50ex;\n  color: var(--sklearn-color-text);\n  box-shadow: 2pt 2pt 4pt #999;\n  /* unfitted */\n  background: var(--sklearn-color-unfitted-level-0);\n  border: .5pt solid var(--sklearn-color-unfitted-level-3);\n}\n\n.sk-estimator-doc-link.fitted span {\n  /* fitted */\n  background: var(--sklearn-color-fitted-level-0);\n  border: var(--sklearn-color-fitted-level-3);\n}\n\n.sk-estimator-doc-link:hover span {\n  display: block;\n}\n\n/* \"?\"-specific style due to the `<a>` HTML tag */\n\n#sk-container-id-5 a.estimator_doc_link {\n  float: right;\n  font-size: 1rem;\n  line-height: 1em;\n  font-family: monospace;\n  background-color: var(--sklearn-color-background);\n  border-radius: 1rem;\n  height: 1rem;\n  width: 1rem;\n  text-decoration: none;\n  /* unfitted */\n  color: var(--sklearn-color-unfitted-level-1);\n  border: var(--sklearn-color-unfitted-level-1) 1pt solid;\n}\n\n#sk-container-id-5 a.estimator_doc_link.fitted {\n  /* fitted */\n  border: var(--sklearn-color-fitted-level-1) 1pt solid;\n  color: var(--sklearn-color-fitted-level-1);\n}\n\n/* On hover */\n#sk-container-id-5 a.estimator_doc_link:hover {\n  /* unfitted */\n  background-color: var(--sklearn-color-unfitted-level-3);\n  color: var(--sklearn-color-background);\n  text-decoration: none;\n}\n\n#sk-container-id-5 a.estimator_doc_link.fitted:hover {\n  /* fitted */\n  background-color: var(--sklearn-color-fitted-level-3);\n}\n</style><div id=\"sk-container-id-5\" class=\"sk-top-container\"><div class=\"sk-text-repr-fallback\"><pre>GridSearchCV(cv=5, estimator=LogisticRegression(random_state=1),\n             param_grid={&#x27;C&#x27;: [0.01, 0.05, 0.1, 0.5, 1],\n                         &#x27;class_weight&#x27;: [&#x27;balanced&#x27;],\n                         &#x27;max_iter&#x27;: [30, 50, 100, 200]},\n             scoring=&#x27;f1_macro&#x27;)</pre><b>In a Jupyter environment, please rerun this cell to show the HTML representation or trust the notebook. <br />On GitHub, the HTML representation is unable to render, please try loading this page with nbviewer.org.</b></div><div class=\"sk-container\" hidden><div class=\"sk-item sk-dashed-wrapped\"><div class=\"sk-label-container\"><div class=\"sk-label fitted sk-toggleable\"><input class=\"sk-toggleable__control sk-hidden--visually\" id=\"sk-estimator-id-13\" type=\"checkbox\" ><label for=\"sk-estimator-id-13\" class=\"sk-toggleable__label fitted sk-toggleable__label-arrow\"><div><div>GridSearchCV</div></div><div><a class=\"sk-estimator-doc-link fitted\" rel=\"noreferrer\" target=\"_blank\" href=\"https://scikit-learn.org/1.6/modules/generated/sklearn.model_selection.GridSearchCV.html\">?<span>Documentation for GridSearchCV</span></a><span class=\"sk-estimator-doc-link fitted\">i<span>Fitted</span></span></div></label><div class=\"sk-toggleable__content fitted\"><pre>GridSearchCV(cv=5, estimator=LogisticRegression(random_state=1),\n             param_grid={&#x27;C&#x27;: [0.01, 0.05, 0.1, 0.5, 1],\n                         &#x27;class_weight&#x27;: [&#x27;balanced&#x27;],\n                         &#x27;max_iter&#x27;: [30, 50, 100, 200]},\n             scoring=&#x27;f1_macro&#x27;)</pre></div> </div></div><div class=\"sk-parallel\"><div class=\"sk-parallel-item\"><div class=\"sk-item\"><div class=\"sk-label-container\"><div class=\"sk-label fitted sk-toggleable\"><input class=\"sk-toggleable__control sk-hidden--visually\" id=\"sk-estimator-id-14\" type=\"checkbox\" ><label for=\"sk-estimator-id-14\" class=\"sk-toggleable__label fitted sk-toggleable__label-arrow\"><div><div>best_estimator_: LogisticRegression</div></div></label><div class=\"sk-toggleable__content fitted\"><pre>LogisticRegression(C=1, class_weight=&#x27;balanced&#x27;, random_state=1)</pre></div> </div></div><div class=\"sk-serial\"><div class=\"sk-item\"><div class=\"sk-estimator fitted sk-toggleable\"><input class=\"sk-toggleable__control sk-hidden--visually\" id=\"sk-estimator-id-15\" type=\"checkbox\" ><label for=\"sk-estimator-id-15\" class=\"sk-toggleable__label fitted sk-toggleable__label-arrow\"><div><div>LogisticRegression</div></div><div><a class=\"sk-estimator-doc-link fitted\" rel=\"noreferrer\" target=\"_blank\" href=\"https://scikit-learn.org/1.6/modules/generated/sklearn.linear_model.LogisticRegression.html\">?<span>Documentation for LogisticRegression</span></a></div></label><div class=\"sk-toggleable__content fitted\"><pre>LogisticRegression(C=1, class_weight=&#x27;balanced&#x27;, random_state=1)</pre></div> </div></div></div></div></div></div></div></div></div>"
     },
     "execution_count": 77,
     "metadata": {},
     "output_type": "execute_result"
    }
   ],
   "source": [
    "grid = GridSearchCV(LogisticRegression(random_state=1, penalty='l2'), param_grid=\n",
    "{'C': [0.01, 0.05, 0.1, 0.5, 1], 'max_iter': [30, 50, 100, 200], 'class_weight': ['balanced']}, cv=5,\n",
    "                    scoring='f1_macro')\n",
    "\n",
    "grid.fit(train_vectors, train_labels)\n",
    "\n",
    "# you can also directly use best estimator on training data\n",
    "# best_train_lr = grid.best_estimator_"
   ],
   "metadata": {
    "collapsed": false,
    "ExecuteTime": {
     "end_time": "2025-05-14T11:19:53.423261Z",
     "start_time": "2025-05-14T11:19:48.205874Z"
    }
   },
   "id": "aa1cacd93422d2ed",
   "execution_count": 77
  },
  {
   "cell_type": "code",
   "outputs": [
    {
     "name": "stderr",
     "output_type": "stream",
     "text": [
      "D:\\Работен плот\\Tubingen\\GitHub\\SNLP2\\.venv\\Lib\\site-packages\\sklearn\\linear_model\\_logistic.py:465: ConvergenceWarning: lbfgs failed to converge (status=1):\n",
      "STOP: TOTAL NO. of ITERATIONS REACHED LIMIT.\n",
      "\n",
      "Increase the number of iterations (max_iter) or scale the data as shown in:\n",
      "    https://scikit-learn.org/stable/modules/preprocessing.html\n",
      "Please also refer to the documentation for alternative solver options:\n",
      "    https://scikit-learn.org/stable/modules/linear_model.html#logistic-regression\n",
      "  n_iter_i = _check_optimize_result(\n",
      "D:\\Работен плот\\Tubingen\\GitHub\\SNLP2\\.venv\\Lib\\site-packages\\sklearn\\linear_model\\_logistic.py:465: ConvergenceWarning: lbfgs failed to converge (status=1):\n",
      "STOP: TOTAL NO. of ITERATIONS REACHED LIMIT.\n",
      "\n",
      "Increase the number of iterations (max_iter) or scale the data as shown in:\n",
      "    https://scikit-learn.org/stable/modules/preprocessing.html\n",
      "Please also refer to the documentation for alternative solver options:\n",
      "    https://scikit-learn.org/stable/modules/linear_model.html#logistic-regression\n",
      "  n_iter_i = _check_optimize_result(\n",
      "D:\\Работен плот\\Tubingen\\GitHub\\SNLP2\\.venv\\Lib\\site-packages\\sklearn\\linear_model\\_logistic.py:465: ConvergenceWarning: lbfgs failed to converge (status=1):\n",
      "STOP: TOTAL NO. of ITERATIONS REACHED LIMIT.\n",
      "\n",
      "Increase the number of iterations (max_iter) or scale the data as shown in:\n",
      "    https://scikit-learn.org/stable/modules/preprocessing.html\n",
      "Please also refer to the documentation for alternative solver options:\n",
      "    https://scikit-learn.org/stable/modules/linear_model.html#logistic-regression\n",
      "  n_iter_i = _check_optimize_result(\n",
      "D:\\Работен плот\\Tubingen\\GitHub\\SNLP2\\.venv\\Lib\\site-packages\\sklearn\\linear_model\\_logistic.py:465: ConvergenceWarning: lbfgs failed to converge (status=1):\n",
      "STOP: TOTAL NO. of ITERATIONS REACHED LIMIT.\n",
      "\n",
      "Increase the number of iterations (max_iter) or scale the data as shown in:\n",
      "    https://scikit-learn.org/stable/modules/preprocessing.html\n",
      "Please also refer to the documentation for alternative solver options:\n",
      "    https://scikit-learn.org/stable/modules/linear_model.html#logistic-regression\n",
      "  n_iter_i = _check_optimize_result(\n",
      "D:\\Работен плот\\Tubingen\\GitHub\\SNLP2\\.venv\\Lib\\site-packages\\sklearn\\linear_model\\_logistic.py:465: ConvergenceWarning: lbfgs failed to converge (status=1):\n",
      "STOP: TOTAL NO. of ITERATIONS REACHED LIMIT.\n",
      "\n",
      "Increase the number of iterations (max_iter) or scale the data as shown in:\n",
      "    https://scikit-learn.org/stable/modules/preprocessing.html\n",
      "Please also refer to the documentation for alternative solver options:\n",
      "    https://scikit-learn.org/stable/modules/linear_model.html#logistic-regression\n",
      "  n_iter_i = _check_optimize_result(\n",
      "D:\\Работен плот\\Tubingen\\GitHub\\SNLP2\\.venv\\Lib\\site-packages\\sklearn\\linear_model\\_logistic.py:465: ConvergenceWarning: lbfgs failed to converge (status=1):\n",
      "STOP: TOTAL NO. of ITERATIONS REACHED LIMIT.\n",
      "\n",
      "Increase the number of iterations (max_iter) or scale the data as shown in:\n",
      "    https://scikit-learn.org/stable/modules/preprocessing.html\n",
      "Please also refer to the documentation for alternative solver options:\n",
      "    https://scikit-learn.org/stable/modules/linear_model.html#logistic-regression\n",
      "  n_iter_i = _check_optimize_result(\n",
      "D:\\Работен плот\\Tubingen\\GitHub\\SNLP2\\.venv\\Lib\\site-packages\\sklearn\\linear_model\\_logistic.py:465: ConvergenceWarning: lbfgs failed to converge (status=1):\n",
      "STOP: TOTAL NO. of ITERATIONS REACHED LIMIT.\n",
      "\n",
      "Increase the number of iterations (max_iter) or scale the data as shown in:\n",
      "    https://scikit-learn.org/stable/modules/preprocessing.html\n",
      "Please also refer to the documentation for alternative solver options:\n",
      "    https://scikit-learn.org/stable/modules/linear_model.html#logistic-regression\n",
      "  n_iter_i = _check_optimize_result(\n",
      "D:\\Работен плот\\Tubingen\\GitHub\\SNLP2\\.venv\\Lib\\site-packages\\sklearn\\linear_model\\_logistic.py:465: ConvergenceWarning: lbfgs failed to converge (status=1):\n",
      "STOP: TOTAL NO. of ITERATIONS REACHED LIMIT.\n",
      "\n",
      "Increase the number of iterations (max_iter) or scale the data as shown in:\n",
      "    https://scikit-learn.org/stable/modules/preprocessing.html\n",
      "Please also refer to the documentation for alternative solver options:\n",
      "    https://scikit-learn.org/stable/modules/linear_model.html#logistic-regression\n",
      "  n_iter_i = _check_optimize_result(\n"
     ]
    },
    {
     "name": "stdout",
     "output_type": "stream",
     "text": [
      "LogisticRegression(C=1, class_weight='balanced', max_iter=50, random_state=1)\n",
      "precision-macro: 91.4%\n",
      "recall-macro: 92.31%\n",
      "f1-macro: 91.83%\n"
     ]
    }
   ],
   "source": [
    "# usually we want the best estimator on the dev set to make sure our model generalizes enough\n",
    "\n",
    "best_lr, best_pr, best_r, bestf1 = None, 0.0, 0.0, 0.0\n",
    "for param in grid.cv_results_['params']:\n",
    "    model = LogisticRegression(**param, random_state=1, penalty='l2')\n",
    "    model.fit(train_vectors, train_labels)\n",
    "    y_dev_preds = model.predict(dev_vectors)\n",
    "\n",
    "    # in this case, I choose the model with best f1-macro average \n",
    "    f1 = f1_score(dev_labels, y_dev_preds, average='macro')\n",
    "    if f1 > bestf1:\n",
    "        bestf1 = f1\n",
    "        best_pr = precision_score(dev_labels, y_dev_preds, average='macro')\n",
    "        best_r = recall_score(dev_labels, y_dev_preds, average='macro')\n",
    "        best_lr = model\n",
    "\n",
    "# with best model on the dev set    \n",
    "print(best_lr)\n",
    "print(f'precision-macro: {round(best_pr, 4) * 100}%\\n'\n",
    "      f'recall-macro: {round(best_r, 4) * 100}%\\n'\n",
    "      f'f1-macro: {round(bestf1, 4) * 100}%')\n"
   ],
   "metadata": {
    "collapsed": false,
    "ExecuteTime": {
     "end_time": "2025-05-14T11:19:54.738399Z",
     "start_time": "2025-05-14T11:19:53.424347Z"
    }
   },
   "id": "a953db64ea415477",
   "execution_count": 78
  },
  {
   "cell_type": "code",
   "outputs": [
    {
     "name": "stdout",
     "output_type": "stream",
     "text": [
      "precision-micro: 93.42% recall-micro: 93.42% f1-micro: 93.42%\n",
      "--------------------------------------------------\n",
      "precision-macro: 92.62% recall-macro: 93.21000000000001% f1-macro: 92.9%\n"
     ]
    }
   ],
   "source": [
    "# use best model on the test set\n",
    "y_pred = best_lr.predict(test_vectors)\n",
    "\n",
    "pmacro, rmacro, f1macro = precision_score(test_labels, y_pred, average='macro'), recall_score(test_labels, y_pred,\n",
    "                                                                                              average='macro'), f1_score(\n",
    "    test_labels, y_pred, average='macro')\n",
    "\n",
    "pmicro, rmicro, f1micro = precision_score(test_labels, y_pred, average='micro'), recall_score(test_labels, y_pred,\n",
    "                                                                                              average='micro'), f1_score(\n",
    "    test_labels, y_pred, average='micro')\n",
    "\n",
    "print(\n",
    "    f'precision-micro: {round(pmicro, 4) * 100}% recall-micro: {round(rmicro, 4) * 100}% f1-micro: {round(f1micro, 4) * 100}%')\n",
    "print('-' * 50)\n",
    "print(\n",
    "    f'precision-macro: {round(pmacro, 4) * 100}% recall-macro: {round(rmacro, 4) * 100}% f1-macro: {round(f1macro, 4) * 100}%')"
   ],
   "metadata": {
    "collapsed": false,
    "ExecuteTime": {
     "end_time": "2025-05-14T11:19:54.752758Z",
     "start_time": "2025-05-14T11:19:54.739443Z"
    }
   },
   "id": "2f4f9ee871d5126c",
   "execution_count": 79
  },
  {
   "cell_type": "markdown",
   "source": [
    "### SVM"
   ],
   "metadata": {
    "collapsed": false
   },
   "id": "8cf91190484e7b61"
  },
  {
   "cell_type": "code",
   "outputs": [
    {
     "name": "stderr",
     "output_type": "stream",
     "text": [
      "D:\\Работен плот\\Tubingen\\GitHub\\SNLP2\\.venv\\Lib\\site-packages\\sklearn\\svm\\_base.py:305: ConvergenceWarning: Solver terminated early (max_iter=1000).  Consider pre-processing your data with StandardScaler or MinMaxScaler.\n",
      "  warnings.warn(\n",
      "D:\\Работен плот\\Tubingen\\GitHub\\SNLP2\\.venv\\Lib\\site-packages\\sklearn\\svm\\_base.py:305: ConvergenceWarning: Solver terminated early (max_iter=1000).  Consider pre-processing your data with StandardScaler or MinMaxScaler.\n",
      "  warnings.warn(\n",
      "D:\\Работен плот\\Tubingen\\GitHub\\SNLP2\\.venv\\Lib\\site-packages\\sklearn\\svm\\_base.py:305: ConvergenceWarning: Solver terminated early (max_iter=1000).  Consider pre-processing your data with StandardScaler or MinMaxScaler.\n",
      "  warnings.warn(\n",
      "D:\\Работен плот\\Tubingen\\GitHub\\SNLP2\\.venv\\Lib\\site-packages\\sklearn\\svm\\_base.py:305: ConvergenceWarning: Solver terminated early (max_iter=1000).  Consider pre-processing your data with StandardScaler or MinMaxScaler.\n",
      "  warnings.warn(\n",
      "D:\\Работен плот\\Tubingen\\GitHub\\SNLP2\\.venv\\Lib\\site-packages\\sklearn\\svm\\_base.py:305: ConvergenceWarning: Solver terminated early (max_iter=1000).  Consider pre-processing your data with StandardScaler or MinMaxScaler.\n",
      "  warnings.warn(\n",
      "D:\\Работен плот\\Tubingen\\GitHub\\SNLP2\\.venv\\Lib\\site-packages\\sklearn\\svm\\_base.py:305: ConvergenceWarning: Solver terminated early (max_iter=2000).  Consider pre-processing your data with StandardScaler or MinMaxScaler.\n",
      "  warnings.warn(\n",
      "D:\\Работен плот\\Tubingen\\GitHub\\SNLP2\\.venv\\Lib\\site-packages\\sklearn\\svm\\_base.py:305: ConvergenceWarning: Solver terminated early (max_iter=2000).  Consider pre-processing your data with StandardScaler or MinMaxScaler.\n",
      "  warnings.warn(\n",
      "D:\\Работен плот\\Tubingen\\GitHub\\SNLP2\\.venv\\Lib\\site-packages\\sklearn\\svm\\_base.py:305: ConvergenceWarning: Solver terminated early (max_iter=2000).  Consider pre-processing your data with StandardScaler or MinMaxScaler.\n",
      "  warnings.warn(\n",
      "D:\\Работен плот\\Tubingen\\GitHub\\SNLP2\\.venv\\Lib\\site-packages\\sklearn\\svm\\_base.py:305: ConvergenceWarning: Solver terminated early (max_iter=2000).  Consider pre-processing your data with StandardScaler or MinMaxScaler.\n",
      "  warnings.warn(\n",
      "D:\\Работен плот\\Tubingen\\GitHub\\SNLP2\\.venv\\Lib\\site-packages\\sklearn\\svm\\_base.py:305: ConvergenceWarning: Solver terminated early (max_iter=2000).  Consider pre-processing your data with StandardScaler or MinMaxScaler.\n",
      "  warnings.warn(\n",
      "D:\\Работен плот\\Tubingen\\GitHub\\SNLP2\\.venv\\Lib\\site-packages\\sklearn\\svm\\_base.py:305: ConvergenceWarning: Solver terminated early (max_iter=1000).  Consider pre-processing your data with StandardScaler or MinMaxScaler.\n",
      "  warnings.warn(\n",
      "D:\\Работен плот\\Tubingen\\GitHub\\SNLP2\\.venv\\Lib\\site-packages\\sklearn\\svm\\_base.py:305: ConvergenceWarning: Solver terminated early (max_iter=1000).  Consider pre-processing your data with StandardScaler or MinMaxScaler.\n",
      "  warnings.warn(\n",
      "D:\\Работен плот\\Tubingen\\GitHub\\SNLP2\\.venv\\Lib\\site-packages\\sklearn\\svm\\_base.py:305: ConvergenceWarning: Solver terminated early (max_iter=1000).  Consider pre-processing your data with StandardScaler or MinMaxScaler.\n",
      "  warnings.warn(\n",
      "D:\\Работен плот\\Tubingen\\GitHub\\SNLP2\\.venv\\Lib\\site-packages\\sklearn\\svm\\_base.py:305: ConvergenceWarning: Solver terminated early (max_iter=1000).  Consider pre-processing your data with StandardScaler or MinMaxScaler.\n",
      "  warnings.warn(\n",
      "D:\\Работен плот\\Tubingen\\GitHub\\SNLP2\\.venv\\Lib\\site-packages\\sklearn\\svm\\_base.py:305: ConvergenceWarning: Solver terminated early (max_iter=1000).  Consider pre-processing your data with StandardScaler or MinMaxScaler.\n",
      "  warnings.warn(\n",
      "D:\\Работен плот\\Tubingen\\GitHub\\SNLP2\\.venv\\Lib\\site-packages\\sklearn\\svm\\_base.py:305: ConvergenceWarning: Solver terminated early (max_iter=2000).  Consider pre-processing your data with StandardScaler or MinMaxScaler.\n",
      "  warnings.warn(\n",
      "D:\\Работен плот\\Tubingen\\GitHub\\SNLP2\\.venv\\Lib\\site-packages\\sklearn\\svm\\_base.py:305: ConvergenceWarning: Solver terminated early (max_iter=2000).  Consider pre-processing your data with StandardScaler or MinMaxScaler.\n",
      "  warnings.warn(\n",
      "D:\\Работен плот\\Tubingen\\GitHub\\SNLP2\\.venv\\Lib\\site-packages\\sklearn\\svm\\_base.py:305: ConvergenceWarning: Solver terminated early (max_iter=2000).  Consider pre-processing your data with StandardScaler or MinMaxScaler.\n",
      "  warnings.warn(\n",
      "D:\\Работен плот\\Tubingen\\GitHub\\SNLP2\\.venv\\Lib\\site-packages\\sklearn\\svm\\_base.py:305: ConvergenceWarning: Solver terminated early (max_iter=2000).  Consider pre-processing your data with StandardScaler or MinMaxScaler.\n",
      "  warnings.warn(\n",
      "D:\\Работен плот\\Tubingen\\GitHub\\SNLP2\\.venv\\Lib\\site-packages\\sklearn\\svm\\_base.py:305: ConvergenceWarning: Solver terminated early (max_iter=2000).  Consider pre-processing your data with StandardScaler or MinMaxScaler.\n",
      "  warnings.warn(\n",
      "D:\\Работен плот\\Tubingen\\GitHub\\SNLP2\\.venv\\Lib\\site-packages\\sklearn\\svm\\_base.py:305: ConvergenceWarning: Solver terminated early (max_iter=3000).  Consider pre-processing your data with StandardScaler or MinMaxScaler.\n",
      "  warnings.warn(\n",
      "D:\\Работен плот\\Tubingen\\GitHub\\SNLP2\\.venv\\Lib\\site-packages\\sklearn\\svm\\_base.py:305: ConvergenceWarning: Solver terminated early (max_iter=3000).  Consider pre-processing your data with StandardScaler or MinMaxScaler.\n",
      "  warnings.warn(\n",
      "D:\\Работен плот\\Tubingen\\GitHub\\SNLP2\\.venv\\Lib\\site-packages\\sklearn\\svm\\_base.py:305: ConvergenceWarning: Solver terminated early (max_iter=3000).  Consider pre-processing your data with StandardScaler or MinMaxScaler.\n",
      "  warnings.warn(\n",
      "D:\\Работен плот\\Tubingen\\GitHub\\SNLP2\\.venv\\Lib\\site-packages\\sklearn\\svm\\_base.py:305: ConvergenceWarning: Solver terminated early (max_iter=3000).  Consider pre-processing your data with StandardScaler or MinMaxScaler.\n",
      "  warnings.warn(\n",
      "D:\\Работен плот\\Tubingen\\GitHub\\SNLP2\\.venv\\Lib\\site-packages\\sklearn\\svm\\_base.py:305: ConvergenceWarning: Solver terminated early (max_iter=3000).  Consider pre-processing your data with StandardScaler or MinMaxScaler.\n",
      "  warnings.warn(\n",
      "D:\\Работен плот\\Tubingen\\GitHub\\SNLP2\\.venv\\Lib\\site-packages\\sklearn\\svm\\_base.py:305: ConvergenceWarning: Solver terminated early (max_iter=1000).  Consider pre-processing your data with StandardScaler or MinMaxScaler.\n",
      "  warnings.warn(\n",
      "D:\\Работен плот\\Tubingen\\GitHub\\SNLP2\\.venv\\Lib\\site-packages\\sklearn\\svm\\_base.py:305: ConvergenceWarning: Solver terminated early (max_iter=1000).  Consider pre-processing your data with StandardScaler or MinMaxScaler.\n",
      "  warnings.warn(\n",
      "D:\\Работен плот\\Tubingen\\GitHub\\SNLP2\\.venv\\Lib\\site-packages\\sklearn\\svm\\_base.py:305: ConvergenceWarning: Solver terminated early (max_iter=1000).  Consider pre-processing your data with StandardScaler or MinMaxScaler.\n",
      "  warnings.warn(\n",
      "D:\\Работен плот\\Tubingen\\GitHub\\SNLP2\\.venv\\Lib\\site-packages\\sklearn\\svm\\_base.py:305: ConvergenceWarning: Solver terminated early (max_iter=1000).  Consider pre-processing your data with StandardScaler or MinMaxScaler.\n",
      "  warnings.warn(\n",
      "D:\\Работен плот\\Tubingen\\GitHub\\SNLP2\\.venv\\Lib\\site-packages\\sklearn\\svm\\_base.py:305: ConvergenceWarning: Solver terminated early (max_iter=1000).  Consider pre-processing your data with StandardScaler or MinMaxScaler.\n",
      "  warnings.warn(\n",
      "D:\\Работен плот\\Tubingen\\GitHub\\SNLP2\\.venv\\Lib\\site-packages\\sklearn\\svm\\_base.py:305: ConvergenceWarning: Solver terminated early (max_iter=2000).  Consider pre-processing your data with StandardScaler or MinMaxScaler.\n",
      "  warnings.warn(\n",
      "D:\\Работен плот\\Tubingen\\GitHub\\SNLP2\\.venv\\Lib\\site-packages\\sklearn\\svm\\_base.py:305: ConvergenceWarning: Solver terminated early (max_iter=2000).  Consider pre-processing your data with StandardScaler or MinMaxScaler.\n",
      "  warnings.warn(\n",
      "D:\\Работен плот\\Tubingen\\GitHub\\SNLP2\\.venv\\Lib\\site-packages\\sklearn\\svm\\_base.py:305: ConvergenceWarning: Solver terminated early (max_iter=2000).  Consider pre-processing your data with StandardScaler or MinMaxScaler.\n",
      "  warnings.warn(\n",
      "D:\\Работен плот\\Tubingen\\GitHub\\SNLP2\\.venv\\Lib\\site-packages\\sklearn\\svm\\_base.py:305: ConvergenceWarning: Solver terminated early (max_iter=2000).  Consider pre-processing your data with StandardScaler or MinMaxScaler.\n",
      "  warnings.warn(\n",
      "D:\\Работен плот\\Tubingen\\GitHub\\SNLP2\\.venv\\Lib\\site-packages\\sklearn\\svm\\_base.py:305: ConvergenceWarning: Solver terminated early (max_iter=2000).  Consider pre-processing your data with StandardScaler or MinMaxScaler.\n",
      "  warnings.warn(\n",
      "D:\\Работен плот\\Tubingen\\GitHub\\SNLP2\\.venv\\Lib\\site-packages\\sklearn\\svm\\_base.py:305: ConvergenceWarning: Solver terminated early (max_iter=3000).  Consider pre-processing your data with StandardScaler or MinMaxScaler.\n",
      "  warnings.warn(\n",
      "D:\\Работен плот\\Tubingen\\GitHub\\SNLP2\\.venv\\Lib\\site-packages\\sklearn\\svm\\_base.py:305: ConvergenceWarning: Solver terminated early (max_iter=3000).  Consider pre-processing your data with StandardScaler or MinMaxScaler.\n",
      "  warnings.warn(\n",
      "D:\\Работен плот\\Tubingen\\GitHub\\SNLP2\\.venv\\Lib\\site-packages\\sklearn\\svm\\_base.py:305: ConvergenceWarning: Solver terminated early (max_iter=3000).  Consider pre-processing your data with StandardScaler or MinMaxScaler.\n",
      "  warnings.warn(\n",
      "D:\\Работен плот\\Tubingen\\GitHub\\SNLP2\\.venv\\Lib\\site-packages\\sklearn\\svm\\_base.py:305: ConvergenceWarning: Solver terminated early (max_iter=3000).  Consider pre-processing your data with StandardScaler or MinMaxScaler.\n",
      "  warnings.warn(\n",
      "D:\\Работен плот\\Tubingen\\GitHub\\SNLP2\\.venv\\Lib\\site-packages\\sklearn\\svm\\_base.py:305: ConvergenceWarning: Solver terminated early (max_iter=3000).  Consider pre-processing your data with StandardScaler or MinMaxScaler.\n",
      "  warnings.warn(\n",
      "D:\\Работен плот\\Tubingen\\GitHub\\SNLP2\\.venv\\Lib\\site-packages\\sklearn\\svm\\_base.py:305: ConvergenceWarning: Solver terminated early (max_iter=5000).  Consider pre-processing your data with StandardScaler or MinMaxScaler.\n",
      "  warnings.warn(\n",
      "D:\\Работен плот\\Tubingen\\GitHub\\SNLP2\\.venv\\Lib\\site-packages\\sklearn\\svm\\_base.py:305: ConvergenceWarning: Solver terminated early (max_iter=5000).  Consider pre-processing your data with StandardScaler or MinMaxScaler.\n",
      "  warnings.warn(\n",
      "D:\\Работен плот\\Tubingen\\GitHub\\SNLP2\\.venv\\Lib\\site-packages\\sklearn\\svm\\_base.py:305: ConvergenceWarning: Solver terminated early (max_iter=5000).  Consider pre-processing your data with StandardScaler or MinMaxScaler.\n",
      "  warnings.warn(\n",
      "D:\\Работен плот\\Tubingen\\GitHub\\SNLP2\\.venv\\Lib\\site-packages\\sklearn\\svm\\_base.py:305: ConvergenceWarning: Solver terminated early (max_iter=5000).  Consider pre-processing your data with StandardScaler or MinMaxScaler.\n",
      "  warnings.warn(\n",
      "D:\\Работен плот\\Tubingen\\GitHub\\SNLP2\\.venv\\Lib\\site-packages\\sklearn\\svm\\_base.py:305: ConvergenceWarning: Solver terminated early (max_iter=5000).  Consider pre-processing your data with StandardScaler or MinMaxScaler.\n",
      "  warnings.warn(\n"
     ]
    },
    {
     "name": "stdout",
     "output_type": "stream",
     "text": [
      "SVC(C=1, class_weight='balanced', kernel='linear', max_iter=5000,\n",
      "    random_state=1) 0.9315215951245364\n"
     ]
    },
    {
     "name": "stderr",
     "output_type": "stream",
     "text": [
      "D:\\Работен плот\\Tubingen\\GitHub\\SNLP2\\.venv\\Lib\\site-packages\\sklearn\\svm\\_base.py:305: ConvergenceWarning: Solver terminated early (max_iter=5000).  Consider pre-processing your data with StandardScaler or MinMaxScaler.\n",
      "  warnings.warn(\n"
     ]
    }
   ],
   "source": [
    "grid = GridSearchCV(SVC(random_state=1, kernel='linear'), param_grid={\n",
    "    'C': [0.01, 0.1, 1],\n",
    "    'class_weight': ['balanced'],\n",
    "    'max_iter': [1000, 2000, 3000, 5000]\n",
    "}, cv=5, scoring='f1_macro')\n",
    "\n",
    "# gives the best estimator on the train data\n",
    "grid.fit(train_vectors, train_labels)\n",
    "best_train_svm = grid.best_estimator_\n",
    "\n",
    "# with best model on train data\n",
    "print(best_train_svm, f1_score(dev_labels, best_train_svm.predict(dev_vectors), average='macro'))\n"
   ],
   "metadata": {
    "collapsed": false,
    "ExecuteTime": {
     "end_time": "2025-05-14T11:12:43.448597Z",
     "start_time": "2025-05-14T11:10:54.162067Z"
    }
   },
   "id": "440ee2f87d2acd64",
   "execution_count": 59
  },
  {
   "cell_type": "code",
   "outputs": [
    {
     "name": "stderr",
     "output_type": "stream",
     "text": [
      "D:\\Работен плот\\Tubingen\\GitHub\\SNLP2\\.venv\\Lib\\site-packages\\sklearn\\svm\\_base.py:305: ConvergenceWarning: Solver terminated early (max_iter=1000).  Consider pre-processing your data with StandardScaler or MinMaxScaler.\n",
      "  warnings.warn(\n",
      "D:\\Работен плот\\Tubingen\\GitHub\\SNLP2\\.venv\\Lib\\site-packages\\sklearn\\metrics\\_classification.py:1565: UndefinedMetricWarning: Precision is ill-defined and being set to 0.0 in labels with no predicted samples. Use `zero_division` parameter to control this behavior.\n",
      "  _warn_prf(average, modifier, f\"{metric.capitalize()} is\", len(result))\n",
      "D:\\Работен плот\\Tubingen\\GitHub\\SNLP2\\.venv\\Lib\\site-packages\\sklearn\\svm\\_base.py:305: ConvergenceWarning: Solver terminated early (max_iter=2000).  Consider pre-processing your data with StandardScaler or MinMaxScaler.\n",
      "  warnings.warn(\n",
      "D:\\Работен плот\\Tubingen\\GitHub\\SNLP2\\.venv\\Lib\\site-packages\\sklearn\\svm\\_base.py:305: ConvergenceWarning: Solver terminated early (max_iter=1000).  Consider pre-processing your data with StandardScaler or MinMaxScaler.\n",
      "  warnings.warn(\n",
      "D:\\Работен плот\\Tubingen\\GitHub\\SNLP2\\.venv\\Lib\\site-packages\\sklearn\\svm\\_base.py:305: ConvergenceWarning: Solver terminated early (max_iter=2000).  Consider pre-processing your data with StandardScaler or MinMaxScaler.\n",
      "  warnings.warn(\n",
      "D:\\Работен плот\\Tubingen\\GitHub\\SNLP2\\.venv\\Lib\\site-packages\\sklearn\\svm\\_base.py:305: ConvergenceWarning: Solver terminated early (max_iter=3000).  Consider pre-processing your data with StandardScaler or MinMaxScaler.\n",
      "  warnings.warn(\n",
      "D:\\Работен плот\\Tubingen\\GitHub\\SNLP2\\.venv\\Lib\\site-packages\\sklearn\\svm\\_base.py:305: ConvergenceWarning: Solver terminated early (max_iter=1000).  Consider pre-processing your data with StandardScaler or MinMaxScaler.\n",
      "  warnings.warn(\n",
      "D:\\Работен плот\\Tubingen\\GitHub\\SNLP2\\.venv\\Lib\\site-packages\\sklearn\\svm\\_base.py:305: ConvergenceWarning: Solver terminated early (max_iter=2000).  Consider pre-processing your data with StandardScaler or MinMaxScaler.\n",
      "  warnings.warn(\n",
      "D:\\Работен плот\\Tubingen\\GitHub\\SNLP2\\.venv\\Lib\\site-packages\\sklearn\\svm\\_base.py:305: ConvergenceWarning: Solver terminated early (max_iter=3000).  Consider pre-processing your data with StandardScaler or MinMaxScaler.\n",
      "  warnings.warn(\n"
     ]
    },
    {
     "name": "stdout",
     "output_type": "stream",
     "text": [
      "SVC(C=1, class_weight='balanced', kernel='linear', max_iter=5000,\n",
      "    random_state=1) 0.9315215951245364\n"
     ]
    },
    {
     "name": "stderr",
     "output_type": "stream",
     "text": [
      "D:\\Работен плот\\Tubingen\\GitHub\\SNLP2\\.venv\\Lib\\site-packages\\sklearn\\svm\\_base.py:305: ConvergenceWarning: Solver terminated early (max_iter=5000).  Consider pre-processing your data with StandardScaler or MinMaxScaler.\n",
      "  warnings.warn(\n"
     ]
    }
   ],
   "source": [
    "best_svm, best_pr, best_r, bestf1 = None, 0.0, 0.0, 0.0\n",
    "\n",
    "for param in grid.cv_results_['params']:\n",
    "    model = SVC(**param, random_state=1, kernel='linear')\n",
    "    model.fit(train_vectors, train_labels)\n",
    "    y_dev_preds = model.predict(dev_vectors)\n",
    "    f1 = f1_score(dev_labels, y_dev_preds, average='macro')\n",
    "    if f1 > bestf1:\n",
    "        bestf1 = f1\n",
    "        best_pr = precision_score(dev_labels, y_dev_preds, average='macro')\n",
    "        best_r = recall_score(dev_labels, y_dev_preds, average='macro')\n",
    "        best_svm = model\n",
    "\n",
    "# with best model on the dev set    \n",
    "print(best_svm, bestf1)"
   ],
   "metadata": {
    "collapsed": false,
    "ExecuteTime": {
     "end_time": "2025-05-14T11:13:11.679230Z",
     "start_time": "2025-05-14T11:12:43.449599Z"
    }
   },
   "id": "c9765173cf314ec8",
   "execution_count": 60
  },
  {
   "cell_type": "code",
   "outputs": [
    {
     "name": "stdout",
     "output_type": "stream",
     "text": [
      "precision-micro: 94.83% recall-micro: 94.83% f1-micro: 94.83%\n",
      "--------------------------------------------------\n",
      "precision-macro: 94.32000000000001% recall-macro: 94.45% f1-macro: 94.38%\n"
     ]
    }
   ],
   "source": [
    "# use best model on the test set\n",
    "y_pred = best_svm.predict(test_vectors)\n",
    "\n",
    "pmacro, rmacro, f1macro = precision_score(test_labels, y_pred, average='macro'), recall_score(test_labels, y_pred,\n",
    "                                                                                              average='macro'), f1_score(\n",
    "    test_labels, y_pred, average='macro')\n",
    "\n",
    "pmicro, rmicro, f1micro = precision_score(test_labels, y_pred, average='micro'), recall_score(test_labels, y_pred,\n",
    "                                                                                              average='micro'), f1_score(\n",
    "    test_labels, y_pred, average='micro')\n",
    "\n",
    "print(\n",
    "    f'precision-micro: {round(pmicro, 4) * 100}% recall-micro: {round(rmicro, 4) * 100}% f1-micro: {round(f1micro, 4) * 100}%')\n",
    "print('-' * 50)\n",
    "print(\n",
    "    f'precision-macro: {round(pmacro, 4) * 100}% recall-macro: {round(rmacro, 4) * 100}% f1-macro: {round(f1macro, 4) * 100}%')"
   ],
   "metadata": {
    "collapsed": false,
    "ExecuteTime": {
     "end_time": "2025-05-14T11:13:12.143335Z",
     "start_time": "2025-05-14T11:13:11.680261Z"
    }
   },
   "id": "d6fda2b6f95694f3",
   "execution_count": 61
  },
  {
   "cell_type": "markdown",
   "source": [
    "### Random Forest"
   ],
   "metadata": {
    "collapsed": false
   },
   "id": "4a961342c59483c4"
  },
  {
   "cell_type": "code",
   "outputs": [
    {
     "name": "stdout",
     "output_type": "stream",
     "text": [
      "RandomForestClassifier(max_depth=20, min_samples_leaf=2, min_samples_split=10,\n",
      "                       n_estimators=300, random_state=1) 0.8745203636370283\n"
     ]
    }
   ],
   "source": [
    "\n",
    "grid = GridSearchCV(RandomForestClassifier(random_state=1), param_grid={\n",
    "    'n_estimators': [100, 200, 300],\n",
    "    'max_depth': [5, 10, 20],\n",
    "    'min_samples_split': [5, 7, 10],\n",
    "    'min_samples_leaf': [2, 3]\n",
    "}, cv=5, scoring='f1_macro')\n",
    "\n",
    "# gives the best estimator on the train data\n",
    "grid.fit(train_vectors, train_labels)\n",
    "best_train_rf = grid.best_estimator_\n",
    "\n",
    "# with best model on train data\n",
    "print(best_train_rf, f1_score(dev_labels, best_train_rf.predict(dev_vectors), average='macro'))\n"
   ],
   "metadata": {
    "collapsed": false,
    "ExecuteTime": {
     "end_time": "2025-05-14T11:29:10.304514Z",
     "start_time": "2025-05-14T11:22:39.293013Z"
    }
   },
   "id": "381d7a85521698af",
   "execution_count": 80
  },
  {
   "cell_type": "code",
   "outputs": [
    {
     "name": "stdout",
     "output_type": "stream",
     "text": [
      "RandomForestClassifier(max_depth=20, min_samples_leaf=2, min_samples_split=10,\n",
      "                       random_state=1) 0.8778734924932317\n"
     ]
    }
   ],
   "source": [
    "best_rf, bestf1, best_pr, best_r = None, 0.0, 0.0, 0.0\n",
    "for param in grid.cv_results_['params']:\n",
    "    model = RandomForestClassifier(**param, random_state=1)\n",
    "    model.fit(train_vectors, train_labels)\n",
    "    y_dev_preds = model.predict(dev_vectors)\n",
    "    f1 = f1_score(dev_labels, y_dev_preds, average='macro')\n",
    "    if f1 > bestf1:\n",
    "        bestf1 = f1\n",
    "        best_pr = precision_score(dev_labels, y_dev_preds, average='macro')\n",
    "        best_r = recall_score(dev_labels, y_dev_preds, average='macro')\n",
    "        best_rf = model\n",
    "\n",
    "# with best model on the dev set    \n",
    "print(best_rf, bestf1)"
   ],
   "metadata": {
    "collapsed": false,
    "ExecuteTime": {
     "end_time": "2025-05-14T11:29:59.541416Z",
     "start_time": "2025-05-14T11:29:10.310825Z"
    }
   },
   "id": "a19e5ad49dafa314",
   "execution_count": 81
  },
  {
   "cell_type": "code",
   "outputs": [
    {
     "name": "stdout",
     "output_type": "stream",
     "text": [
      "precision-micro: 89.22% recall-micro: 89.22% f1-micro: 89.22%\n",
      "--------------------------------------------------\n",
      "precision-macro: 92.58999999999999% recall-macro: 85.04% f1-macro: 87.3%\n"
     ]
    }
   ],
   "source": [
    "# use best model on the test set\n",
    "y_pred = best_rf.predict(test_vectors)\n",
    "\n",
    "pmacro, rmacro, f1macro = precision_score(test_labels, y_pred, average='macro'), recall_score(test_labels, y_pred,\n",
    "                                                                                              average='macro'), f1_score(\n",
    "    test_labels, y_pred, average='macro')\n",
    "\n",
    "pmicro, rmicro, f1micro = precision_score(test_labels, y_pred, average='micro'), recall_score(test_labels, y_pred,\n",
    "                                                                                              average='micro'), f1_score(\n",
    "    test_labels, y_pred, average='micro')\n",
    "\n",
    "print(\n",
    "    f'precision-micro: {round(pmicro, 4) * 100}% recall-micro: {round(rmicro, 4) * 100}% f1-micro: {round(f1micro, 4) * 100}%')\n",
    "print('-' * 50)\n",
    "print(\n",
    "    f'precision-macro: {round(pmacro, 4) * 100}% recall-macro: {round(rmacro, 4) * 100}% f1-macro: {round(f1macro, 4) * 100}%')"
   ],
   "metadata": {
    "collapsed": false,
    "ExecuteTime": {
     "end_time": "2025-05-14T11:29:59.592755Z",
     "start_time": "2025-05-14T11:29:59.542418Z"
    }
   },
   "id": "ceaa0b66a52d1335",
   "execution_count": 82
  },
  {
   "cell_type": "markdown",
   "source": [
    "### BEST-MODEL"
   ],
   "metadata": {
    "collapsed": false
   },
   "id": "94692ea7238cdd7b"
  },
  {
   "cell_type": "code",
   "outputs": [
    {
     "name": "stdout",
     "output_type": "stream",
     "text": [
      "SVC(C=1, class_weight='balanced', kernel='linear', max_iter=5000,\n",
      "    random_state=1)\n",
      "              precision    recall  f1-score   support\n",
      "\n",
      "     class 0       0.96      0.96      0.96      1327\n",
      "     class 1       0.92      0.93      0.93       741\n",
      "\n",
      "    accuracy                           0.95      2068\n",
      "   macro avg       0.94      0.94      0.94      2068\n",
      "weighted avg       0.95      0.95      0.95      2068\n"
     ]
    }
   ],
   "source": [
    "print(best_svm)\n",
    "\n",
    "y_pred = best_svm.predict(test_vectors)\n",
    "print(classification_report(test_labels, y_pred, labels=labels,\n",
    "                            target_names=['class 0', 'class 1']))"
   ],
   "metadata": {
    "collapsed": false,
    "ExecuteTime": {
     "end_time": "2025-05-14T11:13:13.794308Z",
     "start_time": "2025-05-14T11:13:13.335430Z"
    }
   },
   "id": "88e944f2a8102474",
   "execution_count": 63
  },
  {
   "cell_type": "markdown",
   "source": [
    "### Confusion Matrix"
   ],
   "metadata": {
    "collapsed": false
   },
   "id": "e5da25472992101"
  },
  {
   "cell_type": "code",
   "outputs": [
    {
     "data": {
      "text/plain": "<Figure size 640x480 with 2 Axes>",
      "image/png": "[encoded data removed]"
     },
     "metadata": {},
     "output_type": "display_data"
    }
   ],
   "source": [
    "import matplotlib.pyplot as plt\n",
    "\n",
    "ConfusionMatrixDisplay(confusion_matrix(test_labels, y_pred), display_labels=['class 0', 'class 1']).plot(\n",
    "    cmap=plt.cm.Blues)\n",
    "plt.title('Confusion Matrix - Best Model')\n",
    "plt.show()"
   ],
   "metadata": {
    "collapsed": false,
    "ExecuteTime": {
     "end_time": "2025-05-14T11:19:02.091269Z",
     "start_time": "2025-05-14T11:19:01.995667Z"
    }
   },
   "id": "f232f90c010bbf79",
   "execution_count": 74
  },
  {
   "cell_type": "markdown",
   "source": [
    "### Hand-Crafted N-grams"
   ],
   "metadata": {
    "collapsed": false
   },
   "id": "35d84b0e961c59e"
  },
  {
   "cell_type": "code",
   "outputs": [
    {
     "name": "stdout",
     "output_type": "stream",
     "text": [
      "0.5705853418593212\n"
     ]
    }
   ],
   "source": [
    "# unigrams, bigrams, trigrams, fourgrams\n",
    "from collections import defaultdict\n",
    "\n",
    "unigram2label = defaultdict(lambda: defaultdict(int))\n",
    "bigram2label = defaultdict(lambda: defaultdict(int))\n",
    "trigram2label = defaultdict(lambda: defaultdict(int))\n",
    "fourgram2label = defaultdict(lambda: defaultdict(int))\n",
    "\n",
    "for idx, w in enumerate(train_examples):\n",
    "    for i in range(len(w)):\n",
    "        unigram2label[w[i]][train_labels[idx]] += 1\n",
    "    for i in range(len(w) - 1):\n",
    "        bigram2label[(w[i], w[i + 1])][train_labels[idx]] += 1\n",
    "    for i in range(len(w) - 2):\n",
    "        trigram2label[(w[i], w[i + 1], w[i + 2])][train_labels[idx]] += 1\n",
    "    for i in range(len(w) - 3):\n",
    "        trigram2label[(w[i], w[i + 1], w[i + 2], w[i + 3])][train_labels[idx]] += 1\n",
    "\n",
    "word2preds = defaultdict(lambda: defaultdict(int))\n",
    "for idx, w in enumerate(test_examples):\n",
    "    unigram_prediction = {}\n",
    "    for i in range(len(w)):\n",
    "        unigram_d = unigram2label.get(w[i], None)\n",
    "        if unigram_d:\n",
    "            unigram_prediction.update(unigram_d)\n",
    "    if unigram_prediction != {}:\n",
    "        word2preds[w]['unigram'] = max(unigram_prediction, key=unigram_prediction.get)\n",
    "\n",
    "    bigram_prediction = {}\n",
    "    for i in range(len(w) - 1):\n",
    "        bigram_d = bigram2label.get((w[i], w[i + 1]), None)\n",
    "        if bigram_d:\n",
    "            bigram_prediction.update(bigram_d)\n",
    "    if bigram_prediction != {}:\n",
    "        word2preds[w]['bigram'] = max(bigram_prediction, key=bigram_prediction.get)\n",
    "\n",
    "    trigram_prediction = {}\n",
    "    for i in range(len(w) - 2):\n",
    "        triram_d = trigram2label.get((w[i], w[i + 1], w[i + 2]), None)\n",
    "        if triram_d:\n",
    "            trigram_prediction.update(triram_d)\n",
    "    if trigram_prediction != {}:\n",
    "        word2preds[w]['trigram'] = max(trigram_prediction, key=trigram_prediction.get)\n",
    "\n",
    "    fourgram_prediction = {}\n",
    "    for i in range(len(w) - 3):\n",
    "        fourgram_d = fourgram2label.get((w[i], w[i + 1], w[i + 2], w[i + 3]), None)\n",
    "        if fourgram_d:\n",
    "            fourgram_prediction.update(fourgram_d)\n",
    "    if fourgram_prediction != {}:\n",
    "        word2preds[w]['fourgram'] = max(fourgram_prediction, key=fourgram_prediction.get)\n",
    "\n",
    "pred = {}\n",
    "for w in word2preds:\n",
    "    pred[w] = max(Counter(list(word2preds[w].values())), key=Counter(list(word2preds[w].values())).get)\n",
    "\n",
    "Y_hat = []\n",
    "for i in range(len(test_labels)):\n",
    "    w, label = test_examples[i], test_labels[i]\n",
    "    y_hat = pred[w]\n",
    "    Y_hat.append(y_hat)\n",
    "\n",
    "print(f1_score(test_labels, Y_hat))"
   ],
   "metadata": {
    "collapsed": false,
    "ExecuteTime": {
     "end_time": "2025-05-14T11:07:01.233499Z",
     "start_time": "2025-05-14T11:07:01.006515Z"
    }
   },
   "id": "a24852f7aa4dedf5",
   "execution_count": 47
  },
  {
   "cell_type": "code",
   "outputs": [],
   "source": [],
   "metadata": {
    "collapsed": false
   },
   "id": "ff310e310bfb5dd7"
  }
 ],
 "metadata": {
  "kernelspec": {
   "display_name": "Python 3",
   "language": "python",
   "name": "python3"
  },
  "language_info": {
   "codemirror_mode": {
    "name": "ipython",
    "version": 2
   },
   "file_extension": ".py",
   "mimetype": "text/x-python",
   "name": "python",
   "nbconvert_exporter": "python",
   "pygments_lexer": "ipython2",
   "version": "2.7.6"
  }
 },
 "nbformat": 4,
 "nbformat_minor": 5
}
