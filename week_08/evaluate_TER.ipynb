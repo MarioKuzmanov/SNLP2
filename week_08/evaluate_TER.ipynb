{
 "cells": [
  {
   "cell_type": "code",
   "outputs": [],
   "source": [
    "import evaluate\n",
    "import os"
   ],
   "metadata": {
    "collapsed": false,
    "ExecuteTime": {
     "end_time": "2025-06-28T14:33:15.405998Z",
     "start_time": "2025-06-28T14:33:07.896403Z"
    }
   },
   "id": "8d45f50d18c1cfde",
   "execution_count": 1
  },
  {
   "cell_type": "code",
   "outputs": [],
   "source": [
    "metric = evaluate.load('ter')"
   ],
   "metadata": {
    "collapsed": false,
    "ExecuteTime": {
     "end_time": "2025-06-28T14:33:16.447588Z",
     "start_time": "2025-06-28T14:33:15.407013Z"
    }
   },
   "id": "91a01dcbed1cca1a",
   "execution_count": 2
  },
  {
   "cell_type": "code",
   "outputs": [
    {
     "name": "stdout",
     "output_type": "stream",
     "text": [
      "name: 1-bi-lstm_step_3300.predictions\n",
      "TER: 25.75\n",
      "num.edits: 515\n",
      "ref.length: 2000.0\n",
      "\n",
      "name: 1-uni-lstm_step_3300.predictions\n",
      "TER: 31.6\n",
      "num.edits: 632\n",
      "ref.length: 2000.0\n",
      "\n",
      "name: 2-bi-lstm-bigger_step_3300.predictions\n",
      "TER: 22.900000000000002\n",
      "num.edits: 458\n",
      "ref.length: 2000.0\n",
      "\n",
      "name: 2-bi-lstm-extra-bigger_step_3300.predictions\n",
      "TER: 12.15\n",
      "num.edits: 243\n",
      "ref.length: 2000.0\n",
      "\n",
      "name: 2-bi-lstm-smaller_step_3300.predictions\n",
      "TER: 16.35\n",
      "num.edits: 327\n",
      "ref.length: 2000.0\n",
      "\n",
      "name: 2-bi-lstm_step_3300.predictions\n",
      "TER: 15.5\n",
      "num.edits: 310\n",
      "ref.length: 2000.0\n",
      "\n",
      "name: 2-uni-lstm_step_3300.predictions\n",
      "TER: 24.7\n",
      "num.edits: 494\n",
      "ref.length: 2000.0\n",
      "\n",
      "name: 3-bi-lstm_step_3300.predictions\n",
      "TER: 38.4\n",
      "num.edits: 768\n",
      "ref.length: 2000.0\n",
      "\n",
      "name: transformer-v1_step_10000.predictions\n",
      "TER: 82.1\n",
      "num.edits: 1642\n",
      "ref.length: 2000.0\n",
      "\n",
      "name: transformer-v1_step_3300.predictions\n",
      "TER: 95.3\n",
      "num.edits: 1906\n",
      "ref.length: 2000.0\n",
      "\n",
      "name: transformer-v2_step_10000.predictions\n",
      "TER: 71.45\n",
      "num.edits: 1429\n",
      "ref.length: 2000.0\n",
      "\n",
      "name: transformer-v3_step_10000.predictions\n",
      "TER: 99.95\n",
      "num.edits: 1999\n",
      "ref.length: 2000.0\n"
     ]
    }
   ],
   "source": [
    "modelnames = os.listdir('data-opennmt/predictions/')\n",
    "\n",
    "best_ter, best_modelname = 100.0, None\n",
    "for modelname in modelnames:\n",
    "    PATH2PREDS = f'data-opennmt/predictions/{modelname}'\n",
    "    PATH2GOLD = 'data-opennmt/test/slk.gold.tgt'\n",
    "\n",
    "    metric = evaluate.load('ter')\n",
    "\n",
    "    predictions, references = [], []\n",
    "\n",
    "    with open(PATH2PREDS, 'rt', encoding='utf8') as fr1, open(PATH2GOLD, 'rt', encoding='utf8') as fr2:\n",
    "        preds = fr1.read().split('\\n')\n",
    "        refs = fr2.read().split('\\n')\n",
    "        for p, r in zip(preds, refs):\n",
    "            p_str, r_str = ''.join(p.split(' ')), ''.join(r.split(' '))\n",
    "            predictions.append(p_str)\n",
    "            references.append([r_str])\n",
    "\n",
    "    ter = metric.compute(predictions=predictions, references=references)\n",
    "\n",
    "    if best_ter > ter[\"score\"]:\n",
    "        best_ter = ter[\"score\"]\n",
    "        best_modelname = modelname\n",
    "\n",
    "    # TER <= 20 -> high quality translation\n",
    "    print(f'name: {modelname}\\nTER: {ter[\"score\"]}\\n'\n",
    "          f'num.edits: {ter[\"num_edits\"]}\\n'\n",
    "          f'ref.length: {ter[\"ref_length\"]}\\n\\n')"
   ],
   "metadata": {
    "collapsed": false,
    "ExecuteTime": {
     "end_time": "2025-06-28T14:33:30.840593Z",
     "start_time": "2025-06-28T14:33:16.449640Z"
    }
   },
   "id": "9b49cdbb3c209f99",
   "execution_count": 3
  },
  {
   "cell_type": "code",
   "execution_count": 4,
   "id": "initial_id",
   "metadata": {
    "collapsed": true,
    "ExecuteTime": {
     "end_time": "2025-06-28T14:33:32.510748Z",
     "start_time": "2025-06-28T14:33:32.507113Z"
    }
   },
   "outputs": [
    {
     "name": "stdout",
     "output_type": "stream",
     "text": [
      "best model: 2-bi-lstm-extra-bigger_step_3300.predictions, TER: 12.15\n"
     ]
    }
   ],
   "source": [
    "print(f'best model: {best_modelname}, TER: {best_ter}')"
   ]
  },
  {
   "cell_type": "code",
   "outputs": [],
   "source": [],
   "metadata": {
    "collapsed": false
   },
   "id": "4ca476f68d70d65f"
  }
 ],
 "metadata": {
  "kernelspec": {
   "display_name": "Python 3",
   "language": "python",
   "name": "python3"
  },
  "language_info": {
   "codemirror_mode": {
    "name": "ipython",
    "version": 2
   },
   "file_extension": ".py",
   "mimetype": "text/x-python",
   "name": "python",
   "nbconvert_exporter": "python",
   "pygments_lexer": "ipython2",
   "version": "2.7.6"
  }
 },
 "nbformat": 4,
 "nbformat_minor": 5
}
