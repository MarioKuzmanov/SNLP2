{
 "cells": [
  {
   "cell_type": "markdown",
   "source": [
    "### Train Data"
   ],
   "metadata": {
    "collapsed": false
   },
   "id": "f01884ef2b8bdd4d"
  },
  {
   "cell_type": "code",
   "outputs": [],
   "source": [
    "with open(\"data/slk_large.train\", 'rt', encoding='utf8') as fr, open('data-opennmt/train/slk_large.train.src', 'wt',\n",
    "                                                                     encoding='utf8') as fw1, open(\n",
    "    'data-opennmt/train/slk_large.train.tgt', 'wt', encoding='utf8') as fw2:\n",
    "    lines = fr.read().split('\\n')\n",
    "    for line in lines:\n",
    "        src, tgt, inflection = line.strip().split('\\t')\n",
    "        src_input = \" \".join(src) + \" \" + f\" \".join(f'<{x}>' for x in inflection.split(';'))\n",
    "        tgt_input = \" \".join(tgt)\n",
    "\n",
    "        print(src_input, file=fw1)\n",
    "        print(tgt_input, file=fw2)"
   ],
   "metadata": {
    "collapsed": false,
    "ExecuteTime": {
     "end_time": "2025-06-25T12:37:33.577776Z",
     "start_time": "2025-06-25T12:37:33.540296Z"
    }
   },
   "id": "df58ee29c0875611",
   "execution_count": 19
  },
  {
   "cell_type": "markdown",
   "source": [
    "### Validation Data"
   ],
   "metadata": {
    "collapsed": false
   },
   "id": "bf7617673878e637"
  },
  {
   "cell_type": "code",
   "outputs": [],
   "source": [
    "with open(\"data/slk.dev\", 'rt', encoding='utf8') as fr, open('data-opennmt/dev/slk.dev.src', 'wt',\n",
    "                                                             encoding='utf8') as fw1, open(\n",
    "    'data-opennmt/dev/slk.dev.tgt', 'wt', encoding='utf8') as fw2:\n",
    "    lines = fr.read().split('\\n')\n",
    "    for line in lines:\n",
    "        src, tgt, inflection = line.strip().split('\\t')\n",
    "        src_input = \" \".join(src) + \" \" + f\" \".join(f'<{x}>' for x in inflection.split(';'))\n",
    "        tgt_input = \" \".join(tgt)\n",
    "\n",
    "        print(src_input, file=fw1)\n",
    "        print(tgt_input, file=fw2)"
   ],
   "metadata": {
    "collapsed": false,
    "ExecuteTime": {
     "end_time": "2025-06-25T12:38:53.531186Z",
     "start_time": "2025-06-25T12:38:53.520215Z"
    }
   },
   "id": "a8febc4fa981d5b4",
   "execution_count": 20
  },
  {
   "cell_type": "markdown",
   "source": [
    "### Test Data"
   ],
   "metadata": {
    "collapsed": false
   },
   "id": "4999bd0402677da9"
  },
  {
   "cell_type": "code",
   "outputs": [],
   "source": [
    "with open(\"data/slk.gold\", 'rt', encoding='utf8') as fr, open('data-opennmt/test/slk.gold.src', 'wt',\n",
    "                                                              encoding='utf8') as fw1, open(\n",
    "    'data-opennmt/test/slk.gold.tgt', 'wt', encoding='utf8') as fw2:\n",
    "    lines = fr.read().split('\\n')\n",
    "    for line in lines:\n",
    "        src, tgt, inflection = line.strip().split('\\t')\n",
    "        src_input = \" \".join(src) + \" \" + f\" \".join(f'<{x}>' for x in inflection.split(';'))\n",
    "        tgt_input = \" \".join(tgt)\n",
    "\n",
    "        print(src_input, file=fw1)\n",
    "        print(tgt_input, file=fw2)"
   ],
   "metadata": {
    "collapsed": false,
    "ExecuteTime": {
     "end_time": "2025-06-25T12:43:51.947827Z",
     "start_time": "2025-06-25T12:43:51.933752Z"
    }
   },
   "id": "d01bd67fe42692f2",
   "execution_count": 23
  },
  {
   "cell_type": "code",
   "outputs": [],
   "source": [],
   "metadata": {
    "collapsed": false
   },
   "id": "24ec107833718b80"
  }
 ],
 "metadata": {
  "kernelspec": {
   "display_name": "Python 3",
   "language": "python",
   "name": "python3"
  },
  "language_info": {
   "codemirror_mode": {
    "name": "ipython",
    "version": 2
   },
   "file_extension": ".py",
   "mimetype": "text/x-python",
   "name": "python",
   "nbconvert_exporter": "python",
   "pygments_lexer": "ipython2",
   "version": "2.7.6"
  }
 },
 "nbformat": 4,
 "nbformat_minor": 5
}
