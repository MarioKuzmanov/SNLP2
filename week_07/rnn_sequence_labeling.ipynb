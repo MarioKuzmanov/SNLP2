{
 "cells": [
  {
   "cell_type": "markdown",
   "source": [
    "### In Colab"
   ],
   "metadata": {
    "id": "xCaU4w3KH2xS"
   },
   "id": "xCaU4w3KH2xS"
  },
  {
   "cell_type": "code",
   "source": [
    "from google.colab import drive\n",
    "drive.mount('drive', force_remount=True)"
   ],
   "metadata": {
    "colab": {
     "base_uri": "https://localhost:8080/"
    },
    "id": "k8ScFPCnp_aq",
    "outputId": "77f96611-c0d6-400d-a881-509c67025e93"
   },
   "id": "k8ScFPCnp_aq",
   "execution_count": 1,
   "outputs": [
    {
     "output_type": "stream",
     "name": "stdout",
     "text": [
      "Mounted at drive\n"
     ]
    }
   ]
  },
  {
   "cell_type": "code",
   "source": [
    "!pip install seqeval"
   ],
   "metadata": {
    "colab": {
     "base_uri": "https://localhost:8080/"
    },
    "id": "c3tpbjn4p89X",
    "outputId": "ea72d900-e1e4-407a-fbb4-4c62d77b2e40"
   },
   "id": "c3tpbjn4p89X",
   "execution_count": 2,
   "outputs": [
    {
     "output_type": "stream",
     "name": "stdout",
     "text": [
      "Collecting seqeval\n",
      "  Downloading seqeval-1.2.2.tar.gz (43 kB)\n",
      "\u001B[?25l     \u001B[90m━━━━━━━━━━━━━━━━━━━━━━━━━━━━━━━━━━━━━━━━\u001B[0m \u001B[32m0.0/43.6 kB\u001B[0m \u001B[31m?\u001B[0m eta \u001B[36m-:--:--\u001B[0m\r\u001B[2K     \u001B[90m━━━━━━━━━━━━━━━━━━━━━━━━━━━━━━━━━━━━━━━━\u001B[0m \u001B[32m43.6/43.6 kB\u001B[0m \u001B[31m2.2 MB/s\u001B[0m eta \u001B[36m0:00:00\u001B[0m\n",
      "\u001B[?25h  Preparing metadata (setup.py) ... \u001B[?25l\u001B[?25hdone\n",
      "Requirement already satisfied: numpy>=1.14.0 in /usr/local/lib/python3.11/dist-packages (from seqeval) (2.0.2)\n",
      "Requirement already satisfied: scikit-learn>=0.21.3 in /usr/local/lib/python3.11/dist-packages (from seqeval) (1.6.1)\n",
      "Requirement already satisfied: scipy>=1.6.0 in /usr/local/lib/python3.11/dist-packages (from scikit-learn>=0.21.3->seqeval) (1.15.3)\n",
      "Requirement already satisfied: joblib>=1.2.0 in /usr/local/lib/python3.11/dist-packages (from scikit-learn>=0.21.3->seqeval) (1.5.1)\n",
      "Requirement already satisfied: threadpoolctl>=3.1.0 in /usr/local/lib/python3.11/dist-packages (from scikit-learn>=0.21.3->seqeval) (3.6.0)\n",
      "Building wheels for collected packages: seqeval\n",
      "  Building wheel for seqeval (setup.py) ... \u001B[?25l\u001B[?25hdone\n",
      "  Created wheel for seqeval: filename=seqeval-1.2.2-py3-none-any.whl size=16162 sha256=bcccb85987f049640feaf2b4a14650dee4ff7608b1b9a61c0e33c8f2747f20e6\n",
      "  Stored in directory: /root/.cache/pip/wheels/bc/92/f0/243288f899c2eacdfa8c5f9aede4c71a9bad0ee26a01dc5ead\n",
      "Successfully built seqeval\n",
      "Installing collected packages: seqeval\n",
      "Successfully installed seqeval-1.2.2\n"
     ]
    }
   ]
  },
  {
   "cell_type": "markdown",
   "source": [
    "### Imports"
   ],
   "metadata": {
    "id": "bf7gHfh1H6lF"
   },
   "id": "bf7gHfh1H6lF"
  },
  {
   "cell_type": "code",
   "outputs": [],
   "source": [
    "import torch\n",
    "import torch.nn as nn\n",
    "from sklearn.model_selection import train_test_split\n",
    "from tqdm import tqdm\n",
    "from seqeval.metrics import classification_report\n",
    "\n",
    "device = 'cuda' if torch.cuda.is_available() else 'cpu'"
   ],
   "metadata": {
    "ExecuteTime": {
     "end_time": "2025-06-15T17:30:11.001466Z",
     "start_time": "2025-06-15T17:30:10.944089Z"
    },
    "id": "f65f5f9864788910"
   },
   "id": "f65f5f9864788910",
   "execution_count": 3
  },
  {
   "cell_type": "markdown",
   "source": [
    "### Read Dataset"
   ],
   "metadata": {
    "id": "ixkZ5ojNH9Kb"
   },
   "id": "ixkZ5ojNH9Kb"
  },
  {
   "cell_type": "code",
   "outputs": [
    {
     "output_type": "stream",
     "name": "stdout",
     "text": [
      "data documents: 1312\n",
      "sent: ['analysis', 'of', 'the', 'efficacy', 'of', 'diet', 'and', 'short-term', 'probiotic', 'intervention', 'on', 'depressive', 'symptoms', 'in', 'patients', 'after', 'bariatric', 'surgery', ':', 'a', 'randomized', 'double-blind', 'placebo', 'controlled', 'pilot', 'study', '.']\n",
      "labels: ['O', 'O', 'O', 'O', 'O', 'O', 'O', 'O', 'O', 'O', 'O', 'B-DDF', 'I-DDF', 'O', 'B-human', 'O', 'O', 'O', 'O', 'O', 'O', 'O', 'O', 'O', 'O', 'O', 'O']\n"
     ]
    }
   ],
   "source": [
    "with open('drive/MyDrive/Experiments/SNLP2/week_07/all_data.data', 'rt', encoding='utf8') as fr:\n",
    "    all_data = fr.read().split('\\n')\n",
    "    all_labels = set()\n",
    "    X, Y, xx, yy = [], [], [], []\n",
    "    for line in all_data:\n",
    "        if line.strip():\n",
    "            w, label, _, _, _, _ = line.split('\\t')\n",
    "            all_labels.add(label)\n",
    "            xx.append(w.lower())\n",
    "            yy.append(label)\n",
    "        else:\n",
    "            X.append(xx.copy())\n",
    "            Y.append(yy.copy())\n",
    "            xx.clear()\n",
    "            yy.clear()\n",
    "assert len(X) == len(Y)\n",
    "print(f'data documents: {len(X)}\\n'\n",
    "      f'sent: {X[0]}\\n'\n",
    "      f'labels: {Y[0]}')"
   ],
   "metadata": {
    "ExecuteTime": {
     "end_time": "2025-06-15T17:30:11.279101Z",
     "start_time": "2025-06-15T17:30:11.238302Z"
    },
    "colab": {
     "base_uri": "https://localhost:8080/"
    },
    "id": "b289649cd2b0328c",
    "outputId": "239aaee9-38f7-4642-fcd3-517ae61debf9"
   },
   "id": "b289649cd2b0328c",
   "execution_count": 4
  },
  {
   "cell_type": "code",
   "outputs": [
    {
     "output_type": "stream",
     "name": "stdout",
     "text": [
      "labels: (27, {'B-DDF', 'B-food', 'B-gene', 'B-human', 'B-anatomical%location', 'B-biomedical%technique', 'I-bacteria', 'B-animal', 'B-drug', 'I-human', 'B-statistical%technique', 'I-food', 'O', 'B-chemical', 'I-statistical%technique', 'B-microbiome', 'B-dietary%supplement', 'I-animal', 'I-microbiome', 'I-dietary%supplement', 'B-bacteria', 'I-DDF', 'I-gene', 'I-biomedical%technique', 'I-chemical', 'I-anatomical%location', 'I-drug'})\n"
     ]
    }
   ],
   "source": [
    "print(f'labels: {len(all_labels), all_labels}')"
   ],
   "metadata": {
    "ExecuteTime": {
     "end_time": "2025-06-15T17:30:12.365087Z",
     "start_time": "2025-06-15T17:30:12.360024Z"
    },
    "colab": {
     "base_uri": "https://localhost:8080/"
    },
    "id": "721da67e7ab8d753",
    "outputId": "41ec4917-0bd2-4deb-c478-27d91979a5e5"
   },
   "id": "721da67e7ab8d753",
   "execution_count": 5
  },
  {
   "cell_type": "code",
   "outputs": [],
   "source": [
    "label2id = {label: i for i, label in enumerate(list(all_labels))}\n",
    "id2label = {v: k for k, v in label2id.items()}"
   ],
   "metadata": {
    "ExecuteTime": {
     "end_time": "2025-06-15T17:30:12.599465Z",
     "start_time": "2025-06-15T17:30:12.595361Z"
    },
    "id": "1a8bc580a5a2b7e3"
   },
   "id": "1a8bc580a5a2b7e3",
   "execution_count": 6
  },
  {
   "cell_type": "markdown",
   "source": [
    "### Split into Train and Test"
   ],
   "metadata": {
    "id": "D18UqPc3ICrf"
   },
   "id": "D18UqPc3ICrf"
  },
  {
   "cell_type": "code",
   "outputs": [
    {
     "output_type": "stream",
     "name": "stdout",
     "text": [
      "1049 263\n"
     ]
    }
   ],
   "source": [
    "X_train, X_test, Y_train, Y_test = train_test_split(X, Y, test_size=.2, random_state=42)\n",
    "\n",
    "print(len(X_train), len(X_test))"
   ],
   "metadata": {
    "ExecuteTime": {
     "end_time": "2025-06-15T17:30:12.770591Z",
     "start_time": "2025-06-15T17:30:12.762578Z"
    },
    "colab": {
     "base_uri": "https://localhost:8080/"
    },
    "id": "86253a22f6716107",
    "outputId": "13675778-6227-4eae-9207-025fbc9fc91d"
   },
   "id": "86253a22f6716107",
   "execution_count": 7
  },
  {
   "cell_type": "code",
   "outputs": [
    {
     "output_type": "stream",
     "name": "stdout",
     "text": [
      "size of vocab: 4167\n"
     ]
    }
   ],
   "source": [
    "vocab = ['<UNK>'] + sorted({w for w in X_train for w in w})\n",
    "vocab2id = {w: i for i, w in enumerate(vocab)}\n",
    "id2vocab = {v: k for k, v in vocab2id.items()}\n",
    "\n",
    "print(f'size of vocab: {len(vocab)}')"
   ],
   "metadata": {
    "ExecuteTime": {
     "end_time": "2025-06-15T17:30:13.247858Z",
     "start_time": "2025-06-15T17:30:13.235955Z"
    },
    "colab": {
     "base_uri": "https://localhost:8080/"
    },
    "id": "2ac97e11fcec016b",
    "outputId": "673dca95-977d-484a-ca77-2c479a14fd85"
   },
   "id": "2ac97e11fcec016b",
   "execution_count": 8
  },
  {
   "cell_type": "markdown",
   "source": [
    "### Encode the input"
   ],
   "metadata": {
    "collapsed": false,
    "id": "c982a1caa3f48fa0"
   },
   "id": "c982a1caa3f48fa0"
  },
  {
   "cell_type": "code",
   "outputs": [
    {
     "output_type": "stream",
     "name": "stdout",
     "text": [
      "1049 263\n"
     ]
    }
   ],
   "source": [
    "X_train_tensors = [torch.tensor([vocab2id[w] for w in train_sent], dtype=torch.long) for train_sent in X_train]\n",
    "X_test_tensors = [torch.tensor([vocab2id.get(w, vocab2id['<UNK>']) for w in test_sent], dtype=torch.long) for test_sent\n",
    "                  in X_test]\n",
    "\n",
    "print(len(X_train_tensors), len(X_test_tensors))"
   ],
   "metadata": {
    "ExecuteTime": {
     "end_time": "2025-06-15T17:30:17.399939Z",
     "start_time": "2025-06-15T17:30:17.380683Z"
    },
    "colab": {
     "base_uri": "https://localhost:8080/"
    },
    "id": "521f181282f28896",
    "outputId": "1ce6065c-9581-4d3f-8032-0d25c8d3cb65"
   },
   "id": "521f181282f28896",
   "execution_count": 9
  },
  {
   "cell_type": "code",
   "outputs": [
    {
     "output_type": "stream",
     "name": "stdout",
     "text": [
      "1049 263\n"
     ]
    }
   ],
   "source": [
    "Y_train_tensors = [torch.tensor([label2id[label] for label in train_y], dtype=torch.long) for train_y in Y_train]\n",
    "Y_test_tensors = [torch.tensor([label2id[label] for label in test_y], dtype=torch.long) for test_y in Y_test]\n",
    "\n",
    "print(len(Y_train_tensors), len(Y_test_tensors))"
   ],
   "metadata": {
    "ExecuteTime": {
     "end_time": "2025-06-15T17:30:17.791815Z",
     "start_time": "2025-06-15T17:30:17.776669Z"
    },
    "colab": {
     "base_uri": "https://localhost:8080/"
    },
    "id": "e8cee60aacb367be",
    "outputId": "a1a5324d-829f-439b-fe2b-179b435b85a8"
   },
   "id": "e8cee60aacb367be",
   "execution_count": 10
  },
  {
   "cell_type": "markdown",
   "source": [
    "### GRU Network, Loss Function and Optimizer"
   ],
   "metadata": {
    "id": "dOoEyIxMIK-x"
   },
   "id": "dOoEyIxMIK-x"
  },
  {
   "cell_type": "code",
   "source": [
    "class Net(nn.Module):\n",
    "    def __init__(self, input_size, emb_size, hidden_size, output_size, bidirectional, num_layers):\n",
    "        super(Net, self).__init__()\n",
    "        self.hidden_size = hidden_size\n",
    "        self.bidirectional = bidirectional\n",
    "        self.num_layers = num_layers\n",
    "        self.embedding = nn.Embedding(input_size, emb_size)\n",
    "        self.gru = nn.GRU(emb_size, hidden_size, bidirectional=bidirectional, num_layers=num_layers)\n",
    "        self.clf1 = nn.Linear(hidden_size, output_size)\n",
    "\n",
    "    def forward(self, X, h0):\n",
    "        e = self.embedding(X)\n",
    "        o, h0 = self.gru(e, h0)\n",
    "        if self.bidirectional:\n",
    "            # sum two directions\n",
    "            forward = o[:, : o.shape[1] // 2]\n",
    "            backward = o[:, o.shape[1] // 2:]\n",
    "            o = forward + backward\n",
    "        return self.clf1(o)\n",
    "\n",
    "    def init_hidden(self):\n",
    "        dims = 1 if not self.bidirectional else 2\n",
    "        return torch.zeros(dims * self.num_layers, self.hidden_size)"
   ],
   "metadata": {
    "id": "JK26poz8QnDp"
   },
   "id": "JK26poz8QnDp",
   "execution_count": 11,
   "outputs": []
  },
  {
   "cell_type": "code",
   "execution_count": 52,
   "id": "initial_id",
   "metadata": {
    "collapsed": true,
    "ExecuteTime": {
     "end_time": "2025-06-15T17:32:15.926575Z",
     "start_time": "2025-06-15T17:32:12.785621Z"
    },
    "id": "initial_id"
   },
   "outputs": [],
   "source": [
    "### hyperparameters\n",
    "input_size = len(vocab2id)\n",
    "emb_size = 512\n",
    "hidden_size = 2 * emb_size\n",
    "output_size = len(label2id)\n",
    "lr = 5e-5\n",
    "epochs = 50\n",
    "bidirectional = True\n",
    "num_layers = 2\n",
    "model_name = 'gru-2-bidirectional-50-epochs'\n",
    "\n",
    "net = Net(input_size=input_size, emb_size=emb_size, hidden_size=hidden_size, output_size=output_size,\n",
    "          bidirectional=bidirectional, num_layers=num_layers).to(device)\n",
    "\n",
    "loss_fn = nn.CrossEntropyLoss()\n",
    "opt = torch.optim.AdamW(net.parameters(), lr=lr)"
   ]
  },
  {
   "cell_type": "markdown",
   "source": [
    "### Training Loop"
   ],
   "metadata": {
    "id": "Rn0c90zqIRhB"
   },
   "id": "Rn0c90zqIRhB"
  },
  {
   "cell_type": "code",
   "source": [
    "net.train()\n",
    "\n",
    "for epoch in tqdm(range(epochs)):\n",
    "    epoch_loss = 0\n",
    "    for i in range(len(X_train_tensors)):\n",
    "        h0 = net.init_hidden().to(device)\n",
    "        train_tensor, train_y = X_train_tensors[i].to(device), Y_train_tensors[i].to(device)\n",
    "        opt.zero_grad()\n",
    "        pred_y = net.forward(train_tensor, h0)\n",
    "        loss = loss_fn(pred_y, train_y)\n",
    "        loss.backward()\n",
    "        opt.step()\n",
    "\n",
    "        epoch_loss += loss.item()\n",
    "    print(f'loss: {epoch_loss / len(X_train_tensors)}')"
   ],
   "metadata": {
    "colab": {
     "base_uri": "https://localhost:8080/"
    },
    "id": "iV7uQgj4uuqO",
    "outputId": "898f9511-5ca7-4dc3-b794-e6d67ba2d849"
   },
   "id": "iV7uQgj4uuqO",
   "execution_count": 53,
   "outputs": [
    {
     "output_type": "stream",
     "name": "stderr",
     "text": [
      "  2%|▏         | 1/50 [00:07<05:59,  7.35s/it]"
     ]
    },
    {
     "output_type": "stream",
     "name": "stdout",
     "text": [
      "loss: 0.7496948129576484\n"
     ]
    },
    {
     "output_type": "stream",
     "name": "stderr",
     "text": [
      "\r  4%|▍         | 2/50 [00:14<05:53,  7.37s/it]"
     ]
    },
    {
     "output_type": "stream",
     "name": "stdout",
     "text": [
      "loss: 0.39466586012439403\n"
     ]
    },
    {
     "output_type": "stream",
     "name": "stderr",
     "text": [
      "\r  6%|▌         | 3/50 [00:22<05:47,  7.39s/it]"
     ]
    },
    {
     "output_type": "stream",
     "name": "stdout",
     "text": [
      "loss: 0.23160258515242327\n"
     ]
    },
    {
     "output_type": "stream",
     "name": "stderr",
     "text": [
      "\r  8%|▊         | 4/50 [00:29<05:39,  7.37s/it]"
     ]
    },
    {
     "output_type": "stream",
     "name": "stdout",
     "text": [
      "loss: 0.12765127075418786\n"
     ]
    },
    {
     "output_type": "stream",
     "name": "stderr",
     "text": [
      "\r 10%|█         | 5/50 [00:36<05:31,  7.36s/it]"
     ]
    },
    {
     "output_type": "stream",
     "name": "stdout",
     "text": [
      "loss: 0.07134179751611461\n"
     ]
    },
    {
     "output_type": "stream",
     "name": "stderr",
     "text": [
      "\r 12%|█▏        | 6/50 [00:44<05:23,  7.34s/it]"
     ]
    },
    {
     "output_type": "stream",
     "name": "stdout",
     "text": [
      "loss: 0.045913834554866216\n"
     ]
    },
    {
     "output_type": "stream",
     "name": "stderr",
     "text": [
      "\r 14%|█▍        | 7/50 [00:51<05:16,  7.35s/it]"
     ]
    },
    {
     "output_type": "stream",
     "name": "stdout",
     "text": [
      "loss: 0.0314870713486375\n"
     ]
    },
    {
     "output_type": "stream",
     "name": "stderr",
     "text": [
      "\r 16%|█▌        | 8/50 [00:58<05:07,  7.33s/it]"
     ]
    },
    {
     "output_type": "stream",
     "name": "stdout",
     "text": [
      "loss: 0.020457778742154757\n"
     ]
    },
    {
     "output_type": "stream",
     "name": "stderr",
     "text": [
      "\r 18%|█▊        | 9/50 [01:06<05:00,  7.34s/it]"
     ]
    },
    {
     "output_type": "stream",
     "name": "stdout",
     "text": [
      "loss: 0.018015495952164208\n"
     ]
    },
    {
     "output_type": "stream",
     "name": "stderr",
     "text": [
      "\r 20%|██        | 10/50 [01:13<04:53,  7.35s/it]"
     ]
    },
    {
     "output_type": "stream",
     "name": "stdout",
     "text": [
      "loss: 0.025374433941813615\n"
     ]
    },
    {
     "output_type": "stream",
     "name": "stderr",
     "text": [
      "\r 22%|██▏       | 11/50 [01:20<04:45,  7.33s/it]"
     ]
    },
    {
     "output_type": "stream",
     "name": "stdout",
     "text": [
      "loss: 0.012846277904585089\n"
     ]
    },
    {
     "output_type": "stream",
     "name": "stderr",
     "text": [
      "\r 24%|██▍       | 12/50 [01:28<04:39,  7.34s/it]"
     ]
    },
    {
     "output_type": "stream",
     "name": "stdout",
     "text": [
      "loss: 0.007466400224460987\n"
     ]
    },
    {
     "output_type": "stream",
     "name": "stderr",
     "text": [
      "\r 26%|██▌       | 13/50 [01:35<04:33,  7.39s/it]"
     ]
    },
    {
     "output_type": "stream",
     "name": "stdout",
     "text": [
      "loss: 0.007702782444238884\n"
     ]
    },
    {
     "output_type": "stream",
     "name": "stderr",
     "text": [
      "\r 28%|██▊       | 14/50 [01:43<04:26,  7.41s/it]"
     ]
    },
    {
     "output_type": "stream",
     "name": "stdout",
     "text": [
      "loss: 0.01832464520867258\n"
     ]
    },
    {
     "output_type": "stream",
     "name": "stderr",
     "text": [
      "\r 30%|███       | 15/50 [01:50<04:19,  7.40s/it]"
     ]
    },
    {
     "output_type": "stream",
     "name": "stdout",
     "text": [
      "loss: 0.005214582849382954\n"
     ]
    },
    {
     "output_type": "stream",
     "name": "stderr",
     "text": [
      "\r 32%|███▏      | 16/50 [01:57<04:11,  7.39s/it]"
     ]
    },
    {
     "output_type": "stream",
     "name": "stdout",
     "text": [
      "loss: 0.006298498384222797\n"
     ]
    },
    {
     "output_type": "stream",
     "name": "stderr",
     "text": [
      "\r 34%|███▍      | 17/50 [02:05<04:03,  7.39s/it]"
     ]
    },
    {
     "output_type": "stream",
     "name": "stdout",
     "text": [
      "loss: 0.0067421471860531585\n"
     ]
    },
    {
     "output_type": "stream",
     "name": "stderr",
     "text": [
      "\r 36%|███▌      | 18/50 [02:12<03:56,  7.39s/it]"
     ]
    },
    {
     "output_type": "stream",
     "name": "stdout",
     "text": [
      "loss: 0.00898928512096208\n"
     ]
    },
    {
     "output_type": "stream",
     "name": "stderr",
     "text": [
      "\r 38%|███▊      | 19/50 [02:19<03:48,  7.37s/it]"
     ]
    },
    {
     "output_type": "stream",
     "name": "stdout",
     "text": [
      "loss: 0.003857944685370622\n"
     ]
    },
    {
     "output_type": "stream",
     "name": "stderr",
     "text": [
      "\r 40%|████      | 20/50 [02:27<03:40,  7.37s/it]"
     ]
    },
    {
     "output_type": "stream",
     "name": "stdout",
     "text": [
      "loss: 0.004010026915144427\n"
     ]
    },
    {
     "output_type": "stream",
     "name": "stderr",
     "text": [
      "\r 42%|████▏     | 21/50 [02:34<03:34,  7.38s/it]"
     ]
    },
    {
     "output_type": "stream",
     "name": "stdout",
     "text": [
      "loss: 0.015778552776647112\n"
     ]
    },
    {
     "output_type": "stream",
     "name": "stderr",
     "text": [
      "\r 44%|████▍     | 22/50 [02:42<03:26,  7.37s/it]"
     ]
    },
    {
     "output_type": "stream",
     "name": "stdout",
     "text": [
      "loss: 0.006083397026474627\n"
     ]
    },
    {
     "output_type": "stream",
     "name": "stderr",
     "text": [
      "\r 46%|████▌     | 23/50 [02:49<03:18,  7.37s/it]"
     ]
    },
    {
     "output_type": "stream",
     "name": "stdout",
     "text": [
      "loss: 0.005411266621175443\n"
     ]
    },
    {
     "output_type": "stream",
     "name": "stderr",
     "text": [
      "\r 48%|████▊     | 24/50 [02:56<03:11,  7.36s/it]"
     ]
    },
    {
     "output_type": "stream",
     "name": "stdout",
     "text": [
      "loss: 0.004929966003781173\n"
     ]
    },
    {
     "output_type": "stream",
     "name": "stderr",
     "text": [
      "\r 50%|█████     | 25/50 [03:04<03:04,  7.37s/it]"
     ]
    },
    {
     "output_type": "stream",
     "name": "stdout",
     "text": [
      "loss: 0.006653786444024039\n"
     ]
    },
    {
     "output_type": "stream",
     "name": "stderr",
     "text": [
      "\r 52%|█████▏    | 26/50 [03:11<02:56,  7.36s/it]"
     ]
    },
    {
     "output_type": "stream",
     "name": "stdout",
     "text": [
      "loss: 0.005332385280294105\n"
     ]
    },
    {
     "output_type": "stream",
     "name": "stderr",
     "text": [
      "\r 54%|█████▍    | 27/50 [03:18<02:49,  7.35s/it]"
     ]
    },
    {
     "output_type": "stream",
     "name": "stdout",
     "text": [
      "loss: 0.006056766038978878\n"
     ]
    },
    {
     "output_type": "stream",
     "name": "stderr",
     "text": [
      "\r 56%|█████▌    | 28/50 [03:26<02:41,  7.35s/it]"
     ]
    },
    {
     "output_type": "stream",
     "name": "stdout",
     "text": [
      "loss: 0.004149066562389773\n"
     ]
    },
    {
     "output_type": "stream",
     "name": "stderr",
     "text": [
      "\r 58%|█████▊    | 29/50 [03:33<02:33,  7.33s/it]"
     ]
    },
    {
     "output_type": "stream",
     "name": "stdout",
     "text": [
      "loss: 0.008548971299728283\n"
     ]
    },
    {
     "output_type": "stream",
     "name": "stderr",
     "text": [
      "\r 60%|██████    | 30/50 [03:40<02:26,  7.34s/it]"
     ]
    },
    {
     "output_type": "stream",
     "name": "stdout",
     "text": [
      "loss: 0.002448337845103605\n"
     ]
    },
    {
     "output_type": "stream",
     "name": "stderr",
     "text": [
      "\r 62%|██████▏   | 31/50 [03:48<02:19,  7.34s/it]"
     ]
    },
    {
     "output_type": "stream",
     "name": "stdout",
     "text": [
      "loss: 0.0011776849203472977\n"
     ]
    },
    {
     "output_type": "stream",
     "name": "stderr",
     "text": [
      "\r 64%|██████▍   | 32/50 [03:55<02:12,  7.34s/it]"
     ]
    },
    {
     "output_type": "stream",
     "name": "stdout",
     "text": [
      "loss: 0.006282248211500154\n"
     ]
    },
    {
     "output_type": "stream",
     "name": "stderr",
     "text": [
      "\r 66%|██████▌   | 33/50 [04:02<02:04,  7.34s/it]"
     ]
    },
    {
     "output_type": "stream",
     "name": "stdout",
     "text": [
      "loss: 0.007511104479502741\n"
     ]
    },
    {
     "output_type": "stream",
     "name": "stderr",
     "text": [
      "\r 68%|██████▊   | 34/50 [04:10<01:57,  7.32s/it]"
     ]
    },
    {
     "output_type": "stream",
     "name": "stdout",
     "text": [
      "loss: 0.0034331130774306923\n"
     ]
    },
    {
     "output_type": "stream",
     "name": "stderr",
     "text": [
      "\r 70%|███████   | 35/50 [04:17<01:49,  7.33s/it]"
     ]
    },
    {
     "output_type": "stream",
     "name": "stdout",
     "text": [
      "loss: 0.0012267688984266023\n"
     ]
    },
    {
     "output_type": "stream",
     "name": "stderr",
     "text": [
      "\r 72%|███████▏  | 36/50 [04:24<01:42,  7.33s/it]"
     ]
    },
    {
     "output_type": "stream",
     "name": "stdout",
     "text": [
      "loss: 0.0018869273985151066\n"
     ]
    },
    {
     "output_type": "stream",
     "name": "stderr",
     "text": [
      "\r 74%|███████▍  | 37/50 [04:32<01:35,  7.34s/it]"
     ]
    },
    {
     "output_type": "stream",
     "name": "stdout",
     "text": [
      "loss: 0.004139483552249796\n"
     ]
    },
    {
     "output_type": "stream",
     "name": "stderr",
     "text": [
      "\r 76%|███████▌  | 38/50 [04:39<01:28,  7.35s/it]"
     ]
    },
    {
     "output_type": "stream",
     "name": "stdout",
     "text": [
      "loss: 0.011884942344811444\n"
     ]
    },
    {
     "output_type": "stream",
     "name": "stderr",
     "text": [
      "\r 78%|███████▊  | 39/50 [04:46<01:20,  7.33s/it]"
     ]
    },
    {
     "output_type": "stream",
     "name": "stdout",
     "text": [
      "loss: 0.0020120834770610166\n"
     ]
    },
    {
     "output_type": "stream",
     "name": "stderr",
     "text": [
      "\r 80%|████████  | 40/50 [04:54<01:13,  7.34s/it]"
     ]
    },
    {
     "output_type": "stream",
     "name": "stdout",
     "text": [
      "loss: 0.0001123191552567579\n"
     ]
    },
    {
     "output_type": "stream",
     "name": "stderr",
     "text": [
      "\r 82%|████████▏ | 41/50 [05:01<01:06,  7.35s/it]"
     ]
    },
    {
     "output_type": "stream",
     "name": "stdout",
     "text": [
      "loss: 5.6691700863324885e-05\n"
     ]
    },
    {
     "output_type": "stream",
     "name": "stderr",
     "text": [
      "\r 84%|████████▍ | 42/50 [05:08<00:58,  7.33s/it]"
     ]
    },
    {
     "output_type": "stream",
     "name": "stdout",
     "text": [
      "loss: 3.884518752900005e-05\n"
     ]
    },
    {
     "output_type": "stream",
     "name": "stderr",
     "text": [
      "\r 86%|████████▌ | 43/50 [05:16<00:51,  7.34s/it]"
     ]
    },
    {
     "output_type": "stream",
     "name": "stdout",
     "text": [
      "loss: 2.6906760777856968e-05\n"
     ]
    },
    {
     "output_type": "stream",
     "name": "stderr",
     "text": [
      "\r 88%|████████▊ | 44/50 [05:23<00:44,  7.34s/it]"
     ]
    },
    {
     "output_type": "stream",
     "name": "stdout",
     "text": [
      "loss: 1.8316915033400815e-05\n"
     ]
    },
    {
     "output_type": "stream",
     "name": "stderr",
     "text": [
      "\r 90%|█████████ | 45/50 [05:30<00:36,  7.34s/it]"
     ]
    },
    {
     "output_type": "stream",
     "name": "stdout",
     "text": [
      "loss: 1.2227952254647946e-05\n"
     ]
    },
    {
     "output_type": "stream",
     "name": "stderr",
     "text": [
      "\r 92%|█████████▏| 46/50 [05:38<00:29,  7.34s/it]"
     ]
    },
    {
     "output_type": "stream",
     "name": "stdout",
     "text": [
      "loss: 8.001243780447093e-06\n"
     ]
    },
    {
     "output_type": "stream",
     "name": "stderr",
     "text": [
      "\r 94%|█████████▍| 47/50 [05:45<00:21,  7.33s/it]"
     ]
    },
    {
     "output_type": "stream",
     "name": "stdout",
     "text": [
      "loss: 5.144249355240337e-06\n"
     ]
    },
    {
     "output_type": "stream",
     "name": "stderr",
     "text": [
      "\r 96%|█████████▌| 48/50 [05:52<00:14,  7.34s/it]"
     ]
    },
    {
     "output_type": "stream",
     "name": "stdout",
     "text": [
      "loss: 3.2608907681972655e-06\n"
     ]
    },
    {
     "output_type": "stream",
     "name": "stderr",
     "text": [
      "\r 98%|█████████▊| 49/50 [06:00<00:07,  7.33s/it]"
     ]
    },
    {
     "output_type": "stream",
     "name": "stdout",
     "text": [
      "loss: 2.045058253977783e-06\n"
     ]
    },
    {
     "output_type": "stream",
     "name": "stderr",
     "text": [
      "100%|██████████| 50/50 [06:07<00:00,  7.35s/it]"
     ]
    },
    {
     "output_type": "stream",
     "name": "stdout",
     "text": [
      "loss: 1.2716008066697665e-06\n"
     ]
    },
    {
     "output_type": "stream",
     "name": "stderr",
     "text": [
      "\n"
     ]
    }
   ]
  },
  {
   "cell_type": "markdown",
   "source": [
    "### Inference"
   ],
   "metadata": {
    "id": "EhwYxtGZIWBA"
   },
   "id": "EhwYxtGZIWBA"
  },
  {
   "cell_type": "code",
   "outputs": [
    {
     "output_type": "stream",
     "name": "stderr",
     "text": [
      "100%|██████████| 263/263 [00:00<00:00, 527.89it/s]\n"
     ]
    }
   ],
   "source": [
    "net.eval()\n",
    "\n",
    "Y_pred = []\n",
    "with torch.no_grad():\n",
    "    for i in tqdm(range(len(X_test_tensors))):\n",
    "        h0 = net.init_hidden().to(device)\n",
    "        test_tensor, test_y = X_test_tensors[i].to(device), Y_test_tensors[i].to(device)\n",
    "        pred_y = net.forward(test_tensor, h0)\n",
    "\n",
    "        # print([id2label[_id_.item()] for _id_ in torch.argmax(pred_y, dim=1)])\n",
    "        Y_pred.append([id2label[_id_.item()] for _id_ in torch.argmax(pred_y, dim=1)])\n"
   ],
   "metadata": {
    "ExecuteTime": {
     "end_time": "2025-06-15T17:32:18.525842Z",
     "start_time": "2025-06-15T17:32:16.742093Z"
    },
    "colab": {
     "base_uri": "https://localhost:8080/"
    },
    "id": "3cc48fa7ecf68a78",
    "outputId": "18d6fa95-f27d-48fa-f9db-6c69912d8bd9"
   },
   "id": "3cc48fa7ecf68a78",
   "execution_count": 54
  },
  {
   "cell_type": "code",
   "outputs": [
    {
     "output_type": "stream",
     "name": "stdout",
     "text": [
      "model: gru-2-bidirectional-50-epochs\n",
      "                       precision    recall  f1-score   support\n",
      "\n",
      "                  DDF       0.75      0.75      0.75       234\n",
      "  anatomical%location       0.79      0.68      0.73        22\n",
      "               animal       0.69      0.58      0.63        19\n",
      "             bacteria       0.72      0.68      0.70        84\n",
      " biomedical%technique       0.64      0.28      0.39        32\n",
      "             chemical       0.61      0.48      0.54        52\n",
      "   dietary%supplement       0.76      0.67      0.71        42\n",
      "                 drug       0.67      0.50      0.57         8\n",
      "                 food       0.00      0.00      0.00         4\n",
      "                 gene       0.33      0.11      0.17         9\n",
      "                human       0.74      0.75      0.75        85\n",
      "           microbiome       0.74      0.80      0.77        74\n",
      "statistical%technique       0.50      0.60      0.55         5\n",
      "\n",
      "            micro avg       0.73      0.67      0.70       670\n",
      "            macro avg       0.61      0.53      0.56       670\n",
      "         weighted avg       0.71      0.67      0.69       670\n"
     ]
    },
    {
     "output_type": "stream",
     "name": "stderr",
     "text": [
      "/usr/local/lib/python3.11/dist-packages/seqeval/metrics/v1.py:57: UndefinedMetricWarning: Precision and F-score are ill-defined and being set to 0.0 in labels with no predicted samples. Use `zero_division` parameter to control this behavior.\n",
      "  _warn_prf(average, modifier, msg_start, len(result))\n"
     ]
    }
   ],
   "source": [
    "print(f'model: {model_name}\\n{classification_report(Y_test, Y_pred)}')"
   ],
   "metadata": {
    "ExecuteTime": {
     "end_time": "2025-06-15T17:32:18.593023Z",
     "start_time": "2025-06-15T17:32:18.526874Z"
    },
    "colab": {
     "base_uri": "https://localhost:8080/"
    },
    "id": "c8077dcd4f881f72",
    "outputId": "42f4fc4b-717d-4142-8f82-24cf76e03b1d"
   },
   "id": "c8077dcd4f881f72",
   "execution_count": 56
  },
  {
   "cell_type": "code",
   "outputs": [],
   "source": [],
   "metadata": {
    "id": "3625f9035f984434"
   },
   "id": "3625f9035f984434",
   "execution_count": null
  }
 ],
 "metadata": {
  "kernelspec": {
   "display_name": "Python 3",
   "name": "python3"
  },
  "language_info": {
   "codemirror_mode": {
    "name": "ipython",
    "version": 2
   },
   "file_extension": ".py",
   "mimetype": "text/x-python",
   "name": "python",
   "nbconvert_exporter": "python",
   "pygments_lexer": "ipython2",
   "version": "2.7.6"
  },
  "colab": {
   "provenance": [],
   "machine_shape": "hm"
  }
 },
 "nbformat": 4,
 "nbformat_minor": 5
}
